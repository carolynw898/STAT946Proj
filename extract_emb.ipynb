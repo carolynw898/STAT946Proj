{
 "cells": [
  {
   "cell_type": "code",
   "execution_count": 1,
   "metadata": {},
   "outputs": [],
   "source": [
    "import torch"
   ]
  },
  {
   "cell_type": "code",
   "execution_count": 7,
   "metadata": {},
   "outputs": [],
   "source": [
    "device = torch.device(\"cuda\" if torch.cuda.is_available() else \"cpu\")\n",
    "\n",
    "# Load the model weights\n",
    "weights = torch.load(r\"C:\\Users\\AElma\\OneDrive\\Desktop\\Laptop\\UWaterloo\\Winter 2025\\STAT 946\\Kaggle weights\\XYE_9Var.pt\", map_location=torch.device(device))"
   ]
  },
  {
   "cell_type": "code",
   "execution_count": 8,
   "metadata": {},
   "outputs": [
    {
     "name": "stdout",
     "output_type": "stream",
     "text": [
      "tok_emb_weight shape: torch.Size([54, 512])\n",
      "vars_emb_weight shape: torch.Size([10, 512])\n"
     ]
    }
   ],
   "source": [
    "vars_emb_weight = weights['vars_emb.weight']\n",
    "tok_emb_weight = weights['tok_emb.weight']\n",
    "\n",
    "\n",
    "# print the shape of the weights\n",
    "print(\"tok_emb_weight shape:\", tok_emb_weight.shape)\n",
    "print(\"vars_emb_weight shape:\", vars_emb_weight.shape)"
   ]
  },
  {
   "cell_type": "code",
   "execution_count": 2,
   "metadata": {},
   "outputs": [],
   "source": [
    "import numpy as np\n",
    "import glob\n",
    "from utils import processDataFiles, CharDataset\n",
    "import random\n",
    "\n",
    "files = glob.glob(\"0_1_0_13062021_174033.json\")\n",
    "text = processDataFiles(files)\n",
    "text = text.split('\\n') # convert the raw text to a set of examples"
   ]
  },
  {
   "cell_type": "code",
   "execution_count": 6,
   "metadata": {},
   "outputs": [
    {
     "data": {
      "text/plain": [
       "['C',\n",
       " '**',\n",
       " '2',\n",
       " '+',\n",
       " 'C',\n",
       " '*',\n",
       " 'exp',\n",
       " '(',\n",
       " 'C',\n",
       " '*',\n",
       " 'x1',\n",
       " '/',\n",
       " '(',\n",
       " 'C',\n",
       " '**',\n",
       " 'x1',\n",
       " ')',\n",
       " ')']"
      ]
     },
     "execution_count": 6,
     "metadata": {},
     "output_type": "execute_result"
    }
   ],
   "source": [
    "import re\n",
    "\n",
    "def tokenize_equation(equation):\n",
    "    pattern = r'(exp|cos|sin|log|sqrt|\\bC\\b|x[1-9]|\\d+\\.?\\d*|\\*\\*|[+\\-*/^()])'\n",
    "    tokens = re.findall(pattern, equation)\n",
    "    return tokens\n",
    "\n",
    "tokenize_equation('C**2 + C*exp(C*x1/(C**x1))')"
   ]
  }
 ],
 "metadata": {
  "kernelspec": {
   "display_name": "venv",
   "language": "python",
   "name": "python3"
  },
  "language_info": {
   "codemirror_mode": {
    "name": "ipython",
    "version": 3
   },
   "file_extension": ".py",
   "mimetype": "text/x-python",
   "name": "python",
   "nbconvert_exporter": "python",
   "pygments_lexer": "ipython3",
   "version": "3.9.6"
  }
 },
 "nbformat": 4,
 "nbformat_minor": 2
}
