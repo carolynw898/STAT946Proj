{
 "cells": [
  {
   "cell_type": "markdown",
   "metadata": {
    "colab_type": "text",
    "id": "view-in-github"
   },
   "source": [
    "<a href=\"https://colab.research.google.com/github/carolynw898/STAT946Proj/blob/main/DiffuSym.ipynb\" target=\"_parent\"><img src=\"https://colab.research.google.com/assets/colab-badge.svg\" alt=\"Open In Colab\"/></a>"
   ]
  },
  {
   "cell_type": "code",
   "execution_count": 30,
   "metadata": {
    "colab": {
     "base_uri": "https://localhost:8080/"
    },
    "id": "kHy_3LUwrvg_",
    "outputId": "981d9dc0-458a-4ff5-b93c-6cc2ac29cb57"
   },
   "outputs": [
    {
     "name": "stdout",
     "output_type": "stream",
     "text": [
      "Symbolic Regression with Diffusion\n"
     ]
    }
   ],
   "source": [
    "print('Symbolic Regression with Diffusion')"
   ]
  },
  {
   "cell_type": "code",
   "execution_count": 12,
   "metadata": {},
   "outputs": [],
   "source": [
    "import torch\n",
    "import torch.nn as nn\n",
    "from torch.nn import functional as F\n",
    "import glob\n",
    "import json\n",
    "from torch.utils.data import Dataset, DataLoader\n",
    "import re\n",
    "import numpy as np\n",
    "import tqdm\n",
    "import random\n",
    "from utils import generateDataStrEq, processDataFiles, CharDataset\n",
    "from models import PointNetConfig, tNet"
   ]
  },
  {
   "cell_type": "code",
   "execution_count": 13,
   "metadata": {},
   "outputs": [],
   "source": [
    "blockSize = 32\n",
    "numVars = 1\n",
    "numYs = 1\n",
    "numPoints = 250\n",
    "target = 'Skeleton'\n",
    "addVars = True\n",
    "const_range = [-2.1, 2.1]\n",
    "trainRange = [-3.0, 3.0]\n",
    "decimals = 8\n",
    "embSize = 512\n"
   ]
  },
  {
   "cell_type": "code",
   "execution_count": 14,
   "metadata": {},
   "outputs": [
    {
     "name": "stdout",
     "output_type": "stream",
     "text": [
      "data has 967 examples, 52 unique.\n"
     ]
    }
   ],
   "source": [
    "from utils import processDataFiles\n",
    "\n",
    "# process training files from scratch\n",
    "path = \"0_1_0_13062021_174033.json\"\n",
    "files = glob.glob(path)\n",
    "text = processDataFiles(files)\n",
    "chars = sorted(list(set(text))+['_','T','<','>',':']) # extract unique characters from the text before converting the text to a list, # T is for the test data\n",
    "text = text.split('\\n') # convert the raw text to a set of examples\n",
    "trainText = text[:-1] if len(text[-1]) == 0 else text\n",
    "random.shuffle(trainText) # shuffle the dataset, it's important specailly for the combined number of variables experiment\n",
    "train_dataset = CharDataset(text, blockSize, chars, numVars=numVars, \n",
    "                numYs=numYs, numPoints=numPoints, target=target, addVars=addVars,\n",
    "                const_range=const_range, xRange=trainRange, decimals=decimals, augment=False)"
   ]
  },
  {
   "cell_type": "code",
   "execution_count": 30,
   "metadata": {},
   "outputs": [
    {
     "data": {
      "text/plain": [
       "<utils.CharDataset at 0x121c2aee0>"
      ]
     },
     "execution_count": 30,
     "metadata": {},
     "output_type": "execute_result"
    }
   ],
   "source": [
    "train_dataset"
   ]
  },
  {
   "cell_type": "code",
   "execution_count": 15,
   "metadata": {},
   "outputs": [],
   "source": [
    "loader = DataLoader(train_dataset, batch_size=2)"
   ]
  },
  {
   "cell_type": "code",
   "execution_count": 32,
   "metadata": {},
   "outputs": [
    {
     "name": "stdout",
     "output_type": "stream",
     "text": [
      "2\n",
      "250\n"
     ]
    },
    {
     "data": {
      "text/plain": [
       "(tensor([23, 12, 22, 25,  5, 49, 12,  5,  5, 13,  6, 25,  5, 49, 12,  6, 25, 36,\n",
       "         36, 36, 36, 36, 36, 36, 36, 36, 36, 36, 36, 36, 36, 36]),\n",
       " tensor([12, 22, 25,  5, 49, 12,  5,  5, 13,  6, 25,  5, 49, 12,  6, 25, 24, 36,\n",
       "         36, 36, 36, 36, 36, 36, 36, 36, 36, 36, 36, 36, 36, 36]),\n",
       " tensor([[ 0.9774,  2.0756,  1.2248,  2.5588, -2.5195, -0.6410,  1.1526, -2.1722,\n",
       "          -2.0410, -2.7973,  2.5072,  0.9566,  0.4874,  1.1751,  2.3139, -0.8710,\n",
       "           1.3261, -2.3743, -2.7984,  1.3694,  0.1516, -2.9298,  0.7702, -1.3082,\n",
       "           2.4207,  0.0958, -2.2913,  0.0600,  1.5200,  2.2456,  0.0000,  0.0000,\n",
       "           0.0000,  0.0000,  0.0000,  0.0000,  0.0000,  0.0000,  0.0000,  0.0000,\n",
       "           0.0000,  0.0000,  0.0000,  0.0000,  0.0000,  0.0000,  0.0000,  0.0000,\n",
       "           0.0000,  0.0000,  0.0000,  0.0000,  0.0000,  0.0000,  0.0000,  0.0000,\n",
       "           0.0000,  0.0000,  0.0000,  0.0000,  0.0000,  0.0000,  0.0000,  0.0000,\n",
       "           0.0000,  0.0000,  0.0000,  0.0000,  0.0000,  0.0000,  0.0000,  0.0000,\n",
       "           0.0000,  0.0000,  0.0000,  0.0000,  0.0000,  0.0000,  0.0000,  0.0000,\n",
       "           0.0000,  0.0000,  0.0000,  0.0000,  0.0000,  0.0000,  0.0000,  0.0000,\n",
       "           0.0000,  0.0000,  0.0000,  0.0000,  0.0000,  0.0000,  0.0000,  0.0000,\n",
       "           0.0000,  0.0000,  0.0000,  0.0000,  0.0000,  0.0000,  0.0000,  0.0000,\n",
       "           0.0000,  0.0000,  0.0000,  0.0000,  0.0000,  0.0000,  0.0000,  0.0000,\n",
       "           0.0000,  0.0000,  0.0000,  0.0000,  0.0000,  0.0000,  0.0000,  0.0000,\n",
       "           0.0000,  0.0000,  0.0000,  0.0000,  0.0000,  0.0000,  0.0000,  0.0000,\n",
       "           0.0000,  0.0000,  0.0000,  0.0000,  0.0000,  0.0000,  0.0000,  0.0000,\n",
       "           0.0000,  0.0000,  0.0000,  0.0000,  0.0000,  0.0000,  0.0000,  0.0000,\n",
       "           0.0000,  0.0000,  0.0000,  0.0000,  0.0000,  0.0000,  0.0000,  0.0000,\n",
       "           0.0000,  0.0000,  0.0000,  0.0000,  0.0000,  0.0000,  0.0000,  0.0000,\n",
       "           0.0000,  0.0000,  0.0000,  0.0000,  0.0000,  0.0000,  0.0000,  0.0000,\n",
       "           0.0000,  0.0000,  0.0000,  0.0000,  0.0000,  0.0000,  0.0000,  0.0000,\n",
       "           0.0000,  0.0000,  0.0000,  0.0000,  0.0000,  0.0000,  0.0000,  0.0000,\n",
       "           0.0000,  0.0000,  0.0000,  0.0000,  0.0000,  0.0000,  0.0000,  0.0000,\n",
       "           0.0000,  0.0000,  0.0000,  0.0000,  0.0000,  0.0000,  0.0000,  0.0000,\n",
       "           0.0000,  0.0000,  0.0000,  0.0000,  0.0000,  0.0000,  0.0000,  0.0000,\n",
       "           0.0000,  0.0000,  0.0000,  0.0000,  0.0000,  0.0000,  0.0000,  0.0000,\n",
       "           0.0000,  0.0000,  0.0000,  0.0000,  0.0000,  0.0000,  0.0000,  0.0000,\n",
       "           0.0000,  0.0000,  0.0000,  0.0000,  0.0000,  0.0000,  0.0000,  0.0000,\n",
       "           0.0000,  0.0000,  0.0000,  0.0000,  0.0000,  0.0000,  0.0000,  0.0000,\n",
       "           0.0000,  0.0000,  0.0000,  0.0000,  0.0000,  0.0000,  0.0000,  0.0000,\n",
       "           0.0000],\n",
       "         [-0.2370, -5.1165, -0.9070, -8.8225,  8.4205, -0.3381, -0.6854,  5.7167,\n",
       "           4.8229, 10.9378, -8.3811, -0.1920,  0.3528, -0.7523, -6.8249, -0.0393,\n",
       "          -1.2531,  7.2306, 10.9486, -1.4140,  0.1912, 12.2491,  0.1320,  1.1241,\n",
       "          -7.6665,  0.1198,  6.5881,  0.0673, -2.0331, -6.3119,  0.0000,  0.0000,\n",
       "           0.0000,  0.0000,  0.0000,  0.0000,  0.0000,  0.0000,  0.0000,  0.0000,\n",
       "           0.0000,  0.0000,  0.0000,  0.0000,  0.0000,  0.0000,  0.0000,  0.0000,\n",
       "           0.0000,  0.0000,  0.0000,  0.0000,  0.0000,  0.0000,  0.0000,  0.0000,\n",
       "           0.0000,  0.0000,  0.0000,  0.0000,  0.0000,  0.0000,  0.0000,  0.0000,\n",
       "           0.0000,  0.0000,  0.0000,  0.0000,  0.0000,  0.0000,  0.0000,  0.0000,\n",
       "           0.0000,  0.0000,  0.0000,  0.0000,  0.0000,  0.0000,  0.0000,  0.0000,\n",
       "           0.0000,  0.0000,  0.0000,  0.0000,  0.0000,  0.0000,  0.0000,  0.0000,\n",
       "           0.0000,  0.0000,  0.0000,  0.0000,  0.0000,  0.0000,  0.0000,  0.0000,\n",
       "           0.0000,  0.0000,  0.0000,  0.0000,  0.0000,  0.0000,  0.0000,  0.0000,\n",
       "           0.0000,  0.0000,  0.0000,  0.0000,  0.0000,  0.0000,  0.0000,  0.0000,\n",
       "           0.0000,  0.0000,  0.0000,  0.0000,  0.0000,  0.0000,  0.0000,  0.0000,\n",
       "           0.0000,  0.0000,  0.0000,  0.0000,  0.0000,  0.0000,  0.0000,  0.0000,\n",
       "           0.0000,  0.0000,  0.0000,  0.0000,  0.0000,  0.0000,  0.0000,  0.0000,\n",
       "           0.0000,  0.0000,  0.0000,  0.0000,  0.0000,  0.0000,  0.0000,  0.0000,\n",
       "           0.0000,  0.0000,  0.0000,  0.0000,  0.0000,  0.0000,  0.0000,  0.0000,\n",
       "           0.0000,  0.0000,  0.0000,  0.0000,  0.0000,  0.0000,  0.0000,  0.0000,\n",
       "           0.0000,  0.0000,  0.0000,  0.0000,  0.0000,  0.0000,  0.0000,  0.0000,\n",
       "           0.0000,  0.0000,  0.0000,  0.0000,  0.0000,  0.0000,  0.0000,  0.0000,\n",
       "           0.0000,  0.0000,  0.0000,  0.0000,  0.0000,  0.0000,  0.0000,  0.0000,\n",
       "           0.0000,  0.0000,  0.0000,  0.0000,  0.0000,  0.0000,  0.0000,  0.0000,\n",
       "           0.0000,  0.0000,  0.0000,  0.0000,  0.0000,  0.0000,  0.0000,  0.0000,\n",
       "           0.0000,  0.0000,  0.0000,  0.0000,  0.0000,  0.0000,  0.0000,  0.0000,\n",
       "           0.0000,  0.0000,  0.0000,  0.0000,  0.0000,  0.0000,  0.0000,  0.0000,\n",
       "           0.0000,  0.0000,  0.0000,  0.0000,  0.0000,  0.0000,  0.0000,  0.0000,\n",
       "           0.0000,  0.0000,  0.0000,  0.0000,  0.0000,  0.0000,  0.0000,  0.0000,\n",
       "           0.0000,  0.0000,  0.0000,  0.0000,  0.0000,  0.0000,  0.0000,  0.0000,\n",
       "           0.0000,  0.0000,  0.0000,  0.0000,  0.0000,  0.0000,  0.0000,  0.0000,\n",
       "           0.0000]]),\n",
       " tensor(1))"
      ]
     },
     "execution_count": 32,
     "metadata": {},
     "output_type": "execute_result"
    }
   ],
   "source": [
    "train_dataset.__getitem__(5)"
   ]
  },
  {
   "cell_type": "code",
   "execution_count": 16,
   "metadata": {},
   "outputs": [],
   "source": [
    "pnConfig = PointNetConfig(embeddingSize = embSize, numberofPoints = numPoints, numberofVars = numVars, numberofYs = numYs)"
   ]
  },
  {
   "cell_type": "code",
   "execution_count": 7,
   "metadata": {},
   "outputs": [
    {
     "data": {
      "text/plain": [
       "<models.PointNetConfig at 0x12123ba30>"
      ]
     },
     "execution_count": 7,
     "metadata": {},
     "output_type": "execute_result"
    }
   ],
   "source": [
    "pnConfig"
   ]
  },
  {
   "cell_type": "code",
   "execution_count": 17,
   "metadata": {},
   "outputs": [
    {
     "data": {
      "text/plain": [
       "tNet(\n",
       "  (conv1): Conv1d(2, 512, kernel_size=(1,), stride=(1,))\n",
       "  (conv2): Conv1d(512, 1024, kernel_size=(1,), stride=(1,))\n",
       "  (conv3): Conv1d(1024, 2048, kernel_size=(1,), stride=(1,))\n",
       "  (fc1): Linear(in_features=2048, out_features=1024, bias=True)\n",
       "  (fc2): Linear(in_features=1024, out_features=512, bias=True)\n",
       "  (input_batch_norm): BatchNorm1d(2, eps=1e-05, momentum=0.1, affine=True, track_running_stats=True)\n",
       "  (bn1): BatchNorm1d(512, eps=1e-05, momentum=0.1, affine=True, track_running_stats=True)\n",
       "  (bn2): BatchNorm1d(1024, eps=1e-05, momentum=0.1, affine=True, track_running_stats=True)\n",
       "  (bn3): BatchNorm1d(2048, eps=1e-05, momentum=0.1, affine=True, track_running_stats=True)\n",
       "  (bn4): BatchNorm1d(1024, eps=1e-05, momentum=0.1, affine=True, track_running_stats=True)\n",
       "  (bn5): BatchNorm1d(512, eps=1e-05, momentum=0.1, affine=True, track_running_stats=True)\n",
       ")"
      ]
     },
     "execution_count": 17,
     "metadata": {},
     "output_type": "execute_result"
    }
   ],
   "source": [
    "tNet_test = tNet(pnConfig)\n",
    "tNet_test"
   ]
  },
  {
   "cell_type": "code",
   "execution_count": 35,
   "metadata": {},
   "outputs": [
    {
     "name": "stdout",
     "output_type": "stream",
     "text": [
      "2\n",
      "250\n",
      "tensor([1])\n"
     ]
    }
   ],
   "source": [
    "for x, y, p, v in loader:\n",
    "    print(v)\n",
    "    break"
   ]
  },
  {
   "cell_type": "code",
   "execution_count": null,
   "metadata": {},
   "outputs": [
    {
     "data": {
      "text/plain": [
       "966"
      ]
     },
     "execution_count": 17,
     "metadata": {},
     "output_type": "execute_result"
    }
   ],
   "source": [
    "loader"
   ]
  },
  {
   "cell_type": "code",
   "execution_count": 20,
   "metadata": {},
   "outputs": [
    {
     "name": "stderr",
     "output_type": "stream",
     "text": [
      "Processing 482: 100%|██████████| 483/483 [00:08<00:00, 57.60it/s]\n"
     ]
    }
   ],
   "source": [
    "pbar = tqdm.tqdm(enumerate(loader), total=len(loader))\n",
    "for i, (x, y, p, v) in pbar:\n",
    "    pointnet = tNet_test(p)\n",
    "    pbar.set_description(f'Processing {i}')"
   ]
  },
  {
   "cell_type": "code",
   "execution_count": 2,
   "metadata": {},
   "outputs": [
    {
     "name": "stdout",
     "output_type": "stream",
     "text": [
      "{'X': [[0.97741914], [2.07557888], [1.22484007], [2.55880293], [-2.51946864], [-0.64099928], [1.15255076], [-2.1722235], [-2.04097206], [-2.79728418], [2.50716668], [0.95658041], [0.48741062], [1.17511183], [2.31386112], [-0.87096013], [1.32607597], [-2.37433758], [-2.79840294], [1.369396], [0.15157011], [-2.9297556], [0.77019269], [-1.30818162], [2.42074463], [0.09580567], [-2.29125689], [0.05998444], [1.52004739], [2.24561221]], 'Y': [-0.23697606, -5.11652985, -0.90697265, -8.82254165, 8.42045587, -0.33814321, -0.6853927, 5.71671659, 4.82287547, 10.9378401, -8.38106386, -0.19195015, 0.35279748, -0.75225783, -6.82493588, -0.03925367, -1.25311506, 7.23059031, 10.94861417, -1.414008, 0.19122563, 12.24908443, 0.13198265, 1.12408928, -7.66651495, 0.11984972, 6.58812592, 0.0673077, -2.03314716, -6.31194058], 'EQ': '-2.03995581177251*x1**2+1.784589431926912*x1+-0.0323998685508311', 'Skeleton': 'C*x1**2+C*x1+C', 'XT': [[3.23410401], [-3.94730326], [-4.34343974], [4.3425741], [-3.80792522], [-3.33978178], [4.8731521], [-3.47390177], [-4.18566575], [-4.90197405], [-4.79005576], [-4.12214418], [-3.19030812], [-4.48213377], [3.4530134], [3.68790156], [-4.18155716], [4.58577848], [4.76477618], [-3.37982152], [4.43119895], [3.15543243], [-3.21140716], [4.01268351], [-4.94557281], [3.71973901], [3.68505569], [-3.14680027], [4.02421823], [3.29993485]], 'YT': [-15.59762449, 24.70825012, 30.70106614, -30.75207234, 22.75197703, 16.76141835, -39.779902, 18.38628524, 28.23751855, 40.23840039, 38.2253571, 27.27434253, 15.03701466, 32.95057104, -18.19319692, -21.19566928, 28.17472214, -34.74764191, -37.84253522, 17.23881635, -32.18013063, -14.71258632, 15.27489847, -25.71801884, 41.03643083, -21.61995647, -21.15794466, 14.55221401, -25.88654496, -16.35761265]}\n"
     ]
    }
   ],
   "source": [
    "from scipy.optimize import minimize\n",
    "from utils import lossFunc\n",
    "\n",
    "path = \"0_1_0_13062021_174033.json\"\n",
    "files = glob.glob(path)\n",
    "textTest = processDataFiles(files = files)\n",
    "textTest = textTest.split('\\n')\n",
    "\n",
    "# this optimizes the constants for a single equation and set of points\n",
    "# (put it in a loop if you want to optimize multiple instances)\n",
    "ii = 5 # index of the json of interest\n",
    "t = json.loads(textTest[ii])\n",
    "\n",
    "print(t)"
   ]
  },
  {
   "cell_type": "code",
   "execution_count": 3,
   "metadata": {},
   "outputs": [],
   "source": [
    "from math import exp, cos, sin\n",
    "\n",
    "predicted = \"C*exp(C*x1)*C*cos(C*x1**2+C*x1)+C\" # the predicted equation skeleton with constants denoted with placeholder 'C'\n",
    "\n",
    "# constants to predict: initialize all to 1\n",
    "c = [1.0 for i,x in enumerate(predicted) if x=='C']\n",
    "# apparently the optimizing the constants is the slowest part of the algorithm\n",
    "cHat = minimize(lossFunc, c, #bounds=b, \n",
    "                args=(predicted, t['X'], t['Y'])) \n",
    "\n",
    "predicted = predicted.replace('C','{}').format(*cHat.x)"
   ]
  },
  {
   "cell_type": "code",
   "execution_count": 4,
   "metadata": {},
   "outputs": [
    {
     "data": {
      "text/plain": [
       "'-0.1340749819933953*exp(3.2933080234123073*x1)*-0.13407540718076677*cos(-0.6386390933832335*x1**2+3.4320090473687492*x1)+0.17628821986747237'"
      ]
     },
     "execution_count": 4,
     "metadata": {},
     "output_type": "execute_result"
    }
   ],
   "source": [
    "predicted"
   ]
  }
 ],
 "metadata": {
  "colab": {
   "authorship_tag": "ABX9TyML17AeCwdJDr6NLGVUATGc",
   "include_colab_link": true,
   "provenance": []
  },
  "kernelspec": {
   "display_name": "venv",
   "language": "python",
   "name": "python3"
  },
  "language_info": {
   "codemirror_mode": {
    "name": "ipython",
    "version": 3
   },
   "file_extension": ".py",
   "mimetype": "text/x-python",
   "name": "python",
   "nbconvert_exporter": "python",
   "pygments_lexer": "ipython3",
   "version": "3.9.6"
  }
 },
 "nbformat": 4,
 "nbformat_minor": 0
}
