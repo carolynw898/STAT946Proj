{
 "cells": [
  {
   "cell_type": "markdown",
   "metadata": {
    "colab_type": "text",
    "id": "view-in-github"
   },
   "source": [
    "<a href=\"https://colab.research.google.com/github/carolynw898/STAT946Proj/blob/main/DiffuSym.ipynb\" target=\"_parent\"><img src=\"https://colab.research.google.com/assets/colab-badge.svg\" alt=\"Open In Colab\"/></a>"
   ]
  },
  {
   "cell_type": "code",
   "execution_count": null,
   "metadata": {},
   "outputs": [],
   "source": [
    "import torch\n",
    "import torch.nn as nn\n",
    "import torch.nn.functional as F\n",
    "from torch.optim import Adam\n",
    "from models import SymbolicDiffusion, PointNetConfig, tNet  \n",
    "import numpy as np\n",
    "\n",
    "vocab_size = 50          \n",
    "max_seq_len = 32         \n",
    "n_embd = 512             \n",
    "timesteps = 1000         \n",
    "batch_size = 32          \n",
    "learning_rate = 1e-4     \n",
    "num_epochs = 10        \n",
    "\n",
    "device = torch.device(\"cuda\" if torch.cuda.is_available() else \"cpu\")\n",
    "\n",
    "pconfig = PointNetConfig(\n",
    "    embeddingSize=n_embd,\n",
    "    numberofPoints=250,\n",
    "    numberofVars=1,\n",
    "    numberofYs=1,\n",
    ")\n",
    "model = SymbolicDiffusion(\n",
    "    pconfig=pconfig,\n",
    "    vocab_size=vocab_size,\n",
    "    max_seq_len=max_seq_len,\n",
    "    padding_idx=0, # one of the dataset properties\n",
    "    max_num_vars=9,\n",
    "    n_layer=6,\n",
    "    n_head=8,\n",
    "    n_embd=n_embd,\n",
    "    timesteps=timesteps,\n",
    "    beta_start=0.0001,\n",
    "    beta_end=0.02,\n",
    ").to(device)\n",
    "\n",
    "optimizer = Adam(model.parameters(), lr=learning_rate)\n",
    "\n",
    "def train_epoch(model, loader, optimizer, device):\n",
    "    model.train()\n",
    "    total_loss = 0\n",
    "    for _,  tokens, points, variables in loader:\n",
    "        points = points.to(device)        \n",
    "        tokens = tokens.to(device)        \n",
    "        variables = variables.to(device)  \n",
    "\n",
    "        optimizer.zero_grad()\n",
    "        y_pred, noise_pred, noise = model(points, tokens, variables)\n",
    "        t = torch.randint(0, model.timesteps, (tokens.shape[0],), device=device)\n",
    "        loss = model.loss_fn(noise_pred, noise, y_pred, tokens, t)\n",
    "        loss.backward()\n",
    "        optimizer.step()\n",
    "\n",
    "        total_loss += loss.item()\n",
    "    avg_loss = total_loss / len(loader)\n",
    "    return avg_loss\n",
    "\n",
    "def validate_epoch(model, loader, device):\n",
    "    model.eval()\n",
    "    total_loss = 0\n",
    "    with torch.no_grad():\n",
    "        for _,  tokens, points, variables in loader:\n",
    "            points = points.to(device)\n",
    "            tokens = tokens.to(device)\n",
    "            variables = variables.to(device)\n",
    "\n",
    "            y_pred, noise_pred, noise = model(points, tokens, variables)\n",
    "            t = torch.randint(0, model.timesteps, (tokens.shape[0],), device=device)\n",
    "            loss = model.loss_fn(noise_pred, noise, y_pred, tokens, t)\n",
    "            total_loss += loss.item()\n",
    "    avg_loss = total_loss / len(loader)\n",
    "    return avg_loss\n"
   ]
  }
 ],
 "metadata": {
  "colab": {
   "authorship_tag": "ABX9TyML17AeCwdJDr6NLGVUATGc",
   "include_colab_link": true,
   "provenance": []
  },
  "kernelspec": {
   "display_name": "s946_env (3.13.1)",
   "language": "python",
   "name": "python3"
  },
  "language_info": {
   "codemirror_mode": {
    "name": "ipython",
    "version": 3
   },
   "file_extension": ".py",
   "mimetype": "text/x-python",
   "name": "python",
   "nbconvert_exporter": "python",
   "pygments_lexer": "ipython3",
   "version": "3.13.1"
  }
 },
 "nbformat": 4,
 "nbformat_minor": 0
}
