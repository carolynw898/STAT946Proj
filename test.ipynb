{
  "cells": [
    {
      "cell_type": "markdown",
      "metadata": {
        "id": "view-in-github",
        "colab_type": "text"
      },
      "source": [
        "<a href=\"https://colab.research.google.com/github/carolynw898/STAT946Proj/blob/main/test.ipynb\" target=\"_parent\"><img src=\"https://colab.research.google.com/assets/colab-badge.svg\" alt=\"Open In Colab\"/></a>"
      ]
    },
    {
      "cell_type": "code",
      "execution_count": 1,
      "id": "3CmZzXN5ny5A",
      "metadata": {
        "colab": {
          "base_uri": "https://localhost:8080/"
        },
        "id": "3CmZzXN5ny5A",
        "outputId": "257a8965-24a0-46dd-91ad-8586b402ddfd"
      },
      "outputs": [
        {
          "output_type": "stream",
          "name": "stdout",
          "text": [
            "Mounted at /content/drive\n"
          ]
        }
      ],
      "source": [
        "from google.colab import drive\n",
        "drive.mount('/content/drive')"
      ]
    },
    {
      "cell_type": "code",
      "execution_count": 37,
      "id": "aee353d1",
      "metadata": {
        "id": "aee353d1"
      },
      "outputs": [],
      "source": [
        "import torch\n",
        "\n",
        "n_embd = 512\n",
        "timesteps = 1000\n",
        "batch_size = 1\n",
        "learning_rate = 1e-4\n",
        "num_epochs = 10\n",
        "blockSize = 32\n",
        "testBlockSize = 400\n",
        "numVars = 1\n",
        "numYs = 1\n",
        "numPoints = 250\n",
        "target = 'Skeleton'\n",
        "const_range = [-2.1, 2.1]\n",
        "trainRange = [-3.0, 3.0]\n",
        "decimals = 8\n",
        "addVars = False\n",
        "device = torch.device(\"cuda\" if torch.cuda.is_available() else \"cpu\")"
      ]
    },
    {
      "cell_type": "code",
      "source": [
        "from torch.utils.data import DataLoader\n",
        "import numpy as np\n",
        "import glob\n",
        "from utils import processDataFiles, CharDataset, tokenize_equation, lossFunc, relativeErr\n",
        "import random\n",
        "import json\n",
        "\n",
        "files = glob.glob(\"/content/drive/MyDrive/Colab Notebooks/STAT946_proj/data/1_var_train.json\")\n",
        "text = processDataFiles(files)\n",
        "text = text.split('\\n') # convert the raw text to a set of examples\n",
        "# skeletons = []\n",
        "skeletons = [json.loads(item)['Skeleton'] for item in text if item.strip()]\n",
        "all_tokens = set()\n",
        "for eq in skeletons:\n",
        "    all_tokens.update(tokenize_equation(eq))\n",
        "integers = {'0', '1', '2', '3', '4', '5', '6', '7', '8', '9'}\n",
        "all_tokens.update(integers)  # add all integers to the token set\n",
        "tokens = sorted(list(all_tokens) + ['_', 'T', '<', '>', ':'])  # special tokens\n",
        "trainText = text[:-1] if len(text[-1]) == 0 else text\n",
        "random.shuffle(trainText) # shuffle the dataset, it's important specailly for the combined number of variables experiment\n",
        "train_dataset = CharDataset(trainText, blockSize, tokens=tokens, numVars=numVars,\n",
        "                        numYs=numYs, numPoints=numPoints, target=target, addVars=addVars,\n",
        "                        const_range=const_range, xRange=trainRange, decimals=decimals)\n",
        "\n",
        "idx = np.random.randint(train_dataset.__len__())\n",
        "inputs, outputs, points, variables = train_dataset.__getitem__(idx)\n",
        "inputs = ''.join([train_dataset.itos[int(i)] for i in inputs])\n",
        "outputs = ''.join([train_dataset.itos[int(i)] for i in outputs])\n",
        "print('id:{}\\noutputs:{}\\nvariables:{}'.format(idx,outputs,variables))"
      ],
      "metadata": {
        "colab": {
          "base_uri": "https://localhost:8080/"
        },
        "id": "JvNAveGHCEae",
        "outputId": "4db062ce-7a11-43af-e5a2-7169601bc3fe"
      },
      "id": "JvNAveGHCEae",
      "execution_count": 3,
      "outputs": [
        {
          "output_type": "stream",
          "name": "stdout",
          "text": [
            "data has 498795 examples, 27 unique.\n",
            "id:257412\n",
            "outputs:C*sin(C*x1)+C*cos(C*x1)+C>____________\n",
            "variables:1\n"
          ]
        }
      ]
    },
    {
      "cell_type": "code",
      "source": [
        "files = glob.glob(\"/content/drive/MyDrive/Colab Notebooks/STAT946_proj/data/1_var_test.json\")\n",
        "textTest = processDataFiles([files[0]])\n",
        "textTest = textTest.split('\\n') # convert the raw text to a set of examples\n",
        "test_dataset = CharDataset(textTest, blockSize, tokens=tokens, numVars=numVars,\n",
        "                        numYs=numYs, numPoints=numPoints, target=target, addVars=addVars,\n",
        "                        const_range=const_range, xRange=trainRange, decimals=decimals)\n",
        "\n",
        "# print a random sample\n",
        "idx = np.random.randint(test_dataset.__len__())\n",
        "inputs, outputs, points, variables = test_dataset.__getitem__(idx)\n",
        "print(points.min(), points.max())\n",
        "inputs = ''.join([train_dataset.itos[int(i)] for i in inputs])\n",
        "outputs = ''.join([train_dataset.itos[int(i)] for i in outputs])\n",
        "print('id:{}\\noutputs:{}\\nvariables:{}'.format(idx,outputs,variables))\n",
        "\n",
        "test_loader = DataLoader(\n",
        "        test_dataset,\n",
        "        batch_size=batch_size,\n",
        "        pin_memory=True,\n",
        "        shuffle=False,\n",
        "        num_workers=2\n",
        "    )"
      ],
      "metadata": {
        "colab": {
          "base_uri": "https://localhost:8080/"
        },
        "id": "Xnj3g0a0_5R1",
        "outputId": "19a0a1c8-f0ba-481b-9039-d4e599248d8b"
      },
      "id": "Xnj3g0a0_5R1",
      "execution_count": 39,
      "outputs": [
        {
          "output_type": "stream",
          "name": "stdout",
          "text": [
            "data has 967 examples, 27 unique.\n",
            "tensor(-2.8094) tensor(2.4265)\n",
            "id:231\n",
            "outputs:C*sin(C*x1)+C>_____________________\n",
            "variables:1\n"
          ]
        }
      ]
    },
    {
      "cell_type": "code",
      "source": [
        "import torch\n",
        "import torch.nn as nn\n",
        "from torch.nn import functional as F\n",
        "from tqdm import tqdm\n",
        "from utils import get_predected_skeleton\n",
        "\n",
        "\n",
        "# from SymbolicGPT: https://github.com/mojivalipour/symbolicgpt/blob/master/models.py\n",
        "class PointNetConfig:\n",
        "    \"\"\"base PointNet config\"\"\"\n",
        "\n",
        "    def __init__(\n",
        "        self,\n",
        "        embeddingSize,\n",
        "        numberofPoints,\n",
        "        numberofVars,\n",
        "        numberofYs,\n",
        "        method=\"GPT\",\n",
        "        varibleEmbedding=\"NOT_VAR\",\n",
        "        **kwargs,\n",
        "    ):\n",
        "        self.embeddingSize = embeddingSize\n",
        "        self.numberofPoints = numberofPoints  # number of points\n",
        "        self.numberofVars = numberofVars  # input dimension (Xs)\n",
        "        self.numberofYs = numberofYs  # output dimension (Ys)\n",
        "        self.method = method\n",
        "        self.varibleEmbedding = varibleEmbedding\n",
        "\n",
        "        for k, v in kwargs.items():\n",
        "            setattr(self, k, v)\n",
        "\n",
        "\n",
        "class tNet(nn.Module):\n",
        "    \"\"\"\n",
        "    The PointNet structure in the orginal PointNet paper:\n",
        "    PointNet: Deep Learning on Point Sets for 3D Classification and Segmentation by Qi et. al. 2017\n",
        "    \"\"\"\n",
        "\n",
        "    def __init__(self, config):\n",
        "        super(tNet, self).__init__()\n",
        "\n",
        "        self.activation_func = F.relu\n",
        "        self.num_units = config.embeddingSize\n",
        "\n",
        "        self.conv1 = nn.Conv1d(\n",
        "            config.numberofVars + config.numberofYs, self.num_units, 1\n",
        "        )\n",
        "        self.conv2 = nn.Conv1d(self.num_units, 2 * self.num_units, 1)\n",
        "        self.conv3 = nn.Conv1d(2 * self.num_units, 4 * self.num_units, 1)\n",
        "        self.fc1 = nn.Linear(4 * self.num_units, 2 * self.num_units)\n",
        "        self.fc2 = nn.Linear(2 * self.num_units, self.num_units)\n",
        "\n",
        "        # self.relu = nn.ReLU()\n",
        "\n",
        "        self.input_batch_norm = nn.BatchNorm1d(config.numberofVars + config.numberofYs)\n",
        "        # self.input_layer_norm = nn.LayerNorm(config.numberofPoints)\n",
        "\n",
        "        self.bn1 = nn.BatchNorm1d(self.num_units)\n",
        "        self.bn2 = nn.BatchNorm1d(2 * self.num_units)\n",
        "        self.bn3 = nn.BatchNorm1d(4 * self.num_units)\n",
        "        self.bn4 = nn.BatchNorm1d(2 * self.num_units)\n",
        "        self.bn5 = nn.BatchNorm1d(self.num_units)\n",
        "\n",
        "    def forward(self, x):\n",
        "        \"\"\"\n",
        "        :param x: [batch, #features, #points]\n",
        "        :return:\n",
        "            logit: [batch, embedding_size]\n",
        "        \"\"\"\n",
        "        x = self.input_batch_norm(x)\n",
        "        x = self.activation_func(self.bn1(self.conv1(x)))\n",
        "        x = self.activation_func(self.bn2(self.conv2(x)))\n",
        "        x = self.activation_func(self.bn3(self.conv3(x)))\n",
        "        x, _ = torch.max(x, dim=2)  # global max pooling\n",
        "        assert x.size(1) == 4 * self.num_units\n",
        "\n",
        "        x = self.activation_func(self.bn4(self.fc1(x)))\n",
        "        x = self.activation_func(self.bn5(self.fc2(x)))\n",
        "        # x = self.fc2(x)\n",
        "\n",
        "        return x\n",
        "\n",
        "\n",
        "class NoisePredictionTransformer(nn.Module):\n",
        "    def __init__(self, n_embd, max_seq_len, n_layer=6, n_head=8, max_timesteps=1000):\n",
        "        super().__init__()\n",
        "        self.pos_emb = nn.Parameter(torch.zeros(1, max_seq_len, n_embd))\n",
        "        self.time_emb = nn.Embedding(max_timesteps, n_embd)\n",
        "        encoder_layer = nn.TransformerEncoderLayer(\n",
        "            d_model=n_embd,\n",
        "            nhead=n_head,\n",
        "            dim_feedforward=n_embd * 4,\n",
        "            activation=\"gelu\",\n",
        "            batch_first=True,\n",
        "        )\n",
        "        self.encoder = nn.TransformerEncoder(encoder_layer, num_layers=n_layer)\n",
        "\n",
        "    def forward(self, x_t, t, condition):\n",
        "        _, L, _ = x_t.shape\n",
        "        pos_emb = self.pos_emb[:, :L, :]  # [1, L, n_embd]\n",
        "        time_emb = self.time_emb(t)\n",
        "        if time_emb.dim() == 1:  # Scalar t case, [n_embd]\n",
        "            time_emb = time_emb.unsqueeze(0)  # [1, n_embd]\n",
        "        time_emb = time_emb.unsqueeze(1)  # [1, 1, n_embd]\n",
        "        condition = condition.unsqueeze(1)  # [B, 1, n_embd]\n",
        "\n",
        "        x = x_t + pos_emb + time_emb + condition\n",
        "        return self.encoder(x)\n",
        "\n",
        "\n",
        "# influenced by https://github.com/lucidrains/denoising-diffusion-pytorch/blob/main/denoising_diffusion_pytorch/simple_diffusion.py\n",
        "class SymbolicGaussianDiffusion(nn.Module):\n",
        "    def __init__(\n",
        "        self,\n",
        "        tnet_config,\n",
        "        vocab_size,\n",
        "        max_seq_len,\n",
        "        padding_idx: int = 0,\n",
        "        max_num_vars: int = 9,\n",
        "        n_layer=6,\n",
        "        n_head=8,\n",
        "        n_embd=512,\n",
        "        timesteps=1000,\n",
        "        beta_start=0.0001,\n",
        "        beta_end=0.02,\n",
        "        ce_weight=1.0,  # Weight for CE loss relative to MSE\n",
        "    ):\n",
        "        super().__init__()\n",
        "        self.vocab_size = vocab_size\n",
        "        self.max_seq_len = max_seq_len\n",
        "        self.padding_idx = padding_idx\n",
        "        self.n_embd = n_embd\n",
        "        self.timesteps = timesteps\n",
        "        self.ce_weight = ce_weight\n",
        "\n",
        "        self.device = torch.device(\"cuda\" if torch.cuda.is_available() else \"cpu\")\n",
        "\n",
        "        self.tok_emb = nn.Embedding(vocab_size, n_embd, padding_idx=self.padding_idx)\n",
        "        self.vars_emb = nn.Embedding(max_num_vars, n_embd)\n",
        "\n",
        "        self.decoder = nn.Linear(n_embd, vocab_size, bias=False)\n",
        "        self.decoder.weight = self.tok_emb.weight\n",
        "\n",
        "        self.tnet = tNet(tnet_config)\n",
        "        self.model = NoisePredictionTransformer(\n",
        "            n_embd, max_seq_len, n_layer, n_head, timesteps\n",
        "        )\n",
        "\n",
        "        # Noise schedule\n",
        "        self.register_buffer(\"beta\", torch.linspace(beta_start, beta_end, timesteps))\n",
        "        self.register_buffer(\"alpha\", 1.0 - self.beta)\n",
        "        self.register_buffer(\"alpha_bar\", torch.cumprod(self.alpha, dim=0))\n",
        "\n",
        "    def q_sample(self, x_start, t, noise=None):\n",
        "        noise = torch.randn_like(x_start)\n",
        "        sqrt_alpha_bar = torch.sqrt(self.alpha_bar[t]).view(-1, 1, 1)\n",
        "        sqrt_one_minus_alpha_bar = torch.sqrt(1 - self.alpha_bar[t]).view(-1, 1, 1)\n",
        "\n",
        "        x_t = sqrt_alpha_bar * x_start + sqrt_one_minus_alpha_bar * noise\n",
        "        return x_t\n",
        "\n",
        "    def p_mean_variance(self, x, t, t_next, condition):\n",
        "        alpha_t = self.alpha[t]\n",
        "        alpha_bar_t = self.alpha_bar[t]\n",
        "        alpha_bar_t_next = self.alpha_bar[t_next]\n",
        "        beta_t = self.beta[t]\n",
        "\n",
        "        x_start_pred = self.model(x, t.long(), condition)\n",
        "\n",
        "        coeff1 = torch.sqrt(alpha_bar_t_next) * beta_t / (1 - alpha_bar_t)\n",
        "        coeff2 = torch.sqrt(alpha_t) * (1 - alpha_bar_t_next) / (1 - alpha_bar_t)\n",
        "        mean = coeff1 * x_start_pred + coeff2 * x\n",
        "        variance = (1 - alpha_bar_t_next) / (1 - alpha_bar_t) * beta_t\n",
        "        return mean, variance\n",
        "\n",
        "    @torch.no_grad()\n",
        "    def p_sample(self, x, t, t_next, condition):\n",
        "        mean, variance = self.p_mean_variance(x, t, t_next, condition)\n",
        "        if torch.all(t_next == 0):\n",
        "            return mean\n",
        "        noise = torch.randn_like(x)\n",
        "        return mean + torch.sqrt(variance) * noise\n",
        "\n",
        "    @torch.no_grad()\n",
        "    def sample(self, points, variables, train_dataset, batch_size=16):\n",
        "        condition = self.tnet(points) + self.vars_emb(variables)\n",
        "        shape = (batch_size, self.max_seq_len, self.n_embd)\n",
        "        x = torch.randn(shape, device=self.device)\n",
        "        steps = torch.arange(self.timesteps - 1, -1, -1, device=self.device)\n",
        "\n",
        "        for i in tqdm(\n",
        "            range(self.timesteps), desc=\"sampling loop\", total=self.timesteps\n",
        "        ):\n",
        "            t = steps[i]\n",
        "            t_next = (\n",
        "                steps[i + 1]\n",
        "                if i + 1 < self.timesteps\n",
        "                else torch.tensor(0, device=self.device)\n",
        "            )\n",
        "            x = self.p_sample(x, t, t_next, condition)\n",
        "\n",
        "            # Print prediction every 250 steps\n",
        "            if (i + 1) % 250 == 0:\n",
        "                logits = self.decoder(x)  # [B, L, vocab_size]\n",
        "                token_indices = torch.argmax(logits, dim=-1)  # [B, L]\n",
        "                for j in range(batch_size):\n",
        "                    token_indices_j = token_indices[j]  # [L]\n",
        "                    predicted_skeleton = get_predected_skeleton(\n",
        "                        token_indices_j, train_dataset\n",
        "                    )\n",
        "                    tqdm.write(\n",
        "                        f\" sample {j}: predicted_skeleton: {predicted_skeleton}\"\n",
        "                    )\n",
        "\n",
        "        logits = self.decoder(x)  # [B, L, vocab_size]\n",
        "        token_indices = torch.argmax(logits, dim=-1)  # [B, L]\n",
        "        predicted_skeletons = []\n",
        "        for j in range(batch_size):\n",
        "            token_indices_j = token_indices[j]  # [L]\n",
        "            predicted_skeleton = get_predected_skeleton(token_indices_j, train_dataset)\n",
        "            predicted_skeletons.append(predicted_skeleton)\n",
        "        return predicted_skeletons\n",
        "\n",
        "    def p_losses(\n",
        "        self, x_start, points, tokens, variables, t, noise=None, mse: bool = False\n",
        "    ):\n",
        "        \"\"\"Hybrid loss: MSE on embeddings + CE on tokens.\"\"\"\n",
        "        noise = torch.randn_like(x_start)\n",
        "        x_t = self.q_sample(x_start, t, noise)\n",
        "        condition = self.tnet(points) + self.vars_emb(variables)\n",
        "        x_start_pred = self.model(x_t, t.long(), condition)\n",
        "\n",
        "        # MSE loss on embeddings\n",
        "        if mse:\n",
        "            mse_loss = F.mse_loss(x_start_pred, x_start)\n",
        "        else:\n",
        "            mse_loss = torch.tensor(0.0, device=self.device)\n",
        "\n",
        "        # CE loss on tokens\n",
        "        logits = self.decoder(x_start_pred)  # [B, L, vocab_size]\n",
        "        ce_loss = F.cross_entropy(\n",
        "            logits.view(-1, self.vocab_size),  # [B*L, vocab_size]\n",
        "            tokens.view(-1),  # [B*L]\n",
        "            ignore_index=self.padding_idx,\n",
        "            reduction=\"mean\",\n",
        "        )\n",
        "\n",
        "        total_loss = mse_loss + self.ce_weight * ce_loss\n",
        "        return total_loss, mse_loss, ce_loss\n",
        "\n",
        "    def forward(self, points, tokens, variables, t, mse=False):\n",
        "        token_emb = self.tok_emb(tokens)\n",
        "        total_loss, mse_loss, ce_loss = self.p_losses(\n",
        "            token_emb, points, tokens, variables, t, mse=mse\n",
        "        )\n",
        "        return total_loss, mse_loss, ce_loss\n"
      ],
      "metadata": {
        "id": "G0kJz7jk3uFu"
      },
      "id": "G0kJz7jk3uFu",
      "execution_count": 56,
      "outputs": []
    },
    {
      "cell_type": "code",
      "source": [
        "import torch\n",
        "import json\n",
        "from scipy.optimize import minimize\n",
        "from math import log\n",
        "import math\n",
        "\n",
        "SAFE_GLOBALS = {\n",
        "    'sin': math.sin,\n",
        "    'cos': math.cos,\n",
        "    'tan': math.tan,\n",
        "    'log': math.log,\n",
        "    'exp': math.exp,\n",
        "    'sqrt': math.sqrt,\n",
        "    'abs': abs,\n",
        "    'pow': pow,\n",
        "    '__builtins__': {}\n",
        "}\n",
        "\n",
        "@torch.no_grad()\n",
        "def test_model(model, test_loader, textTest, train_dataset, device):\n",
        "    results = {\"target\": [], \"target_skeleton\": [], \"predicted_skeleton\": [], \"predicted\": [], \"error\": []}\n",
        "    for batch_idx, (_, tokens, points, variables) in enumerate(test_loader):\n",
        "        points = points.to(device)\n",
        "        tokens = tokens.to(device)\n",
        "        variables = variables.to(device)\n",
        "        B = points.shape[0]\n",
        "        predicted_skeletons = model.sample(points, variables, train_dataset, B)\n",
        "\n",
        "        for i in range(B):\n",
        "            t = json.loads(textTest[batch_idx * test_loader.batch_size + i])\n",
        "            eq = t[\"EQ\"]\n",
        "\n",
        "            eq_skeleton = ''.join([train_dataset.itos[int(i)] for i in tokens[0]])\n",
        "            eq_skeleton = eq_skeleton.strip(train_dataset.paddingToken).split('>')\n",
        "            eq_skeleton = eq_skeleton[0] #if len(eq[0])>=1 else eq[1]\n",
        "            eq_skeleton = eq_skeleton.strip('<').strip(\">\")\n",
        "\n",
        "            # Predicted\n",
        "            predicted_skeleton = predicted_skeletons[i]\n",
        "            predicted = predicted_skeleton\n",
        "\n",
        "            # Fit constants\n",
        "            c = [1.0 for _ in range(predicted.count(\"C\"))]\n",
        "            if c:\n",
        "                try:\n",
        "                    cHat = minimize(lossFunc, c, args=(predicted, t[\"X\"], t[\"Y\"]))\n",
        "                    if cHat.success and cHat.fun != float(\n",
        "                        \"inf\"\n",
        "                    ):  # Check if optimization succeeded and equation is valid\n",
        "                        predicted = predicted.replace(\"C\", \"{}\").format(*cHat.x)\n",
        "                    else:\n",
        "                        print(\n",
        "                            f\"Skipping sample {batch_idx * B + i + 1}: Invalid predicted equation or optimization failed\\n\"\n",
        "                        )\n",
        "                        continue\n",
        "                except Exception as e:\n",
        "                    print(\n",
        "                        f\"Skipping sample {batch_idx * B + i + 1}: Error fitting constants: {e}\\n\"\n",
        "                    )\n",
        "                    continue\n",
        "\n",
        "            # Evaluate both equations\n",
        "            Ys = []\n",
        "            Yhats = []\n",
        "            valid_sample = True\n",
        "            for xs in t[\"XT\"]:\n",
        "                # Target evaluation\n",
        "                try:\n",
        "                    eqTmp = eq.replace(\" \", \"\").replace(\"\\n\", \"\")\n",
        "                    for j, x in enumerate(xs):\n",
        "                        eqTmp = eqTmp.replace(\"x{}\".format(j + 1), f\"({x})\")\n",
        "                    YEval = eval(eqTmp, SAFE_GLOBALS)\n",
        "                    Ys.append(YEval)\n",
        "                except Exception as e:\n",
        "                    print(\n",
        "                        f\"Skipping sample {batch_idx * B + i + 1}: TA: Invalid target equation. Eq: {eqTmp}, Reason: {e}\\n\"\n",
        "                    )\n",
        "                    valid_sample = False\n",
        "                    break\n",
        "\n",
        "                # Predicted evaluation\n",
        "                try:\n",
        "                    eqTmp = predicted.replace(\" \", \"\").replace(\"\\n\", \"\")\n",
        "                    for j, x in enumerate(xs):\n",
        "                        eqTmp = eqTmp.replace(\"x{}\".format(j + 1), f\"({x})\")\n",
        "                    Yhat = eval(eqTmp, SAFE_GLOBALS)\n",
        "                    Yhats.append(Yhat)\n",
        "                except Exception as e:\n",
        "                    print(\n",
        "                        f\"Skipping sample {batch_idx * B + i + 1}: PR: Invalid predicted equation. Eq: {eqTmp}, Reason: {e}\\n\"\n",
        "                    )\n",
        "                    valid_sample = False\n",
        "                    break\n",
        "\n",
        "            if not valid_sample:\n",
        "                continue\n",
        "\n",
        "            # Compute error and store results\n",
        "            err = relativeErr(Ys, Yhats, info=True)\n",
        "            results[\"target\"].append(eq)\n",
        "            results[\"target_skeleton\"].append(eq_skeleton)\n",
        "            results[\"predicted_skeleton\"].append(predicted_skeleton)\n",
        "            results[\"predicted\"].append(predicted)\n",
        "            results[\"error\"].append(err)\n",
        "\n",
        "            print(f\"\\nSample {batch_idx * B + i + 1}:\")\n",
        "            print(f\"Target: {eq}\")\n",
        "            print(f\"Target Skeleton: {eq_skeleton}\")\n",
        "            print(f\"Predicted Skeleton: {predicted_skeleton}\")\n",
        "            print(f\"Predicted: {predicted}\")\n",
        "            print(f\"Relative Error: {err:.6f}\")\n",
        "            print(\"-\" * 50)\n",
        "\n",
        "    return results\n"
      ],
      "metadata": {
        "id": "itNSUyzeNVgV"
      },
      "id": "itNSUyzeNVgV",
      "execution_count": 67,
      "outputs": []
    },
    {
      "cell_type": "code",
      "execution_count": 68,
      "id": "e676e953",
      "metadata": {
        "colab": {
          "base_uri": "https://localhost:8080/",
          "height": 1000
        },
        "id": "e676e953",
        "outputId": "eeb6df0b-42f6-4f74-a4c5-4af531d5c53e"
      },
      "outputs": [
        {
          "output_type": "stream",
          "name": "stdout",
          "text": [
            "{0: '(', 1: ')', 2: '*', 3: '**', 4: '+', 5: '/', 6: '0', 7: '1', 8: '2', 9: '3', 10: '4', 11: '5', 12: '6', 13: '7', 14: '8', 15: '9', 16: ':', 17: '<', 18: '>', 19: 'C', 20: 'T', 21: '_', 22: 'cos', 23: 'exp', 24: 'log', 25: 'sin', 26: 'x1'}\n",
            "Testing SymbolicDiffusion model...\n"
          ]
        },
        {
          "output_type": "stream",
          "name": "stderr",
          "text": [
            "sampling loop:  31%|███       | 306/1000 [00:00<00:01, 413.97it/s]"
          ]
        },
        {
          "output_type": "stream",
          "name": "stdout",
          "text": [
            " sample 0: predicted_skeleton: C:248/C0C8x1:)sin+\n"
          ]
        },
        {
          "output_type": "stream",
          "name": "stderr",
          "text": [
            "sampling loop:  58%|█████▊    | 579/1000 [00:01<00:00, 442.23it/s]"
          ]
        },
        {
          "output_type": "stream",
          "name": "stdout",
          "text": [
            " sample 0: predicted_skeleton: explog/+)7)exp*3cos**C8sin5**/3+5x1\n"
          ]
        },
        {
          "output_type": "stream",
          "name": "stderr",
          "text": [
            "sampling loop:  80%|████████  | 803/1000 [00:01<00:00, 427.87it/s]"
          ]
        },
        {
          "output_type": "stream",
          "name": "stdout",
          "text": [
            " sample 0: predicted_skeleton: C\n"
          ]
        },
        {
          "output_type": "stream",
          "name": "stderr",
          "text": [
            "sampling loop: 100%|██████████| 1000/1000 [00:02<00:00, 432.69it/s]\n"
          ]
        },
        {
          "output_type": "stream",
          "name": "stdout",
          "text": [
            " sample 0: predicted_skeleton: C*log(C*x1)C)+C\n",
            "Skipping sample 1: PR: Invalid predicted equation. Eq: 1.0*log(1.0*(-3.17441699))1.0)+1.0, Reason: unmatched ')' (<string>, line 1)\n",
            "\n"
          ]
        },
        {
          "output_type": "stream",
          "name": "stderr",
          "text": [
            "sampling loop:  30%|██▉       | 298/1000 [00:00<00:01, 404.63it/s]"
          ]
        },
        {
          "output_type": "stream",
          "name": "stdout",
          "text": [
            " sample 0: predicted_skeleton: )exp)x172C+cos63CT\n"
          ]
        },
        {
          "output_type": "stream",
          "name": "stderr",
          "text": [
            "sampling loop:  56%|█████▋    | 564/1000 [00:01<00:01, 387.53it/s]"
          ]
        },
        {
          "output_type": "stream",
          "name": "stdout",
          "text": [
            " sample 0: predicted_skeleton: C5(79CC39+logC+C****exp2/(**sin</43exp+7expx1+\n"
          ]
        },
        {
          "output_type": "stream",
          "name": "stderr",
          "text": [
            "sampling loop:  81%|████████  | 808/1000 [00:02<00:00, 309.37it/s]"
          ]
        },
        {
          "output_type": "stream",
          "name": "stdout",
          "text": [
            " sample 0: predicted_skeleton: CT))+C(sin+2expcos(\n"
          ]
        },
        {
          "output_type": "stream",
          "name": "stderr",
          "text": [
            "sampling loop: 100%|██████████| 1000/1000 [00:02<00:00, 357.75it/s]\n"
          ]
        },
        {
          "output_type": "stream",
          "name": "stdout",
          "text": [
            " sample 0: predicted_skeleton: C*x1**C**x1+C)++C*C*CC*)+C\n",
            "Skipping sample 2: PR: Invalid predicted equation. Eq: 1.0*(4.60700177)**1.0**(4.60700177)+1.0)++1.0*1.0*1.01.0*)+1.0, Reason: unmatched ')' (<string>, line 1)\n",
            "\n"
          ]
        },
        {
          "output_type": "stream",
          "name": "stderr",
          "text": [
            "sampling loop:  29%|██▉       | 289/1000 [00:00<00:02, 304.94it/s]"
          ]
        },
        {
          "output_type": "stream",
          "name": "stdout",
          "text": [
            " sample 0: predicted_skeleton: exp/8*)x1*++:/*Ccossin6++74exp/logCC7CCx1x1log6\n"
          ]
        },
        {
          "output_type": "stream",
          "name": "stderr",
          "text": [
            "sampling loop:  53%|█████▎    | 532/1000 [00:01<00:01, 281.66it/s]"
          ]
        },
        {
          "output_type": "stream",
          "name": "stdout",
          "text": [
            " sample 0: predicted_skeleton: **coscos**0\n"
          ]
        },
        {
          "output_type": "stream",
          "name": "stderr",
          "text": [
            "sampling loop:  83%|████████▎ | 832/1000 [00:02<00:00, 403.33it/s]"
          ]
        },
        {
          "output_type": "stream",
          "name": "stdout",
          "text": [
            " sample 0: predicted_skeleton: Csincos\n"
          ]
        },
        {
          "output_type": "stream",
          "name": "stderr",
          "text": [
            "sampling loop: 100%|██████████| 1000/1000 [00:03<00:00, 331.96it/s]\n"
          ]
        },
        {
          "output_type": "stream",
          "name": "stdout",
          "text": [
            " sample 0: predicted_skeleton: C*x1**4+C*x1**3+C*x1**2+C*x1**2\n",
            "Skipping sample 3: TA: Invalid target equation. Eq: 0.5035538309121157*(-3.07921534)**5+-1.7880275308333555*(-3.07921534)**4+1.9763031036747143*(-3.07921534)**3+0.64126273976877*(-3.07921534)**2*1.9018843748420244*log(0.8634365809569955*(-3.07921534))+-1.6578296868442013*(-3.07921534)**2+-0.4515420744032035*(-3.07921534)+1.133184078275951, Reason: math domain error\n",
            "\n"
          ]
        },
        {
          "output_type": "stream",
          "name": "stderr",
          "text": [
            "sampling loop:  32%|███▏      | 320/1000 [00:00<00:01, 416.60it/s]"
          ]
        },
        {
          "output_type": "stream",
          "name": "stdout",
          "text": [
            " sample 0: predicted_skeleton: /+95+C\n"
          ]
        },
        {
          "output_type": "stream",
          "name": "stderr",
          "text": [
            "sampling loop:  55%|█████▍    | 548/1000 [00:01<00:01, 437.21it/s]"
          ]
        },
        {
          "output_type": "stream",
          "name": "stdout",
          "text": [
            " sample 0: predicted_skeleton: x1**C)sin\n"
          ]
        },
        {
          "output_type": "stream",
          "name": "stderr",
          "text": [
            "sampling loop:  82%|████████▎ | 825/1000 [00:01<00:00, 436.92it/s]"
          ]
        },
        {
          "output_type": "stream",
          "name": "stdout",
          "text": [
            " sample 0: predicted_skeleton: C*exp2C3\n"
          ]
        },
        {
          "output_type": "stream",
          "name": "stderr",
          "text": [
            "sampling loop: 100%|██████████| 1000/1000 [00:02<00:00, 435.85it/s]\n"
          ]
        },
        {
          "output_type": "stream",
          "name": "stdout",
          "text": [
            " sample 0: predicted_skeleton: C/x1+C\n",
            "yPR,yTrue:1.4550377609586163,1.4917229950723543, Err:0.00016403625372800828\n",
            "yPR,yTrue:1.4559141580072619,1.491396734981814, Err:0.00015345730239997175\n",
            "yPR,yTrue:1.4564518265798394,1.4911971307380596, Err:0.00014714634804222578\n",
            "yPR,yTrue:1.4292392185873384,1.5018587495598479, Err:0.0006427826290274615\n",
            "yPR,yTrue:1.4550377609586163,1.4917229950723543, Err:0.00016403625372800828\n",
            "\n",
            "Sample 4:\n",
            "Target: 0.25685479717362014*x1/(1.3240180394403067*x1+-0.16002606291656596)+1.3023923419772578\n",
            "Target Skeleton: C*x1/(C*x1+C)+C\n",
            "Predicted Skeleton: C/x1+C\n",
            "Predicted: -0.059887036795633015/x1+1.4428270556937492\n",
            "Relative Error: 0.000467\n",
            "--------------------------------------------------\n"
          ]
        },
        {
          "output_type": "stream",
          "name": "stderr",
          "text": [
            "sampling loop:  31%|███       | 309/1000 [00:00<00:01, 430.33it/s]"
          ]
        },
        {
          "output_type": "stream",
          "name": "stdout",
          "text": [
            " sample 0: predicted_skeleton: **3sin3484C64expexp:+94\n"
          ]
        },
        {
          "output_type": "stream",
          "name": "stderr",
          "text": [
            "sampling loop:  57%|█████▊    | 575/1000 [00:01<00:00, 435.41it/s]"
          ]
        },
        {
          "output_type": "stream",
          "name": "stdout",
          "text": [
            " sample 0: predicted_skeleton: )8+(C0sinsinx1x139sinC)63*2log879++0**4C)**1\n"
          ]
        },
        {
          "output_type": "stream",
          "name": "stderr",
          "text": [
            "sampling loop:  80%|████████  | 801/1000 [00:01<00:00, 435.94it/s]"
          ]
        },
        {
          "output_type": "stream",
          "name": "stdout",
          "text": [
            " sample 0: predicted_skeleton: x1x1C64**(/)C(+)2sinC)\n"
          ]
        },
        {
          "output_type": "stream",
          "name": "stderr",
          "text": [
            "sampling loop: 100%|██████████| 1000/1000 [00:02<00:00, 433.27it/s]\n"
          ]
        },
        {
          "output_type": "stream",
          "name": "stdout",
          "text": [
            " sample 0: predicted_skeleton: C*x1**4+C*x1**C+x1*x1***+C*x1**CCC*x1**C*x1*\n",
            "Skipping sample 5: PR: Invalid predicted equation. Eq: 1.0*(-3.90916978)**4+1.0*(-3.90916978)**1.0+(-3.90916978)*(-3.90916978)***+1.0*(-3.90916978)**1.01.01.0*(-3.90916978)**1.0*(-3.90916978)*, Reason: invalid syntax (<string>, line 1)\n",
            "\n"
          ]
        },
        {
          "output_type": "stream",
          "name": "stderr",
          "text": [
            "sampling loop:  32%|███▏      | 322/1000 [00:00<00:01, 444.61it/s]"
          ]
        },
        {
          "output_type": "stream",
          "name": "stdout",
          "text": [
            " sample 0: predicted_skeleton: x1x1**Cx11sin\n"
          ]
        },
        {
          "output_type": "stream",
          "name": "stderr",
          "text": [
            "sampling loop:  55%|█████▍    | 546/1000 [00:01<00:01, 422.99it/s]"
          ]
        },
        {
          "output_type": "stream",
          "name": "stdout",
          "text": [
            " sample 0: predicted_skeleton: 69C*(+sin)C<C*21T3expC82x1TT6C***)\n"
          ]
        },
        {
          "output_type": "stream",
          "name": "stderr",
          "text": [
            "sampling loop:  81%|████████  | 812/1000 [00:01<00:00, 430.31it/s]"
          ]
        },
        {
          "output_type": "stream",
          "name": "stdout",
          "text": [
            " sample 0: predicted_skeleton: x1+(5exp+*\n"
          ]
        },
        {
          "output_type": "stream",
          "name": "stderr",
          "text": [
            "sampling loop: 100%|██████████| 1000/1000 [00:02<00:00, 434.23it/s]\n"
          ]
        },
        {
          "output_type": "stream",
          "name": "stdout",
          "text": [
            " sample 0: predicted_skeleton: C*x1**2+C\n",
            "yPR,yTrue:-15.514216391817904,-43.24170801504484, Err:3.9740383109975337\n",
            "yPR,yTrue:-21.649393588949238,-58.75286450870862, Err:7.11606589426205\n",
            "yPR,yTrue:-12.048985829337786,-21.19566928054045, Err:0.4324522714134962\n",
            "yPR,yTrue:-10.565949024765011,-18.193196919830214, Err:0.30070912536848754\n",
            "yPR,yTrue:-12.844454994996964,-36.40794297288817, Err:2.8700538038269077\n",
            "\n",
            "Sample 6:\n",
            "Target: -2.03995581177251*x1**2+1.784589431926912*x1+-0.0323998685508311\n",
            "Target Skeleton: C*x1**2+C*x1+C\n",
            "Predicted Skeleton: C*x1**2+C\n",
            "Predicted: -0.8841723756376072*x1**2+-0.023695176187239035\n",
            "Relative Error: 2.294900\n",
            "--------------------------------------------------\n"
          ]
        },
        {
          "output_type": "stream",
          "name": "stderr",
          "text": [
            "sampling loop:  32%|███▏      | 324/1000 [00:00<00:01, 447.13it/s]"
          ]
        },
        {
          "output_type": "stream",
          "name": "stdout",
          "text": [
            " sample 0: predicted_skeleton: 3\n"
          ]
        },
        {
          "output_type": "stream",
          "name": "stderr",
          "text": [
            "sampling loop:  55%|█████▌    | 550/1000 [00:01<00:01, 438.36it/s]"
          ]
        },
        {
          "output_type": "stream",
          "name": "stdout",
          "text": [
            " sample 0: predicted_skeleton: C\n"
          ]
        },
        {
          "output_type": "stream",
          "name": "stderr",
          "text": [
            "sampling loop:  82%|████████▏ | 819/1000 [00:01<00:00, 431.59it/s]"
          ]
        },
        {
          "output_type": "stream",
          "name": "stdout",
          "text": [
            " sample 0: predicted_skeleton: C\n"
          ]
        },
        {
          "output_type": "stream",
          "name": "stderr",
          "text": [
            "sampling loop: 100%|██████████| 1000/1000 [00:02<00:00, 408.44it/s]\n"
          ]
        },
        {
          "output_type": "stream",
          "name": "stdout",
          "text": [
            " sample 0: predicted_skeleton: C*log(C*x1+C)+C\n",
            "Skipping sample 7: PR: Invalid predicted equation. Eq: 1.0*log(1.0*(-4.45698539)+1.0)+1.0, Reason: math domain error\n",
            "\n"
          ]
        },
        {
          "output_type": "stream",
          "name": "stderr",
          "text": [
            "sampling loop:  29%|██▉       | 294/1000 [00:00<00:02, 310.19it/s]"
          ]
        },
        {
          "output_type": "stream",
          "name": "stdout",
          "text": [
            " sample 0: predicted_skeleton: +log+/988C)2loglog+x1)8/C++3<C7Clog+2)5Clog\n"
          ]
        },
        {
          "output_type": "stream",
          "name": "stderr",
          "text": [
            "sampling loop:  54%|█████▎    | 537/1000 [00:01<00:01, 277.97it/s]"
          ]
        },
        {
          "output_type": "stream",
          "name": "stdout",
          "text": [
            " sample 0: predicted_skeleton: )+cos4+***sinx1sin:**exp(C*cos*95expsinC+x1/**log6CC2\n"
          ]
        },
        {
          "output_type": "stream",
          "name": "stderr",
          "text": [
            "sampling loop:  80%|████████  | 802/1000 [00:02<00:00, 269.71it/s]"
          ]
        },
        {
          "output_type": "stream",
          "name": "stdout",
          "text": [
            " sample 0: predicted_skeleton: sin+sin6T/+*20*x1exp\n"
          ]
        },
        {
          "output_type": "stream",
          "name": "stderr",
          "text": [
            "sampling loop: 100%|██████████| 1000/1000 [00:03<00:00, 288.31it/s]\n"
          ]
        },
        {
          "output_type": "stream",
          "name": "stdout",
          "text": [
            " sample 0: predicted_skeleton: C/x1+C\n",
            "yPR,yTrue:-0.13583472577682365,2.4355826060345844, Err:0.3167100594719432\n",
            "yPR,yTrue:-0.3014907533095786,3.7838288513158833, Err:0.7994085713011324\n",
            "yPR,yTrue:-0.16076859673082683,2.57505274321674, Err:0.35850250107506876\n",
            "yPR,yTrue:-1.124590445563482,-4.824314995915217, Err:0.6556250023717693\n",
            "yPR,yTrue:-0.16030487726566245,2.5723125635293655, Err:0.3576633137488285\n",
            "\n",
            "Sample 8:\n",
            "Target: -0.961876108374458*x1+-1.250800758696987/x1+-1.0663702739185705\n",
            "Target Skeleton: C*x1+C/x1+C\n",
            "Predicted Skeleton: C/x1+C\n",
            "Predicted: -1.672362952538292/x1+-0.6521049172964059\n",
            "Relative Error: 0.601310\n",
            "--------------------------------------------------\n"
          ]
        },
        {
          "output_type": "stream",
          "name": "stderr",
          "text": [
            "sampling loop:  32%|███▏      | 318/1000 [00:00<00:01, 443.65it/s]"
          ]
        },
        {
          "output_type": "stream",
          "name": "stdout",
          "text": [
            " sample 0: predicted_skeleton: +C3****4cos**\n"
          ]
        },
        {
          "output_type": "stream",
          "name": "stderr",
          "text": [
            "sampling loop:  54%|█████▍    | 544/1000 [00:01<00:01, 417.03it/s]"
          ]
        },
        {
          "output_type": "stream",
          "name": "stdout",
          "text": [
            " sample 0: predicted_skeleton: 5C62C9/C4sincos+/+C))7sin(log517+**74(C2:\n"
          ]
        },
        {
          "output_type": "stream",
          "name": "stderr",
          "text": [
            "sampling loop:  82%|████████▏ | 818/1000 [00:01<00:00, 441.04it/s]"
          ]
        },
        {
          "output_type": "stream",
          "name": "stdout",
          "text": [
            " sample 0: predicted_skeleton: **x1*1sin5CcossinexpCcos(8expexp+C69*cos34\n"
          ]
        },
        {
          "output_type": "stream",
          "name": "stderr",
          "text": [
            "sampling loop: 100%|██████████| 1000/1000 [00:02<00:00, 435.78it/s]\n"
          ]
        },
        {
          "output_type": "stream",
          "name": "stdout",
          "text": [
            " sample 0: predicted_skeleton: C*x1**4+C*x1**3+C*x1**2+C*x1**2\n",
            "yPR,yTrue:-557.4537038548801,-670.6500537194174, Err:1.170576095805918\n",
            "yPR,yTrue:-2044.1805960916545,2457.037147570633, Err:1850.9506934655524\n",
            "yPR,yTrue:-1130.6208336306145,-1531.6042095241207, Err:14.688841389425937\n",
            "yPR,yTrue:-3453.285800787268,4750.529311163185, Err:6148.462576256737\n",
            "yPR,yTrue:-1261.3834399984974,-1742.8848135309665, Err:21.180190710851125\n",
            "\n",
            "Sample 9:\n",
            "Target: -1.1721166123163602*x1**5+1.6974628250176984*x1**4+-1.8183674492315656*x1**3+0.28345722200202106*x1**2+-0.20747095003007954*x1+-1.8057037618847964\n",
            "Target Skeleton: C*x1**5+C*x1**4+C*x1**3+C*x1**2+C*x1+C\n",
            "Predicted Skeleton: C*x1**4+C*x1**3+C*x1**2+C*x1**2\n",
            "Predicted: -4.271378615769249*x1**4+6.711568376577134*x1**3+-1.2751450755023914*x1**2+-1.2751424506819649*x1**2\n",
            "Relative Error: 930.898079\n",
            "--------------------------------------------------\n"
          ]
        },
        {
          "output_type": "stream",
          "name": "stderr",
          "text": [
            "sampling loop:  32%|███▏      | 318/1000 [00:00<00:01, 439.45it/s]"
          ]
        },
        {
          "output_type": "stream",
          "name": "stdout",
          "text": [
            " sample 0: predicted_skeleton: +C+2sinx1(x1cos**68:*(Csin**log*x1*log7\n"
          ]
        },
        {
          "output_type": "stream",
          "name": "stderr",
          "text": [
            "sampling loop:  58%|█████▊    | 584/1000 [00:01<00:00, 430.56it/s]"
          ]
        },
        {
          "output_type": "stream",
          "name": "stdout",
          "text": [
            " sample 0: predicted_skeleton: )C:630/\n"
          ]
        },
        {
          "output_type": "stream",
          "name": "stderr",
          "text": [
            "sampling loop:  81%|████████  | 807/1000 [00:01<00:00, 400.22it/s]"
          ]
        },
        {
          "output_type": "stream",
          "name": "stdout",
          "text": [
            " sample 0: predicted_skeleton: )Cx12*exp*68CC1Cx1x1Cx1\n"
          ]
        },
        {
          "output_type": "stream",
          "name": "stderr",
          "text": [
            "sampling loop: 100%|██████████| 1000/1000 [00:02<00:00, 422.70it/s]\n"
          ]
        },
        {
          "output_type": "stream",
          "name": "stdout",
          "text": [
            " sample 0: predicted_skeleton: C*x1**4+C\n",
            "yPR,yTrue:109.57224275814274,96.0529371580064, Err:0.21311651633618434\n",
            "yPR,yTrue:219.6830411860446,188.21175906492897, Err:1.1548809304129395\n",
            "yPR,yTrue:366.78254479514493,310.3131757972857, Err:3.7182125091733016\n",
            "yPR,yTrue:77.30189141661081,68.77074399381945, Err:0.08486394794259891\n",
            "yPR,yTrue:106.78133061964755,93.70076974750242, Err:0.19950834698256717\n",
            "\n",
            "Sample 10:\n",
            "Target: 0.5429391980551586*x1**4+0.5587698685776163*x1**2+0.26202636943628077\n",
            "Target Skeleton: C*x1**4+C*x1**2+C\n",
            "Predicted Skeleton: C*x1**4+C\n",
            "Predicted: 0.6703226889953722*x1**4+0.12221785217073045\n",
            "Relative Error: 0.816437\n",
            "--------------------------------------------------\n"
          ]
        },
        {
          "output_type": "stream",
          "name": "stderr",
          "text": [
            "sampling loop:  32%|███▏      | 319/1000 [00:00<00:01, 434.14it/s]"
          ]
        },
        {
          "output_type": "stream",
          "name": "stdout",
          "text": [
            " sample 0: predicted_skeleton: )C)*(38****4C78*5*4/sin3Csinx1****+*x17)3x1\n"
          ]
        },
        {
          "output_type": "stream",
          "name": "stderr",
          "text": [
            "sampling loop:  55%|█████▍    | 545/1000 [00:01<00:01, 444.70it/s]"
          ]
        },
        {
          "output_type": "stream",
          "name": "stdout",
          "text": [
            " sample 0: predicted_skeleton: +x1\n"
          ]
        },
        {
          "output_type": "stream",
          "name": "stderr",
          "text": [
            "sampling loop:  82%|████████▏ | 815/1000 [00:01<00:00, 438.89it/s]"
          ]
        },
        {
          "output_type": "stream",
          "name": "stdout",
          "text": [
            " sample 0: predicted_skeleton: C4x1)63*C(5+6((+)C((sin)cos+exp*x1cos3expx1+x1\n"
          ]
        },
        {
          "output_type": "stream",
          "name": "stderr",
          "text": [
            "sampling loop: 100%|██████████| 1000/1000 [00:02<00:00, 439.30it/s]\n"
          ]
        },
        {
          "output_type": "stream",
          "name": "stdout",
          "text": [
            " sample 0: predicted_skeleton: C*log(C*x1+C)+C\n",
            "Skipping sample 11: PR: Invalid predicted equation. Eq: 1.0*log(1.0*(-3.02836977)+1.0)+1.0, Reason: math domain error\n",
            "\n"
          ]
        },
        {
          "output_type": "stream",
          "name": "stderr",
          "text": [
            "sampling loop:  31%|███▏      | 314/1000 [00:00<00:01, 438.57it/s]"
          ]
        },
        {
          "output_type": "stream",
          "name": "stdout",
          "text": [
            " sample 0: predicted_skeleton: C966cos\n"
          ]
        },
        {
          "output_type": "stream",
          "name": "stderr",
          "text": [
            "sampling loop:  57%|█████▊    | 575/1000 [00:01<00:01, 407.74it/s]"
          ]
        },
        {
          "output_type": "stream",
          "name": "stdout",
          "text": [
            " sample 0: predicted_skeleton: +1coscoscos1/4Cx17sin(9x1//sin/sinsin*C1+5Csin74*\n"
          ]
        },
        {
          "output_type": "stream",
          "name": "stderr",
          "text": [
            "sampling loop:  80%|███████▉  | 799/1000 [00:01<00:00, 434.18it/s]"
          ]
        },
        {
          "output_type": "stream",
          "name": "stdout",
          "text": [
            " sample 0: predicted_skeleton: x1(6x1x1+6+6)C\n"
          ]
        },
        {
          "output_type": "stream",
          "name": "stderr",
          "text": [
            "sampling loop: 100%|██████████| 1000/1000 [00:02<00:00, 425.48it/s]\n"
          ]
        },
        {
          "output_type": "stream",
          "name": "stdout",
          "text": [
            " sample 0: predicted_skeleton: C*x1**3+C\n",
            "Skipping sample 12: TA: Invalid target equation. Eq: 1.9408099468570277*(4.91634661)*0.48518007925928686*log(-0.37576148071164694*(4.91634661)**3+-0.4469742917830326*(4.91634661)**2+1.2349053621894983*(4.91634661)+-1.1406322138901035)+-0.6421494302018327*exp(-1.2980538069135452*(4.91634661))+1.9610357296909817, Reason: math domain error\n",
            "\n"
          ]
        },
        {
          "output_type": "stream",
          "name": "stderr",
          "text": [
            "sampling loop:  27%|██▋       | 272/1000 [00:00<00:02, 335.77it/s]"
          ]
        },
        {
          "output_type": "stream",
          "name": "stdout",
          "text": [
            " sample 0: predicted_skeleton: cosx19/*99exp4Ccos8(5exp6**7x1x1*+1C+7C35x1**sin\n"
          ]
        },
        {
          "output_type": "stream",
          "name": "stderr",
          "text": [
            "sampling loop:  54%|█████▎    | 536/1000 [00:01<00:01, 311.19it/s]"
          ]
        },
        {
          "output_type": "stream",
          "name": "stdout",
          "text": [
            " sample 0: predicted_skeleton: sinx1x1C**\n"
          ]
        },
        {
          "output_type": "stream",
          "name": "stderr",
          "text": [
            "sampling loop:  79%|███████▉  | 794/1000 [00:02<00:00, 310.26it/s]"
          ]
        },
        {
          "output_type": "stream",
          "name": "stdout",
          "text": [
            " sample 0: predicted_skeleton: C()1log(Ccos+exp)\n"
          ]
        },
        {
          "output_type": "stream",
          "name": "stderr",
          "text": [
            "sampling loop: 100%|██████████| 1000/1000 [00:03<00:00, 321.40it/s]\n"
          ]
        },
        {
          "output_type": "stream",
          "name": "stdout",
          "text": [
            " sample 0: predicted_skeleton: C*log(C*x1**3)+C\n",
            "Skipping sample 13: TA: Invalid target equation. Eq: 1.5870735041556885*log(-1.9971494165750023*(-4.44947737)**2+2.098618090668166*(-4.44947737)+-0.4675728190037194)+0.34363164599140816, Reason: math domain error\n",
            "\n"
          ]
        },
        {
          "output_type": "stream",
          "name": "stderr",
          "text": [
            "sampling loop:  28%|██▊       | 283/1000 [00:01<00:02, 272.95it/s]"
          ]
        },
        {
          "output_type": "stream",
          "name": "stdout",
          "text": [
            " sample 0: predicted_skeleton: explogx1x1C+9***1<*9/*<cos(*++5**T5*Ccos32/1\n"
          ]
        },
        {
          "output_type": "stream",
          "name": "stderr",
          "text": [
            "sampling loop:  55%|█████▌    | 552/1000 [00:01<00:01, 423.16it/s]"
          ]
        },
        {
          "output_type": "stream",
          "name": "stdout",
          "text": [
            " sample 0: predicted_skeleton: T)**6*log+8coslog(536)**+Csin+**coscos4logx14/1***cos\n"
          ]
        },
        {
          "output_type": "stream",
          "name": "stderr",
          "text": [
            "sampling loop:  82%|████████▏ | 819/1000 [00:02<00:00, 435.29it/s]"
          ]
        },
        {
          "output_type": "stream",
          "name": "stdout",
          "text": [
            " sample 0: predicted_skeleton: )***6\n"
          ]
        },
        {
          "output_type": "stream",
          "name": "stderr",
          "text": [
            "sampling loop: 100%|██████████| 1000/1000 [00:02<00:00, 374.75it/s]\n"
          ]
        },
        {
          "output_type": "stream",
          "name": "stdout",
          "text": [
            " sample 0: predicted_skeleton: C*exp(C*x1)+C\n",
            "yPR,yTrue:-24081.456548012375,-24081.47534386121, Err:7.270298543225248e-09\n",
            "yPR,yTrue:-1966.199248990127,-1966.1998967322024, Err:8.634408163489368e-12\n",
            "yPR,yTrue:-24081.456548012375,-24081.47534386121, Err:7.270298543225248e-09\n",
            "yPR,yTrue:-1190.2710803342993,-1190.2713650403432, Err:1.6680986506149268e-12\n",
            "yPR,yTrue:-0.30786988630679757,-0.30787046798490747, Err:6.962958369434841e-18\n",
            "\n",
            "Sample 14:\n",
            "Target: -1.4623633539230116*exp(2.06582179653662*x1)+-0.3071961525631195\n",
            "Target Skeleton: C*exp(C*x1)+C\n",
            "Predicted Skeleton: C*exp(C*x1)+C\n",
            "Predicted: -1.4623647700361375*exp(2.065821424427938*x1)+-0.30719556929896524\n",
            "Relative Error: 0.000000\n",
            "--------------------------------------------------\n"
          ]
        },
        {
          "output_type": "stream",
          "name": "stderr",
          "text": [
            "sampling loop:  31%|███       | 312/1000 [00:00<00:01, 434.28it/s]"
          ]
        },
        {
          "output_type": "stream",
          "name": "stdout",
          "text": [
            " sample 0: predicted_skeleton: T<9*2exp**65**7\n"
          ]
        },
        {
          "output_type": "stream",
          "name": "stderr",
          "text": [
            "sampling loop:  58%|█████▊    | 579/1000 [00:01<00:00, 425.22it/s]"
          ]
        },
        {
          "output_type": "stream",
          "name": "stdout",
          "text": [
            " sample 0: predicted_skeleton: C<x1log4exp\n"
          ]
        },
        {
          "output_type": "stream",
          "name": "stderr",
          "text": [
            "sampling loop:  81%|████████  | 806/1000 [00:01<00:00, 434.88it/s]"
          ]
        },
        {
          "output_type": "stream",
          "name": "stdout",
          "text": [
            " sample 0: predicted_skeleton: C\n"
          ]
        },
        {
          "output_type": "stream",
          "name": "stderr",
          "text": [
            "sampling loop: 100%|██████████| 1000/1000 [00:02<00:00, 431.20it/s]\n"
          ]
        },
        {
          "output_type": "stream",
          "name": "stdout",
          "text": [
            " sample 0: predicted_skeleton: C*exp(C*x1)+C\n",
            "Skipping sample 15: Invalid predicted equation or optimization failed\n",
            "\n"
          ]
        },
        {
          "output_type": "stream",
          "name": "stderr",
          "text": [
            "sampling loop:  32%|███▏      | 322/1000 [00:00<00:01, 434.46it/s]"
          ]
        },
        {
          "output_type": "stream",
          "name": "stdout",
          "text": [
            " sample 0: predicted_skeleton: T(5expexp0*/2\n"
          ]
        },
        {
          "output_type": "stream",
          "name": "stderr",
          "text": [
            "sampling loop:  55%|█████▍    | 547/1000 [00:01<00:01, 439.22it/s]"
          ]
        },
        {
          "output_type": "stream",
          "name": "stdout",
          "text": [
            " sample 0: predicted_skeleton: **+**:2<x1))/)2)x1**+5654)20(\n"
          ]
        },
        {
          "output_type": "stream",
          "name": "stderr",
          "text": [
            "sampling loop:  82%|████████▏ | 819/1000 [00:01<00:00, 440.54it/s]"
          ]
        },
        {
          "output_type": "stream",
          "name": "stdout",
          "text": [
            " sample 0: predicted_skeleton: expC*85CC()1+3)(****+expC)sinx1x14sin\n"
          ]
        },
        {
          "output_type": "stream",
          "name": "stderr",
          "text": [
            "sampling loop: 100%|██████████| 1000/1000 [00:02<00:00, 436.92it/s]\n"
          ]
        },
        {
          "output_type": "stream",
          "name": "stdout",
          "text": [
            " sample 0: predicted_skeleton: C*log(C*x1++)+C\n",
            "Skipping sample 16: PR: Invalid predicted equation. Eq: 1.0*log(1.0*(-3.52292389)++)+1.0, Reason: invalid syntax (<string>, line 1)\n",
            "\n"
          ]
        },
        {
          "output_type": "stream",
          "name": "stderr",
          "text": [
            "sampling loop:  32%|███▏      | 317/1000 [00:00<00:01, 435.01it/s]"
          ]
        },
        {
          "output_type": "stream",
          "name": "stdout",
          "text": [
            " sample 0: predicted_skeleton: log)x1+()\n"
          ]
        },
        {
          "output_type": "stream",
          "name": "stderr",
          "text": [
            "sampling loop:  54%|█████▍    | 544/1000 [00:01<00:01, 433.30it/s]"
          ]
        },
        {
          "output_type": "stream",
          "name": "stdout",
          "text": [
            " sample 0: predicted_skeleton: log)cos6(C3**C*C6\n"
          ]
        },
        {
          "output_type": "stream",
          "name": "stderr",
          "text": [
            "sampling loop:  82%|████████▏ | 816/1000 [00:01<00:00, 403.52it/s]"
          ]
        },
        {
          "output_type": "stream",
          "name": "stdout",
          "text": [
            " sample 0: predicted_skeleton: +*/x11/\n"
          ]
        },
        {
          "output_type": "stream",
          "name": "stderr",
          "text": [
            "sampling loop: 100%|██████████| 1000/1000 [00:02<00:00, 399.52it/s]\n"
          ]
        },
        {
          "output_type": "stream",
          "name": "stdout",
          "text": [
            " sample 0: predicted_skeleton: C*log(C*x1(C)++\n",
            "Skipping sample 17: PR: Invalid predicted equation. Eq: 1.0*log(1.0*(-4.32159017)(1.0)++, Reason: '(' was never closed (<string>, line 1)\n",
            "\n"
          ]
        },
        {
          "output_type": "stream",
          "name": "stderr",
          "text": [
            "sampling loop:  29%|██▊       | 287/1000 [00:00<00:02, 315.31it/s]"
          ]
        },
        {
          "output_type": "stream",
          "name": "stdout",
          "text": [
            " sample 0: predicted_skeleton: **19/)2x1(0*\n"
          ]
        },
        {
          "output_type": "stream",
          "name": "stderr",
          "text": [
            "sampling loop:  55%|█████▍    | 545/1000 [00:01<00:01, 301.53it/s]"
          ]
        },
        {
          "output_type": "stream",
          "name": "stdout",
          "text": [
            " sample 0: predicted_skeleton: 9/0x1*+exp\n"
          ]
        },
        {
          "output_type": "stream",
          "name": "stderr",
          "text": [
            "sampling loop:  78%|███████▊  | 778/1000 [00:02<00:00, 250.48it/s]"
          ]
        },
        {
          "output_type": "stream",
          "name": "stdout",
          "text": [
            " sample 0: predicted_skeleton: )*cos*x1*5(+*4\n"
          ]
        },
        {
          "output_type": "stream",
          "name": "stderr",
          "text": [
            "sampling loop: 100%|██████████| 1000/1000 [00:03<00:00, 295.91it/s]\n"
          ]
        },
        {
          "output_type": "stream",
          "name": "stdout",
          "text": [
            " sample 0: predicted_skeleton: C*sin(C*x1+C)+C\n",
            "yPR,yTrue:-3.26013300466359,-3.260132730438631, Err:6.021354361800369e-15\n",
            "yPR,yTrue:-1.1163833181309777,-1.116382328411982, Err:7.843394097382976e-14\n",
            "yPR,yTrue:0.26716520089037266,0.2671656091964234, Err:1.3349096028179986e-14\n",
            "yPR,yTrue:-1.1311543384679006,-1.1311565777090271, Err:4.014966715987947e-13\n",
            "yPR,yTrue:-2.643520348998015,-2.6435223644992876, Err:3.252717744675823e-13\n",
            "\n",
            "Sample 18:\n",
            "Target: 1.8666349454089444*sin(1.496037423295442*x1+0.05518078198207865)+-1.59848257817769\n",
            "Target Skeleton: C*sin(C*x1+C)+C\n",
            "Predicted Skeleton: C*sin(C*x1+C)+C\n",
            "Predicted: 1.8666345678091636*sin(1.4960376360688936*x1+0.05518117801827697)+-1.5984826259182663\n",
            "Relative Error: 0.000000\n",
            "--------------------------------------------------\n"
          ]
        },
        {
          "output_type": "stream",
          "name": "stderr",
          "text": [
            "sampling loop:  30%|██▉       | 295/1000 [00:00<00:01, 395.16it/s]"
          ]
        },
        {
          "output_type": "stream",
          "name": "stdout",
          "text": [
            " sample 0: predicted_skeleton: C)3**6coscos//)21)x1x1//CC+x1exp6logcos(**log4x10*\n"
          ]
        },
        {
          "output_type": "stream",
          "name": "stderr",
          "text": [
            "sampling loop:  56%|█████▌    | 562/1000 [00:01<00:01, 404.04it/s]"
          ]
        },
        {
          "output_type": "stream",
          "name": "stdout",
          "text": [
            " sample 0: predicted_skeleton: ))log(C++(/*x1\n"
          ]
        },
        {
          "output_type": "stream",
          "name": "stderr",
          "text": [
            "sampling loop:  81%|████████  | 812/1000 [00:02<00:00, 410.85it/s]"
          ]
        },
        {
          "output_type": "stream",
          "name": "stdout",
          "text": [
            " sample 0: predicted_skeleton: cosx11**C****2x1+\n"
          ]
        },
        {
          "output_type": "stream",
          "name": "stderr",
          "text": [
            "sampling loop: 100%|██████████| 1000/1000 [00:02<00:00, 398.18it/s]\n"
          ]
        },
        {
          "output_type": "stream",
          "name": "stdout",
          "text": [
            " sample 0: predicted_skeleton: C*x1**2+C\n",
            "yPR,yTrue:-29.730471379969856,-29.73046881057224, Err:4.438227581356735e-14\n",
            "yPR,yTrue:-32.27886389385438,-32.27886110931476, Err:5.212592046774676e-14\n",
            "yPR,yTrue:-32.27886389385438,-32.27886110931476, Err:5.212592046774676e-14\n",
            "yPR,yTrue:-22.140953493388725,-22.14095156471819, Err:2.5007082446664345e-14\n",
            "yPR,yTrue:-37.64219911368114,-37.64219587635464, Err:7.045631710502008e-14\n",
            "\n",
            "Sample 19:\n",
            "Target: -1.5329422024906514*x1**2+-0.47167917186632624\n",
            "Target Skeleton: C*x1**2+C\n",
            "Predicted Skeleton: C*x1**2+C\n",
            "Predicted: -1.5329423319056785*x1**2+-0.4716792711596859\n",
            "Relative Error: 0.000000\n",
            "--------------------------------------------------\n"
          ]
        },
        {
          "output_type": "stream",
          "name": "stderr",
          "text": [
            "sampling loop:  31%|███       | 307/1000 [00:00<00:01, 394.91it/s]"
          ]
        },
        {
          "output_type": "stream",
          "name": "stdout",
          "text": [
            " sample 0: predicted_skeleton: )logx15/exp/(267sin/x1+09C*(0/)x1cos0C)7)+(\n"
          ]
        },
        {
          "output_type": "stream",
          "name": "stderr",
          "text": [
            "sampling loop:  55%|█████▌    | 552/1000 [00:01<00:01, 395.75it/s]"
          ]
        },
        {
          "output_type": "stream",
          "name": "stdout",
          "text": [
            " sample 0: predicted_skeleton: Ccos*C5<explog<C*exp2)C(**exp5+301(C07cos8*+3(\n"
          ]
        },
        {
          "output_type": "stream",
          "name": "stderr",
          "text": [
            "sampling loop:  82%|████████▏ | 815/1000 [00:01<00:00, 420.01it/s]"
          ]
        },
        {
          "output_type": "stream",
          "name": "stdout",
          "text": [
            " sample 0: predicted_skeleton: **(Csinsinx13x1/63\n"
          ]
        },
        {
          "output_type": "stream",
          "name": "stderr",
          "text": [
            "sampling loop: 100%|██████████| 1000/1000 [00:02<00:00, 411.55it/s]\n"
          ]
        },
        {
          "output_type": "stream",
          "name": "stdout",
          "text": [
            " sample 0: predicted_skeleton: C*x1+C\n",
            "yPR,yTrue:-7.08017594995658,-7.080175561109692, Err:4.7281028758480254e-15\n",
            "yPR,yTrue:-5.978691257272636,-5.978690933387646, Err:3.2802829419409347e-15\n",
            "yPR,yTrue:-6.993860923587612,-6.993860539831297, Err:4.6051176944166766e-15\n",
            "yPR,yTrue:2.8793427061161188,2.879342507583779, Err:1.2325149184819392e-15\n",
            "yPR,yTrue:2.8793427061161188,2.879342507583779, Err:1.2325149184819392e-15\n",
            "\n",
            "Sample 20:\n",
            "Target: -1.292424093456328*x1+-1.4305060425769378\n",
            "Target Skeleton: C*x1+C\n",
            "Predicted Skeleton: C*x1+C\n",
            "Predicted: -1.2924241696791996*x1+-1.4305060982251205\n",
            "Relative Error: 0.000000\n",
            "--------------------------------------------------\n"
          ]
        },
        {
          "output_type": "stream",
          "name": "stderr",
          "text": [
            "sampling loop:  30%|██▉       | 298/1000 [00:00<00:01, 424.78it/s]"
          ]
        },
        {
          "output_type": "stream",
          "name": "stdout",
          "text": [
            " sample 0: predicted_skeleton: 9cos)))289*)7C\n"
          ]
        },
        {
          "output_type": "stream",
          "name": "stderr",
          "text": [
            "sampling loop:  57%|█████▋    | 568/1000 [00:01<00:01, 422.61it/s]"
          ]
        },
        {
          "output_type": "stream",
          "name": "stdout",
          "text": [
            " sample 0: predicted_skeleton: ((Tx1+8exp\n"
          ]
        },
        {
          "output_type": "stream",
          "name": "stderr",
          "text": [
            "sampling loop:  84%|████████▎ | 836/1000 [00:01<00:00, 434.01it/s]"
          ]
        },
        {
          "output_type": "stream",
          "name": "stdout",
          "text": [
            " sample 0: predicted_skeleton: cos/C*exp*\n"
          ]
        },
        {
          "output_type": "stream",
          "name": "stderr",
          "text": [
            "sampling loop: 100%|██████████| 1000/1000 [00:02<00:00, 426.60it/s]\n"
          ]
        },
        {
          "output_type": "stream",
          "name": "stdout",
          "text": [
            " sample 0: predicted_skeleton: C*x1+C\n",
            "yPR,yTrue:4.6113928231639925,4.07022945443804, Err:0.02032534489287689\n",
            "yPR,yTrue:4.8985487811090005,4.158357629449128, Err:0.03802497339710933\n",
            "yPR,yTrue:-1.9813477601585854,-1.285050403804516, Err:0.033648881530290886\n",
            "yPR,yTrue:-2.2364744536918053,-1.3454845177891985, Err:0.055096845881296756\n",
            "yPR,yTrue:-1.1753515122798364,-0.9206438586258567, Err:0.004502618287194779\n",
            "\n",
            "Sample 21:\n",
            "Target: -1.7393436225521142*x1*0.449438445312758*cos(0.15643036080416506*x1)+1.4222864439438387\n",
            "Target Skeleton: C*x1*C*cos(C*x1)+C\n",
            "Predicted Skeleton: C*x1+C\n",
            "Predicted: -0.7340676258838704*x1+1.4051860466447246\n",
            "Relative Error: 0.019725\n",
            "--------------------------------------------------\n"
          ]
        },
        {
          "output_type": "stream",
          "name": "stderr",
          "text": [
            "sampling loop:  31%|███▏      | 314/1000 [00:00<00:01, 435.68it/s]"
          ]
        },
        {
          "output_type": "stream",
          "name": "stdout",
          "text": [
            " sample 0: predicted_skeleton: 7*/8x1)logClog<1):()7<8))x153exp9cos)\n"
          ]
        },
        {
          "output_type": "stream",
          "name": "stderr",
          "text": [
            "sampling loop:  58%|█████▊    | 580/1000 [00:01<00:00, 432.44it/s]"
          ]
        },
        {
          "output_type": "stream",
          "name": "stdout",
          "text": [
            " sample 0: predicted_skeleton: 6C)C487C*exp*(3+x1T**85*\n"
          ]
        },
        {
          "output_type": "stream",
          "name": "stderr",
          "text": [
            "sampling loop:  80%|████████  | 805/1000 [00:01<00:00, 437.92it/s]"
          ]
        },
        {
          "output_type": "stream",
          "name": "stdout",
          "text": [
            " sample 0: predicted_skeleton: 6log+C4cos**expx1(exp(*1Cx19ClogCx1C*exp5x1)coscos3+**\n"
          ]
        },
        {
          "output_type": "stream",
          "name": "stderr",
          "text": [
            "sampling loop: 100%|██████████| 1000/1000 [00:02<00:00, 410.14it/s]\n"
          ]
        },
        {
          "output_type": "stream",
          "name": "stdout",
          "text": [
            " sample 0: predicted_skeleton: C*log(C*x1+C)+C\n",
            "Skipping sample 22: TA: Invalid target equation. Eq: 0.20809992952797796*(-4.2663273)*0.8743119911575592*log(0.9487458659331658*(-4.2663273)+1.928182171771906)+1.4703491995295015, Reason: math domain error\n",
            "\n"
          ]
        },
        {
          "output_type": "stream",
          "name": "stderr",
          "text": [
            "sampling loop:  28%|██▊       | 282/1000 [00:00<00:02, 301.82it/s]"
          ]
        },
        {
          "output_type": "stream",
          "name": "stdout",
          "text": [
            " sample 0: predicted_skeleton: **(*9(88C2)**<CC*x1+)**++(9*0*x1+Cx106\n"
          ]
        },
        {
          "output_type": "stream",
          "name": "stderr",
          "text": [
            "sampling loop:  54%|█████▎    | 536/1000 [00:01<00:01, 292.96it/s]"
          ]
        },
        {
          "output_type": "stream",
          "name": "stdout",
          "text": [
            " sample 0: predicted_skeleton: **sinx1**(83:()**54C*cosexpcos\n"
          ]
        },
        {
          "output_type": "stream",
          "name": "stderr",
          "text": [
            "sampling loop:  79%|███████▊  | 787/1000 [00:02<00:00, 268.73it/s]"
          ]
        },
        {
          "output_type": "stream",
          "name": "stdout",
          "text": [
            " sample 0: predicted_skeleton: *4*8cossin+x1*)x15+C*logexp(x1+sin/4)53+expcos8C\n"
          ]
        },
        {
          "output_type": "stream",
          "name": "stderr",
          "text": [
            "sampling loop: 100%|██████████| 1000/1000 [00:03<00:00, 291.14it/s]\n"
          ]
        },
        {
          "output_type": "stream",
          "name": "stdout",
          "text": [
            " sample 0: predicted_skeleton: C*log(C*x1)C)+C\n",
            "Skipping sample 23: PR: Invalid predicted equation. Eq: 1.0*log(1.0*(-4.36533258))1.0)+1.0, Reason: unmatched ')' (<string>, line 1)\n",
            "\n"
          ]
        },
        {
          "output_type": "stream",
          "name": "stderr",
          "text": [
            "sampling loop:  31%|███       | 311/1000 [00:00<00:01, 432.30it/s]"
          ]
        },
        {
          "output_type": "stream",
          "name": "stdout",
          "text": [
            " sample 0: predicted_skeleton: cos\n"
          ]
        },
        {
          "output_type": "stream",
          "name": "stderr",
          "text": [
            "sampling loop:  58%|█████▊    | 577/1000 [00:01<00:00, 430.96it/s]"
          ]
        },
        {
          "output_type": "stream",
          "name": "stdout",
          "text": [
            " sample 0: predicted_skeleton: x1*9*)+log/6(+sinTlogsin6*x1sin5)3**+sin**cos88sinlog/\n"
          ]
        },
        {
          "output_type": "stream",
          "name": "stderr",
          "text": [
            "sampling loop:  80%|███████▉  | 798/1000 [00:01<00:00, 428.42it/s]"
          ]
        },
        {
          "output_type": "stream",
          "name": "stdout",
          "text": [
            " sample 0: predicted_skeleton: x1log2*Ccosx1*)***CC)sin+7sin(\n"
          ]
        },
        {
          "output_type": "stream",
          "name": "stderr",
          "text": [
            "sampling loop: 100%|██████████| 1000/1000 [00:02<00:00, 429.82it/s]\n"
          ]
        },
        {
          "output_type": "stream",
          "name": "stdout",
          "text": [
            " sample 0: predicted_skeleton: C*log(C*x1)+)\n",
            "Skipping sample 24: TA: Invalid target equation. Eq: -1.221855064120768*cos(-1.0779750472374385*log(-1.1540742645405142*(4.12973304))+1.253817758737263)**3+1.2605775854298358, Reason: math domain error\n",
            "\n"
          ]
        },
        {
          "output_type": "stream",
          "name": "stderr",
          "text": [
            "sampling loop:  31%|███       | 306/1000 [00:00<00:01, 433.40it/s]"
          ]
        },
        {
          "output_type": "stream",
          "name": "stdout",
          "text": [
            " sample 0: predicted_skeleton: 4+**7+2<cos8+(*/*+**x1+**2+(+0840**6:C(\n"
          ]
        },
        {
          "output_type": "stream",
          "name": "stderr",
          "text": [
            "sampling loop:  57%|█████▋    | 573/1000 [00:01<00:01, 425.14it/s]"
          ]
        },
        {
          "output_type": "stream",
          "name": "stdout",
          "text": [
            " sample 0: predicted_skeleton: )4**11*535C125:***x1C(6C1*0C***C**)C+\n"
          ]
        },
        {
          "output_type": "stream",
          "name": "stderr",
          "text": [
            "sampling loop:  80%|███████▉  | 795/1000 [00:01<00:00, 423.48it/s]"
          ]
        },
        {
          "output_type": "stream",
          "name": "stdout",
          "text": [
            " sample 0: predicted_skeleton: )(*cos3++C(+cosexp/1\n"
          ]
        },
        {
          "output_type": "stream",
          "name": "stderr",
          "text": [
            "sampling loop: 100%|██████████| 1000/1000 [00:02<00:00, 427.09it/s]\n"
          ]
        },
        {
          "output_type": "stream",
          "name": "stdout",
          "text": [
            " sample 0: predicted_skeleton: C*cos(C*x1**C)+C\n",
            "Skipping sample 25: PR: Invalid predicted equation. Eq: 0.3040897631264309*cos(6.597087579111204e-07*(-4.96311178)**0.38835511730075467)+1.2072525794821076, Reason: must be real number, not complex\n",
            "\n"
          ]
        },
        {
          "output_type": "stream",
          "name": "stderr",
          "text": [
            "sampling loop:  32%|███▏      | 317/1000 [00:00<00:01, 422.90it/s]"
          ]
        },
        {
          "output_type": "stream",
          "name": "stdout",
          "text": [
            " sample 0: predicted_skeleton: cos*\n"
          ]
        },
        {
          "output_type": "stream",
          "name": "stderr",
          "text": [
            "sampling loop:  56%|█████▋    | 565/1000 [00:01<00:01, 393.62it/s]"
          ]
        },
        {
          "output_type": "stream",
          "name": "stdout",
          "text": [
            " sample 0: predicted_skeleton: 4+\n"
          ]
        },
        {
          "output_type": "stream",
          "name": "stderr",
          "text": [
            "sampling loop:  81%|████████  | 812/1000 [00:01<00:00, 410.39it/s]"
          ]
        },
        {
          "output_type": "stream",
          "name": "stdout",
          "text": [
            " sample 0: predicted_skeleton: 4**\n"
          ]
        },
        {
          "output_type": "stream",
          "name": "stderr",
          "text": [
            "sampling loop: 100%|██████████| 1000/1000 [00:02<00:00, 412.03it/s]\n"
          ]
        },
        {
          "output_type": "stream",
          "name": "stdout",
          "text": [
            " sample 0: predicted_skeleton: C*x1**4+C*x1**2+C*x1**2\n",
            "yPR,yTrue:-134.9922130166894,101.61189379004351, Err:75.04433220826886\n",
            "yPR,yTrue:-134.9922130166894,101.61189379004351, Err:75.04433220826886\n",
            "yPR,yTrue:-78.0913694202899,67.0227093426324, Err:28.228801411985494\n",
            "yPR,yTrue:-289.8439504531537,-178.47904630829336, Err:16.625320849770663\n",
            "yPR,yTrue:-87.75504436927466,73.2413475042554, Err:34.74606489137677\n",
            "\n",
            "Sample 26:\n",
            "Target: -1.971577535372575*x1**3+1.5050855019406453\n",
            "Target Skeleton: C*x1**3+C\n",
            "Predicted Skeleton: C*x1**4+C*x1**2+C*x1**2\n",
            "Predicted: -0.6782977846104316*x1**4+-0.27202324130572414*x1**2+-0.27202324130572414*x1**2\n",
            "Relative Error: 113.570272\n",
            "--------------------------------------------------\n"
          ]
        },
        {
          "output_type": "stream",
          "name": "stderr",
          "text": [
            "sampling loop:  31%|███       | 308/1000 [00:00<00:01, 421.87it/s]"
          ]
        },
        {
          "output_type": "stream",
          "name": "stdout",
          "text": [
            " sample 0: predicted_skeleton: C2x1**8C8CT2\n"
          ]
        },
        {
          "output_type": "stream",
          "name": "stderr",
          "text": [
            "sampling loop:  57%|█████▋    | 571/1000 [00:01<00:01, 419.61it/s]"
          ]
        },
        {
          "output_type": "stream",
          "name": "stdout",
          "text": [
            " sample 0: predicted_skeleton: 13\n"
          ]
        },
        {
          "output_type": "stream",
          "name": "stderr",
          "text": [
            "sampling loop:  83%|████████▎ | 833/1000 [00:01<00:00, 420.94it/s]"
          ]
        },
        {
          "output_type": "stream",
          "name": "stdout",
          "text": [
            " sample 0: predicted_skeleton: Cx1546+*/3x1**cos2(sin\n"
          ]
        },
        {
          "output_type": "stream",
          "name": "stderr",
          "text": [
            "sampling loop: 100%|██████████| 1000/1000 [00:02<00:00, 421.65it/s]\n"
          ]
        },
        {
          "output_type": "stream",
          "name": "stdout",
          "text": [
            " sample 0: predicted_skeleton: C*log(C*x1)C)+C\n",
            "Skipping sample 27: PR: Invalid predicted equation. Eq: 1.0*log(1.0*(4.67437427))1.0)+1.0, Reason: unmatched ')' (<string>, line 1)\n",
            "\n"
          ]
        },
        {
          "output_type": "stream",
          "name": "stderr",
          "text": [
            "sampling loop:  28%|██▊       | 276/1000 [00:00<00:02, 300.21it/s]"
          ]
        },
        {
          "output_type": "stream",
          "name": "stdout",
          "text": [
            " sample 0: predicted_skeleton: )+\n"
          ]
        },
        {
          "output_type": "stream",
          "name": "stderr",
          "text": [
            "sampling loop:  56%|█████▌    | 556/1000 [00:01<00:01, 308.67it/s]"
          ]
        },
        {
          "output_type": "stream",
          "name": "stdout",
          "text": [
            " sample 0: predicted_skeleton: x1668sin*7cos+64x1C((4++<9))x17C**)CCsin*cos\n"
          ]
        },
        {
          "output_type": "stream",
          "name": "stderr",
          "text": [
            "sampling loop:  80%|████████  | 805/1000 [00:02<00:00, 302.29it/s]"
          ]
        },
        {
          "output_type": "stream",
          "name": "stdout",
          "text": [
            " sample 0: predicted_skeleton: *)*\n"
          ]
        },
        {
          "output_type": "stream",
          "name": "stderr",
          "text": [
            "sampling loop: 100%|██████████| 1000/1000 [00:03<00:00, 298.91it/s]\n"
          ]
        },
        {
          "output_type": "stream",
          "name": "stdout",
          "text": [
            " sample 0: predicted_skeleton: C*x1+C\n",
            "Skipping sample 28: TA: Invalid target equation. Eq: 0.1538016990384663*exp(-1.0790688012704894*(-3.0548264))*-0.019849652953018992*log(0.16173028449485471*(-3.0548264)+-0.5501530530534955)+1.7388398212520957*exp(0.4983779125550072*(-3.0548264))*1.9321876241814988*cos(-0.41686455969038017*(-3.0548264))+-1.5994829411524583, Reason: math domain error\n",
            "\n"
          ]
        },
        {
          "output_type": "stream",
          "name": "stderr",
          "text": [
            "sampling loop:  31%|███       | 310/1000 [00:01<00:02, 331.74it/s]"
          ]
        },
        {
          "output_type": "stream",
          "name": "stdout",
          "text": [
            " sample 0: predicted_skeleton: sinlog22C\n"
          ]
        },
        {
          "output_type": "stream",
          "name": "stderr",
          "text": [
            "sampling loop:  56%|█████▋    | 565/1000 [00:01<00:01, 414.66it/s]"
          ]
        },
        {
          "output_type": "stream",
          "name": "stdout",
          "text": [
            " sample 0: predicted_skeleton: sinx184/))27+x10)*0**/)5x1+\n"
          ]
        },
        {
          "output_type": "stream",
          "name": "stderr",
          "text": [
            "sampling loop:  82%|████████▏ | 822/1000 [00:02<00:00, 420.40it/s]"
          ]
        },
        {
          "output_type": "stream",
          "name": "stdout",
          "text": [
            " sample 0: predicted_skeleton: 04cos)log)log*C)sin/3**9**C**(sin\n"
          ]
        },
        {
          "output_type": "stream",
          "name": "stderr",
          "text": [
            "sampling loop: 100%|██████████| 1000/1000 [00:02<00:00, 370.50it/s]\n"
          ]
        },
        {
          "output_type": "stream",
          "name": "stdout",
          "text": [
            " sample 0: predicted_skeleton: C*x1**2+C\n",
            "yPR,yTrue:38.90665111251337,38.50812832253058, Err:0.0008438698441677108\n",
            "yPR,yTrue:25.605888525686566,25.275941360569462, Err:0.0005784395052802867\n",
            "yPR,yTrue:38.08808086301878,37.69240711068704, Err:0.0008318473292668199\n",
            "yPR,yTrue:30.906632620240867,30.69203778139686, Err:0.00024468519285127924\n",
            "yPR,yTrue:48.93128925853663,48.644885249069134, Err:0.0004358402454383266\n",
            "\n",
            "Sample 29:\n",
            "Target: 1.9848190190561819*x1**2+0.528563539691683*cos(-0.4054260668470433*x1+-0.141100837859238)+-0.4264884018970332\n",
            "Target Skeleton: C*x1**2+C*cos(C*x1+C)+C\n",
            "Predicted Skeleton: C*x1**2+C\n",
            "Predicted: 1.9689731758862543*x1**2+0.09308772408528997\n",
            "Relative Error: 0.000516\n",
            "--------------------------------------------------\n"
          ]
        },
        {
          "output_type": "stream",
          "name": "stderr",
          "text": [
            "sampling loop:  31%|███       | 306/1000 [00:00<00:01, 433.36it/s]"
          ]
        },
        {
          "output_type": "stream",
          "name": "stdout",
          "text": [
            " sample 0: predicted_skeleton: C:/x15expx19Cx1585/+**cos6))9(/4**)**x1Cx1x1:\n"
          ]
        },
        {
          "output_type": "stream",
          "name": "stderr",
          "text": [
            "sampling loop:  56%|█████▌    | 560/1000 [00:01<00:01, 351.60it/s]"
          ]
        },
        {
          "output_type": "stream",
          "name": "stdout",
          "text": [
            " sample 0: predicted_skeleton: C(Texp++Cx1Csinexp<77C1(x1x1coscos64)\n"
          ]
        },
        {
          "output_type": "stream",
          "name": "stderr",
          "text": [
            "sampling loop:  81%|████████▏ | 814/1000 [00:02<00:00, 413.44it/s]"
          ]
        },
        {
          "output_type": "stream",
          "name": "stdout",
          "text": [
            " sample 0: predicted_skeleton: 3\n"
          ]
        },
        {
          "output_type": "stream",
          "name": "stderr",
          "text": [
            "sampling loop: 100%|██████████| 1000/1000 [00:02<00:00, 405.54it/s]\n"
          ]
        },
        {
          "output_type": "stream",
          "name": "stdout",
          "text": [
            " sample 0: predicted_skeleton: C*exp(C*x1)*C\n",
            "yPR,yTrue:1.2310660970885354,0.7469389720642245, Err:1.5709821224459625e-10\n",
            "yPR,yTrue:1.4288093999119549,0.7577119215287975, Err:3.0187255060322063e-10\n",
            "yPR,yTrue:2.9394111986686675,0.7982853227870619, Err:3.072817803079625e-09\n",
            "yPR,yTrue:0.00032946162388732594,-995862.1000392933, Err:664.7384799672695\n",
            "yPR,yTrue:0.000674105419744559,-14979.190380903134, Err:0.15039352216847252\n",
            "\n",
            "Sample 30:\n",
            "Target: -0.3641865811194753*exp(1.651220470174795*exp(-0.5371166533805005*x1))+1.2501617982528814\n",
            "Target Skeleton: C*exp(C*exp(C*x1))+C\n",
            "Predicted Skeleton: C*exp(C*x1)*C\n",
            "Predicted: 0.1921894697155348*exp(1.1550938362350642*x1)*0.19218946971553086\n",
            "Relative Error: 49730901.842789\n",
            "--------------------------------------------------\n"
          ]
        },
        {
          "output_type": "stream",
          "name": "stderr",
          "text": [
            "sampling loop:  32%|███▏      | 317/1000 [00:00<00:01, 407.99it/s]"
          ]
        },
        {
          "output_type": "stream",
          "name": "stdout",
          "text": [
            " sample 0: predicted_skeleton: *5)(9\n"
          ]
        },
        {
          "output_type": "stream",
          "name": "stderr",
          "text": [
            "sampling loop:  58%|█████▊    | 584/1000 [00:01<00:00, 429.42it/s]"
          ]
        },
        {
          "output_type": "stream",
          "name": "stdout",
          "text": [
            " sample 0: predicted_skeleton: 942**7+/cos7***(*C)(*+sin)1x1)cos+2+4x12Ccos\n"
          ]
        },
        {
          "output_type": "stream",
          "name": "stderr",
          "text": [
            "sampling loop:  80%|████████  | 803/1000 [00:01<00:00, 420.88it/s]"
          ]
        },
        {
          "output_type": "stream",
          "name": "stdout",
          "text": [
            " sample 0: predicted_skeleton: **3expx1(*x1+2log3C*cos)C*expCx1*5)x1+4+expx1exp1cos\n"
          ]
        },
        {
          "output_type": "stream",
          "name": "stderr",
          "text": [
            "sampling loop: 100%|██████████| 1000/1000 [00:02<00:00, 430.80it/s]\n"
          ]
        },
        {
          "output_type": "stream",
          "name": "stdout",
          "text": [
            " sample 0: predicted_skeleton: C*log(C*x1+C)+C\n",
            "Skipping sample 31: PR: Invalid predicted equation. Eq: 1.0*log(1.0*(-4.44184085)+1.0)+1.0, Reason: math domain error\n",
            "\n"
          ]
        },
        {
          "output_type": "stream",
          "name": "stderr",
          "text": [
            "sampling loop:  31%|███▏      | 313/1000 [00:00<00:01, 435.60it/s]"
          ]
        },
        {
          "output_type": "stream",
          "name": "stdout",
          "text": [
            " sample 0: predicted_skeleton: +sin++34)(exp\n"
          ]
        },
        {
          "output_type": "stream",
          "name": "stderr",
          "text": [
            "sampling loop:  54%|█████▍    | 538/1000 [00:01<00:01, 421.96it/s]"
          ]
        },
        {
          "output_type": "stream",
          "name": "stdout",
          "text": [
            " sample 0: predicted_skeleton: +8x1cosexp/)***2\n"
          ]
        },
        {
          "output_type": "stream",
          "name": "stderr",
          "text": [
            "sampling loop:  80%|███████▉  | 797/1000 [00:01<00:00, 424.93it/s]"
          ]
        },
        {
          "output_type": "stream",
          "name": "stdout",
          "text": [
            " sample 0: predicted_skeleton: *Cx1/+*2x1C/4sin*(3log\n"
          ]
        },
        {
          "output_type": "stream",
          "name": "stderr",
          "text": [
            "sampling loop: 100%|██████████| 1000/1000 [00:02<00:00, 422.54it/s]\n"
          ]
        },
        {
          "output_type": "stream",
          "name": "stdout",
          "text": [
            " sample 0: predicted_skeleton: C*exp(C*x1)+C\n",
            "Skipping sample 32: Invalid predicted equation or optimization failed\n",
            "\n"
          ]
        },
        {
          "output_type": "stream",
          "name": "stderr",
          "text": [
            "sampling loop:  29%|██▊       | 287/1000 [00:00<00:02, 308.37it/s]"
          ]
        },
        {
          "output_type": "stream",
          "name": "stdout",
          "text": [
            " sample 0: predicted_skeleton: 7x1C)73C*x14*\n"
          ]
        },
        {
          "output_type": "stream",
          "name": "stderr",
          "text": [
            "sampling loop:  53%|█████▎    | 533/1000 [00:01<00:01, 260.07it/s]"
          ]
        },
        {
          "output_type": "stream",
          "name": "stdout",
          "text": [
            " sample 0: predicted_skeleton: log*+log*sin(sin***/*C9x13x1\n"
          ]
        },
        {
          "output_type": "stream",
          "name": "stderr",
          "text": [
            "sampling loop:  78%|███████▊  | 779/1000 [00:02<00:00, 247.08it/s]"
          ]
        },
        {
          "output_type": "stream",
          "name": "stdout",
          "text": [
            " sample 0: predicted_skeleton: 628)(/5)x14cosC587)*C*)382C\n"
          ]
        },
        {
          "output_type": "stream",
          "name": "stderr",
          "text": [
            "sampling loop: 100%|██████████| 1000/1000 [00:03<00:00, 296.67it/s]\n"
          ]
        },
        {
          "output_type": "stream",
          "name": "stdout",
          "text": [
            " sample 0: predicted_skeleton: C*log(C*x1)+)\n",
            "Skipping sample 33: TA: Invalid target equation. Eq: -0.3563862615918285*(-4.58205054)*-0.5440676262656592*sin(-1.8314322583603382*(-4.58205054)/(-1.8674849055673357*(-4.58205054)+1.623532481888775))+2.0267528526904575*log(1.8257988998117956*(-4.58205054))+0.1685644433718947, Reason: math domain error\n",
            "\n"
          ]
        },
        {
          "output_type": "stream",
          "name": "stderr",
          "text": [
            "sampling loop:  30%|███       | 301/1000 [00:00<00:01, 420.08it/s]"
          ]
        },
        {
          "output_type": "stream",
          "name": "stdout",
          "text": [
            " sample 0: predicted_skeleton: 428T)+*952log2x1C+**Tx1exp+++)x1*C+8)/*9\n"
          ]
        },
        {
          "output_type": "stream",
          "name": "stderr",
          "text": [
            "sampling loop:  57%|█████▋    | 566/1000 [00:01<00:01, 424.87it/s]"
          ]
        },
        {
          "output_type": "stream",
          "name": "stdout",
          "text": [
            " sample 0: predicted_skeleton: 4C:6)*)(x1cos)2C\n"
          ]
        },
        {
          "output_type": "stream",
          "name": "stderr",
          "text": [
            "sampling loop:  83%|████████▎ | 827/1000 [00:01<00:00, 424.11it/s]"
          ]
        },
        {
          "output_type": "stream",
          "name": "stdout",
          "text": [
            " sample 0: predicted_skeleton: logC\n"
          ]
        },
        {
          "output_type": "stream",
          "name": "stderr",
          "text": [
            "sampling loop: 100%|██████████| 1000/1000 [00:02<00:00, 419.22it/s]\n"
          ]
        },
        {
          "output_type": "stream",
          "name": "stdout",
          "text": [
            " sample 0: predicted_skeleton: C*log(C\n",
            "Skipping sample 34: PR: Invalid predicted equation. Eq: 1.0*log(1.0, Reason: '(' was never closed (<string>, line 1)\n",
            "\n"
          ]
        },
        {
          "output_type": "stream",
          "name": "stderr",
          "text": [
            "sampling loop:  31%|███▏      | 313/1000 [00:00<00:01, 431.26it/s]"
          ]
        },
        {
          "output_type": "stream",
          "name": "stdout",
          "text": [
            " sample 0: predicted_skeleton: C6++1+x1/)Ccos5sinC2)33)(:**x1)*))x1480/\n"
          ]
        },
        {
          "output_type": "stream",
          "name": "stderr",
          "text": [
            "sampling loop:  58%|█████▊    | 581/1000 [00:01<00:00, 428.17it/s]"
          ]
        },
        {
          "output_type": "stream",
          "name": "stdout",
          "text": [
            " sample 0: predicted_skeleton: C*exp*(+(+94C7++Csinx1*sin)x1sin**T*logC\n"
          ]
        },
        {
          "output_type": "stream",
          "name": "stderr",
          "text": [
            "sampling loop:  80%|████████  | 800/1000 [00:01<00:00, 402.47it/s]"
          ]
        },
        {
          "output_type": "stream",
          "name": "stdout",
          "text": [
            " sample 0: predicted_skeleton: C/6\n"
          ]
        },
        {
          "output_type": "stream",
          "name": "stderr",
          "text": [
            "sampling loop: 100%|██████████| 1000/1000 [00:02<00:00, 421.52it/s]\n"
          ]
        },
        {
          "output_type": "stream",
          "name": "stdout",
          "text": [
            " sample 0: predicted_skeleton: C*log(C*x1)+C\n",
            "Skipping sample 35: PR: Invalid predicted equation. Eq: 1.0*log(1.0*(-4.76637511))+1.0, Reason: math domain error\n",
            "\n"
          ]
        },
        {
          "output_type": "stream",
          "name": "stderr",
          "text": [
            "sampling loop:  32%|███▏      | 318/1000 [00:00<00:01, 438.14it/s]"
          ]
        },
        {
          "output_type": "stream",
          "name": "stdout",
          "text": [
            " sample 0: predicted_skeleton: )TC\n"
          ]
        },
        {
          "output_type": "stream",
          "name": "stderr",
          "text": [
            "sampling loop:  54%|█████▍    | 544/1000 [00:01<00:01, 433.48it/s]"
          ]
        },
        {
          "output_type": "stream",
          "name": "stdout",
          "text": [
            " sample 0: predicted_skeleton: )expexpx1\n"
          ]
        },
        {
          "output_type": "stream",
          "name": "stderr",
          "text": [
            "sampling loop:  81%|████████  | 811/1000 [00:01<00:00, 432.99it/s]"
          ]
        },
        {
          "output_type": "stream",
          "name": "stdout",
          "text": [
            " sample 0: predicted_skeleton: expexp)263*\n"
          ]
        },
        {
          "output_type": "stream",
          "name": "stderr",
          "text": [
            "sampling loop: 100%|██████████| 1000/1000 [00:02<00:00, 435.35it/s]\n",
            "<string>:1: SyntaxWarning: 'float' object is not callable; perhaps you missed a comma?\n",
            "<string>:1: SyntaxWarning: 'float' object is not callable; perhaps you missed a comma?\n",
            "<string>:1: SyntaxWarning: 'float' object is not callable; perhaps you missed a comma?\n",
            "<string>:1: SyntaxWarning: 'float' object is not callable; perhaps you missed a comma?\n",
            "<string>:1: SyntaxWarning: 'float' object is not callable; perhaps you missed a comma?\n",
            "<string>:1: SyntaxWarning: 'float' object is not callable; perhaps you missed a comma?\n",
            "<string>:1: SyntaxWarning: 'float' object is not callable; perhaps you missed a comma?\n",
            "<string>:1: SyntaxWarning: 'float' object is not callable; perhaps you missed a comma?\n",
            "<string>:1: SyntaxWarning: 'float' object is not callable; perhaps you missed a comma?\n",
            "<string>:1: SyntaxWarning: 'float' object is not callable; perhaps you missed a comma?\n",
            "<string>:1: SyntaxWarning: 'float' object is not callable; perhaps you missed a comma?\n",
            "<string>:1: SyntaxWarning: 'float' object is not callable; perhaps you missed a comma?\n",
            "<string>:1: SyntaxWarning: 'float' object is not callable; perhaps you missed a comma?\n",
            "<string>:1: SyntaxWarning: 'float' object is not callable; perhaps you missed a comma?\n",
            "<string>:1: SyntaxWarning: 'float' object is not callable; perhaps you missed a comma?\n",
            "<string>:1: SyntaxWarning: 'float' object is not callable; perhaps you missed a comma?\n",
            "<string>:1: SyntaxWarning: 'float' object is not callable; perhaps you missed a comma?\n",
            "<string>:1: SyntaxWarning: 'float' object is not callable; perhaps you missed a comma?\n",
            "<string>:1: SyntaxWarning: 'float' object is not callable; perhaps you missed a comma?\n",
            "<string>:1: SyntaxWarning: 'float' object is not callable; perhaps you missed a comma?\n",
            "<string>:1: SyntaxWarning: 'float' object is not callable; perhaps you missed a comma?\n",
            "<string>:1: SyntaxWarning: 'float' object is not callable; perhaps you missed a comma?\n",
            "<string>:1: SyntaxWarning: 'float' object is not callable; perhaps you missed a comma?\n",
            "<string>:1: SyntaxWarning: 'float' object is not callable; perhaps you missed a comma?\n",
            "<string>:1: SyntaxWarning: 'float' object is not callable; perhaps you missed a comma?\n",
            "<string>:1: SyntaxWarning: 'float' object is not callable; perhaps you missed a comma?\n",
            "<string>:1: SyntaxWarning: 'float' object is not callable; perhaps you missed a comma?\n",
            "<string>:1: SyntaxWarning: 'float' object is not callable; perhaps you missed a comma?\n",
            "<string>:1: SyntaxWarning: 'float' object is not callable; perhaps you missed a comma?\n",
            "<string>:1: SyntaxWarning: 'float' object is not callable; perhaps you missed a comma?\n",
            "<string>:1: SyntaxWarning: 'float' object is not callable; perhaps you missed a comma?\n",
            "<string>:1: SyntaxWarning: 'float' object is not callable; perhaps you missed a comma?\n",
            "<string>:1: SyntaxWarning: 'float' object is not callable; perhaps you missed a comma?\n",
            "<string>:1: SyntaxWarning: 'float' object is not callable; perhaps you missed a comma?\n",
            "<string>:1: SyntaxWarning: 'float' object is not callable; perhaps you missed a comma?\n",
            "<string>:1: SyntaxWarning: 'float' object is not callable; perhaps you missed a comma?\n",
            "<string>:1: SyntaxWarning: 'float' object is not callable; perhaps you missed a comma?\n",
            "<string>:1: SyntaxWarning: 'float' object is not callable; perhaps you missed a comma?\n",
            "<string>:1: SyntaxWarning: 'float' object is not callable; perhaps you missed a comma?\n",
            "<string>:1: SyntaxWarning: 'float' object is not callable; perhaps you missed a comma?\n",
            "<string>:1: SyntaxWarning: 'float' object is not callable; perhaps you missed a comma?\n",
            "<string>:1: SyntaxWarning: 'float' object is not callable; perhaps you missed a comma?\n",
            "<string>:1: SyntaxWarning: 'float' object is not callable; perhaps you missed a comma?\n",
            "<string>:1: SyntaxWarning: 'float' object is not callable; perhaps you missed a comma?\n",
            "<string>:1: SyntaxWarning: 'float' object is not callable; perhaps you missed a comma?\n",
            "<string>:1: SyntaxWarning: 'float' object is not callable; perhaps you missed a comma?\n",
            "<string>:1: SyntaxWarning: 'float' object is not callable; perhaps you missed a comma?\n",
            "<string>:1: SyntaxWarning: 'float' object is not callable; perhaps you missed a comma?\n",
            "<string>:1: SyntaxWarning: 'float' object is not callable; perhaps you missed a comma?\n",
            "<string>:1: SyntaxWarning: 'float' object is not callable; perhaps you missed a comma?\n",
            "<string>:1: SyntaxWarning: 'float' object is not callable; perhaps you missed a comma?\n",
            "<string>:1: SyntaxWarning: 'float' object is not callable; perhaps you missed a comma?\n",
            "<string>:1: SyntaxWarning: 'float' object is not callable; perhaps you missed a comma?\n",
            "<string>:1: SyntaxWarning: 'float' object is not callable; perhaps you missed a comma?\n",
            "<string>:1: SyntaxWarning: 'float' object is not callable; perhaps you missed a comma?\n",
            "<string>:1: SyntaxWarning: 'float' object is not callable; perhaps you missed a comma?\n",
            "<string>:1: SyntaxWarning: 'float' object is not callable; perhaps you missed a comma?\n",
            "<string>:1: SyntaxWarning: 'float' object is not callable; perhaps you missed a comma?\n",
            "<string>:1: SyntaxWarning: 'float' object is not callable; perhaps you missed a comma?\n",
            "<string>:1: SyntaxWarning: 'float' object is not callable; perhaps you missed a comma?\n",
            "<string>:1: SyntaxWarning: 'float' object is not callable; perhaps you missed a comma?\n",
            "<string>:1: SyntaxWarning: 'float' object is not callable; perhaps you missed a comma?\n",
            "<string>:1: SyntaxWarning: 'float' object is not callable; perhaps you missed a comma?\n",
            "<string>:1: SyntaxWarning: 'float' object is not callable; perhaps you missed a comma?\n",
            "<string>:1: SyntaxWarning: 'float' object is not callable; perhaps you missed a comma?\n",
            "<string>:1: SyntaxWarning: 'float' object is not callable; perhaps you missed a comma?\n",
            "<string>:1: SyntaxWarning: 'float' object is not callable; perhaps you missed a comma?\n",
            "<string>:1: SyntaxWarning: 'float' object is not callable; perhaps you missed a comma?\n",
            "<string>:1: SyntaxWarning: 'float' object is not callable; perhaps you missed a comma?\n",
            "<string>:1: SyntaxWarning: 'float' object is not callable; perhaps you missed a comma?\n",
            "<string>:1: SyntaxWarning: 'float' object is not callable; perhaps you missed a comma?\n",
            "<string>:1: SyntaxWarning: 'float' object is not callable; perhaps you missed a comma?\n",
            "<string>:1: SyntaxWarning: 'float' object is not callable; perhaps you missed a comma?\n",
            "<string>:1: SyntaxWarning: 'float' object is not callable; perhaps you missed a comma?\n",
            "<string>:1: SyntaxWarning: 'float' object is not callable; perhaps you missed a comma?\n",
            "<string>:1: SyntaxWarning: 'float' object is not callable; perhaps you missed a comma?\n",
            "<string>:1: SyntaxWarning: 'float' object is not callable; perhaps you missed a comma?\n",
            "<string>:1: SyntaxWarning: 'float' object is not callable; perhaps you missed a comma?\n",
            "<string>:1: SyntaxWarning: 'float' object is not callable; perhaps you missed a comma?\n",
            "<string>:1: SyntaxWarning: 'float' object is not callable; perhaps you missed a comma?\n",
            "<string>:1: SyntaxWarning: 'float' object is not callable; perhaps you missed a comma?\n",
            "<string>:1: SyntaxWarning: 'float' object is not callable; perhaps you missed a comma?\n",
            "<string>:1: SyntaxWarning: 'float' object is not callable; perhaps you missed a comma?\n",
            "<string>:1: SyntaxWarning: 'float' object is not callable; perhaps you missed a comma?\n",
            "<string>:1: SyntaxWarning: 'float' object is not callable; perhaps you missed a comma?\n",
            "<string>:1: SyntaxWarning: 'float' object is not callable; perhaps you missed a comma?\n",
            "<string>:1: SyntaxWarning: 'float' object is not callable; perhaps you missed a comma?\n",
            "<string>:1: SyntaxWarning: 'float' object is not callable; perhaps you missed a comma?\n",
            "<string>:1: SyntaxWarning: 'float' object is not callable; perhaps you missed a comma?\n",
            "<string>:1: SyntaxWarning: 'float' object is not callable; perhaps you missed a comma?\n",
            "<string>:1: SyntaxWarning: 'float' object is not callable; perhaps you missed a comma?\n",
            "<string>:1: SyntaxWarning: 'float' object is not callable; perhaps you missed a comma?\n",
            "<string>:1: SyntaxWarning: 'float' object is not callable; perhaps you missed a comma?\n",
            "<string>:1: SyntaxWarning: 'float' object is not callable; perhaps you missed a comma?\n",
            "<string>:1: SyntaxWarning: 'float' object is not callable; perhaps you missed a comma?\n",
            "<string>:1: SyntaxWarning: 'float' object is not callable; perhaps you missed a comma?\n",
            "<string>:1: SyntaxWarning: 'float' object is not callable; perhaps you missed a comma?\n",
            "<string>:1: SyntaxWarning: 'float' object is not callable; perhaps you missed a comma?\n",
            "<string>:1: SyntaxWarning: 'float' object is not callable; perhaps you missed a comma?\n",
            "<string>:1: SyntaxWarning: 'float' object is not callable; perhaps you missed a comma?\n",
            "<string>:1: SyntaxWarning: 'float' object is not callable; perhaps you missed a comma?\n",
            "<string>:1: SyntaxWarning: 'float' object is not callable; perhaps you missed a comma?\n",
            "<string>:1: SyntaxWarning: 'float' object is not callable; perhaps you missed a comma?\n",
            "<string>:1: SyntaxWarning: 'float' object is not callable; perhaps you missed a comma?\n",
            "<string>:1: SyntaxWarning: 'float' object is not callable; perhaps you missed a comma?\n",
            "<string>:1: SyntaxWarning: 'float' object is not callable; perhaps you missed a comma?\n",
            "<string>:1: SyntaxWarning: 'float' object is not callable; perhaps you missed a comma?\n",
            "<string>:1: SyntaxWarning: 'float' object is not callable; perhaps you missed a comma?\n",
            "<string>:1: SyntaxWarning: 'float' object is not callable; perhaps you missed a comma?\n",
            "<string>:1: SyntaxWarning: 'float' object is not callable; perhaps you missed a comma?\n",
            "<string>:1: SyntaxWarning: 'float' object is not callable; perhaps you missed a comma?\n",
            "<string>:1: SyntaxWarning: 'float' object is not callable; perhaps you missed a comma?\n",
            "<string>:1: SyntaxWarning: 'float' object is not callable; perhaps you missed a comma?\n",
            "<string>:1: SyntaxWarning: 'float' object is not callable; perhaps you missed a comma?\n",
            "<string>:1: SyntaxWarning: 'float' object is not callable; perhaps you missed a comma?\n",
            "<string>:1: SyntaxWarning: 'float' object is not callable; perhaps you missed a comma?\n",
            "<string>:1: SyntaxWarning: 'float' object is not callable; perhaps you missed a comma?\n",
            "<string>:1: SyntaxWarning: 'float' object is not callable; perhaps you missed a comma?\n",
            "<string>:1: SyntaxWarning: 'float' object is not callable; perhaps you missed a comma?\n",
            "<string>:1: SyntaxWarning: 'float' object is not callable; perhaps you missed a comma?\n",
            "<string>:1: SyntaxWarning: 'float' object is not callable; perhaps you missed a comma?\n",
            "<string>:1: SyntaxWarning: 'float' object is not callable; perhaps you missed a comma?\n",
            "<string>:1: SyntaxWarning: 'float' object is not callable; perhaps you missed a comma?\n",
            "<string>:1: SyntaxWarning: 'float' object is not callable; perhaps you missed a comma?\n",
            "<string>:1: SyntaxWarning: 'float' object is not callable; perhaps you missed a comma?\n",
            "<string>:1: SyntaxWarning: 'float' object is not callable; perhaps you missed a comma?\n",
            "<string>:1: SyntaxWarning: 'float' object is not callable; perhaps you missed a comma?\n",
            "<string>:1: SyntaxWarning: 'float' object is not callable; perhaps you missed a comma?\n",
            "<string>:1: SyntaxWarning: 'float' object is not callable; perhaps you missed a comma?\n",
            "<string>:1: SyntaxWarning: 'float' object is not callable; perhaps you missed a comma?\n",
            "<string>:1: SyntaxWarning: 'float' object is not callable; perhaps you missed a comma?\n",
            "<string>:1: SyntaxWarning: 'float' object is not callable; perhaps you missed a comma?\n",
            "<string>:1: SyntaxWarning: 'float' object is not callable; perhaps you missed a comma?\n",
            "<string>:1: SyntaxWarning: 'float' object is not callable; perhaps you missed a comma?\n",
            "<string>:1: SyntaxWarning: 'float' object is not callable; perhaps you missed a comma?\n",
            "<string>:1: SyntaxWarning: 'float' object is not callable; perhaps you missed a comma?\n",
            "<string>:1: SyntaxWarning: 'float' object is not callable; perhaps you missed a comma?\n",
            "<string>:1: SyntaxWarning: 'float' object is not callable; perhaps you missed a comma?\n",
            "<string>:1: SyntaxWarning: 'float' object is not callable; perhaps you missed a comma?\n",
            "<string>:1: SyntaxWarning: 'float' object is not callable; perhaps you missed a comma?\n",
            "<string>:1: SyntaxWarning: 'float' object is not callable; perhaps you missed a comma?\n",
            "<string>:1: SyntaxWarning: 'float' object is not callable; perhaps you missed a comma?\n",
            "<string>:1: SyntaxWarning: 'float' object is not callable; perhaps you missed a comma?\n",
            "<string>:1: SyntaxWarning: 'float' object is not callable; perhaps you missed a comma?\n",
            "<string>:1: SyntaxWarning: 'float' object is not callable; perhaps you missed a comma?\n",
            "<string>:1: SyntaxWarning: 'float' object is not callable; perhaps you missed a comma?\n",
            "<string>:1: SyntaxWarning: 'float' object is not callable; perhaps you missed a comma?\n",
            "<string>:1: SyntaxWarning: 'float' object is not callable; perhaps you missed a comma?\n",
            "<string>:1: SyntaxWarning: 'float' object is not callable; perhaps you missed a comma?\n",
            "<string>:1: SyntaxWarning: 'float' object is not callable; perhaps you missed a comma?\n",
            "<string>:1: SyntaxWarning: 'float' object is not callable; perhaps you missed a comma?\n"
          ]
        },
        {
          "output_type": "stream",
          "name": "stdout",
          "text": [
            " sample 0: predicted_skeleton: C*x1**4+C*x1(C*x1)+C\n",
            "Skipping sample 36: PR: Invalid predicted equation. Eq: 1.0*(3.39776699)**4+1.0*(3.39776699)(1.0*(3.39776699))+1.0, Reason: 'float' object is not callable\n",
            "\n"
          ]
        },
        {
          "output_type": "stream",
          "name": "stderr",
          "text": [
            "sampling loop:  31%|███       | 312/1000 [00:00<00:01, 419.26it/s]"
          ]
        },
        {
          "output_type": "stream",
          "name": "stdout",
          "text": [
            " sample 0: predicted_skeleton: C(8x1**\n"
          ]
        },
        {
          "output_type": "stream",
          "name": "stderr",
          "text": [
            "sampling loop:  58%|█████▊    | 576/1000 [00:01<00:01, 413.35it/s]"
          ]
        },
        {
          "output_type": "stream",
          "name": "stdout",
          "text": [
            " sample 0: predicted_skeleton: 1(:+exp+cos28:5logCx1*\n"
          ]
        },
        {
          "output_type": "stream",
          "name": "stderr",
          "text": [
            "sampling loop:  79%|███████▉  | 792/1000 [00:01<00:00, 390.76it/s]"
          ]
        },
        {
          "output_type": "stream",
          "name": "stdout",
          "text": [
            " sample 0: predicted_skeleton: C*\n"
          ]
        },
        {
          "output_type": "stream",
          "name": "stderr",
          "text": [
            "sampling loop: 100%|██████████| 1000/1000 [00:02<00:00, 410.15it/s]\n"
          ]
        },
        {
          "output_type": "stream",
          "name": "stdout",
          "text": [
            " sample 0: predicted_skeleton: C*log(C*x1++)+C\n",
            "Skipping sample 37: TA: Invalid target equation. Eq: 2.043833069765505*log(-1.4731400909661088*(3.43220735)*-0.22421706894888582*log(-0.3001057151180613*(3.43220735)+-0.04686366446483348)/(-1.6245996718767952*(3.43220735)+-0.5341854596377227)+-2.060380607262661/(-1.0499475647685323*(3.43220735)+0.7823008754772918))+1.4788130721363228, Reason: math domain error\n",
            "\n"
          ]
        },
        {
          "output_type": "stream",
          "name": "stderr",
          "text": [
            "sampling loop:  30%|███       | 302/1000 [00:01<00:02, 285.91it/s]"
          ]
        },
        {
          "output_type": "stream",
          "name": "stdout",
          "text": [
            " sample 0: predicted_skeleton: ++**+0***expcoslog:+\n"
          ]
        },
        {
          "output_type": "stream",
          "name": "stderr",
          "text": [
            "sampling loop:  56%|█████▌    | 555/1000 [00:01<00:01, 302.45it/s]"
          ]
        },
        {
          "output_type": "stream",
          "name": "stdout",
          "text": [
            " sample 0: predicted_skeleton: 1)sin20*<+x1**sin4**0+sin*:C\n"
          ]
        },
        {
          "output_type": "stream",
          "name": "stderr",
          "text": [
            "sampling loop:  78%|███████▊  | 779/1000 [00:02<00:00, 285.95it/s]"
          ]
        },
        {
          "output_type": "stream",
          "name": "stdout",
          "text": [
            " sample 0: predicted_skeleton: x1*C**C+sin)**coscos\n"
          ]
        },
        {
          "output_type": "stream",
          "name": "stderr",
          "text": [
            "sampling loop: 100%|██████████| 1000/1000 [00:03<00:00, 288.55it/s]\n"
          ]
        },
        {
          "output_type": "stream",
          "name": "stdout",
          "text": [
            " sample 0: predicted_skeleton: C*x1**2+C\n",
            "yPR,yTrue:-15.53949689654801,-35.98041085611056, Err:3.2469392574823392\n",
            "yPR,yTrue:-14.657668173490327,30.7609141621331, Err:16.03026465035965\n",
            "yPR,yTrue:-9.580304474233419,14.53843699722356, Err:4.520462058116379\n",
            "yPR,yTrue:-7.674267379202648,-11.545711672692855, Err:0.11647147429611138\n",
            "yPR,yTrue:-8.73491834552732,-14.261546714296113, Err:0.23735264057495697\n",
            "\n",
            "Sample 38:\n",
            "Target: -0.3157163040382267*x1**3+-1.0158706014663592\n",
            "Target Skeleton: C*x1**3+C\n",
            "Predicted Skeleton: C*x1**2+C\n",
            "Predicted: -0.6193032115780801*x1**2+-1.2574471906687592\n",
            "Relative Error: 5.716238\n",
            "--------------------------------------------------\n"
          ]
        },
        {
          "output_type": "stream",
          "name": "stderr",
          "text": [
            "sampling loop:  32%|███▏      | 322/1000 [00:00<00:01, 401.55it/s]"
          ]
        },
        {
          "output_type": "stream",
          "name": "stdout",
          "text": [
            " sample 0: predicted_skeleton: CT*8\n"
          ]
        },
        {
          "output_type": "stream",
          "name": "stderr",
          "text": [
            "sampling loop:  54%|█████▍    | 543/1000 [00:01<00:01, 424.19it/s]"
          ]
        },
        {
          "output_type": "stream",
          "name": "stdout",
          "text": [
            " sample 0: predicted_skeleton: x1*+5(6(cosC(Ccos6C2)log)**4+)*437**explogC22\n"
          ]
        },
        {
          "output_type": "stream",
          "name": "stderr",
          "text": [
            "sampling loop:  80%|████████  | 805/1000 [00:01<00:00, 415.37it/s]"
          ]
        },
        {
          "output_type": "stream",
          "name": "stdout",
          "text": [
            " sample 0: predicted_skeleton: x1x1exp(3)x14CC2C4*4x14)**+C)+)**cossinsinlogC6)\n"
          ]
        },
        {
          "output_type": "stream",
          "name": "stderr",
          "text": [
            "sampling loop: 100%|██████████| 1000/1000 [00:02<00:00, 414.55it/s]\n"
          ]
        },
        {
          "output_type": "stream",
          "name": "stdout",
          "text": [
            " sample 0: predicted_skeleton: C*log(C*x1++)\n",
            "Skipping sample 39: PR: Invalid predicted equation. Eq: 1.0*log(1.0*(-3.1099432)++), Reason: invalid syntax (<string>, line 1)\n",
            "\n"
          ]
        },
        {
          "output_type": "stream",
          "name": "stderr",
          "text": [
            "sampling loop:  32%|███▏      | 315/1000 [00:00<00:01, 437.74it/s]"
          ]
        },
        {
          "output_type": "stream",
          "name": "stdout",
          "text": [
            " sample 0: predicted_skeleton: cos8(expexp:2sinTx1sin((\n"
          ]
        },
        {
          "output_type": "stream",
          "name": "stderr",
          "text": [
            "sampling loop:  58%|█████▊    | 580/1000 [00:01<00:00, 422.35it/s]"
          ]
        },
        {
          "output_type": "stream",
          "name": "stdout",
          "text": [
            " sample 0: predicted_skeleton: +8sin30(:sin*5exp+x1exp(9+C8+9C)cosC1**(exp\n"
          ]
        },
        {
          "output_type": "stream",
          "name": "stderr",
          "text": [
            "sampling loop:  81%|████████  | 807/1000 [00:01<00:00, 433.40it/s]"
          ]
        },
        {
          "output_type": "stream",
          "name": "stdout",
          "text": [
            " sample 0: predicted_skeleton: +*)x1Cx1/)8**\n"
          ]
        },
        {
          "output_type": "stream",
          "name": "stderr",
          "text": [
            "sampling loop: 100%|██████████| 1000/1000 [00:02<00:00, 429.06it/s]\n"
          ]
        },
        {
          "output_type": "stream",
          "name": "stdout",
          "text": [
            " sample 0: predicted_skeleton: C*exp(C*x1)+C\n",
            "yPR,yTrue:1.584167474600904,1.9580295909773948, Err:8.219014383304672e-05\n",
            "yPR,yTrue:-135.5820340714082,-139.63193751649757, Err:0.009644643042506819\n",
            "yPR,yTrue:-86.19621447801507,-87.86969571258274, Err:0.0016467911099079006\n",
            "yPR,yTrue:-64.07400960267532,-64.37703489054603, Err:5.399512677378005e-05\n",
            "yPR,yTrue:-86.19621447801507,-87.86969571258274, Err:0.0016467911099079006\n",
            "\n",
            "Sample 40:\n",
            "Target: -1.1198203339256023*exp(1.3434882189386208*x1)+1.3025416565257997*cos(2.0390483320621438*x1+0.6349702479185559)**5+1.4825974251024299\n",
            "Target Skeleton: C*exp(C*x1)+C*cos(C*x1+C)**5+C\n",
            "Predicted Skeleton: C*exp(C*x1)+C\n",
            "Predicted: -1.210211074689879*exp(1.3140606655265386*x1)+1.5936323557981338\n",
            "Relative Error: 0.203615\n",
            "--------------------------------------------------\n"
          ]
        },
        {
          "output_type": "stream",
          "name": "stderr",
          "text": [
            "sampling loop:  32%|███▏      | 321/1000 [00:00<00:01, 425.65it/s]"
          ]
        },
        {
          "output_type": "stream",
          "name": "stdout",
          "text": [
            " sample 0: predicted_skeleton: +++C+3(x118C+52x1x1/98:C)C)cos3428(+x1\n"
          ]
        },
        {
          "output_type": "stream",
          "name": "stderr",
          "text": [
            "sampling loop:  58%|█████▊    | 583/1000 [00:01<00:01, 415.75it/s]"
          ]
        },
        {
          "output_type": "stream",
          "name": "stdout",
          "text": [
            " sample 0: predicted_skeleton: ((6**(Cx1*1exp48Csin8cossin(TC(x1x1x10sinC+((6log\n"
          ]
        },
        {
          "output_type": "stream",
          "name": "stderr",
          "text": [
            "sampling loop:  80%|███████▉  | 795/1000 [00:01<00:00, 406.01it/s]"
          ]
        },
        {
          "output_type": "stream",
          "name": "stdout",
          "text": [
            " sample 0: predicted_skeleton: C\n"
          ]
        },
        {
          "output_type": "stream",
          "name": "stderr",
          "text": [
            "sampling loop: 100%|██████████| 1000/1000 [00:02<00:00, 419.73it/s]\n"
          ]
        },
        {
          "output_type": "stream",
          "name": "stdout",
          "text": [
            " sample 0: predicted_skeleton: C*x1**2+C\n",
            "yPR,yTrue:-20.21614969449605,-34.29970966259531, Err:1.5702245490256685\n",
            "yPR,yTrue:-9.195644330403931,-18.065148360977854, Err:0.6227812645505647\n",
            "yPR,yTrue:-9.181320205735261,-18.043345693039235, Err:0.6217314802387357\n",
            "yPR,yTrue:-9.195644330403931,-18.065148360977854, Err:0.6227812645505647\n",
            "yPR,yTrue:-20.405755157781694,-34.573485835054115, Err:1.5890495994251361\n",
            "\n",
            "Sample 41:\n",
            "Target: -1.519547169067665*x1**2+2.0224567562046096*x1/1.2653241956731307*cos(-0.2530618286654258*x1+0.5579102892619199)+0.34699789932412184\n",
            "Target Skeleton: C*x1**2+C*x1/C*cos(C*x1+C)+C\n",
            "Predicted Skeleton: C*x1**2+C\n",
            "Predicted: -0.8903977491509378*x1**2+1.1109956627199005\n",
            "Relative Error: 0.653207\n",
            "--------------------------------------------------\n"
          ]
        },
        {
          "output_type": "stream",
          "name": "stderr",
          "text": [
            "sampling loop:  31%|███       | 308/1000 [00:00<00:01, 422.55it/s]"
          ]
        },
        {
          "output_type": "stream",
          "name": "stdout",
          "text": [
            " sample 0: predicted_skeleton: x1sin/x1)C**2*)\n"
          ]
        },
        {
          "output_type": "stream",
          "name": "stderr",
          "text": [
            "sampling loop:  58%|█████▊    | 577/1000 [00:01<00:00, 428.80it/s]"
          ]
        },
        {
          "output_type": "stream",
          "name": "stdout",
          "text": [
            " sample 0: predicted_skeleton: )1**\n"
          ]
        },
        {
          "output_type": "stream",
          "name": "stderr",
          "text": [
            "sampling loop:  79%|███████▉  | 794/1000 [00:01<00:00, 423.03it/s]"
          ]
        },
        {
          "output_type": "stream",
          "name": "stdout",
          "text": [
            " sample 0: predicted_skeleton: Csinsin82(x141)\n"
          ]
        },
        {
          "output_type": "stream",
          "name": "stderr",
          "text": [
            "sampling loop: 100%|██████████| 1000/1000 [00:02<00:00, 426.75it/s]\n"
          ]
        },
        {
          "output_type": "stream",
          "name": "stdout",
          "text": [
            " sample 0: predicted_skeleton: C*log(C*x1)C)+C\n",
            "Skipping sample 42: PR: Invalid predicted equation. Eq: 1.0*log(1.0*(4.45027476))1.0)+1.0, Reason: unmatched ')' (<string>, line 1)\n",
            "\n"
          ]
        },
        {
          "output_type": "stream",
          "name": "stderr",
          "text": [
            "sampling loop:  29%|██▊       | 287/1000 [00:00<00:02, 315.66it/s]"
          ]
        },
        {
          "output_type": "stream",
          "name": "stdout",
          "text": [
            " sample 0: predicted_skeleton: 0)8/exp2sin(8+6(1log9sincos4(x1x14629C3sin*Clog0\n"
          ]
        },
        {
          "output_type": "stream",
          "name": "stderr",
          "text": [
            "sampling loop:  55%|█████▍    | 545/1000 [00:01<00:01, 315.24it/s]"
          ]
        },
        {
          "output_type": "stream",
          "name": "stdout",
          "text": [
            " sample 0: predicted_skeleton: *1844C4(6)7x1\n"
          ]
        },
        {
          "output_type": "stream",
          "name": "stderr",
          "text": [
            "sampling loop:  80%|████████  | 804/1000 [00:02<00:00, 306.76it/s]"
          ]
        },
        {
          "output_type": "stream",
          "name": "stdout",
          "text": [
            " sample 0: predicted_skeleton: +**\n"
          ]
        },
        {
          "output_type": "stream",
          "name": "stderr",
          "text": [
            "sampling loop: 100%|██████████| 1000/1000 [00:03<00:00, 319.88it/s]\n"
          ]
        },
        {
          "output_type": "stream",
          "name": "stdout",
          "text": [
            " sample 0: predicted_skeleton: C*log(C*x1+C)+C\n",
            "Skipping sample 43: PR: Invalid predicted equation. Eq: 1.0*log(1.0*(-4.50647026)+1.0)+1.0, Reason: math domain error\n",
            "\n"
          ]
        },
        {
          "output_type": "stream",
          "name": "stderr",
          "text": [
            "sampling loop:  28%|██▊       | 277/1000 [00:01<00:02, 255.24it/s]"
          ]
        },
        {
          "output_type": "stream",
          "name": "stdout",
          "text": [
            " sample 0: predicted_skeleton: :)\n"
          ]
        },
        {
          "output_type": "stream",
          "name": "stderr",
          "text": [
            "sampling loop:  56%|█████▌    | 560/1000 [00:01<00:01, 398.77it/s]"
          ]
        },
        {
          "output_type": "stream",
          "name": "stdout",
          "text": [
            " sample 0: predicted_skeleton: cosexp2C)0C(T\n"
          ]
        },
        {
          "output_type": "stream",
          "name": "stderr",
          "text": [
            "sampling loop:  83%|████████▎ | 827/1000 [00:02<00:00, 424.11it/s]"
          ]
        },
        {
          "output_type": "stream",
          "name": "stdout",
          "text": [
            " sample 0: predicted_skeleton: **x1logx1sin/sin**5+94+C\n"
          ]
        },
        {
          "output_type": "stream",
          "name": "stderr",
          "text": [
            "sampling loop: 100%|██████████| 1000/1000 [00:02<00:00, 359.62it/s]\n"
          ]
        },
        {
          "output_type": "stream",
          "name": "stdout",
          "text": [
            " sample 0: predicted_skeleton: C*x1+C\n",
            "yPR,yTrue:-3.513592529305913,-3.513592426329906, Err:5.432198813981464e-16\n",
            "yPR,yTrue:2.6810244781195935,2.681024405584425, Err:2.695260903061901e-16\n",
            "yPR,yTrue:-4.527718583922936,-4.527718452213843, Err:8.88658864734798e-16\n",
            "yPR,yTrue:-3.513592529305913,-3.513592426329906, Err:5.432198813981464e-16\n",
            "yPR,yTrue:-4.584522254727914,-4.584522121409412, Err:9.1050935654338e-16\n",
            "\n",
            "Sample 44:\n",
            "Target: -0.8439111685701441*x1+-0.5999543139448917\n",
            "Target Skeleton: C*x1+C\n",
            "Predicted Skeleton: C*x1+C\n",
            "Predicted: -0.8439111924805562*x1+-0.599954334369215\n",
            "Relative Error: 0.000000\n",
            "--------------------------------------------------\n"
          ]
        },
        {
          "output_type": "stream",
          "name": "stderr",
          "text": [
            "sampling loop:  31%|███       | 310/1000 [00:00<00:01, 425.86it/s]"
          ]
        },
        {
          "output_type": "stream",
          "name": "stdout",
          "text": [
            " sample 0: predicted_skeleton: x1exp/sin12log32log+x12sin3x1(coscos73**+4(log9319Tsin\n"
          ]
        },
        {
          "output_type": "stream",
          "name": "stderr",
          "text": [
            "sampling loop:  58%|█████▊    | 577/1000 [00:01<00:00, 434.01it/s]"
          ]
        },
        {
          "output_type": "stream",
          "name": "stdout",
          "text": [
            " sample 0: predicted_skeleton: 9cos(3*C*+0***CC)(5+C(CC)**(loglog)\n"
          ]
        },
        {
          "output_type": "stream",
          "name": "stderr",
          "text": [
            "sampling loop:  80%|████████  | 801/1000 [00:01<00:00, 426.37it/s]"
          ]
        },
        {
          "output_type": "stream",
          "name": "stdout",
          "text": [
            " sample 0: predicted_skeleton: 057(4C(3)x1\n"
          ]
        },
        {
          "output_type": "stream",
          "name": "stderr",
          "text": [
            "sampling loop: 100%|██████████| 1000/1000 [00:02<00:00, 425.34it/s]\n"
          ]
        },
        {
          "output_type": "stream",
          "name": "stdout",
          "text": [
            " sample 0: predicted_skeleton: C*log(C*x1)C)+C\n",
            "Skipping sample 45: PR: Invalid predicted equation. Eq: 1.0*log(1.0*(4.84189823))1.0)+1.0, Reason: unmatched ')' (<string>, line 1)\n",
            "\n"
          ]
        },
        {
          "output_type": "stream",
          "name": "stderr",
          "text": [
            "sampling loop:  31%|███       | 307/1000 [00:00<00:01, 424.82it/s]"
          ]
        },
        {
          "output_type": "stream",
          "name": "stdout",
          "text": [
            " sample 0: predicted_skeleton: exp)sinexpexp+C**+C2\n"
          ]
        },
        {
          "output_type": "stream",
          "name": "stderr",
          "text": [
            "sampling loop:  56%|█████▌    | 561/1000 [00:01<00:01, 385.30it/s]"
          ]
        },
        {
          "output_type": "stream",
          "name": "stdout",
          "text": [
            " sample 0: predicted_skeleton: )C*)**C*/sin7)(+T***exp)*9**6/+log(+(cosClog/\n"
          ]
        },
        {
          "output_type": "stream",
          "name": "stderr",
          "text": [
            "sampling loop:  82%|████████▏ | 816/1000 [00:01<00:00, 413.65it/s]"
          ]
        },
        {
          "output_type": "stream",
          "name": "stdout",
          "text": [
            " sample 0: predicted_skeleton: 3+**)\n"
          ]
        },
        {
          "output_type": "stream",
          "name": "stderr",
          "text": [
            "sampling loop: 100%|██████████| 1000/1000 [00:02<00:00, 411.06it/s]\n"
          ]
        },
        {
          "output_type": "stream",
          "name": "stdout",
          "text": [
            " sample 0: predicted_skeleton: C*cos(C*x1+C)+C\n",
            "yPR,yTrue:-2.7286568901381827,-1.3361704960045246, Err:0.23871458289427386\n",
            "yPR,yTrue:-2.774806878964199,-1.2339197581102634, Err:0.29230663954845176\n",
            "yPR,yTrue:-2.7286568901381827,-1.3361704960045246, Err:0.23871458289427386\n",
            "yPR,yTrue:-3.919343618653045,-0.687641162683499, Err:1.2857595723931337\n",
            "yPR,yTrue:-2.7286568901381827,-1.3361704960045246, Err:0.23871458289427386\n",
            "\n",
            "Sample 46:\n",
            "Target: -1.5644988573485124*sin(-0.7253381276452988*sin(2.025174363816436*x1+-0.72439321336993))+-1.4995616642261744\n",
            "Target Skeleton: C*sin(C*sin(C*x1+C))+C\n",
            "Predicted Skeleton: C*cos(C*x1+C)+C\n",
            "Predicted: 247.9038592093396*cos(0.03051756611361504*x1+0.02518336116030759)+-248.44439063543166\n",
            "Relative Error: 0.544273\n",
            "--------------------------------------------------\n"
          ]
        },
        {
          "output_type": "stream",
          "name": "stderr",
          "text": [
            "sampling loop:  31%|███▏      | 313/1000 [00:00<00:01, 422.47it/s]"
          ]
        },
        {
          "output_type": "stream",
          "name": "stdout",
          "text": [
            " sample 0: predicted_skeleton: 63Ccos+2C\n"
          ]
        },
        {
          "output_type": "stream",
          "name": "stderr",
          "text": [
            "sampling loop:  57%|█████▋    | 573/1000 [00:01<00:01, 404.32it/s]"
          ]
        },
        {
          "output_type": "stream",
          "name": "stdout",
          "text": [
            " sample 0: predicted_skeleton: exp7(++***\n"
          ]
        },
        {
          "output_type": "stream",
          "name": "stderr",
          "text": [
            "sampling loop:  78%|███████▊  | 784/1000 [00:02<00:00, 307.16it/s]"
          ]
        },
        {
          "output_type": "stream",
          "name": "stdout",
          "text": [
            " sample 0: predicted_skeleton: 4*58x1***7<84+x1exp\n"
          ]
        },
        {
          "output_type": "stream",
          "name": "stderr",
          "text": [
            "sampling loop: 100%|██████████| 1000/1000 [00:02<00:00, 357.56it/s]\n"
          ]
        },
        {
          "output_type": "stream",
          "name": "stdout",
          "text": [
            " sample 0: predicted_skeleton: C*log(C*x1)C)+C\n",
            "Skipping sample 47: PR: Invalid predicted equation. Eq: 1.0*log(1.0*(-3.4374855))1.0)+1.0, Reason: unmatched ')' (<string>, line 1)\n",
            "\n"
          ]
        },
        {
          "output_type": "stream",
          "name": "stderr",
          "text": [
            "sampling loop:  29%|██▉       | 288/1000 [00:00<00:02, 290.23it/s]"
          ]
        },
        {
          "output_type": "stream",
          "name": "stdout",
          "text": [
            " sample 0: predicted_skeleton: x1exp18*+expx14+TCC/T+2Cx1<logcosx11)log6cos)8+C\n"
          ]
        },
        {
          "output_type": "stream",
          "name": "stderr",
          "text": [
            "sampling loop:  53%|█████▎    | 527/1000 [00:01<00:01, 271.07it/s]"
          ]
        },
        {
          "output_type": "stream",
          "name": "stdout",
          "text": [
            " sample 0: predicted_skeleton: 660cos<explog6+3/C27sin88C3:C()17x1***cos<+3\n"
          ]
        },
        {
          "output_type": "stream",
          "name": "stderr",
          "text": [
            "sampling loop:  79%|███████▉  | 791/1000 [00:02<00:00, 359.90it/s]"
          ]
        },
        {
          "output_type": "stream",
          "name": "stdout",
          "text": [
            " sample 0: predicted_skeleton: /*cosx14**\n"
          ]
        },
        {
          "output_type": "stream",
          "name": "stderr",
          "text": [
            "sampling loop: 100%|██████████| 1000/1000 [00:03<00:00, 318.85it/s]\n"
          ]
        },
        {
          "output_type": "stream",
          "name": "stdout",
          "text": [
            " sample 0: predicted_skeleton: C*x1+C\n",
            "yPR,yTrue:2.173210220951556,2.173210244698601, Err:1.7968149419238213e-17\n",
            "yPR,yTrue:-8.39095381576077,-8.390953884555662, Err:1.5079834417205607e-16\n",
            "yPR,yTrue:-8.053078479110255,-8.053078544945361, Err:1.3810177916979326e-16\n",
            "yPR,yTrue:2.8328716863815773,2.832871715907248, Err:2.7776897635500705e-17\n",
            "yPR,yTrue:4.048266745887665,4.04826678606018, Err:5.142120351908044e-17\n",
            "\n",
            "Sample 48:\n",
            "Target: 1.3502460616825793*x1+-2.0703249981626435\n",
            "Target Skeleton: C*x1+C\n",
            "Predicted Skeleton: C*x1+C\n",
            "Predicted: 1.350246049854442*x1+-2.070324984736377\n",
            "Relative Error: 0.000000\n",
            "--------------------------------------------------\n"
          ]
        },
        {
          "output_type": "stream",
          "name": "stderr",
          "text": [
            "sampling loop:  31%|███       | 308/1000 [00:00<00:01, 418.93it/s]"
          ]
        },
        {
          "output_type": "stream",
          "name": "stdout",
          "text": [
            " sample 0: predicted_skeleton: +8**exp58sin\n"
          ]
        },
        {
          "output_type": "stream",
          "name": "stderr",
          "text": [
            "sampling loop:  57%|█████▋    | 571/1000 [00:01<00:00, 431.76it/s]"
          ]
        },
        {
          "output_type": "stream",
          "name": "stdout",
          "text": [
            " sample 0: predicted_skeleton: 8x1log9(expx1)C(C/*5exp+x1exp45\n"
          ]
        },
        {
          "output_type": "stream",
          "name": "stderr",
          "text": [
            "sampling loop:  80%|███████▉  | 796/1000 [00:01<00:00, 436.60it/s]"
          ]
        },
        {
          "output_type": "stream",
          "name": "stdout",
          "text": [
            " sample 0: predicted_skeleton: C*sin5x1C4(x1/)2*log78cos6\n"
          ]
        },
        {
          "output_type": "stream",
          "name": "stderr",
          "text": [
            "sampling loop: 100%|██████████| 1000/1000 [00:02<00:00, 428.15it/s]\n"
          ]
        },
        {
          "output_type": "stream",
          "name": "stdout",
          "text": [
            " sample 0: predicted_skeleton: C*log(C*x1**4)+C\n",
            "yPR,yTrue:5.78328730873795,6.349738393413302, Err:0.008568093501655199\n",
            "yPR,yTrue:5.7079363122318725,6.272186687420291, Err:0.008501647318305666\n",
            "yPR,yTrue:7.1577541297780325,7.7648735343314765, Err:0.009842549315198705\n",
            "yPR,yTrue:5.645753465143458,6.208190583022099, Err:0.00844709386062673\n",
            "yPR,yTrue:7.154142542484178,7.76115405938295, Err:0.009839051501745421\n",
            "\n",
            "Sample 49:\n",
            "Target: 2.061048382200813*log(1.9099416854254625*x1**2+0.026238004417386662)+0.08420844391686266\n",
            "Target Skeleton: C*log(C*x1**2+C)+C\n",
            "Predicted Skeleton: C*log(C*x1**4)+C\n",
            "Predicted: 1.0*log(1.0*x1**4)+1.0\n",
            "Relative Error: 0.008981\n",
            "--------------------------------------------------\n"
          ]
        },
        {
          "output_type": "stream",
          "name": "stderr",
          "text": [
            "sampling loop:  30%|███       | 305/1000 [00:00<00:01, 405.27it/s]"
          ]
        },
        {
          "output_type": "stream",
          "name": "stdout",
          "text": [
            " sample 0: predicted_skeleton: cos3CCsin0+/exp<C(++*(2C3C+*4sin58C+**(3\n"
          ]
        },
        {
          "output_type": "stream",
          "name": "stderr",
          "text": [
            "sampling loop:  57%|█████▋    | 568/1000 [00:01<00:01, 425.44it/s]"
          ]
        },
        {
          "output_type": "stream",
          "name": "stdout",
          "text": [
            " sample 0: predicted_skeleton: 8Texpx1(**+3x17sin)+*CC\n"
          ]
        },
        {
          "output_type": "stream",
          "name": "stderr",
          "text": [
            "sampling loop:  83%|████████▎ | 830/1000 [00:01<00:00, 418.07it/s]"
          ]
        },
        {
          "output_type": "stream",
          "name": "stdout",
          "text": [
            " sample 0: predicted_skeleton: )8sincos674x1sin**/C)log+\n"
          ]
        },
        {
          "output_type": "stream",
          "name": "stderr",
          "text": [
            "sampling loop: 100%|██████████| 1000/1000 [00:02<00:00, 412.31it/s]\n"
          ]
        },
        {
          "output_type": "stream",
          "name": "stdout",
          "text": [
            " sample 0: predicted_skeleton: C*x1/(C*x1+C)+C\n",
            "Skipping sample 50: Invalid predicted equation or optimization failed\n",
            "\n"
          ]
        },
        {
          "output_type": "stream",
          "name": "stderr",
          "text": [
            "sampling loop:  31%|███       | 307/1000 [00:00<00:01, 398.55it/s]"
          ]
        },
        {
          "output_type": "stream",
          "name": "stdout",
          "text": [
            " sample 0: predicted_skeleton: *Csinsin57cosx12C392C7)x1*8+2**(sinC+<5)30\n"
          ]
        },
        {
          "output_type": "stream",
          "name": "stderr",
          "text": [
            "sampling loop:  57%|█████▋    | 570/1000 [00:01<00:01, 419.25it/s]"
          ]
        },
        {
          "output_type": "stream",
          "name": "stdout",
          "text": [
            " sample 0: predicted_skeleton: 3C()\n"
          ]
        },
        {
          "output_type": "stream",
          "name": "stderr",
          "text": [
            "sampling loop:  84%|████████▎ | 837/1000 [00:02<00:00, 429.64it/s]"
          ]
        },
        {
          "output_type": "stream",
          "name": "stdout",
          "text": [
            " sample 0: predicted_skeleton: cos45log(+\n"
          ]
        },
        {
          "output_type": "stream",
          "name": "stderr",
          "text": [
            "sampling loop: 100%|██████████| 1000/1000 [00:02<00:00, 417.85it/s]\n"
          ]
        },
        {
          "output_type": "stream",
          "name": "stdout",
          "text": [
            " sample 0: predicted_skeleton: C*x1+C\n",
            "yPR,yTrue:-3.6569314709121077,-3.6569291702127344, Err:2.402771235164635e-13\n",
            "yPR,yTrue:-4.924174555726543,-4.924171467173155, Err:4.3301496070678605e-13\n",
            "yPR,yTrue:2.3788852490149646,2.3788837972042667, Err:9.567812596751053e-14\n",
            "yPR,yTrue:3.168033485641522,3.168031543211767, Err:1.7127079752380648e-13\n",
            "yPR,yTrue:-3.6569314709121077,-3.6569291702127344, Err:2.402771235164635e-13\n",
            "\n",
            "Sample 51:\n",
            "Target: 0.9724029684498303*x1+-0.6515852090737857\n",
            "Target Skeleton: C*x1+C\n",
            "Predicted Skeleton: C*x1+C\n",
            "Predicted: 0.9724035730000296*x1+-0.6515856413283376\n",
            "Relative Error: 0.000000\n",
            "--------------------------------------------------\n"
          ]
        },
        {
          "output_type": "stream",
          "name": "stderr",
          "text": [
            "sampling loop:  30%|███       | 305/1000 [00:00<00:02, 299.01it/s]"
          ]
        },
        {
          "output_type": "stream",
          "name": "stdout",
          "text": [
            " sample 0: predicted_skeleton: exp)*)7+coslog\n"
          ]
        },
        {
          "output_type": "stream",
          "name": "stderr",
          "text": [
            "sampling loop:  56%|█████▌    | 560/1000 [00:01<00:01, 314.11it/s]"
          ]
        },
        {
          "output_type": "stream",
          "name": "stdout",
          "text": [
            " sample 0: predicted_skeleton: /x15(6cos4C+****log5sinexpx17C*)**Csin\n"
          ]
        },
        {
          "output_type": "stream",
          "name": "stderr",
          "text": [
            "sampling loop:  79%|███████▊  | 786/1000 [00:02<00:00, 297.06it/s]"
          ]
        },
        {
          "output_type": "stream",
          "name": "stdout",
          "text": [
            " sample 0: predicted_skeleton: Ccoscos\n"
          ]
        },
        {
          "output_type": "stream",
          "name": "stderr",
          "text": [
            "sampling loop: 100%|██████████| 1000/1000 [00:03<00:00, 307.69it/s]\n"
          ]
        },
        {
          "output_type": "stream",
          "name": "stdout",
          "text": [
            " sample 0: predicted_skeleton: C*x1+C\n",
            "yPR,yTrue:7.1697770819616835,7.169777293363622, Err:1.263231229914146e-15\n",
            "yPR,yTrue:-7.034460765922074,-7.034460859995393, Err:2.501484724188056e-16\n",
            "yPR,yTrue:-6.456684421045895,-6.456684502693601, Err:1.8843123368617416e-16\n",
            "yPR,yTrue:-7.389107946919784,-7.389108048620118, Err:2.923544335595636e-16\n",
            "yPR,yTrue:-8.173597448547993,-8.173597567119499, Err:3.973979271243449e-16\n",
            "\n",
            "Sample 52:\n",
            "Target: -1.5916222186600835*x1+-0.27060322119950464\n",
            "Target Skeleton: C*x1+C\n",
            "Predicted Skeleton: C*x1+C\n",
            "Predicted: -1.5916221844307779*x1+-0.2706032725891902\n",
            "Relative Error: 0.000000\n",
            "--------------------------------------------------\n"
          ]
        },
        {
          "output_type": "stream",
          "name": "stderr",
          "text": [
            "sampling loop:  30%|██▉       | 299/1000 [00:01<00:02, 336.42it/s]"
          ]
        },
        {
          "output_type": "stream",
          "name": "stdout",
          "text": [
            " sample 0: predicted_skeleton: sinC8)*\n"
          ]
        },
        {
          "output_type": "stream",
          "name": "stderr",
          "text": [
            "sampling loop:  56%|█████▌    | 555/1000 [00:01<00:01, 407.09it/s]"
          ]
        },
        {
          "output_type": "stream",
          "name": "stdout",
          "text": [
            " sample 0: predicted_skeleton: x1+33)CcosCx1Cx13(exp+)sinC**\n"
          ]
        },
        {
          "output_type": "stream",
          "name": "stderr",
          "text": [
            "sampling loop:  82%|████████▏ | 823/1000 [00:02<00:00, 418.13it/s]"
          ]
        },
        {
          "output_type": "stream",
          "name": "stdout",
          "text": [
            " sample 0: predicted_skeleton: C4CsinCx14/3)5C+015(log*exp+3/x1log)*C)C*+\n"
          ]
        },
        {
          "output_type": "stream",
          "name": "stderr",
          "text": [
            "sampling loop: 100%|██████████| 1000/1000 [00:02<00:00, 371.77it/s]\n"
          ]
        },
        {
          "output_type": "stream",
          "name": "stdout",
          "text": [
            " sample 0: predicted_skeleton: C*log(C*x1)C)+C\n",
            "Skipping sample 53: TA: Invalid target equation. Eq: -0.1891792738088216*log(0.8454387752607677*cos(-1.0008877612703357*(-4.20867341)))+-1.1044732920644247, Reason: math domain error\n",
            "\n"
          ]
        },
        {
          "output_type": "stream",
          "name": "stderr",
          "text": [
            "sampling loop:  31%|███       | 309/1000 [00:00<00:01, 423.59it/s]"
          ]
        },
        {
          "output_type": "stream",
          "name": "stdout",
          "text": [
            " sample 0: predicted_skeleton: )*(CC1+*)***exp5sin68sin/:+**+8\n"
          ]
        },
        {
          "output_type": "stream",
          "name": "stderr",
          "text": [
            "sampling loop:  57%|█████▋    | 574/1000 [00:01<00:01, 425.99it/s]"
          ]
        },
        {
          "output_type": "stream",
          "name": "stdout",
          "text": [
            " sample 0: predicted_skeleton: ***7)x142exp\n"
          ]
        },
        {
          "output_type": "stream",
          "name": "stderr",
          "text": [
            "sampling loop:  84%|████████▎ | 837/1000 [00:01<00:00, 428.47it/s]"
          ]
        },
        {
          "output_type": "stream",
          "name": "stdout",
          "text": [
            " sample 0: predicted_skeleton: 6)cossin<)sin1*3sin\n"
          ]
        },
        {
          "output_type": "stream",
          "name": "stderr",
          "text": [
            "sampling loop: 100%|██████████| 1000/1000 [00:02<00:00, 426.29it/s]\n",
            "<string>:1: SyntaxWarning: 'float' object is not callable; perhaps you missed a comma?\n",
            "<string>:1: SyntaxWarning: 'float' object is not callable; perhaps you missed a comma?\n",
            "<string>:1: SyntaxWarning: 'float' object is not callable; perhaps you missed a comma?\n",
            "<string>:1: SyntaxWarning: 'float' object is not callable; perhaps you missed a comma?\n",
            "<string>:1: SyntaxWarning: 'float' object is not callable; perhaps you missed a comma?\n",
            "<string>:1: SyntaxWarning: 'float' object is not callable; perhaps you missed a comma?\n",
            "<string>:1: SyntaxWarning: 'float' object is not callable; perhaps you missed a comma?\n",
            "<string>:1: SyntaxWarning: 'float' object is not callable; perhaps you missed a comma?\n",
            "<string>:1: SyntaxWarning: 'float' object is not callable; perhaps you missed a comma?\n",
            "<string>:1: SyntaxWarning: 'float' object is not callable; perhaps you missed a comma?\n",
            "<string>:1: SyntaxWarning: 'float' object is not callable; perhaps you missed a comma?\n",
            "<string>:1: SyntaxWarning: 'float' object is not callable; perhaps you missed a comma?\n",
            "<string>:1: SyntaxWarning: 'float' object is not callable; perhaps you missed a comma?\n",
            "<string>:1: SyntaxWarning: 'float' object is not callable; perhaps you missed a comma?\n",
            "<string>:1: SyntaxWarning: 'float' object is not callable; perhaps you missed a comma?\n",
            "<string>:1: SyntaxWarning: 'float' object is not callable; perhaps you missed a comma?\n",
            "<string>:1: SyntaxWarning: 'float' object is not callable; perhaps you missed a comma?\n",
            "<string>:1: SyntaxWarning: 'float' object is not callable; perhaps you missed a comma?\n",
            "<string>:1: SyntaxWarning: 'float' object is not callable; perhaps you missed a comma?\n",
            "<string>:1: SyntaxWarning: 'float' object is not callable; perhaps you missed a comma?\n",
            "<string>:1: SyntaxWarning: 'float' object is not callable; perhaps you missed a comma?\n",
            "<string>:1: SyntaxWarning: 'float' object is not callable; perhaps you missed a comma?\n",
            "<string>:1: SyntaxWarning: 'float' object is not callable; perhaps you missed a comma?\n",
            "<string>:1: SyntaxWarning: 'float' object is not callable; perhaps you missed a comma?\n",
            "<string>:1: SyntaxWarning: 'float' object is not callable; perhaps you missed a comma?\n",
            "<string>:1: SyntaxWarning: 'float' object is not callable; perhaps you missed a comma?\n",
            "<string>:1: SyntaxWarning: 'float' object is not callable; perhaps you missed a comma?\n",
            "<string>:1: SyntaxWarning: 'float' object is not callable; perhaps you missed a comma?\n",
            "<string>:1: SyntaxWarning: 'float' object is not callable; perhaps you missed a comma?\n",
            "<string>:1: SyntaxWarning: 'float' object is not callable; perhaps you missed a comma?\n",
            "<string>:1: SyntaxWarning: 'float' object is not callable; perhaps you missed a comma?\n",
            "<string>:1: SyntaxWarning: 'float' object is not callable; perhaps you missed a comma?\n",
            "<string>:1: SyntaxWarning: 'float' object is not callable; perhaps you missed a comma?\n",
            "<string>:1: SyntaxWarning: 'float' object is not callable; perhaps you missed a comma?\n",
            "<string>:1: SyntaxWarning: 'float' object is not callable; perhaps you missed a comma?\n",
            "<string>:1: SyntaxWarning: 'float' object is not callable; perhaps you missed a comma?\n",
            "<string>:1: SyntaxWarning: 'float' object is not callable; perhaps you missed a comma?\n",
            "<string>:1: SyntaxWarning: 'float' object is not callable; perhaps you missed a comma?\n",
            "<string>:1: SyntaxWarning: 'float' object is not callable; perhaps you missed a comma?\n",
            "<string>:1: SyntaxWarning: 'float' object is not callable; perhaps you missed a comma?\n",
            "<string>:1: SyntaxWarning: 'float' object is not callable; perhaps you missed a comma?\n",
            "<string>:1: SyntaxWarning: 'float' object is not callable; perhaps you missed a comma?\n",
            "<string>:1: SyntaxWarning: 'float' object is not callable; perhaps you missed a comma?\n",
            "<string>:1: SyntaxWarning: 'float' object is not callable; perhaps you missed a comma?\n",
            "<string>:1: SyntaxWarning: 'float' object is not callable; perhaps you missed a comma?\n",
            "<string>:1: SyntaxWarning: 'float' object is not callable; perhaps you missed a comma?\n",
            "<string>:1: SyntaxWarning: 'float' object is not callable; perhaps you missed a comma?\n",
            "<string>:1: SyntaxWarning: 'float' object is not callable; perhaps you missed a comma?\n",
            "<string>:1: SyntaxWarning: 'float' object is not callable; perhaps you missed a comma?\n",
            "<string>:1: SyntaxWarning: 'float' object is not callable; perhaps you missed a comma?\n",
            "<string>:1: SyntaxWarning: 'float' object is not callable; perhaps you missed a comma?\n",
            "<string>:1: SyntaxWarning: 'float' object is not callable; perhaps you missed a comma?\n",
            "<string>:1: SyntaxWarning: 'float' object is not callable; perhaps you missed a comma?\n",
            "<string>:1: SyntaxWarning: 'float' object is not callable; perhaps you missed a comma?\n",
            "<string>:1: SyntaxWarning: 'float' object is not callable; perhaps you missed a comma?\n",
            "<string>:1: SyntaxWarning: 'float' object is not callable; perhaps you missed a comma?\n",
            "<string>:1: SyntaxWarning: 'float' object is not callable; perhaps you missed a comma?\n",
            "<string>:1: SyntaxWarning: 'float' object is not callable; perhaps you missed a comma?\n",
            "<string>:1: SyntaxWarning: 'float' object is not callable; perhaps you missed a comma?\n",
            "<string>:1: SyntaxWarning: 'float' object is not callable; perhaps you missed a comma?\n",
            "<string>:1: SyntaxWarning: 'float' object is not callable; perhaps you missed a comma?\n",
            "<string>:1: SyntaxWarning: 'float' object is not callable; perhaps you missed a comma?\n",
            "<string>:1: SyntaxWarning: 'float' object is not callable; perhaps you missed a comma?\n",
            "<string>:1: SyntaxWarning: 'float' object is not callable; perhaps you missed a comma?\n",
            "<string>:1: SyntaxWarning: 'float' object is not callable; perhaps you missed a comma?\n",
            "<string>:1: SyntaxWarning: 'float' object is not callable; perhaps you missed a comma?\n",
            "<string>:1: SyntaxWarning: 'float' object is not callable; perhaps you missed a comma?\n",
            "<string>:1: SyntaxWarning: 'float' object is not callable; perhaps you missed a comma?\n",
            "<string>:1: SyntaxWarning: 'float' object is not callable; perhaps you missed a comma?\n",
            "<string>:1: SyntaxWarning: 'float' object is not callable; perhaps you missed a comma?\n",
            "<string>:1: SyntaxWarning: 'float' object is not callable; perhaps you missed a comma?\n",
            "<string>:1: SyntaxWarning: 'float' object is not callable; perhaps you missed a comma?\n",
            "<string>:1: SyntaxWarning: 'float' object is not callable; perhaps you missed a comma?\n",
            "<string>:1: SyntaxWarning: 'float' object is not callable; perhaps you missed a comma?\n",
            "<string>:1: SyntaxWarning: 'float' object is not callable; perhaps you missed a comma?\n",
            "<string>:1: SyntaxWarning: 'float' object is not callable; perhaps you missed a comma?\n",
            "<string>:1: SyntaxWarning: 'float' object is not callable; perhaps you missed a comma?\n",
            "<string>:1: SyntaxWarning: 'float' object is not callable; perhaps you missed a comma?\n",
            "<string>:1: SyntaxWarning: 'float' object is not callable; perhaps you missed a comma?\n",
            "<string>:1: SyntaxWarning: 'float' object is not callable; perhaps you missed a comma?\n",
            "<string>:1: SyntaxWarning: 'float' object is not callable; perhaps you missed a comma?\n",
            "<string>:1: SyntaxWarning: 'float' object is not callable; perhaps you missed a comma?\n",
            "<string>:1: SyntaxWarning: 'float' object is not callable; perhaps you missed a comma?\n",
            "<string>:1: SyntaxWarning: 'float' object is not callable; perhaps you missed a comma?\n",
            "<string>:1: SyntaxWarning: 'float' object is not callable; perhaps you missed a comma?\n",
            "<string>:1: SyntaxWarning: 'float' object is not callable; perhaps you missed a comma?\n",
            "<string>:1: SyntaxWarning: 'float' object is not callable; perhaps you missed a comma?\n",
            "<string>:1: SyntaxWarning: 'float' object is not callable; perhaps you missed a comma?\n",
            "<string>:1: SyntaxWarning: 'float' object is not callable; perhaps you missed a comma?\n",
            "<string>:1: SyntaxWarning: 'float' object is not callable; perhaps you missed a comma?\n",
            "<string>:1: SyntaxWarning: 'float' object is not callable; perhaps you missed a comma?\n",
            "<string>:1: SyntaxWarning: 'float' object is not callable; perhaps you missed a comma?\n",
            "<string>:1: SyntaxWarning: 'float' object is not callable; perhaps you missed a comma?\n",
            "<string>:1: SyntaxWarning: 'float' object is not callable; perhaps you missed a comma?\n",
            "<string>:1: SyntaxWarning: 'float' object is not callable; perhaps you missed a comma?\n",
            "<string>:1: SyntaxWarning: 'float' object is not callable; perhaps you missed a comma?\n",
            "<string>:1: SyntaxWarning: 'float' object is not callable; perhaps you missed a comma?\n",
            "<string>:1: SyntaxWarning: 'float' object is not callable; perhaps you missed a comma?\n",
            "<string>:1: SyntaxWarning: 'float' object is not callable; perhaps you missed a comma?\n",
            "<string>:1: SyntaxWarning: 'float' object is not callable; perhaps you missed a comma?\n",
            "<string>:1: SyntaxWarning: 'float' object is not callable; perhaps you missed a comma?\n",
            "<string>:1: SyntaxWarning: 'float' object is not callable; perhaps you missed a comma?\n",
            "<string>:1: SyntaxWarning: 'float' object is not callable; perhaps you missed a comma?\n",
            "<string>:1: SyntaxWarning: 'float' object is not callable; perhaps you missed a comma?\n",
            "<string>:1: SyntaxWarning: 'float' object is not callable; perhaps you missed a comma?\n",
            "<string>:1: SyntaxWarning: 'float' object is not callable; perhaps you missed a comma?\n",
            "<string>:1: SyntaxWarning: 'float' object is not callable; perhaps you missed a comma?\n",
            "<string>:1: SyntaxWarning: 'float' object is not callable; perhaps you missed a comma?\n",
            "<string>:1: SyntaxWarning: 'float' object is not callable; perhaps you missed a comma?\n",
            "<string>:1: SyntaxWarning: 'float' object is not callable; perhaps you missed a comma?\n",
            "<string>:1: SyntaxWarning: 'float' object is not callable; perhaps you missed a comma?\n",
            "<string>:1: SyntaxWarning: 'float' object is not callable; perhaps you missed a comma?\n",
            "<string>:1: SyntaxWarning: 'float' object is not callable; perhaps you missed a comma?\n",
            "<string>:1: SyntaxWarning: 'float' object is not callable; perhaps you missed a comma?\n",
            "<string>:1: SyntaxWarning: 'float' object is not callable; perhaps you missed a comma?\n",
            "<string>:1: SyntaxWarning: 'float' object is not callable; perhaps you missed a comma?\n",
            "<string>:1: SyntaxWarning: 'float' object is not callable; perhaps you missed a comma?\n",
            "<string>:1: SyntaxWarning: 'float' object is not callable; perhaps you missed a comma?\n",
            "<string>:1: SyntaxWarning: 'float' object is not callable; perhaps you missed a comma?\n",
            "<string>:1: SyntaxWarning: 'float' object is not callable; perhaps you missed a comma?\n",
            "<string>:1: SyntaxWarning: 'float' object is not callable; perhaps you missed a comma?\n",
            "<string>:1: SyntaxWarning: 'float' object is not callable; perhaps you missed a comma?\n",
            "<string>:1: SyntaxWarning: 'float' object is not callable; perhaps you missed a comma?\n",
            "<string>:1: SyntaxWarning: 'float' object is not callable; perhaps you missed a comma?\n",
            "<string>:1: SyntaxWarning: 'float' object is not callable; perhaps you missed a comma?\n",
            "<string>:1: SyntaxWarning: 'float' object is not callable; perhaps you missed a comma?\n",
            "<string>:1: SyntaxWarning: 'float' object is not callable; perhaps you missed a comma?\n",
            "<string>:1: SyntaxWarning: 'float' object is not callable; perhaps you missed a comma?\n",
            "<string>:1: SyntaxWarning: 'float' object is not callable; perhaps you missed a comma?\n",
            "<string>:1: SyntaxWarning: 'float' object is not callable; perhaps you missed a comma?\n",
            "<string>:1: SyntaxWarning: 'float' object is not callable; perhaps you missed a comma?\n",
            "<string>:1: SyntaxWarning: 'float' object is not callable; perhaps you missed a comma?\n",
            "<string>:1: SyntaxWarning: 'float' object is not callable; perhaps you missed a comma?\n",
            "<string>:1: SyntaxWarning: 'float' object is not callable; perhaps you missed a comma?\n",
            "<string>:1: SyntaxWarning: 'float' object is not callable; perhaps you missed a comma?\n",
            "<string>:1: SyntaxWarning: 'float' object is not callable; perhaps you missed a comma?\n",
            "<string>:1: SyntaxWarning: 'float' object is not callable; perhaps you missed a comma?\n",
            "<string>:1: SyntaxWarning: 'float' object is not callable; perhaps you missed a comma?\n",
            "<string>:1: SyntaxWarning: 'float' object is not callable; perhaps you missed a comma?\n",
            "<string>:1: SyntaxWarning: 'float' object is not callable; perhaps you missed a comma?\n",
            "<string>:1: SyntaxWarning: 'float' object is not callable; perhaps you missed a comma?\n",
            "<string>:1: SyntaxWarning: 'float' object is not callable; perhaps you missed a comma?\n",
            "<string>:1: SyntaxWarning: 'float' object is not callable; perhaps you missed a comma?\n",
            "<string>:1: SyntaxWarning: 'float' object is not callable; perhaps you missed a comma?\n",
            "<string>:1: SyntaxWarning: 'float' object is not callable; perhaps you missed a comma?\n",
            "<string>:1: SyntaxWarning: 'float' object is not callable; perhaps you missed a comma?\n",
            "<string>:1: SyntaxWarning: 'float' object is not callable; perhaps you missed a comma?\n",
            "<string>:1: SyntaxWarning: 'float' object is not callable; perhaps you missed a comma?\n",
            "<string>:1: SyntaxWarning: 'float' object is not callable; perhaps you missed a comma?\n",
            "<string>:1: SyntaxWarning: 'float' object is not callable; perhaps you missed a comma?\n",
            "<string>:1: SyntaxWarning: 'float' object is not callable; perhaps you missed a comma?\n"
          ]
        },
        {
          "output_type": "stream",
          "name": "stdout",
          "text": [
            " sample 0: predicted_skeleton: C*log(C*x1(C*x1+C))\n",
            "Skipping sample 54: PR: Invalid predicted equation. Eq: 1.0*log(1.0*(-4.84044881)(1.0*(-4.84044881)+1.0)), Reason: 'float' object is not callable\n",
            "\n"
          ]
        },
        {
          "output_type": "stream",
          "name": "stderr",
          "text": [
            "sampling loop:  30%|███       | 300/1000 [00:00<00:01, 419.39it/s]"
          ]
        },
        {
          "output_type": "stream",
          "name": "stdout",
          "text": [
            " sample 0: predicted_skeleton: 0***x1**C8(T)1x10/2+Clog**\n"
          ]
        },
        {
          "output_type": "stream",
          "name": "stderr",
          "text": [
            "sampling loop:  57%|█████▋    | 568/1000 [00:01<00:01, 414.89it/s]"
          ]
        },
        {
          "output_type": "stream",
          "name": "stdout",
          "text": [
            " sample 0: predicted_skeleton: 0C)\n"
          ]
        },
        {
          "output_type": "stream",
          "name": "stderr",
          "text": [
            "sampling loop:  79%|███████▉  | 790/1000 [00:01<00:00, 411.85it/s]"
          ]
        },
        {
          "output_type": "stream",
          "name": "stdout",
          "text": [
            " sample 0: predicted_skeleton: 5*exp8x1)C(cos4***C\n"
          ]
        },
        {
          "output_type": "stream",
          "name": "stderr",
          "text": [
            "sampling loop: 100%|██████████| 1000/1000 [00:02<00:00, 412.09it/s]\n"
          ]
        },
        {
          "output_type": "stream",
          "name": "stdout",
          "text": [
            " sample 0: predicted_skeleton: C*log(C*x1)C)+C\n",
            "Skipping sample 55: PR: Invalid predicted equation. Eq: 1.0*log(1.0*(3.40127079))1.0)+1.0, Reason: unmatched ')' (<string>, line 1)\n",
            "\n"
          ]
        },
        {
          "output_type": "stream",
          "name": "stderr",
          "text": [
            "sampling loop:  28%|██▊       | 285/1000 [00:00<00:01, 387.31it/s]"
          ]
        },
        {
          "output_type": "stream",
          "name": "stdout",
          "text": [
            " sample 0: predicted_skeleton: 9+**7C**C3+89+\n"
          ]
        },
        {
          "output_type": "stream",
          "name": "stderr",
          "text": [
            "sampling loop:  57%|█████▋    | 573/1000 [00:01<00:01, 403.45it/s]"
          ]
        },
        {
          "output_type": "stream",
          "name": "stdout",
          "text": [
            " sample 0: predicted_skeleton: 6sin\n"
          ]
        },
        {
          "output_type": "stream",
          "name": "stderr",
          "text": [
            "sampling loop:  84%|████████▎ | 835/1000 [00:02<00:00, 416.27it/s]"
          ]
        },
        {
          "output_type": "stream",
          "name": "stdout",
          "text": [
            " sample 0: predicted_skeleton: 4+log65(x1(+C2+(+*x1\n"
          ]
        },
        {
          "output_type": "stream",
          "name": "stderr",
          "text": [
            "sampling loop: 100%|██████████| 1000/1000 [00:02<00:00, 406.05it/s]\n"
          ]
        },
        {
          "output_type": "stream",
          "name": "stdout",
          "text": [
            " sample 0: predicted_skeleton: C*log(C\n",
            "Skipping sample 56: PR: Invalid predicted equation. Eq: 1.0*log(1.0, Reason: '(' was never closed (<string>, line 1)\n",
            "\n"
          ]
        },
        {
          "output_type": "stream",
          "name": "stderr",
          "text": [
            "sampling loop:  31%|███       | 311/1000 [00:00<00:01, 423.63it/s]"
          ]
        },
        {
          "output_type": "stream",
          "name": "stdout",
          "text": [
            " sample 0: predicted_skeleton: 2*1\n"
          ]
        },
        {
          "output_type": "stream",
          "name": "stderr",
          "text": [
            "sampling loop:  54%|█████▍    | 539/1000 [00:01<00:01, 294.97it/s]"
          ]
        },
        {
          "output_type": "stream",
          "name": "stdout",
          "text": [
            " sample 0: predicted_skeleton: 3**(C3log**4\n"
          ]
        },
        {
          "output_type": "stream",
          "name": "stderr",
          "text": [
            "sampling loop:  79%|███████▉  | 789/1000 [00:02<00:00, 302.80it/s]"
          ]
        },
        {
          "output_type": "stream",
          "name": "stdout",
          "text": [
            " sample 0: predicted_skeleton: 1\n"
          ]
        },
        {
          "output_type": "stream",
          "name": "stderr",
          "text": [
            "sampling loop: 100%|██████████| 1000/1000 [00:03<00:00, 329.70it/s]\n"
          ]
        },
        {
          "output_type": "stream",
          "name": "stdout",
          "text": [
            " sample 0: predicted_skeleton: C*log(C\n",
            "Skipping sample 57: PR: Invalid predicted equation. Eq: 1.0*log(1.0, Reason: '(' was never closed (<string>, line 1)\n",
            "\n"
          ]
        },
        {
          "output_type": "stream",
          "name": "stderr",
          "text": [
            "sampling loop:  30%|███       | 305/1000 [00:01<00:02, 278.17it/s]"
          ]
        },
        {
          "output_type": "stream",
          "name": "stdout",
          "text": [
            " sample 0: predicted_skeleton: /(x12(cos0)C38cos4**T)0*7)\n"
          ]
        },
        {
          "output_type": "stream",
          "name": "stderr",
          "text": [
            "sampling loop:  57%|█████▋    | 569/1000 [00:01<00:01, 360.66it/s]"
          ]
        },
        {
          "output_type": "stream",
          "name": "stdout",
          "text": [
            " sample 0: predicted_skeleton: 0Csin3Cx1(+8C**((02cosC*expC(cos++)2exp))Csin*cos\n"
          ]
        },
        {
          "output_type": "stream",
          "name": "stderr",
          "text": [
            "sampling loop:  83%|████████▎ | 831/1000 [00:02<00:00, 411.35it/s]"
          ]
        },
        {
          "output_type": "stream",
          "name": "stdout",
          "text": [
            " sample 0: predicted_skeleton: exp\n"
          ]
        },
        {
          "output_type": "stream",
          "name": "stderr",
          "text": [
            "sampling loop: 100%|██████████| 1000/1000 [00:02<00:00, 343.15it/s]\n"
          ]
        },
        {
          "output_type": "stream",
          "name": "stdout",
          "text": [
            " sample 0: predicted_skeleton: C*log(C\n",
            "Skipping sample 58: PR: Invalid predicted equation. Eq: 1.0*log(1.0, Reason: '(' was never closed (<string>, line 1)\n",
            "\n"
          ]
        },
        {
          "output_type": "stream",
          "name": "stderr",
          "text": [
            "sampling loop:  31%|███       | 308/1000 [00:00<00:01, 410.01it/s]"
          ]
        },
        {
          "output_type": "stream",
          "name": "stdout",
          "text": [
            " sample 0: predicted_skeleton: *4expClog:*x1*x154x18<cosexp)8C(C1<<cos111C(/\n"
          ]
        },
        {
          "output_type": "stream",
          "name": "stderr",
          "text": [
            "sampling loop:  58%|█████▊    | 576/1000 [00:01<00:00, 435.08it/s]"
          ]
        },
        {
          "output_type": "stream",
          "name": "stdout",
          "text": [
            " sample 0: predicted_skeleton: 5)7explog(/C*C0\n"
          ]
        },
        {
          "output_type": "stream",
          "name": "stderr",
          "text": [
            "sampling loop:  80%|████████  | 800/1000 [00:01<00:00, 420.60it/s]"
          ]
        },
        {
          "output_type": "stream",
          "name": "stdout",
          "text": [
            " sample 0: predicted_skeleton: 0C)81(2/Cx1C7+Cx1x1*+x1x1/+expexp**6CCx1C(C\n"
          ]
        },
        {
          "output_type": "stream",
          "name": "stderr",
          "text": [
            "sampling loop: 100%|██████████| 1000/1000 [00:02<00:00, 420.11it/s]\n"
          ]
        },
        {
          "output_type": "stream",
          "name": "stdout",
          "text": [
            " sample 0: predicted_skeleton: C*x1+C\n",
            "yPR,yTrue:6.158198296081931,6.158198368471833, Err:1.9522044443435714e-16\n",
            "yPR,yTrue:5.948550152486474,5.94855022256308, Err:1.8294284821103315e-16\n",
            "yPR,yTrue:4.986297326401221,4.986297385860151, Err:1.3170537561383756e-16\n",
            "yPR,yTrue:-2.944437039648346,-2.94443706769861, Err:2.931184946178988e-17\n",
            "yPR,yTrue:-3.9547947975227005,-3.95479483672144, Err:5.724183131153333e-17\n",
            "\n",
            "Sample 59:\n",
            "Target: 1.1257231870729631*x1+1.00838976600664\n",
            "Target Skeleton: C*x1+C\n",
            "Predicted Skeleton: C*x1+C\n",
            "Predicted: 1.1257231746515248*x1+1.00838975044068\n",
            "Relative Error: 0.000000\n",
            "--------------------------------------------------\n"
          ]
        },
        {
          "output_type": "stream",
          "name": "stderr",
          "text": [
            "sampling loop:  30%|███       | 305/1000 [00:00<00:01, 420.40it/s]"
          ]
        },
        {
          "output_type": "stream",
          "name": "stdout",
          "text": [
            " sample 0: predicted_skeleton: /log*(\n"
          ]
        },
        {
          "output_type": "stream",
          "name": "stderr",
          "text": [
            "sampling loop:  57%|█████▋    | 570/1000 [00:01<00:01, 408.51it/s]"
          ]
        },
        {
          "output_type": "stream",
          "name": "stdout",
          "text": [
            " sample 0: predicted_skeleton: )2sinx19*7x1sin:sin(log)**85*cosx1:5+*x1Csin(710/\n"
          ]
        },
        {
          "output_type": "stream",
          "name": "stderr",
          "text": [
            "sampling loop:  82%|████████▏ | 824/1000 [00:01<00:00, 396.57it/s]"
          ]
        },
        {
          "output_type": "stream",
          "name": "stdout",
          "text": [
            " sample 0: predicted_skeleton: 52sin5Ccosexp/expC((3)**cossin+cosx1sinC))x1logC842(x1\n"
          ]
        },
        {
          "output_type": "stream",
          "name": "stderr",
          "text": [
            "sampling loop: 100%|██████████| 1000/1000 [00:02<00:00, 404.11it/s]\n"
          ]
        },
        {
          "output_type": "stream",
          "name": "stdout",
          "text": [
            " sample 0: predicted_skeleton: C*log(C*x1)C)+C\n",
            "Skipping sample 60: PR: Invalid predicted equation. Eq: 1.0*log(1.0*(3.42060867))1.0)+1.0, Reason: unmatched ')' (<string>, line 1)\n",
            "\n"
          ]
        },
        {
          "output_type": "stream",
          "name": "stderr",
          "text": [
            "sampling loop:  31%|███       | 306/1000 [00:00<00:01, 413.53it/s]"
          ]
        },
        {
          "output_type": "stream",
          "name": "stdout",
          "text": [
            " sample 0: predicted_skeleton: 3(8:2Cx1(C04**5648T\n"
          ]
        },
        {
          "output_type": "stream",
          "name": "stderr",
          "text": [
            "sampling loop:  56%|█████▋    | 565/1000 [00:01<00:01, 410.72it/s]"
          ]
        },
        {
          "output_type": "stream",
          "name": "stdout",
          "text": [
            " sample 0: predicted_skeleton: **exp8C33*/7exp8sin5\n"
          ]
        },
        {
          "output_type": "stream",
          "name": "stderr",
          "text": [
            "sampling loop:  82%|████████▏ | 822/1000 [00:01<00:00, 409.79it/s]"
          ]
        },
        {
          "output_type": "stream",
          "name": "stdout",
          "text": [
            " sample 0: predicted_skeleton: 4sin/(**x1/7log28**\n"
          ]
        },
        {
          "output_type": "stream",
          "name": "stderr",
          "text": [
            "sampling loop: 100%|██████████| 1000/1000 [00:02<00:00, 414.25it/s]\n"
          ]
        },
        {
          "output_type": "stream",
          "name": "stdout",
          "text": [
            " sample 0: predicted_skeleton: C*log(C*x1+C)+C\n",
            "Skipping sample 61: TA: Invalid target equation. Eq: 0.8645859597636556*log(0.31918279513779746*cos(-2.047202586834607*(3.8217559)+-0.10659272351463689))+0.23312549747449474, Reason: math domain error\n",
            "\n"
          ]
        },
        {
          "output_type": "stream",
          "name": "stderr",
          "text": [
            "sampling loop:  31%|███       | 307/1000 [00:00<00:01, 412.69it/s]"
          ]
        },
        {
          "output_type": "stream",
          "name": "stdout",
          "text": [
            " sample 0: predicted_skeleton: 990sin5*\n"
          ]
        },
        {
          "output_type": "stream",
          "name": "stderr",
          "text": [
            "sampling loop:  57%|█████▋    | 569/1000 [00:01<00:01, 413.48it/s]"
          ]
        },
        {
          "output_type": "stream",
          "name": "stdout",
          "text": [
            " sample 0: predicted_skeleton: +**/**sin+4)log/C)+((logcos(C9\n"
          ]
        },
        {
          "output_type": "stream",
          "name": "stderr",
          "text": [
            "sampling loop:  81%|████████  | 809/1000 [00:02<00:00, 293.42it/s]"
          ]
        },
        {
          "output_type": "stream",
          "name": "stdout",
          "text": [
            " sample 0: predicted_skeleton: C*x1\n"
          ]
        },
        {
          "output_type": "stream",
          "name": "stderr",
          "text": [
            "sampling loop: 100%|██████████| 1000/1000 [00:02<00:00, 346.91it/s]\n"
          ]
        },
        {
          "output_type": "stream",
          "name": "stdout",
          "text": [
            " sample 0: predicted_skeleton: C*log(C*x1+C)+C\n",
            "Skipping sample 62: TA: Invalid target equation. Eq: 1.6971707600593975*log(-0.9373854544949016*log(-0.3562771857364728*exp(0.7956481620814468*(4.85161654))))+0.2711747233836945, Reason: math domain error\n",
            "\n"
          ]
        },
        {
          "output_type": "stream",
          "name": "stderr",
          "text": [
            "sampling loop:  30%|███       | 300/1000 [00:01<00:02, 284.23it/s]"
          ]
        },
        {
          "output_type": "stream",
          "name": "stdout",
          "text": [
            " sample 0: predicted_skeleton: **C((+\n"
          ]
        },
        {
          "output_type": "stream",
          "name": "stderr",
          "text": [
            "sampling loop:  54%|█████▍    | 538/1000 [00:01<00:01, 284.45it/s]"
          ]
        },
        {
          "output_type": "stream",
          "name": "stdout",
          "text": [
            " sample 0: predicted_skeleton: )/C+7**))6expC**4+<82+log25)C*x1x1**+**C\n"
          ]
        },
        {
          "output_type": "stream",
          "name": "stderr",
          "text": [
            "sampling loop:  80%|████████  | 802/1000 [00:02<00:00, 360.53it/s]"
          ]
        },
        {
          "output_type": "stream",
          "name": "stdout",
          "text": [
            " sample 0: predicted_skeleton: 4*+8log1**+2+**sin+C8x1+1+\n"
          ]
        },
        {
          "output_type": "stream",
          "name": "stderr",
          "text": [
            "sampling loop: 100%|██████████| 1000/1000 [00:03<00:00, 309.10it/s]\n"
          ]
        },
        {
          "output_type": "stream",
          "name": "stdout",
          "text": [
            " sample 0: predicted_skeleton: C*log(C*x1)C)+C\n",
            "Skipping sample 63: TA: Invalid target equation. Eq: -0.03891096505390701*log(0.9718541329873562*log(-1.9820110257637475*cos(-1.7298881787145064*(-3.15851953)+0.478685604839832)))+0.5136477330648948, Reason: math domain error\n",
            "\n"
          ]
        },
        {
          "output_type": "stream",
          "name": "stderr",
          "text": [
            "sampling loop:  31%|███       | 309/1000 [00:00<00:01, 407.11it/s]"
          ]
        },
        {
          "output_type": "stream",
          "name": "stdout",
          "text": [
            " sample 0: predicted_skeleton: /+2(1+logcos0/6log:T\n"
          ]
        },
        {
          "output_type": "stream",
          "name": "stderr",
          "text": [
            "sampling loop:  56%|█████▌    | 560/1000 [00:01<00:01, 404.05it/s]"
          ]
        },
        {
          "output_type": "stream",
          "name": "stdout",
          "text": [
            " sample 0: predicted_skeleton: 6+x11x1+\n"
          ]
        },
        {
          "output_type": "stream",
          "name": "stderr",
          "text": [
            "sampling loop:  82%|████████▏ | 817/1000 [00:01<00:00, 402.45it/s]"
          ]
        },
        {
          "output_type": "stream",
          "name": "stdout",
          "text": [
            " sample 0: predicted_skeleton: 2+\n"
          ]
        },
        {
          "output_type": "stream",
          "name": "stderr",
          "text": [
            "sampling loop: 100%|██████████| 1000/1000 [00:02<00:00, 410.72it/s]\n"
          ]
        },
        {
          "output_type": "stream",
          "name": "stdout",
          "text": [
            " sample 0: predicted_skeleton: C*x1**4+C*x1**3+C*x1**2+C*x1**2\n",
            "yPR,yTrue:267.8797209093499,283.846811982802, Err:0.08722964895425399\n",
            "yPR,yTrue:220.0937010353754,231.92216643595432, Err:0.04787065033865326\n",
            "yPR,yTrue:953.43599684513,1049.4355430301591, Err:3.1531953677132436\n",
            "yPR,yTrue:246.12289902695628,260.16384150849285, Err:0.06745358562532001\n",
            "yPR,yTrue:50.17400679179933,156.5385935315274, Err:3.8708526002521157\n",
            "\n",
            "Sample 64:\n",
            "Target: 1.7810668502347808*x1**4+-0.19653314028024704*x1**3+-0.8936733394416836*x1**2+-0.8309978758895011*x1+1.5655114185724508\n",
            "Target Skeleton: C*x1**4+C*x1**3+C*x1**2+C*x1+C\n",
            "Predicted Skeleton: C*x1**4+C*x1**3+C*x1**2+C*x1**2\n",
            "Predicted: 1.3604046938396617*x1**4+1.483762110203895*x1**3+-1.3947021065086043*x1**2+-1.3947023022737135*x1**2\n",
            "Relative Error: 5.949060\n",
            "--------------------------------------------------\n"
          ]
        },
        {
          "output_type": "stream",
          "name": "stderr",
          "text": [
            "sampling loop:  31%|███       | 309/1000 [00:00<00:01, 430.09it/s]"
          ]
        },
        {
          "output_type": "stream",
          "name": "stdout",
          "text": [
            " sample 0: predicted_skeleton: 4516<71T*x15**+3**C0:693)5*319+*expsin\n"
          ]
        },
        {
          "output_type": "stream",
          "name": "stderr",
          "text": [
            "sampling loop:  58%|█████▊    | 577/1000 [00:01<00:00, 423.05it/s]"
          ]
        },
        {
          "output_type": "stream",
          "name": "stdout",
          "text": [
            " sample 0: predicted_skeleton: 0*x1+<(765)**C+1<C*x1)3*/9*)++\n"
          ]
        },
        {
          "output_type": "stream",
          "name": "stderr",
          "text": [
            "sampling loop:  79%|███████▉  | 792/1000 [00:01<00:00, 408.56it/s]"
          ]
        },
        {
          "output_type": "stream",
          "name": "stdout",
          "text": [
            " sample 0: predicted_skeleton: sin\n"
          ]
        },
        {
          "output_type": "stream",
          "name": "stderr",
          "text": [
            "sampling loop: 100%|██████████| 1000/1000 [00:02<00:00, 421.79it/s]\n"
          ]
        },
        {
          "output_type": "stream",
          "name": "stdout",
          "text": [
            " sample 0: predicted_skeleton: C*exp(C*x1)+C\n",
            "yPR,yTrue:230.05582870061284,230.05583948596498, Err:5.2325694352332204e-14\n",
            "yPR,yTrue:93.71070548420849,93.71071158060909, Err:1.67183469913561e-14\n",
            "yPR,yTrue:1.5683336031746569,1.5683337952448124, Err:1.6594574347969476e-17\n",
            "yPR,yTrue:1.5608535258168836,1.560853716193805, Err:1.6303278212077603e-17\n",
            "yPR,yTrue:429.0179600080565,429.0179747927993, Err:9.832724902102374e-14\n",
            "\n",
            "Sample 65:\n",
            "Target: 1.1726514346726358*exp(1.4125243962263108*x1)+1.5559796852200614\n",
            "Target Skeleton: C*exp(C*x1)+C\n",
            "Predicted Skeleton: C*exp(C*x1)+C\n",
            "Predicted: 1.172651259588321*exp(1.4125244238037942*x1)+1.5559794960926265\n",
            "Relative Error: 0.000000\n",
            "--------------------------------------------------\n"
          ]
        },
        {
          "output_type": "stream",
          "name": "stderr",
          "text": [
            "sampling loop:  32%|███▏      | 315/1000 [00:00<00:01, 435.86it/s]"
          ]
        },
        {
          "output_type": "stream",
          "name": "stdout",
          "text": [
            " sample 0: predicted_skeleton: cos)x18/\n"
          ]
        },
        {
          "output_type": "stream",
          "name": "stderr",
          "text": [
            "sampling loop:  58%|█████▊    | 579/1000 [00:01<00:00, 421.76it/s]"
          ]
        },
        {
          "output_type": "stream",
          "name": "stdout",
          "text": [
            " sample 0: predicted_skeleton: Tsin4/*x1CC:**sin8cos*5exp+2\n"
          ]
        },
        {
          "output_type": "stream",
          "name": "stderr",
          "text": [
            "sampling loop:  79%|███████▉  | 794/1000 [00:01<00:00, 399.54it/s]"
          ]
        },
        {
          "output_type": "stream",
          "name": "stdout",
          "text": [
            " sample 0: predicted_skeleton: )x1*)C\n"
          ]
        },
        {
          "output_type": "stream",
          "name": "stderr",
          "text": [
            "sampling loop: 100%|██████████| 1000/1000 [00:02<00:00, 420.19it/s]\n"
          ]
        },
        {
          "output_type": "stream",
          "name": "stdout",
          "text": [
            " sample 0: predicted_skeleton: C*x1**2+C*x1+C\n",
            "yPR,yTrue:35.18213827483149,35.182137120967326, Err:7.855639461318337e-15\n",
            "yPR,yTrue:20.179205027904153,20.179204478017503, Err:1.7840972595390315e-15\n",
            "yPR,yTrue:27.20275612514136,27.20275368492162, Err:3.513419806631774e-14\n",
            "yPR,yTrue:27.33170725750314,27.331704808522623, Err:3.5386925689583934e-14\n",
            "yPR,yTrue:33.489661852600484,33.489658989408476, Err:4.836966955136759e-14\n",
            "\n",
            "Sample 66:\n",
            "Target: 1.9872494941877812*x1**2+-1.9403712895830578\n",
            "Target Skeleton: C*x1**2+C\n",
            "Predicted Skeleton: C*x1**2+C*x1+C\n",
            "Predicted: 1.9872496017103742*x1**2+-2.107678632892149e-07*x1+-1.9403712333232987\n",
            "Relative Error: 0.000000\n",
            "--------------------------------------------------\n"
          ]
        },
        {
          "output_type": "stream",
          "name": "stderr",
          "text": [
            "sampling loop:  30%|███       | 305/1000 [00:00<00:01, 412.46it/s]"
          ]
        },
        {
          "output_type": "stream",
          "name": "stdout",
          "text": [
            " sample 0: predicted_skeleton: 2\n"
          ]
        },
        {
          "output_type": "stream",
          "name": "stderr",
          "text": [
            "sampling loop:  56%|█████▋    | 563/1000 [00:01<00:01, 399.84it/s]"
          ]
        },
        {
          "output_type": "stream",
          "name": "stdout",
          "text": [
            " sample 0: predicted_skeleton: x1x1x1cos45sin**logx1)5/(C+sin7sin1(990cosx1log(\n"
          ]
        },
        {
          "output_type": "stream",
          "name": "stderr",
          "text": [
            "sampling loop:  80%|████████  | 803/1000 [00:02<00:00, 308.52it/s]"
          ]
        },
        {
          "output_type": "stream",
          "name": "stdout",
          "text": [
            " sample 0: predicted_skeleton: ((log*6x1**\n"
          ]
        },
        {
          "output_type": "stream",
          "name": "stderr",
          "text": [
            "sampling loop: 100%|██████████| 1000/1000 [00:02<00:00, 362.89it/s]\n"
          ]
        },
        {
          "output_type": "stream",
          "name": "stdout",
          "text": [
            " sample 0: predicted_skeleton: C*log(C*x1+C)+C\n",
            "Skipping sample 67: PR: Invalid predicted equation. Eq: 1.0*log(1.0*(-4.93517831)+1.0)+1.0, Reason: math domain error\n",
            "\n"
          ]
        },
        {
          "output_type": "stream",
          "name": "stderr",
          "text": [
            "sampling loop:  29%|██▊       | 287/1000 [00:00<00:02, 284.02it/s]"
          ]
        },
        {
          "output_type": "stream",
          "name": "stdout",
          "text": [
            " sample 0: predicted_skeleton: :4*x1)(32)C(exp(exp3)()x1**x1)sin2(7C/(/x12\n"
          ]
        },
        {
          "output_type": "stream",
          "name": "stderr",
          "text": [
            "sampling loop:  54%|█████▍    | 544/1000 [00:01<00:01, 276.43it/s]"
          ]
        },
        {
          "output_type": "stream",
          "name": "stdout",
          "text": [
            " sample 0: predicted_skeleton: T1(x1+7**exp\n"
          ]
        },
        {
          "output_type": "stream",
          "name": "stderr",
          "text": [
            "sampling loop:  77%|███████▋  | 770/1000 [00:02<00:00, 248.92it/s]"
          ]
        },
        {
          "output_type": "stream",
          "name": "stdout",
          "text": [
            " sample 0: predicted_skeleton: /\n"
          ]
        },
        {
          "output_type": "stream",
          "name": "stderr",
          "text": [
            "sampling loop: 100%|██████████| 1000/1000 [00:03<00:00, 296.61it/s]\n"
          ]
        },
        {
          "output_type": "stream",
          "name": "stdout",
          "text": [
            " sample 0: predicted_skeleton: C*x1(C\n",
            "Skipping sample 68: TA: Invalid target equation. Eq: 0.5041713273513961*log(-1.588823835516906*exp(1.0444425431084587*(4.77145756)))+-0.18166235725782354, Reason: math domain error\n",
            "\n"
          ]
        },
        {
          "output_type": "stream",
          "name": "stderr",
          "text": [
            "sampling loop:  30%|███       | 304/1000 [00:00<00:01, 415.62it/s]"
          ]
        },
        {
          "output_type": "stream",
          "name": "stdout",
          "text": [
            " sample 0: predicted_skeleton: CC\n"
          ]
        },
        {
          "output_type": "stream",
          "name": "stderr",
          "text": [
            "sampling loop:  54%|█████▍    | 540/1000 [00:01<00:01, 410.62it/s]\n"
          ]
        },
        {
          "output_type": "stream",
          "name": "stdout",
          "text": [
            " sample 0: predicted_skeleton: 1x1expx18(4sin*\n"
          ]
        },
        {
          "output_type": "error",
          "ename": "KeyboardInterrupt",
          "evalue": "",
          "traceback": [
            "\u001b[0;31m---------------------------------------------------------------------------\u001b[0m",
            "\u001b[0;31mKeyboardInterrupt\u001b[0m                         Traceback (most recent call last)",
            "\u001b[0;32m<ipython-input-68-6cf267665b7f>\u001b[0m in \u001b[0;36m<cell line: 0>\u001b[0;34m()\u001b[0m\n\u001b[1;32m     27\u001b[0m \u001b[0;34m\u001b[0m\u001b[0m\n\u001b[1;32m     28\u001b[0m \u001b[0mprint\u001b[0m\u001b[0;34m(\u001b[0m\u001b[0;34m\"Testing SymbolicDiffusion model...\"\u001b[0m\u001b[0;34m)\u001b[0m\u001b[0;34m\u001b[0m\u001b[0;34m\u001b[0m\u001b[0m\n\u001b[0;32m---> 29\u001b[0;31m \u001b[0mtest_results\u001b[0m \u001b[0;34m=\u001b[0m \u001b[0mtest_model\u001b[0m\u001b[0;34m(\u001b[0m\u001b[0mmodel\u001b[0m\u001b[0;34m,\u001b[0m \u001b[0mtest_loader\u001b[0m\u001b[0;34m,\u001b[0m \u001b[0mtextTest\u001b[0m\u001b[0;34m,\u001b[0m \u001b[0mtrain_dataset\u001b[0m\u001b[0;34m,\u001b[0m \u001b[0mdevice\u001b[0m\u001b[0;34m)\u001b[0m\u001b[0;34m\u001b[0m\u001b[0;34m\u001b[0m\u001b[0m\n\u001b[0m\u001b[1;32m     30\u001b[0m \u001b[0;34m\u001b[0m\u001b[0m\n\u001b[1;32m     31\u001b[0m \u001b[0mprint\u001b[0m\u001b[0;34m(\u001b[0m\u001b[0;34m\"\\nSummary:\"\u001b[0m\u001b[0;34m)\u001b[0m\u001b[0;34m\u001b[0m\u001b[0;34m\u001b[0m\u001b[0m\n",
            "\u001b[0;32m/usr/local/lib/python3.11/dist-packages/torch/utils/_contextlib.py\u001b[0m in \u001b[0;36mdecorate_context\u001b[0;34m(*args, **kwargs)\u001b[0m\n\u001b[1;32m    114\u001b[0m     \u001b[0;32mdef\u001b[0m \u001b[0mdecorate_context\u001b[0m\u001b[0;34m(\u001b[0m\u001b[0;34m*\u001b[0m\u001b[0margs\u001b[0m\u001b[0;34m,\u001b[0m \u001b[0;34m**\u001b[0m\u001b[0mkwargs\u001b[0m\u001b[0;34m)\u001b[0m\u001b[0;34m:\u001b[0m\u001b[0;34m\u001b[0m\u001b[0;34m\u001b[0m\u001b[0m\n\u001b[1;32m    115\u001b[0m         \u001b[0;32mwith\u001b[0m \u001b[0mctx_factory\u001b[0m\u001b[0;34m(\u001b[0m\u001b[0;34m)\u001b[0m\u001b[0;34m:\u001b[0m\u001b[0;34m\u001b[0m\u001b[0;34m\u001b[0m\u001b[0m\n\u001b[0;32m--> 116\u001b[0;31m             \u001b[0;32mreturn\u001b[0m \u001b[0mfunc\u001b[0m\u001b[0;34m(\u001b[0m\u001b[0;34m*\u001b[0m\u001b[0margs\u001b[0m\u001b[0;34m,\u001b[0m \u001b[0;34m**\u001b[0m\u001b[0mkwargs\u001b[0m\u001b[0;34m)\u001b[0m\u001b[0;34m\u001b[0m\u001b[0;34m\u001b[0m\u001b[0m\n\u001b[0m\u001b[1;32m    117\u001b[0m \u001b[0;34m\u001b[0m\u001b[0m\n\u001b[1;32m    118\u001b[0m     \u001b[0;32mreturn\u001b[0m \u001b[0mdecorate_context\u001b[0m\u001b[0;34m\u001b[0m\u001b[0;34m\u001b[0m\u001b[0m\n",
            "\u001b[0;32m<ipython-input-67-015bed9f0990>\u001b[0m in \u001b[0;36mtest_model\u001b[0;34m(model, test_loader, textTest, train_dataset, device)\u001b[0m\n\u001b[1;32m     25\u001b[0m         \u001b[0mvariables\u001b[0m \u001b[0;34m=\u001b[0m \u001b[0mvariables\u001b[0m\u001b[0;34m.\u001b[0m\u001b[0mto\u001b[0m\u001b[0;34m(\u001b[0m\u001b[0mdevice\u001b[0m\u001b[0;34m)\u001b[0m\u001b[0;34m\u001b[0m\u001b[0;34m\u001b[0m\u001b[0m\n\u001b[1;32m     26\u001b[0m         \u001b[0mB\u001b[0m \u001b[0;34m=\u001b[0m \u001b[0mpoints\u001b[0m\u001b[0;34m.\u001b[0m\u001b[0mshape\u001b[0m\u001b[0;34m[\u001b[0m\u001b[0;36m0\u001b[0m\u001b[0;34m]\u001b[0m\u001b[0;34m\u001b[0m\u001b[0;34m\u001b[0m\u001b[0m\n\u001b[0;32m---> 27\u001b[0;31m         \u001b[0mpredicted_skeletons\u001b[0m \u001b[0;34m=\u001b[0m \u001b[0mmodel\u001b[0m\u001b[0;34m.\u001b[0m\u001b[0msample\u001b[0m\u001b[0;34m(\u001b[0m\u001b[0mpoints\u001b[0m\u001b[0;34m,\u001b[0m \u001b[0mvariables\u001b[0m\u001b[0;34m,\u001b[0m \u001b[0mtrain_dataset\u001b[0m\u001b[0;34m,\u001b[0m \u001b[0mB\u001b[0m\u001b[0;34m)\u001b[0m\u001b[0;34m\u001b[0m\u001b[0;34m\u001b[0m\u001b[0m\n\u001b[0m\u001b[1;32m     28\u001b[0m \u001b[0;34m\u001b[0m\u001b[0m\n\u001b[1;32m     29\u001b[0m         \u001b[0;32mfor\u001b[0m \u001b[0mi\u001b[0m \u001b[0;32min\u001b[0m \u001b[0mrange\u001b[0m\u001b[0;34m(\u001b[0m\u001b[0mB\u001b[0m\u001b[0;34m)\u001b[0m\u001b[0;34m:\u001b[0m\u001b[0;34m\u001b[0m\u001b[0;34m\u001b[0m\u001b[0m\n",
            "\u001b[0;32m/usr/local/lib/python3.11/dist-packages/torch/utils/_contextlib.py\u001b[0m in \u001b[0;36mdecorate_context\u001b[0;34m(*args, **kwargs)\u001b[0m\n\u001b[1;32m    114\u001b[0m     \u001b[0;32mdef\u001b[0m \u001b[0mdecorate_context\u001b[0m\u001b[0;34m(\u001b[0m\u001b[0;34m*\u001b[0m\u001b[0margs\u001b[0m\u001b[0;34m,\u001b[0m \u001b[0;34m**\u001b[0m\u001b[0mkwargs\u001b[0m\u001b[0;34m)\u001b[0m\u001b[0;34m:\u001b[0m\u001b[0;34m\u001b[0m\u001b[0;34m\u001b[0m\u001b[0m\n\u001b[1;32m    115\u001b[0m         \u001b[0;32mwith\u001b[0m \u001b[0mctx_factory\u001b[0m\u001b[0;34m(\u001b[0m\u001b[0;34m)\u001b[0m\u001b[0;34m:\u001b[0m\u001b[0;34m\u001b[0m\u001b[0;34m\u001b[0m\u001b[0m\n\u001b[0;32m--> 116\u001b[0;31m             \u001b[0;32mreturn\u001b[0m \u001b[0mfunc\u001b[0m\u001b[0;34m(\u001b[0m\u001b[0;34m*\u001b[0m\u001b[0margs\u001b[0m\u001b[0;34m,\u001b[0m \u001b[0;34m**\u001b[0m\u001b[0mkwargs\u001b[0m\u001b[0;34m)\u001b[0m\u001b[0;34m\u001b[0m\u001b[0;34m\u001b[0m\u001b[0m\n\u001b[0m\u001b[1;32m    117\u001b[0m \u001b[0;34m\u001b[0m\u001b[0m\n\u001b[1;32m    118\u001b[0m     \u001b[0;32mreturn\u001b[0m \u001b[0mdecorate_context\u001b[0m\u001b[0;34m\u001b[0m\u001b[0;34m\u001b[0m\u001b[0m\n",
            "\u001b[0;32m<ipython-input-56-e2406915bf8f>\u001b[0m in \u001b[0;36msample\u001b[0;34m(self, points, variables, train_dataset, batch_size)\u001b[0m\n\u001b[1;32m    198\u001b[0m                 \u001b[0;32melse\u001b[0m \u001b[0mtorch\u001b[0m\u001b[0;34m.\u001b[0m\u001b[0mtensor\u001b[0m\u001b[0;34m(\u001b[0m\u001b[0;36m0\u001b[0m\u001b[0;34m,\u001b[0m \u001b[0mdevice\u001b[0m\u001b[0;34m=\u001b[0m\u001b[0mself\u001b[0m\u001b[0;34m.\u001b[0m\u001b[0mdevice\u001b[0m\u001b[0;34m)\u001b[0m\u001b[0;34m\u001b[0m\u001b[0;34m\u001b[0m\u001b[0m\n\u001b[1;32m    199\u001b[0m             )\n\u001b[0;32m--> 200\u001b[0;31m             \u001b[0mx\u001b[0m \u001b[0;34m=\u001b[0m \u001b[0mself\u001b[0m\u001b[0;34m.\u001b[0m\u001b[0mp_sample\u001b[0m\u001b[0;34m(\u001b[0m\u001b[0mx\u001b[0m\u001b[0;34m,\u001b[0m \u001b[0mt\u001b[0m\u001b[0;34m,\u001b[0m \u001b[0mt_next\u001b[0m\u001b[0;34m,\u001b[0m \u001b[0mcondition\u001b[0m\u001b[0;34m)\u001b[0m\u001b[0;34m\u001b[0m\u001b[0;34m\u001b[0m\u001b[0m\n\u001b[0m\u001b[1;32m    201\u001b[0m \u001b[0;34m\u001b[0m\u001b[0m\n\u001b[1;32m    202\u001b[0m             \u001b[0;31m# Print prediction every 250 steps\u001b[0m\u001b[0;34m\u001b[0m\u001b[0;34m\u001b[0m\u001b[0m\n",
            "\u001b[0;32m/usr/local/lib/python3.11/dist-packages/torch/utils/_contextlib.py\u001b[0m in \u001b[0;36mdecorate_context\u001b[0;34m(*args, **kwargs)\u001b[0m\n\u001b[1;32m    114\u001b[0m     \u001b[0;32mdef\u001b[0m \u001b[0mdecorate_context\u001b[0m\u001b[0;34m(\u001b[0m\u001b[0;34m*\u001b[0m\u001b[0margs\u001b[0m\u001b[0;34m,\u001b[0m \u001b[0;34m**\u001b[0m\u001b[0mkwargs\u001b[0m\u001b[0;34m)\u001b[0m\u001b[0;34m:\u001b[0m\u001b[0;34m\u001b[0m\u001b[0;34m\u001b[0m\u001b[0m\n\u001b[1;32m    115\u001b[0m         \u001b[0;32mwith\u001b[0m \u001b[0mctx_factory\u001b[0m\u001b[0;34m(\u001b[0m\u001b[0;34m)\u001b[0m\u001b[0;34m:\u001b[0m\u001b[0;34m\u001b[0m\u001b[0;34m\u001b[0m\u001b[0m\n\u001b[0;32m--> 116\u001b[0;31m             \u001b[0;32mreturn\u001b[0m \u001b[0mfunc\u001b[0m\u001b[0;34m(\u001b[0m\u001b[0;34m*\u001b[0m\u001b[0margs\u001b[0m\u001b[0;34m,\u001b[0m \u001b[0;34m**\u001b[0m\u001b[0mkwargs\u001b[0m\u001b[0;34m)\u001b[0m\u001b[0;34m\u001b[0m\u001b[0;34m\u001b[0m\u001b[0m\n\u001b[0m\u001b[1;32m    117\u001b[0m \u001b[0;34m\u001b[0m\u001b[0m\n\u001b[1;32m    118\u001b[0m     \u001b[0;32mreturn\u001b[0m \u001b[0mdecorate_context\u001b[0m\u001b[0;34m\u001b[0m\u001b[0;34m\u001b[0m\u001b[0m\n",
            "\u001b[0;32m<ipython-input-56-e2406915bf8f>\u001b[0m in \u001b[0;36mp_sample\u001b[0;34m(self, x, t, t_next, condition)\u001b[0m\n\u001b[1;32m    176\u001b[0m     \u001b[0;34m@\u001b[0m\u001b[0mtorch\u001b[0m\u001b[0;34m.\u001b[0m\u001b[0mno_grad\u001b[0m\u001b[0;34m(\u001b[0m\u001b[0;34m)\u001b[0m\u001b[0;34m\u001b[0m\u001b[0;34m\u001b[0m\u001b[0m\n\u001b[1;32m    177\u001b[0m     \u001b[0;32mdef\u001b[0m \u001b[0mp_sample\u001b[0m\u001b[0;34m(\u001b[0m\u001b[0mself\u001b[0m\u001b[0;34m,\u001b[0m \u001b[0mx\u001b[0m\u001b[0;34m,\u001b[0m \u001b[0mt\u001b[0m\u001b[0;34m,\u001b[0m \u001b[0mt_next\u001b[0m\u001b[0;34m,\u001b[0m \u001b[0mcondition\u001b[0m\u001b[0;34m)\u001b[0m\u001b[0;34m:\u001b[0m\u001b[0;34m\u001b[0m\u001b[0;34m\u001b[0m\u001b[0m\n\u001b[0;32m--> 178\u001b[0;31m         \u001b[0mmean\u001b[0m\u001b[0;34m,\u001b[0m \u001b[0mvariance\u001b[0m \u001b[0;34m=\u001b[0m \u001b[0mself\u001b[0m\u001b[0;34m.\u001b[0m\u001b[0mp_mean_variance\u001b[0m\u001b[0;34m(\u001b[0m\u001b[0mx\u001b[0m\u001b[0;34m,\u001b[0m \u001b[0mt\u001b[0m\u001b[0;34m,\u001b[0m \u001b[0mt_next\u001b[0m\u001b[0;34m,\u001b[0m \u001b[0mcondition\u001b[0m\u001b[0;34m)\u001b[0m\u001b[0;34m\u001b[0m\u001b[0;34m\u001b[0m\u001b[0m\n\u001b[0m\u001b[1;32m    179\u001b[0m         \u001b[0;32mif\u001b[0m \u001b[0mtorch\u001b[0m\u001b[0;34m.\u001b[0m\u001b[0mall\u001b[0m\u001b[0;34m(\u001b[0m\u001b[0mt_next\u001b[0m \u001b[0;34m==\u001b[0m \u001b[0;36m0\u001b[0m\u001b[0;34m)\u001b[0m\u001b[0;34m:\u001b[0m\u001b[0;34m\u001b[0m\u001b[0;34m\u001b[0m\u001b[0m\n\u001b[1;32m    180\u001b[0m             \u001b[0;32mreturn\u001b[0m \u001b[0mmean\u001b[0m\u001b[0;34m\u001b[0m\u001b[0;34m\u001b[0m\u001b[0m\n",
            "\u001b[0;32m<ipython-input-56-e2406915bf8f>\u001b[0m in \u001b[0;36mp_mean_variance\u001b[0;34m(self, x, t, t_next, condition)\u001b[0m\n\u001b[1;32m    168\u001b[0m         \u001b[0mx_start_pred\u001b[0m \u001b[0;34m=\u001b[0m \u001b[0mself\u001b[0m\u001b[0;34m.\u001b[0m\u001b[0mmodel\u001b[0m\u001b[0;34m(\u001b[0m\u001b[0mx\u001b[0m\u001b[0;34m,\u001b[0m \u001b[0mt\u001b[0m\u001b[0;34m.\u001b[0m\u001b[0mlong\u001b[0m\u001b[0;34m(\u001b[0m\u001b[0;34m)\u001b[0m\u001b[0;34m,\u001b[0m \u001b[0mcondition\u001b[0m\u001b[0;34m)\u001b[0m\u001b[0;34m\u001b[0m\u001b[0;34m\u001b[0m\u001b[0m\n\u001b[1;32m    169\u001b[0m \u001b[0;34m\u001b[0m\u001b[0m\n\u001b[0;32m--> 170\u001b[0;31m         \u001b[0mcoeff1\u001b[0m \u001b[0;34m=\u001b[0m \u001b[0mtorch\u001b[0m\u001b[0;34m.\u001b[0m\u001b[0msqrt\u001b[0m\u001b[0;34m(\u001b[0m\u001b[0malpha_bar_t_next\u001b[0m\u001b[0;34m)\u001b[0m \u001b[0;34m*\u001b[0m \u001b[0mbeta_t\u001b[0m \u001b[0;34m/\u001b[0m \u001b[0;34m(\u001b[0m\u001b[0;36m1\u001b[0m \u001b[0;34m-\u001b[0m \u001b[0malpha_bar_t\u001b[0m\u001b[0;34m)\u001b[0m\u001b[0;34m\u001b[0m\u001b[0;34m\u001b[0m\u001b[0m\n\u001b[0m\u001b[1;32m    171\u001b[0m         \u001b[0mcoeff2\u001b[0m \u001b[0;34m=\u001b[0m \u001b[0mtorch\u001b[0m\u001b[0;34m.\u001b[0m\u001b[0msqrt\u001b[0m\u001b[0;34m(\u001b[0m\u001b[0malpha_t\u001b[0m\u001b[0;34m)\u001b[0m \u001b[0;34m*\u001b[0m \u001b[0;34m(\u001b[0m\u001b[0;36m1\u001b[0m \u001b[0;34m-\u001b[0m \u001b[0malpha_bar_t_next\u001b[0m\u001b[0;34m)\u001b[0m \u001b[0;34m/\u001b[0m \u001b[0;34m(\u001b[0m\u001b[0;36m1\u001b[0m \u001b[0;34m-\u001b[0m \u001b[0malpha_bar_t\u001b[0m\u001b[0;34m)\u001b[0m\u001b[0;34m\u001b[0m\u001b[0;34m\u001b[0m\u001b[0m\n\u001b[1;32m    172\u001b[0m         \u001b[0mmean\u001b[0m \u001b[0;34m=\u001b[0m \u001b[0mcoeff1\u001b[0m \u001b[0;34m*\u001b[0m \u001b[0mx_start_pred\u001b[0m \u001b[0;34m+\u001b[0m \u001b[0mcoeff2\u001b[0m \u001b[0;34m*\u001b[0m \u001b[0mx\u001b[0m\u001b[0;34m\u001b[0m\u001b[0;34m\u001b[0m\u001b[0m\n",
            "\u001b[0;32m/usr/local/lib/python3.11/dist-packages/torch/_tensor.py\u001b[0m in \u001b[0;36mwrapped\u001b[0;34m(*args, **kwargs)\u001b[0m\n\u001b[1;32m     31\u001b[0m     \u001b[0massigned\u001b[0m \u001b[0;34m=\u001b[0m \u001b[0mfunctools\u001b[0m\u001b[0;34m.\u001b[0m\u001b[0mWRAPPER_ASSIGNMENTS\u001b[0m\u001b[0;34m\u001b[0m\u001b[0;34m\u001b[0m\u001b[0m\n\u001b[1;32m     32\u001b[0m \u001b[0;34m\u001b[0m\u001b[0m\n\u001b[0;32m---> 33\u001b[0;31m     \u001b[0;34m@\u001b[0m\u001b[0mfunctools\u001b[0m\u001b[0;34m.\u001b[0m\u001b[0mwraps\u001b[0m\u001b[0;34m(\u001b[0m\u001b[0mf\u001b[0m\u001b[0;34m,\u001b[0m \u001b[0massigned\u001b[0m\u001b[0;34m=\u001b[0m\u001b[0massigned\u001b[0m\u001b[0;34m)\u001b[0m\u001b[0;34m\u001b[0m\u001b[0;34m\u001b[0m\u001b[0m\n\u001b[0m\u001b[1;32m     34\u001b[0m     \u001b[0;32mdef\u001b[0m \u001b[0mwrapped\u001b[0m\u001b[0;34m(\u001b[0m\u001b[0;34m*\u001b[0m\u001b[0margs\u001b[0m\u001b[0;34m,\u001b[0m \u001b[0;34m**\u001b[0m\u001b[0mkwargs\u001b[0m\u001b[0;34m)\u001b[0m\u001b[0;34m:\u001b[0m\u001b[0;34m\u001b[0m\u001b[0;34m\u001b[0m\u001b[0m\n\u001b[1;32m     35\u001b[0m         \u001b[0;32mtry\u001b[0m\u001b[0;34m:\u001b[0m\u001b[0;34m\u001b[0m\u001b[0;34m\u001b[0m\u001b[0m\n",
            "\u001b[0;31mKeyboardInterrupt\u001b[0m: "
          ]
        }
      ],
      "source": [
        "pconfig = PointNetConfig(\n",
        "    embeddingSize=n_embd,\n",
        "    numberofPoints=250,\n",
        "    numberofVars=1,\n",
        "    numberofYs=1,\n",
        ")\n",
        "model = SymbolicGaussianDiffusion(\n",
        "    tnet_config=pconfig,\n",
        "    vocab_size=train_dataset.vocab_size,\n",
        "    max_seq_len=32,\n",
        "    padding_idx=test_dataset.paddingID,\n",
        "    max_num_vars=9,\n",
        "    n_layer=4,\n",
        "    n_head=4,\n",
        "    n_embd=n_embd,\n",
        "    timesteps=timesteps,\n",
        "    beta_start=0.0001,\n",
        "    beta_end=0.02,\n",
        ").to(device)\n",
        "\n",
        "\n",
        "print(train_dataset.itos)\n",
        "\n",
        "model_path = \"/content/drive/MyDrive/Colab Notebooks/STAT946_proj/models/best_model_116.pth\"\n",
        "model.load_state_dict(torch.load(model_path, map_location=device, weights_only=True))\n",
        "model.eval()\n",
        "\n",
        "print(\"Testing SymbolicDiffusion model...\")\n",
        "test_results = test_model(model, test_loader, textTest, train_dataset, device)\n",
        "\n",
        "print(\"\\nSummary:\")\n",
        "for i in range(len(test_results['target'])):\n",
        "    print(f\"Sample {i+1}:\")\n",
        "    print(f\"  Target: {test_results['target'][i]}\")\n",
        "    print(f\"  Predicted Skeleton: {test_results['predicted_skeleton'][i]}\")\n",
        "    print(f\"  Predicted: {test_results['predicted'][i]}\")\n",
        "    print(f\"  Error: {test_results['error'][i]:.6f}\")"
      ]
    }
  ],
  "metadata": {
    "accelerator": "GPU",
    "colab": {
      "gpuType": "T4",
      "provenance": [],
      "include_colab_link": true
    },
    "kernelspec": {
      "display_name": "Python 3",
      "name": "python3"
    },
    "language_info": {
      "name": "python",
      "version": "3.13.1"
    }
  },
  "nbformat": 4,
  "nbformat_minor": 5
}