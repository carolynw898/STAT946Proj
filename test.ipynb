{
  "cells": [
    {
      "cell_type": "markdown",
      "metadata": {
        "id": "view-in-github",
        "colab_type": "text"
      },
      "source": [
        "<a href=\"https://colab.research.google.com/github/carolynw898/STAT946Proj/blob/main/test.ipynb\" target=\"_parent\"><img src=\"https://colab.research.google.com/assets/colab-badge.svg\" alt=\"Open In Colab\"/></a>"
      ]
    },
    {
      "cell_type": "code",
      "execution_count": 16,
      "id": "45b33175",
      "metadata": {
        "id": "45b33175"
      },
      "outputs": [],
      "source": [
        "from utils import lossFunc, relativeErr\n",
        "import torch\n",
        "from torch.utils.data import DataLoader"
      ]
    },
    {
      "cell_type": "code",
      "execution_count": null,
      "id": "3CmZzXN5ny5A",
      "metadata": {
        "colab": {
          "base_uri": "https://localhost:8080/"
        },
        "id": "3CmZzXN5ny5A",
        "outputId": "4516c9f0-06b0-4b74-afdb-572e11e6b06a"
      },
      "outputs": [
        {
          "output_type": "stream",
          "name": "stdout",
          "text": [
            "Mounted at /content/drive\n"
          ]
        }
      ],
      "source": [
        "from google.colab import drive\n",
        "drive.mount('/content/drive')"
      ]
    },
    {
      "cell_type": "code",
      "execution_count": 17,
      "id": "aee353d1",
      "metadata": {
        "id": "aee353d1"
      },
      "outputs": [],
      "source": [
        "n_embd = 512\n",
        "timesteps = 1000\n",
        "batch_size = 1\n",
        "learning_rate = 1e-4\n",
        "num_epochs = 10\n",
        "blockSize = 32\n",
        "testBlockSize = 400\n",
        "numVars = 1\n",
        "numYs = 1\n",
        "numPoints = 250\n",
        "target = 'Skeleton'\n",
        "const_range = [-2.1, 2.1]\n",
        "trainRange = [-3.0, 3.0]\n",
        "decimals = 8\n",
        "addVars = False\n",
        "device = torch.device(\"cuda\" if torch.cuda.is_available() else \"cpu\")"
      ]
    },
    {
      "cell_type": "code",
      "source": [
        "import numpy as np\n",
        "import glob\n",
        "from utils import processDataFiles, CharDataset\n",
        "import random\n",
        "import json\n",
        "\n",
        "files = glob.glob(\"/content/drive/MyDrive/Colab Notebooks/STAT946_proj/data/1_var_train.json\")\n",
        "text = processDataFiles(files)\n",
        "text = text.split('\\n') # convert the raw text to a set of examples\n",
        "# skeletons = []\n",
        "skeletons = [json.loads(item)['Skeleton'] for item in text if item.strip()]\n",
        "all_tokens = set()\n",
        "for eq in skeletons:\n",
        "    all_tokens.update(tokenize_equation(eq))\n",
        "integers = {'0', '1', '2', '3', '4', '5', '6', '7', '8', '9'}\n",
        "all_tokens.update(integers)  # add all integers to the token set\n",
        "tokens = sorted(list(all_tokens) + ['_', 'T', '<', '>', ':'])  # special tokens\n",
        "trainText = text[:-1] if len(text[-1]) == 0 else text\n",
        "random.shuffle(trainText) # shuffle the dataset, it's important specailly for the combined number of variables experiment\n",
        "train_dataset = CharDataset(trainText, blockSize, tokens=tokens, numVars=numVars,\n",
        "                        numYs=numYs, numPoints=numPoints, target=target, addVars=addVars,\n",
        "                        const_range=const_range, xRange=trainRange, decimals=decimals)\n",
        "\n",
        "idx = np.random.randint(train_dataset.__len__())\n",
        "inputs, outputs, points, variables = train_dataset.__getitem__(idx)\n",
        "inputs = ''.join([train_dataset.itos[int(i)] for i in inputs])\n",
        "outputs = ''.join([train_dataset.itos[int(i)] for i in outputs])\n",
        "print('id:{}\\noutputs:{}\\nvariables:{}'.format(idx,outputs,variables))"
      ],
      "metadata": {
        "colab": {
          "base_uri": "https://localhost:8080/"
        },
        "id": "JvNAveGHCEae",
        "outputId": "54fa26b3-0d8a-4481-85fd-21b1bec15a16"
      },
      "id": "JvNAveGHCEae",
      "execution_count": 19,
      "outputs": [
        {
          "output_type": "stream",
          "name": "stdout",
          "text": [
            "data has 498795 examples, 27 unique.\n",
            "id:389634\n",
            "outputs:C*x1/(C*x1+C)+C>__________________\n",
            "variables:1\n"
          ]
        }
      ]
    },
    {
      "cell_type": "code",
      "source": [
        "files = glob.glob(\"/content/drive/MyDrive/Colab Notebooks/STAT946_proj/data/1_var_test.json\")\n",
        "textTest = processDataFiles([files[0]])\n",
        "textTest = textTest.split('\\n') # convert the raw text to a set of examples\n",
        "test_dataset = CharDataset(textTest, blockSize, tokens=tokens, numVars=numVars,\n",
        "                        numYs=numYs, numPoints=numPoints, target=target, addVars=addVars,\n",
        "                        const_range=const_range, xRange=trainRange, decimals=decimals)\n",
        "\n",
        "# print a random sample\n",
        "idx = np.random.randint(test_dataset.__len__())\n",
        "inputs, outputs, points, variables = test_dataset.__getitem__(idx)\n",
        "print(points.min(), points.max())\n",
        "inputs = ''.join([train_dataset.itos[int(i)] for i in inputs])\n",
        "outputs = ''.join([train_dataset.itos[int(i)] for i in outputs])\n",
        "print('id:{}\\noutputs:{}\\nvariables:{}'.format(idx,outputs,variables))\n",
        "\n",
        "test_loader = DataLoader(\n",
        "        test_dataset,\n",
        "        batch_size=batch_size,\n",
        "        pin_memory=True,\n",
        "        shuffle=False,\n",
        "        num_workers=2\n",
        "    )"
      ],
      "metadata": {
        "colab": {
          "base_uri": "https://localhost:8080/"
        },
        "id": "Xnj3g0a0_5R1",
        "outputId": "74c64f26-be46-48e2-83df-5b8406db6a18"
      },
      "id": "Xnj3g0a0_5R1",
      "execution_count": 20,
      "outputs": [
        {
          "output_type": "stream",
          "name": "stdout",
          "text": [
            "data has 967 examples, 27 unique.\n",
            "tensor(-25.4849) tensor(2.6692)\n",
            "id:719\n",
            "outputs:C*sin(C*x1**5+C*x1**4+C*x1**3+C*x1**2+C*x1)\n",
            "variables:1\n"
          ]
        }
      ]
    },
    {
      "cell_type": "code",
      "source": [
        "import torch\n",
        "import torch.nn as nn\n",
        "from torch.nn import functional as F\n",
        "from typing import Tuple\n",
        "from utils import CharDataset\n",
        "from sympy import sympify, SympifyError\n",
        "from tqdm import tqdm\n",
        "\n",
        "\n",
        "# from SymbolicGPT: https://github.com/mojivalipour/symbolicgpt/blob/master/models.py\n",
        "class PointNetConfig:\n",
        "    \"\"\"base PointNet config\"\"\"\n",
        "\n",
        "    def __init__(\n",
        "        self,\n",
        "        embeddingSize,\n",
        "        numberofPoints,\n",
        "        numberofVars,\n",
        "        numberofYs,\n",
        "        method=\"GPT\",\n",
        "        varibleEmbedding=\"NOT_VAR\",\n",
        "        **kwargs,\n",
        "    ):\n",
        "        self.embeddingSize = embeddingSize\n",
        "        self.numberofPoints = numberofPoints  # number of points\n",
        "        self.numberofVars = numberofVars  # input dimension (Xs)\n",
        "        self.numberofYs = numberofYs  # output dimension (Ys)\n",
        "        self.method = method\n",
        "        self.varibleEmbedding = varibleEmbedding\n",
        "\n",
        "        for k, v in kwargs.items():\n",
        "            setattr(self, k, v)\n",
        "\n",
        "\n",
        "class tNet(nn.Module):\n",
        "    \"\"\"\n",
        "    The PointNet structure in the orginal PointNet paper:\n",
        "    PointNet: Deep Learning on Point Sets for 3D Classification and Segmentation by Qi et. al. 2017\n",
        "    \"\"\"\n",
        "\n",
        "    def __init__(self, config):\n",
        "        super(tNet, self).__init__()\n",
        "\n",
        "        self.activation_func = F.relu\n",
        "        self.num_units = config.embeddingSize\n",
        "\n",
        "        self.conv1 = nn.Conv1d(\n",
        "            config.numberofVars + config.numberofYs, self.num_units, 1\n",
        "        )\n",
        "        self.conv2 = nn.Conv1d(self.num_units, 2 * self.num_units, 1)\n",
        "        self.conv3 = nn.Conv1d(2 * self.num_units, 4 * self.num_units, 1)\n",
        "        self.fc1 = nn.Linear(4 * self.num_units, 2 * self.num_units)\n",
        "        self.fc2 = nn.Linear(2 * self.num_units, self.num_units)\n",
        "\n",
        "        # self.relu = nn.ReLU()\n",
        "\n",
        "        self.input_batch_norm = nn.BatchNorm1d(config.numberofVars + config.numberofYs)\n",
        "        # self.input_layer_norm = nn.LayerNorm(config.numberofPoints)\n",
        "\n",
        "        self.bn1 = nn.BatchNorm1d(self.num_units)\n",
        "        self.bn2 = nn.BatchNorm1d(2 * self.num_units)\n",
        "        self.bn3 = nn.BatchNorm1d(4 * self.num_units)\n",
        "        self.bn4 = nn.BatchNorm1d(2 * self.num_units)\n",
        "        self.bn5 = nn.BatchNorm1d(self.num_units)\n",
        "\n",
        "    def forward(self, x):\n",
        "        \"\"\"\n",
        "        :param x: [batch, #features, #points]\n",
        "        :return:\n",
        "            logit: [batch, embedding_size]\n",
        "        \"\"\"\n",
        "        x = self.input_batch_norm(x)\n",
        "        x = self.activation_func(self.bn1(self.conv1(x)))\n",
        "        x = self.activation_func(self.bn2(self.conv2(x)))\n",
        "        x = self.activation_func(self.bn3(self.conv3(x)))\n",
        "        x, _ = torch.max(x, dim=2)  # global max pooling\n",
        "        assert x.size(1) == 4 * self.num_units\n",
        "\n",
        "        x = self.activation_func(self.bn4(self.fc1(x)))\n",
        "        x = self.activation_func(self.bn5(self.fc2(x)))\n",
        "        # x = self.fc2(x)\n",
        "\n",
        "        return x\n",
        "\n",
        "\n",
        "class NoisePredictionTransformer(nn.Module):\n",
        "    def __init__(self, n_embd, max_seq_len, n_layer=6, n_head=8, max_timesteps=1000):\n",
        "        super().__init__()\n",
        "        self.pos_emb = nn.Parameter(torch.zeros(1, max_seq_len, n_embd))\n",
        "        self.time_emb = nn.Embedding(max_timesteps, n_embd)\n",
        "        encoder_layer = nn.TransformerEncoderLayer(\n",
        "            d_model=n_embd,\n",
        "            nhead=n_head,\n",
        "            dim_feedforward=n_embd * 4,\n",
        "            activation=\"gelu\",\n",
        "            batch_first=True,\n",
        "        )\n",
        "        self.encoder = nn.TransformerEncoder(encoder_layer, num_layers=n_layer)\n",
        "\n",
        "    def forward(self, x_t, t, condition):\n",
        "        B, L, _ = x_t.shape\n",
        "        pos_emb = self.pos_emb[:, :L, :]  # [1, L, n_embd]\n",
        "        time_emb = self.time_emb(t)\n",
        "        if time_emb.dim() == 1:  # Scalar t case, [512]\n",
        "            time_emb = time_emb.unsqueeze(0)  # [1, 512]\n",
        "        time_emb = time_emb.unsqueeze(1)  # [1, 1, n_embd]\n",
        "        condition = condition.unsqueeze(1)  # [B, 1, n_embd]\n",
        "\n",
        "        # Expand to match sequence length L\n",
        "        time_emb = time_emb.expand(B, L, -1)  # [B, L, n_embd]\n",
        "\n",
        "        x = x_t + pos_emb + time_emb + condition\n",
        "        return self.encoder(x)\n",
        "\n",
        "\n",
        "# Symbolic Diffusion with Hybrid Loss\n",
        "class SymbolicGaussianDiffusion(nn.Module):\n",
        "    def __init__(\n",
        "        self,\n",
        "        tnet_config,\n",
        "        vocab_size,\n",
        "        max_seq_len,\n",
        "        padding_idx: int = 0,\n",
        "        max_num_vars: int = 9,\n",
        "        n_layer=6,\n",
        "        n_head=8,\n",
        "        n_embd=512,\n",
        "        timesteps=1000,\n",
        "        beta_start=0.0001,\n",
        "        beta_end=0.02,\n",
        "        ce_weight=1.0,  # Weight for CE loss relative to MSE\n",
        "    ):\n",
        "        super().__init__()\n",
        "        self.vocab_size = vocab_size\n",
        "        self.max_seq_len = max_seq_len\n",
        "        self.padding_idx = padding_idx\n",
        "        self.n_embd = n_embd\n",
        "        self.timesteps = timesteps\n",
        "        self.ce_weight = ce_weight\n",
        "\n",
        "        self.device = torch.device(\"cuda\" if torch.cuda.is_available() else \"cpu\")\n",
        "\n",
        "        # Embedding layers\n",
        "        self.tok_emb = nn.Embedding(vocab_size, n_embd, padding_idx=self.padding_idx)\n",
        "        self.vars_emb = nn.Embedding(max_num_vars, n_embd)\n",
        "\n",
        "        # Decoder\n",
        "        self.decoder = nn.Linear(n_embd, vocab_size, bias=False)\n",
        "        self.decoder.weight = self.tok_emb.weight\n",
        "\n",
        "        # Models\n",
        "        self.tnet = tNet(tnet_config)\n",
        "        self.model = NoisePredictionTransformer(\n",
        "            n_embd, max_seq_len, n_layer, n_head, timesteps\n",
        "        )\n",
        "\n",
        "        # Noise schedule\n",
        "        self.register_buffer(\"beta\", torch.linspace(beta_start, beta_end, timesteps))\n",
        "        self.register_buffer(\"alpha\", 1.0 - self.beta)\n",
        "        self.register_buffer(\"alpha_bar\", torch.cumprod(self.alpha, dim=0))\n",
        "\n",
        "    def q_sample(self, x_start, t, noise=None):\n",
        "        noise = torch.randn_like(x_start)\n",
        "        sqrt_alpha_bar = torch.sqrt(self.alpha_bar[t]).view(-1, 1, 1)\n",
        "        sqrt_one_minus_alpha_bar = torch.sqrt(1 - self.alpha_bar[t]).view(-1, 1, 1)\n",
        "\n",
        "        x_t = sqrt_alpha_bar * x_start + sqrt_one_minus_alpha_bar * noise\n",
        "        return x_t\n",
        "\n",
        "    def p_mean_variance(self, x, t, t_next, condition):\n",
        "        alpha_t = self.alpha[t]\n",
        "        alpha_bar_t = self.alpha_bar[t]\n",
        "        alpha_bar_t_next = self.alpha_bar[t_next]\n",
        "        beta_t = self.beta[t]\n",
        "\n",
        "        x_start_pred = self.model(x, t.long(), condition)\n",
        "\n",
        "        coeff1 = torch.sqrt(alpha_bar_t_next) * beta_t / (1 - alpha_bar_t)\n",
        "        coeff2 = torch.sqrt(alpha_t) * (1 - alpha_bar_t_next) / (1 - alpha_bar_t)\n",
        "        mean = coeff1 * x_start_pred + coeff2 * x\n",
        "        variance = (1 - alpha_bar_t_next) / (1 - alpha_bar_t) * beta_t\n",
        "        return mean, variance\n",
        "\n",
        "    @torch.no_grad()\n",
        "    def p_sample(self, x, t, t_next, condition):\n",
        "        mean, variance = self.p_mean_variance(x, t, t_next, condition)\n",
        "        if torch.all(t_next == 0):\n",
        "            return mean\n",
        "        noise = torch.randn_like(x)\n",
        "        return mean + torch.sqrt(variance) * noise\n",
        "\n",
        "    @torch.no_grad()\n",
        "    def sample(self, points, variables, batch_size=16):\n",
        "        condition = self.tnet(points) + self.vars_emb(variables)\n",
        "        shape = (batch_size, self.max_seq_len, self.n_embd)\n",
        "        x = torch.randn(shape, device=self.device)\n",
        "        steps = torch.arange(\n",
        "            self.timesteps - 1, -1, -1, device=self.device\n",
        "        )  # Fix: start at timesteps-1\n",
        "\n",
        "        for i in tqdm(\n",
        "            range(self.timesteps), desc=\"sampling loop\", total=self.timesteps\n",
        "        ):\n",
        "            t = steps[i]\n",
        "            t_next = (\n",
        "                steps[i + 1]\n",
        "                if i + 1 < self.timesteps\n",
        "                else torch.tensor(0, device=self.device)\n",
        "            )\n",
        "            x = self.p_sample(x, t, t_next, condition)\n",
        "\n",
        "        # Map embeddings to token indices via decoder\n",
        "        logits = self.decoder(x)  # [B, L, vocab_size]\n",
        "        token_indices = torch.argmax(logits, dim=-1)  # [B, L]\n",
        "        return token_indices\n",
        "\n",
        "    def p_losses(self, x_start, points, tokens, variables, t, noise=None):\n",
        "        \"\"\"Hybrid loss: MSE on embeddings + CE on tokens.\"\"\"\n",
        "        noise = torch.randn_like(x_start)\n",
        "        x_t = self.q_sample(x_start, t, noise)\n",
        "        condition = self.tnet(points) + self.vars_emb(variables)\n",
        "        x_start_pred = self.model(x_t, t.long(), condition)\n",
        "\n",
        "        # MSE loss on embeddings\n",
        "        mse_loss = torch.tensor(0.0, device=self.device)\n",
        "\n",
        "        # CE loss on tokens\n",
        "        logits = self.decoder(x_start_pred)  # [B, L, vocab_size]\n",
        "        ce_loss = (\n",
        "            F.cross_entropy(\n",
        "                logits.view(-1, self.vocab_size),  # [B*L, vocab_size]\n",
        "                tokens.view(-1),  # [B*L]\n",
        "                ignore_index=self.padding_idx,  # Assuming padding_idx=0\n",
        "                reduction=\"none\",\n",
        "            )\n",
        "            .view(tokens.shape)\n",
        "            .mean()\n",
        "        )  # [B]\n",
        "\n",
        "        # Combine losses\n",
        "        total_loss = mse_loss + self.ce_weight * ce_loss\n",
        "        return total_loss, mse_loss, ce_loss\n",
        "\n",
        "    def forward(self, points, tokens, t):\n",
        "        token_emb = self.tok_emb(tokens)\n",
        "        total_loss, mse_loss, ce_loss = self.p_losses(token_emb, tokens, points, t)\n",
        "        return total_loss, mse_loss, ce_loss\n"
      ],
      "metadata": {
        "id": "G0kJz7jk3uFu"
      },
      "id": "G0kJz7jk3uFu",
      "execution_count": 42,
      "outputs": []
    },
    {
      "cell_type": "code",
      "source": [
        "import torch\n",
        "import json\n",
        "from scipy.optimize import minimize\n",
        "from math import log\n",
        "\n",
        "@torch.no_grad()\n",
        "def test_model(model, test_loader, textTest, train_dataset, device):\n",
        "    results = {'target': [], 'predicted_skeleton' : [], 'predicted': [], 'error': []}\n",
        "\n",
        "    for batch_idx, (_, tokens, points, variables) in enumerate(test_loader):\n",
        "        points = points.to(device)    # [B, 2, 250]\n",
        "        tokens = tokens.to(device)    # [B, L]\n",
        "        variables = variables.to(device)  # [B]\n",
        "\n",
        "        B = points.shape[0]\n",
        "\n",
        "        generated_tokens = model.sample(points, variables, B)\n",
        "\n",
        "        for i in range(batch_size):\n",
        "            # Ground truth\n",
        "            eq = ''.join([train_dataset.itos[int(i)] for i in tokens[0]])\n",
        "            eq = eq.strip(train_dataset.paddingToken).split('>')\n",
        "            eq = eq[0] #if len(eq[0])>=1 else eq[1]\n",
        "            eq = eq.strip('<').strip(\">\")\n",
        "\n",
        "            # Predicted\n",
        "            predicted_tokens = generated_tokens[i].cpu().numpy()\n",
        "            predicted = ''.join([train_dataset.itos[int(idx)] for idx in predicted_tokens])\n",
        "            predicted = predicted.strip(train_dataset.paddingToken).split('>')\n",
        "            predicted = predicted[0] if len(predicted[0]) >= 1 else predicted[1]\n",
        "            predicted = predicted.strip('<').strip(\">\")\n",
        "            predicted = predicted.replace('Ce', 'C*e')\n",
        "            predicted_skeleton = predicted\n",
        "\n",
        "\n",
        "            t = json.loads(textTest[i])\n",
        "            # train a regressor to find the constants (too slow)\n",
        "            c = [1.0 for i,x in enumerate(predicted) if x=='C'] # initialize coefficients as 1\n",
        "            # c[-1] = 0 # initialize the constant as zero\n",
        "            b = [(-2,2) for i,x in enumerate(predicted) if x=='C']  # bounds on variables\n",
        "            try:\n",
        "                if len(c) != 0:\n",
        "                    # This is the bottleneck in our algorithm\n",
        "                    # for easier comparison, we are using minimize package\n",
        "                    cHat = minimize(lossFunc, c, #bounds=b,\n",
        "                                args=(predicted, t['X'], t['Y']))\n",
        "\n",
        "                    predicted = predicted.replace('C','{}').format(*cHat.x)\n",
        "            except ValueError:\n",
        "                raise 'Err: Wrong Equation {}'.format(predicted)\n",
        "            except Exception as e:\n",
        "                raise 'Err: Wrong Equation {}, Err: {}'.format(predicted, e)\n",
        "\n",
        "            Ys = [] #t['YT']\n",
        "            Yhats = []\n",
        "            for xs in t['XT']:\n",
        "              try:\n",
        "                  eqTmp = eq + ''  # copy eq\n",
        "                  eqTmp = eqTmp.replace(' ', '')\n",
        "                  eqTmp = eqTmp.replace('\\n', '')\n",
        "                  for i, x in enumerate(xs):\n",
        "                      # replace xi with the value in the eq\n",
        "                      eqTmp = eqTmp.replace('x{}'.format(i + 1), str(x))\n",
        "                      if ',' in eqTmp:\n",
        "                          assert 'There is a \",\" in the equation!'\n",
        "                  YEval = eval(eqTmp)\n",
        "              except Exception as e:\n",
        "                  continue\n",
        "                  print(f\"TA: Invalid equation encountered. Eq: {eqTmp}, Reason: {e}\")\n",
        "                  YEval = 100  # Assign a default value or handle as needed\n",
        "                  #raise\n",
        "                  YEval = 100\n",
        "              Ys.append(YEval)\n",
        "\n",
        "              try:\n",
        "                  eqTmp = predicted + ''  # copy eq\n",
        "                  eqTmp = eqTmp.replace(' ', '')\n",
        "                  eqTmp = eqTmp.replace('\\n', '')\n",
        "                  for i, x in enumerate(xs):\n",
        "                      # replace xi with the value in the eq\n",
        "                      eqTmp = eqTmp.replace('x{}'.format(i + 1), str(x))\n",
        "                      if ',' in eqTmp:\n",
        "                          assert 'There is a \",\" in the equation!'\n",
        "                  Yhat = eval(eqTmp)\n",
        "              except Exception as e:\n",
        "                  continue\n",
        "                  print(f\"PR: Invalid equation encountered. Eq: {eqTmp}, Reason: {e}\")\n",
        "                  Yhat = 100  # Assign a default value or handle as needed\n",
        "              Yhats.append(Yhat)\n",
        "            err = relativeErr(Ys,Yhats, info=True)\n",
        "\n",
        "\n",
        "            results['target'].append(eq)\n",
        "            results['predicted_skeleton'].append(predicted_skeleton)\n",
        "            results['predicted'].append(predicted)\n",
        "            results['error'].append(err)\n",
        "\n",
        "            print(f\"\\nSample {batch_idx * batch_size + i + 1}:\")\n",
        "            print(f\"Target: {eq}\")\n",
        "            print(f\"Predicted Skeleton: {predicted_skeleton}\")\n",
        "            print(f\"Predicted: {predicted}\")\n",
        "            print(f\"Relative Error: {err:.6f}\")\n",
        "            print(\"-\" * 50)\n",
        "\n",
        "    return results"
      ],
      "metadata": {
        "id": "itNSUyzeNVgV"
      },
      "id": "itNSUyzeNVgV",
      "execution_count": 33,
      "outputs": []
    },
    {
      "cell_type": "code",
      "execution_count": 43,
      "id": "e676e953",
      "metadata": {
        "colab": {
          "base_uri": "https://localhost:8080/",
          "height": 1000
        },
        "id": "e676e953",
        "outputId": "668630e3-faff-478a-b896-f91566563f57"
      },
      "outputs": [
        {
          "output_type": "stream",
          "name": "stdout",
          "text": [
            "{0: '(', 1: ')', 2: '*', 3: '**', 4: '+', 5: '/', 6: '0', 7: '1', 8: '2', 9: '3', 10: '4', 11: '5', 12: '6', 13: '7', 14: '8', 15: '9', 16: ':', 17: '<', 18: '>', 19: 'C', 20: 'T', 21: '_', 22: 'cos', 23: 'exp', 24: 'log', 25: 'sin', 26: 'x1'}\n",
            "Testing SymbolicDiffusion model...\n"
          ]
        },
        {
          "output_type": "stream",
          "name": "stderr",
          "text": [
            "sampling loop: 100%|██████████| 1000/1000 [00:02<00:00, 427.29it/s]\n"
          ]
        },
        {
          "output_type": "stream",
          "name": "stdout",
          "text": [
            "\n",
            "Sample 1:\n",
            "Target: C*exp(C*x1/(C*x1))+C\n",
            "Predicted Skeleton: C*x1+C\n",
            "Predicted: -8.892626690570893e-09*x1+-1.1886541304097147\n",
            "Relative Error: 100.000000\n",
            "--------------------------------------------------\n"
          ]
        },
        {
          "output_type": "stream",
          "name": "stderr",
          "text": [
            "sampling loop: 100%|██████████| 1000/1000 [00:02<00:00, 489.75it/s]\n"
          ]
        },
        {
          "output_type": "stream",
          "name": "stdout",
          "text": [
            "\n",
            "Sample 2:\n",
            "Target: C*exp(C*x1)*C*cos(C*x1**2+C*x1)+C\n",
            "Predicted Skeleton: C*x1+C\n",
            "Predicted: -8.892626690570893e-09*x1+-1.1886541304097147\n",
            "Relative Error: 100.000000\n",
            "--------------------------------------------------\n"
          ]
        },
        {
          "output_type": "stream",
          "name": "stderr",
          "text": [
            "sampling loop: 100%|██████████| 1000/1000 [00:02<00:00, 497.94it/s]\n"
          ]
        },
        {
          "output_type": "stream",
          "name": "stdout",
          "text": [
            "\n",
            "Sample 3:\n",
            "Target: C*x1**5+C*x1**4+C*x1**3+C*x1**2*C*log(C*x1)\n",
            "Predicted Skeleton: C*x1**4+C\n",
            "Predicted: -8.448260866357092e-09*x1**4+-1.1886543143054862\n",
            "Relative Error: 100.000000\n",
            "--------------------------------------------------\n"
          ]
        },
        {
          "output_type": "stream",
          "name": "stderr",
          "text": [
            "sampling loop: 100%|██████████| 1000/1000 [00:02<00:00, 469.55it/s]\n"
          ]
        },
        {
          "output_type": "stream",
          "name": "stdout",
          "text": [
            "\n",
            "Sample 4:\n",
            "Target: C*x1/(C*x1+C)+C\n",
            "Predicted Skeleton: C*x1+C\n",
            "Predicted: -8.892626690570893e-09*x1+-1.1886541304097147\n",
            "Relative Error: 100.000000\n",
            "--------------------------------------------------\n"
          ]
        },
        {
          "output_type": "stream",
          "name": "stderr",
          "text": [
            "sampling loop: 100%|██████████| 1000/1000 [00:02<00:00, 358.97it/s]\n"
          ]
        },
        {
          "output_type": "stream",
          "name": "stdout",
          "text": [
            "\n",
            "Sample 5:\n",
            "Target: C*x1*C*log(C*x1**4+C*x1**3+C*x1**2+C*x1+C)\n",
            "Predicted Skeleton: C*x1**4+C\n",
            "Predicted: -8.448260866357092e-09*x1**4+-1.1886543143054862\n",
            "Relative Error: 100.000000\n",
            "--------------------------------------------------\n"
          ]
        },
        {
          "output_type": "stream",
          "name": "stderr",
          "text": [
            "sampling loop: 100%|██████████| 1000/1000 [00:02<00:00, 496.39it/s]\n"
          ]
        },
        {
          "output_type": "stream",
          "name": "stdout",
          "text": [
            "\n",
            "Sample 6:\n",
            "Target: C*x1**2+C*x1+C\n",
            "Predicted Skeleton: C*x1**C\n",
            "Predicted: 0.04774503168916777*x1**2.819155356112406\n",
            "Relative Error: 100.000000\n",
            "--------------------------------------------------\n"
          ]
        },
        {
          "output_type": "stream",
          "name": "stderr",
          "text": [
            "sampling loop: 100%|██████████| 1000/1000 [00:02<00:00, 498.93it/s]\n"
          ]
        },
        {
          "output_type": "stream",
          "name": "stdout",
          "text": [
            "\n",
            "Sample 7:\n",
            "Target: C*x1+C*sin(C*x1)+C\n",
            "Predicted Skeleton: C*sin(C*x1)6C\n",
            "Predicted: 1.0*sin(1.0*x1)61.0\n",
            "Relative Error: 100.000000\n",
            "--------------------------------------------------\n"
          ]
        },
        {
          "output_type": "stream",
          "name": "stderr",
          "text": [
            "sampling loop: 100%|██████████| 1000/1000 [00:02<00:00, 495.17it/s]\n"
          ]
        },
        {
          "output_type": "stream",
          "name": "stdout",
          "text": [
            "\n",
            "Sample 8:\n",
            "Target: C*x1+C/x1+C\n",
            "Predicted Skeleton: C*x1+C\n",
            "Predicted: -8.892626690570893e-09*x1+-1.1886541304097147\n",
            "Relative Error: 100.000000\n",
            "--------------------------------------------------\n"
          ]
        },
        {
          "output_type": "stream",
          "name": "stderr",
          "text": [
            "sampling loop: 100%|██████████| 1000/1000 [00:02<00:00, 498.42it/s]\n"
          ]
        },
        {
          "output_type": "stream",
          "name": "stdout",
          "text": [
            "\n",
            "Sample 9:\n",
            "Target: C*x1**5+C*x1**4+C*x1**3+C*x1**2+C*x1+C\n",
            "Predicted Skeleton: C*x1**6+C\n",
            "Predicted: -8.213904724628503e-09*x1**6+-1.188654508584297\n",
            "Relative Error: 100.000000\n",
            "--------------------------------------------------\n"
          ]
        },
        {
          "output_type": "stream",
          "name": "stderr",
          "text": [
            "sampling loop: 100%|██████████| 1000/1000 [00:02<00:00, 444.90it/s]\n"
          ]
        },
        {
          "output_type": "stream",
          "name": "stdout",
          "text": [
            "\n",
            "Sample 10:\n",
            "Target: C*x1**4+C*x1**2+C\n",
            "Predicted Skeleton: C*x1**6+C\n",
            "Predicted: -8.213904724628503e-09*x1**6+-1.188654508584297\n",
            "Relative Error: 100.000000\n",
            "--------------------------------------------------\n"
          ]
        },
        {
          "output_type": "stream",
          "name": "stderr",
          "text": [
            "sampling loop: 100%|██████████| 1000/1000 [00:02<00:00, 376.43it/s]\n"
          ]
        },
        {
          "output_type": "stream",
          "name": "stdout",
          "text": [
            "\n",
            "Sample 11:\n",
            "Target: C*sin(C*cos(C*exp(C*x1)))+C\n",
            "Predicted Skeleton: C*log(C*x199C9<9<9<999999999<999<99\n",
            "Predicted: 1.0*log(1.0*x1991.09<9<9<999999999<999<99\n",
            "Relative Error: 100.000000\n",
            "--------------------------------------------------\n"
          ]
        },
        {
          "output_type": "stream",
          "name": "stderr",
          "text": [
            "sampling loop: 100%|██████████| 1000/1000 [00:02<00:00, 475.38it/s]\n"
          ]
        },
        {
          "output_type": "stream",
          "name": "stdout",
          "text": [
            "\n",
            "Sample 12:\n",
            "Target: C*x1*C*log(C*x1**3+C*x1**2+C*x1+C)+C*exp(C\n",
            "Predicted Skeleton: C*x1**C+<999<99<<<99<<<<999<9<99\n",
            "Predicted: 1.0*x1**1.0+<999<99<<<99<<<<999<9<99\n",
            "Relative Error: 100.000000\n",
            "--------------------------------------------------\n"
          ]
        },
        {
          "output_type": "stream",
          "name": "stderr",
          "text": [
            "sampling loop: 100%|██████████| 1000/1000 [00:02<00:00, 495.14it/s]\n"
          ]
        },
        {
          "output_type": "stream",
          "name": "stdout",
          "text": [
            "\n",
            "Sample 13:\n",
            "Target: C*log(C*x1**2+C*x1+C)+C\n",
            "Predicted Skeleton: C*log(C*x1)6C\n",
            "Predicted: 1.0*log(1.0*x1)61.0\n",
            "Relative Error: 100.000000\n",
            "--------------------------------------------------\n"
          ]
        },
        {
          "output_type": "stream",
          "name": "stderr",
          "text": [
            "sampling loop: 100%|██████████| 1000/1000 [00:01<00:00, 500.29it/s]\n"
          ]
        },
        {
          "output_type": "stream",
          "name": "stdout",
          "text": [
            "\n",
            "Sample 14:\n",
            "Target: C*exp(C*x1)+C\n",
            "Predicted Skeleton: C*exp(C*x1)6C<99C9999<9999999999999\n",
            "Predicted: 1.0*exp(1.0*x1)61.0<991.09999<9999999999999\n",
            "Relative Error: 100.000000\n",
            "--------------------------------------------------\n"
          ]
        },
        {
          "output_type": "stream",
          "name": "stderr",
          "text": [
            "sampling loop: 100%|██████████| 1000/1000 [00:01<00:00, 500.71it/s]\n"
          ]
        },
        {
          "output_type": "stream",
          "name": "stdout",
          "text": [
            "\n",
            "Sample 15:\n",
            "Target: C*exp(C*x1)+C\n",
            "Predicted Skeleton: C*exp(C*x1)6C<9<99)9999999<99999999\n",
            "Predicted: 1.0*exp(1.0*x1)61.0<9<99)9999999<99999999\n",
            "Relative Error: 100.000000\n",
            "--------------------------------------------------\n"
          ]
        },
        {
          "output_type": "stream",
          "name": "stderr",
          "text": [
            "sampling loop: 100%|██████████| 1000/1000 [00:02<00:00, 412.77it/s]\n"
          ]
        },
        {
          "output_type": "stream",
          "name": "stdout",
          "text": [
            "\n",
            "Sample 16:\n",
            "Target: C*sin(C*log(C*x1))+C\n",
            "Predicted Skeleton: C*log(C*x1)6C<999999999999999999999\n",
            "Predicted: 1.0*log(1.0*x1)61.0<999999999999999999999\n",
            "Relative Error: 100.000000\n",
            "--------------------------------------------------\n"
          ]
        },
        {
          "output_type": "stream",
          "name": "stderr",
          "text": [
            "sampling loop: 100%|██████████| 1000/1000 [00:02<00:00, 395.88it/s]\n"
          ]
        },
        {
          "output_type": "stream",
          "name": "stdout",
          "text": [
            "\n",
            "Sample 17:\n",
            "Target: C*log(C*cos(C*x1+C)**4)+C\n",
            "Predicted Skeleton: C*x1+C\n",
            "Predicted: -8.892626690570893e-09*x1+-1.1886541304097147\n",
            "Relative Error: 100.000000\n",
            "--------------------------------------------------\n"
          ]
        },
        {
          "output_type": "stream",
          "name": "stderr",
          "text": [
            "sampling loop: 100%|██████████| 1000/1000 [00:02<00:00, 498.05it/s]\n"
          ]
        },
        {
          "output_type": "stream",
          "name": "stdout",
          "text": [
            "\n",
            "Sample 18:\n",
            "Target: C*sin(C*x1+C)+C\n",
            "Predicted Skeleton: C*x1**C\n",
            "Predicted: 0.04774503168916777*x1**2.819155356112406\n",
            "Relative Error: 100.000000\n",
            "--------------------------------------------------\n"
          ]
        },
        {
          "output_type": "stream",
          "name": "stderr",
          "text": [
            "sampling loop: 100%|██████████| 1000/1000 [00:01<00:00, 504.24it/s]\n"
          ]
        },
        {
          "output_type": "stream",
          "name": "stdout",
          "text": [
            "\n",
            "Sample 19:\n",
            "Target: C*x1**2+C\n",
            "Predicted Skeleton: C*x1**C\n",
            "Predicted: 0.04774503168916777*x1**2.819155356112406\n",
            "Relative Error: 100.000000\n",
            "--------------------------------------------------\n"
          ]
        },
        {
          "output_type": "stream",
          "name": "stderr",
          "text": [
            "sampling loop: 100%|██████████| 1000/1000 [00:01<00:00, 504.45it/s]\n"
          ]
        },
        {
          "output_type": "stream",
          "name": "stdout",
          "text": [
            "\n",
            "Sample 20:\n",
            "Target: C*x1+C\n",
            "Predicted Skeleton: C*x1+C\n",
            "Predicted: -8.892626690570893e-09*x1+-1.1886541304097147\n",
            "Relative Error: 100.000000\n",
            "--------------------------------------------------\n"
          ]
        },
        {
          "output_type": "stream",
          "name": "stderr",
          "text": [
            "sampling loop: 100%|██████████| 1000/1000 [00:01<00:00, 502.21it/s]\n"
          ]
        },
        {
          "output_type": "stream",
          "name": "stdout",
          "text": [
            "\n",
            "Sample 21:\n",
            "Target: C*x1*C*cos(C*x1)+C\n",
            "Predicted Skeleton: C*x1**C\n",
            "Predicted: 0.04774503168916777*x1**2.819155356112406\n",
            "Relative Error: 100.000000\n",
            "--------------------------------------------------\n"
          ]
        },
        {
          "output_type": "stream",
          "name": "stderr",
          "text": [
            "sampling loop: 100%|██████████| 1000/1000 [00:02<00:00, 391.11it/s]\n"
          ]
        },
        {
          "output_type": "stream",
          "name": "stdout",
          "text": [
            "\n",
            "Sample 22:\n",
            "Target: C*x1*C*log(C*x1+C)+C\n",
            "Predicted Skeleton: C*x1+C\n",
            "Predicted: -8.892626690570893e-09*x1+-1.1886541304097147\n",
            "Relative Error: 100.000000\n",
            "--------------------------------------------------\n"
          ]
        },
        {
          "output_type": "stream",
          "name": "stderr",
          "text": [
            "sampling loop: 100%|██████████| 1000/1000 [00:02<00:00, 416.62it/s]\n"
          ]
        },
        {
          "output_type": "stream",
          "name": "stdout",
          "text": [
            "\n",
            "Sample 23:\n",
            "Target: C*cos(C*sin(C*x1))+C\n",
            "Predicted Skeleton: C*x1+C\n",
            "Predicted: -8.892626690570893e-09*x1+-1.1886541304097147\n",
            "Relative Error: 100.000000\n",
            "--------------------------------------------------\n"
          ]
        },
        {
          "output_type": "stream",
          "name": "stderr",
          "text": [
            "sampling loop: 100%|██████████| 1000/1000 [00:01<00:00, 506.43it/s]\n"
          ]
        },
        {
          "output_type": "stream",
          "name": "stdout",
          "text": [
            "\n",
            "Sample 24:\n",
            "Target: C*cos(C*log(C*x1)+C)**3+C\n",
            "Predicted Skeleton: C*log(C*x1)6C<9999999999<99999<<9<9\n",
            "Predicted: 1.0*log(1.0*x1)61.0<9999999999<99999<<9<9\n",
            "Relative Error: 100.000000\n",
            "--------------------------------------------------\n"
          ]
        },
        {
          "output_type": "stream",
          "name": "stderr",
          "text": [
            "sampling loop: 100%|██████████| 1000/1000 [00:01<00:00, 504.81it/s]\n"
          ]
        },
        {
          "output_type": "stream",
          "name": "stdout",
          "text": [
            "\n",
            "Sample 25:\n",
            "Target: C*sin(C*x1**4+C*x1**3+C*x1**2+C*x1+C)+C\n",
            "Predicted Skeleton: C*x1+C\n",
            "Predicted: -8.892626690570893e-09*x1+-1.1886541304097147\n",
            "Relative Error: 100.000000\n",
            "--------------------------------------------------\n"
          ]
        },
        {
          "output_type": "stream",
          "name": "stderr",
          "text": [
            "sampling loop: 100%|██████████| 1000/1000 [00:02<00:00, 499.90it/s]\n"
          ]
        },
        {
          "output_type": "stream",
          "name": "stdout",
          "text": [
            "\n",
            "Sample 26:\n",
            "Target: C*x1**3+C\n",
            "Predicted Skeleton: C*x1**5\n",
            "Predicted: 0.005536401266040986*x1**5\n",
            "Relative Error: 100.000000\n",
            "--------------------------------------------------\n"
          ]
        },
        {
          "output_type": "stream",
          "name": "stderr",
          "text": [
            "sampling loop: 100%|██████████| 1000/1000 [00:01<00:00, 504.93it/s]\n"
          ]
        },
        {
          "output_type": "stream",
          "name": "stdout",
          "text": [
            "\n",
            "Sample 27:\n",
            "Target: C*cos(C*x1+C)+C\n",
            "Predicted Skeleton: C*x1+C\n",
            "Predicted: -8.892626690570893e-09*x1+-1.1886541304097147\n",
            "Relative Error: 100.000000\n",
            "--------------------------------------------------\n"
          ]
        },
        {
          "output_type": "stream",
          "name": "stderr",
          "text": [
            "sampling loop: 100%|██████████| 1000/1000 [00:02<00:00, 376.13it/s]\n"
          ]
        },
        {
          "output_type": "stream",
          "name": "stdout",
          "text": [
            "\n",
            "Sample 28:\n",
            "Target: C*exp(C*x1)*C*log(C*x1+C)+C*exp(C*x1)*C*cos\n",
            "Predicted Skeleton: C*x1+C\n",
            "Predicted: -8.892626690570893e-09*x1+-1.1886541304097147\n",
            "Relative Error: 100.000000\n",
            "--------------------------------------------------\n"
          ]
        },
        {
          "output_type": "stream",
          "name": "stderr",
          "text": [
            "sampling loop: 100%|██████████| 1000/1000 [00:02<00:00, 410.00it/s]\n"
          ]
        },
        {
          "output_type": "stream",
          "name": "stdout",
          "text": [
            "\n",
            "Sample 29:\n",
            "Target: C*x1**2+C*cos(C*x1+C)+C\n",
            "Predicted Skeleton: C*x1**6\n",
            "Predicted: 0.002000738942010097*x1**6\n",
            "Relative Error: 100.000000\n",
            "--------------------------------------------------\n"
          ]
        },
        {
          "output_type": "stream",
          "name": "stderr",
          "text": [
            "sampling loop: 100%|██████████| 1000/1000 [00:02<00:00, 358.42it/s]\n"
          ]
        },
        {
          "output_type": "stream",
          "name": "stdout",
          "text": [
            "\n",
            "Sample 30:\n",
            "Target: C*exp(C*exp(C*x1))+C\n",
            "Predicted Skeleton: C*exp(C*x1)6C<9999999999999<9999999\n",
            "Predicted: 1.0*exp(1.0*x1)61.0<9999999999999<9999999\n",
            "Relative Error: 100.000000\n",
            "--------------------------------------------------\n"
          ]
        },
        {
          "output_type": "stream",
          "name": "stderr",
          "text": [
            "sampling loop: 100%|██████████| 1000/1000 [00:02<00:00, 482.85it/s]\n"
          ]
        },
        {
          "output_type": "stream",
          "name": "stdout",
          "text": [
            "\n",
            "Sample 31:\n",
            "Target: C*sin(C*x1+C)+C\n",
            "Predicted Skeleton: C*x1+C\n",
            "Predicted: -8.892626690570893e-09*x1+-1.1886541304097147\n",
            "Relative Error: 100.000000\n",
            "--------------------------------------------------\n"
          ]
        },
        {
          "output_type": "stream",
          "name": "stderr",
          "text": [
            "sampling loop: 100%|██████████| 1000/1000 [00:02<00:00, 498.80it/s]\n"
          ]
        },
        {
          "output_type": "stream",
          "name": "stdout",
          "text": [
            "\n",
            "Sample 32:\n",
            "Target: C*x1*C*exp(C*x1)*C*log(C*x1+C)+C*sin(C*x1)\n",
            "Predicted Skeleton: C*exp(C*x1)6)<999999999999999999999\n",
            "Predicted: 1.0*exp(1.0*x1)6)<999999999999999999999\n",
            "Relative Error: 100.000000\n",
            "--------------------------------------------------\n"
          ]
        },
        {
          "output_type": "stream",
          "name": "stderr",
          "text": [
            "sampling loop: 100%|██████████| 1000/1000 [00:02<00:00, 446.84it/s]\n"
          ]
        },
        {
          "output_type": "stream",
          "name": "stdout",
          "text": [
            "\n",
            "Sample 33:\n",
            "Target: C*x1*C*sin(C*x1/(C*x1+C))+C*log(C*x1)+C\n",
            "Predicted Skeleton: C*log(C*x1)6C<9<9<<<99<9<999<9<<99\n",
            "Predicted: 1.0*log(1.0*x1)61.0<9<9<<<99<9<999<9<<99\n",
            "Relative Error: 100.000000\n",
            "--------------------------------------------------\n"
          ]
        },
        {
          "output_type": "stream",
          "name": "stderr",
          "text": [
            "sampling loop: 100%|██████████| 1000/1000 [00:02<00:00, 372.19it/s]\n",
            "<string>:1: SyntaxWarning: 'float' object is not callable; perhaps you missed a comma?\n",
            "<string>:1: SyntaxWarning: 'float' object is not callable; perhaps you missed a comma?\n",
            "<string>:1: SyntaxWarning: 'float' object is not callable; perhaps you missed a comma?\n",
            "<string>:1: SyntaxWarning: 'float' object is not callable; perhaps you missed a comma?\n",
            "<string>:1: SyntaxWarning: 'float' object is not callable; perhaps you missed a comma?\n",
            "<string>:1: SyntaxWarning: 'float' object is not callable; perhaps you missed a comma?\n",
            "<string>:1: SyntaxWarning: 'float' object is not callable; perhaps you missed a comma?\n",
            "<string>:1: SyntaxWarning: 'float' object is not callable; perhaps you missed a comma?\n",
            "<string>:1: SyntaxWarning: 'float' object is not callable; perhaps you missed a comma?\n",
            "<string>:1: SyntaxWarning: 'float' object is not callable; perhaps you missed a comma?\n",
            "<string>:1: SyntaxWarning: 'float' object is not callable; perhaps you missed a comma?\n",
            "<string>:1: SyntaxWarning: 'float' object is not callable; perhaps you missed a comma?\n",
            "<string>:1: SyntaxWarning: 'float' object is not callable; perhaps you missed a comma?\n",
            "<string>:1: SyntaxWarning: 'float' object is not callable; perhaps you missed a comma?\n",
            "<string>:1: SyntaxWarning: 'float' object is not callable; perhaps you missed a comma?\n",
            "<string>:1: SyntaxWarning: 'float' object is not callable; perhaps you missed a comma?\n",
            "<string>:1: SyntaxWarning: 'float' object is not callable; perhaps you missed a comma?\n",
            "<string>:1: SyntaxWarning: 'float' object is not callable; perhaps you missed a comma?\n",
            "<string>:1: SyntaxWarning: 'float' object is not callable; perhaps you missed a comma?\n",
            "<string>:1: SyntaxWarning: 'float' object is not callable; perhaps you missed a comma?\n",
            "<string>:1: SyntaxWarning: 'float' object is not callable; perhaps you missed a comma?\n",
            "<string>:1: SyntaxWarning: 'float' object is not callable; perhaps you missed a comma?\n",
            "<string>:1: SyntaxWarning: 'float' object is not callable; perhaps you missed a comma?\n",
            "<string>:1: SyntaxWarning: 'float' object is not callable; perhaps you missed a comma?\n",
            "<string>:1: SyntaxWarning: 'float' object is not callable; perhaps you missed a comma?\n",
            "<string>:1: SyntaxWarning: 'float' object is not callable; perhaps you missed a comma?\n",
            "<string>:1: SyntaxWarning: 'float' object is not callable; perhaps you missed a comma?\n",
            "<string>:1: SyntaxWarning: 'float' object is not callable; perhaps you missed a comma?\n",
            "<string>:1: SyntaxWarning: 'float' object is not callable; perhaps you missed a comma?\n",
            "<string>:1: SyntaxWarning: 'float' object is not callable; perhaps you missed a comma?\n",
            "<string>:1: SyntaxWarning: 'float' object is not callable; perhaps you missed a comma?\n",
            "<string>:1: SyntaxWarning: 'float' object is not callable; perhaps you missed a comma?\n",
            "<string>:1: SyntaxWarning: 'float' object is not callable; perhaps you missed a comma?\n",
            "<string>:1: SyntaxWarning: 'float' object is not callable; perhaps you missed a comma?\n",
            "<string>:1: SyntaxWarning: 'float' object is not callable; perhaps you missed a comma?\n",
            "<string>:1: SyntaxWarning: 'float' object is not callable; perhaps you missed a comma?\n",
            "<string>:1: SyntaxWarning: 'float' object is not callable; perhaps you missed a comma?\n",
            "<string>:1: SyntaxWarning: 'float' object is not callable; perhaps you missed a comma?\n",
            "<string>:1: SyntaxWarning: 'float' object is not callable; perhaps you missed a comma?\n",
            "<string>:1: SyntaxWarning: 'float' object is not callable; perhaps you missed a comma?\n",
            "<string>:1: SyntaxWarning: 'float' object is not callable; perhaps you missed a comma?\n",
            "<string>:1: SyntaxWarning: 'float' object is not callable; perhaps you missed a comma?\n",
            "<string>:1: SyntaxWarning: 'float' object is not callable; perhaps you missed a comma?\n",
            "<string>:1: SyntaxWarning: 'float' object is not callable; perhaps you missed a comma?\n",
            "<string>:1: SyntaxWarning: 'float' object is not callable; perhaps you missed a comma?\n",
            "<string>:1: SyntaxWarning: 'float' object is not callable; perhaps you missed a comma?\n",
            "<string>:1: SyntaxWarning: 'float' object is not callable; perhaps you missed a comma?\n",
            "<string>:1: SyntaxWarning: 'float' object is not callable; perhaps you missed a comma?\n",
            "<string>:1: SyntaxWarning: 'float' object is not callable; perhaps you missed a comma?\n",
            "<string>:1: SyntaxWarning: 'float' object is not callable; perhaps you missed a comma?\n",
            "<string>:1: SyntaxWarning: 'float' object is not callable; perhaps you missed a comma?\n",
            "<string>:1: SyntaxWarning: 'float' object is not callable; perhaps you missed a comma?\n",
            "<string>:1: SyntaxWarning: 'float' object is not callable; perhaps you missed a comma?\n",
            "<string>:1: SyntaxWarning: 'float' object is not callable; perhaps you missed a comma?\n",
            "<string>:1: SyntaxWarning: 'float' object is not callable; perhaps you missed a comma?\n",
            "<string>:1: SyntaxWarning: 'float' object is not callable; perhaps you missed a comma?\n",
            "<string>:1: SyntaxWarning: 'float' object is not callable; perhaps you missed a comma?\n",
            "<string>:1: SyntaxWarning: 'float' object is not callable; perhaps you missed a comma?\n",
            "<string>:1: SyntaxWarning: 'float' object is not callable; perhaps you missed a comma?\n",
            "<string>:1: SyntaxWarning: 'float' object is not callable; perhaps you missed a comma?\n",
            "<string>:1: SyntaxWarning: 'float' object is not callable; perhaps you missed a comma?\n",
            "<string>:1: SyntaxWarning: 'float' object is not callable; perhaps you missed a comma?\n",
            "<string>:1: SyntaxWarning: 'float' object is not callable; perhaps you missed a comma?\n",
            "<string>:1: SyntaxWarning: 'float' object is not callable; perhaps you missed a comma?\n",
            "<string>:1: SyntaxWarning: 'float' object is not callable; perhaps you missed a comma?\n",
            "<string>:1: SyntaxWarning: 'float' object is not callable; perhaps you missed a comma?\n",
            "<string>:1: SyntaxWarning: 'float' object is not callable; perhaps you missed a comma?\n",
            "<string>:1: SyntaxWarning: 'float' object is not callable; perhaps you missed a comma?\n",
            "<string>:1: SyntaxWarning: 'float' object is not callable; perhaps you missed a comma?\n",
            "<string>:1: SyntaxWarning: 'float' object is not callable; perhaps you missed a comma?\n",
            "<string>:1: SyntaxWarning: 'float' object is not callable; perhaps you missed a comma?\n",
            "<string>:1: SyntaxWarning: 'float' object is not callable; perhaps you missed a comma?\n",
            "<string>:1: SyntaxWarning: 'float' object is not callable; perhaps you missed a comma?\n",
            "<string>:1: SyntaxWarning: 'float' object is not callable; perhaps you missed a comma?\n",
            "<string>:1: SyntaxWarning: 'float' object is not callable; perhaps you missed a comma?\n",
            "<string>:1: SyntaxWarning: 'float' object is not callable; perhaps you missed a comma?\n",
            "<string>:1: SyntaxWarning: 'float' object is not callable; perhaps you missed a comma?\n",
            "<string>:1: SyntaxWarning: 'float' object is not callable; perhaps you missed a comma?\n",
            "<string>:1: SyntaxWarning: 'float' object is not callable; perhaps you missed a comma?\n",
            "<string>:1: SyntaxWarning: 'float' object is not callable; perhaps you missed a comma?\n",
            "<string>:1: SyntaxWarning: 'float' object is not callable; perhaps you missed a comma?\n",
            "<string>:1: SyntaxWarning: 'float' object is not callable; perhaps you missed a comma?\n",
            "<string>:1: SyntaxWarning: 'float' object is not callable; perhaps you missed a comma?\n",
            "<string>:1: SyntaxWarning: 'float' object is not callable; perhaps you missed a comma?\n",
            "<string>:1: SyntaxWarning: 'float' object is not callable; perhaps you missed a comma?\n",
            "<string>:1: SyntaxWarning: 'float' object is not callable; perhaps you missed a comma?\n",
            "<string>:1: SyntaxWarning: 'float' object is not callable; perhaps you missed a comma?\n",
            "<string>:1: SyntaxWarning: 'float' object is not callable; perhaps you missed a comma?\n",
            "<string>:1: SyntaxWarning: 'float' object is not callable; perhaps you missed a comma?\n",
            "<string>:1: SyntaxWarning: 'float' object is not callable; perhaps you missed a comma?\n",
            "<string>:1: SyntaxWarning: 'float' object is not callable; perhaps you missed a comma?\n",
            "<string>:1: SyntaxWarning: 'float' object is not callable; perhaps you missed a comma?\n",
            "<string>:1: SyntaxWarning: 'float' object is not callable; perhaps you missed a comma?\n",
            "<string>:1: SyntaxWarning: 'float' object is not callable; perhaps you missed a comma?\n",
            "<string>:1: SyntaxWarning: 'float' object is not callable; perhaps you missed a comma?\n",
            "<string>:1: SyntaxWarning: 'float' object is not callable; perhaps you missed a comma?\n",
            "<string>:1: SyntaxWarning: 'float' object is not callable; perhaps you missed a comma?\n",
            "<string>:1: SyntaxWarning: 'float' object is not callable; perhaps you missed a comma?\n",
            "<string>:1: SyntaxWarning: 'float' object is not callable; perhaps you missed a comma?\n",
            "<string>:1: SyntaxWarning: 'float' object is not callable; perhaps you missed a comma?\n",
            "<string>:1: SyntaxWarning: 'float' object is not callable; perhaps you missed a comma?\n",
            "<string>:1: SyntaxWarning: 'float' object is not callable; perhaps you missed a comma?\n",
            "<string>:1: SyntaxWarning: 'float' object is not callable; perhaps you missed a comma?\n",
            "<string>:1: SyntaxWarning: 'float' object is not callable; perhaps you missed a comma?\n",
            "<string>:1: SyntaxWarning: 'float' object is not callable; perhaps you missed a comma?\n",
            "<string>:1: SyntaxWarning: 'float' object is not callable; perhaps you missed a comma?\n",
            "<string>:1: SyntaxWarning: 'float' object is not callable; perhaps you missed a comma?\n",
            "<string>:1: SyntaxWarning: 'float' object is not callable; perhaps you missed a comma?\n",
            "<string>:1: SyntaxWarning: 'float' object is not callable; perhaps you missed a comma?\n",
            "<string>:1: SyntaxWarning: 'float' object is not callable; perhaps you missed a comma?\n",
            "<string>:1: SyntaxWarning: 'float' object is not callable; perhaps you missed a comma?\n",
            "<string>:1: SyntaxWarning: 'float' object is not callable; perhaps you missed a comma?\n",
            "<string>:1: SyntaxWarning: 'float' object is not callable; perhaps you missed a comma?\n",
            "<string>:1: SyntaxWarning: 'float' object is not callable; perhaps you missed a comma?\n",
            "<string>:1: SyntaxWarning: 'float' object is not callable; perhaps you missed a comma?\n",
            "<string>:1: SyntaxWarning: 'float' object is not callable; perhaps you missed a comma?\n",
            "<string>:1: SyntaxWarning: 'float' object is not callable; perhaps you missed a comma?\n",
            "<string>:1: SyntaxWarning: 'float' object is not callable; perhaps you missed a comma?\n",
            "<string>:1: SyntaxWarning: 'float' object is not callable; perhaps you missed a comma?\n",
            "<string>:1: SyntaxWarning: 'float' object is not callable; perhaps you missed a comma?\n"
          ]
        },
        {
          "output_type": "stream",
          "name": "stdout",
          "text": [
            "\n",
            "Sample 34:\n",
            "Target: C*sin(C*x1)+C\n",
            "Predicted Skeleton: C*x1(C*x1)+C\n",
            "Predicted: 1.0*x1(1.0*x1)+1.0\n",
            "Relative Error: 100.000000\n",
            "--------------------------------------------------\n"
          ]
        },
        {
          "output_type": "stream",
          "name": "stderr",
          "text": [
            "sampling loop: 100%|██████████| 1000/1000 [00:02<00:00, 495.35it/s]\n"
          ]
        },
        {
          "output_type": "stream",
          "name": "stdout",
          "text": [
            "\n",
            "Sample 35:\n",
            "Target: C*log(C*x1)+C\n",
            "Predicted Skeleton: C*log(C*x1)9C<9<9<9<9<9<99<<9999<99\n",
            "Predicted: 1.0*log(1.0*x1)91.0<9<9<9<9<9<99<<9999<99\n",
            "Relative Error: 100.000000\n",
            "--------------------------------------------------\n"
          ]
        },
        {
          "output_type": "stream",
          "name": "stderr",
          "text": [
            "sampling loop: 100%|██████████| 1000/1000 [00:02<00:00, 499.25it/s]\n"
          ]
        },
        {
          "output_type": "stream",
          "name": "stdout",
          "text": [
            "\n",
            "Sample 36:\n",
            "Target: C*x1**3+C*x1*C*exp(C*x1)+C*x1+C\n",
            "Predicted Skeleton: C*x1**4+C\n",
            "Predicted: -8.448260866357092e-09*x1**4+-1.1886543143054862\n",
            "Relative Error: 100.000000\n",
            "--------------------------------------------------\n"
          ]
        },
        {
          "output_type": "stream",
          "name": "stderr",
          "text": [
            "sampling loop: 100%|██████████| 1000/1000 [00:02<00:00, 499.59it/s]\n"
          ]
        },
        {
          "output_type": "stream",
          "name": "stdout",
          "text": [
            "\n",
            "Sample 37:\n",
            "Target: C*log(C*x1*C*log(C*x1+C)/(C*x1+C)+C/(C*\n",
            "Predicted Skeleton: C*log(C*x1)+C\n",
            "Predicted: 1.0*log(1.0*x1)+1.0\n",
            "Relative Error: 100.000000\n",
            "--------------------------------------------------\n"
          ]
        },
        {
          "output_type": "stream",
          "name": "stderr",
          "text": [
            "sampling loop: 100%|██████████| 1000/1000 [00:01<00:00, 506.82it/s]\n"
          ]
        },
        {
          "output_type": "stream",
          "name": "stdout",
          "text": [
            "\n",
            "Sample 38:\n",
            "Target: C*x1**3+C\n",
            "Predicted Skeleton: C*x1**C\n",
            "Predicted: 0.04774503168916777*x1**2.819155356112406\n",
            "Relative Error: 100.000000\n",
            "--------------------------------------------------\n"
          ]
        },
        {
          "output_type": "stream",
          "name": "stderr",
          "text": [
            "sampling loop: 100%|██████████| 1000/1000 [00:02<00:00, 416.44it/s]\n"
          ]
        },
        {
          "output_type": "stream",
          "name": "stdout",
          "text": [
            "\n",
            "Sample 39:\n",
            "Target: C*cos(C*x1)+C\n",
            "Predicted Skeleton: C*log(C*x1)9C<999999<999<99C9<99999\n",
            "Predicted: 1.0*log(1.0*x1)91.0<999999<999<991.09<99999\n",
            "Relative Error: 100.000000\n",
            "--------------------------------------------------\n"
          ]
        },
        {
          "output_type": "stream",
          "name": "stderr",
          "text": [
            "sampling loop: 100%|██████████| 1000/1000 [00:02<00:00, 380.18it/s]\n"
          ]
        },
        {
          "output_type": "stream",
          "name": "stdout",
          "text": [
            "\n",
            "Sample 40:\n",
            "Target: C*exp(C*x1)+C*cos(C*x1+C)**5+C\n",
            "Predicted Skeleton: C*x1+C\n",
            "Predicted: -8.892626690570893e-09*x1+-1.1886541304097147\n",
            "Relative Error: 100.000000\n",
            "--------------------------------------------------\n"
          ]
        },
        {
          "output_type": "stream",
          "name": "stderr",
          "text": [
            "sampling loop: 100%|██████████| 1000/1000 [00:02<00:00, 498.28it/s]\n"
          ]
        },
        {
          "output_type": "stream",
          "name": "stdout",
          "text": [
            "\n",
            "Sample 41:\n",
            "Target: C*x1**2+C*x1/C*cos(C*x1+C)+C\n",
            "Predicted Skeleton: C*x1**C\n",
            "Predicted: 0.04774503168916777*x1**2.819155356112406\n",
            "Relative Error: 100.000000\n",
            "--------------------------------------------------\n"
          ]
        },
        {
          "output_type": "stream",
          "name": "stderr",
          "text": [
            "sampling loop: 100%|██████████| 1000/1000 [00:02<00:00, 496.65it/s]\n"
          ]
        },
        {
          "output_type": "stream",
          "name": "stdout",
          "text": [
            "\n",
            "Sample 42:\n",
            "Target: C*x1/(C*x1+C)+C\n",
            "Predicted Skeleton: C*exp(C*x1)6C<9999<999999999999<999\n",
            "Predicted: 1.0*exp(1.0*x1)61.0<9999<999999999999<999\n",
            "Relative Error: 100.000000\n",
            "--------------------------------------------------\n"
          ]
        },
        {
          "output_type": "stream",
          "name": "stderr",
          "text": [
            "sampling loop: 100%|██████████| 1000/1000 [00:02<00:00, 494.74it/s]\n"
          ]
        },
        {
          "output_type": "stream",
          "name": "stdout",
          "text": [
            "\n",
            "Sample 43:\n",
            "Target: C*sin(C*x1+C)+C\n",
            "Predicted Skeleton: C*log(C*x1)6C<9999<999<99999<999999\n",
            "Predicted: 1.0*log(1.0*x1)61.0<9999<999<99999<999999\n",
            "Relative Error: 100.000000\n",
            "--------------------------------------------------\n"
          ]
        },
        {
          "output_type": "stream",
          "name": "stderr",
          "text": [
            "sampling loop: 100%|██████████| 1000/1000 [00:02<00:00, 491.62it/s]\n"
          ]
        },
        {
          "output_type": "stream",
          "name": "stdout",
          "text": [
            "\n",
            "Sample 44:\n",
            "Target: C*x1+C\n",
            "Predicted Skeleton: C*x1**C\n",
            "Predicted: 0.04774503168916777*x1**2.819155356112406\n",
            "Relative Error: 100.000000\n",
            "--------------------------------------------------\n"
          ]
        },
        {
          "output_type": "stream",
          "name": "stderr",
          "text": [
            "sampling loop: 100%|██████████| 1000/1000 [00:02<00:00, 388.14it/s]\n"
          ]
        },
        {
          "output_type": "stream",
          "name": "stdout",
          "text": [
            "\n",
            "Sample 45:\n",
            "Target: C*cos(C*cos(C*x1/(C*x1+C)+C/(C*x1+C)))+\n",
            "Predicted Skeleton: C*x1+C\n",
            "Predicted: -8.892626690570893e-09*x1+-1.1886541304097147\n",
            "Relative Error: 100.000000\n",
            "--------------------------------------------------\n"
          ]
        },
        {
          "output_type": "stream",
          "name": "stderr",
          "text": [
            "sampling loop: 100%|██████████| 1000/1000 [00:02<00:00, 419.28it/s]\n"
          ]
        },
        {
          "output_type": "stream",
          "name": "stdout",
          "text": [
            "\n",
            "Sample 46:\n",
            "Target: C*sin(C*sin(C*x1+C))+C\n",
            "Predicted Skeleton: C*x1+C\n",
            "Predicted: -8.892626690570893e-09*x1+-1.1886541304097147\n",
            "Relative Error: 100.000000\n",
            "--------------------------------------------------\n"
          ]
        },
        {
          "output_type": "stream",
          "name": "stderr",
          "text": [
            "sampling loop: 100%|██████████| 1000/1000 [00:01<00:00, 502.40it/s]\n"
          ]
        },
        {
          "output_type": "stream",
          "name": "stdout",
          "text": [
            "\n",
            "Sample 47:\n",
            "Target: C*exp(C*x1)+C\n",
            "Predicted Skeleton: C*x1+C\n",
            "Predicted: -8.892626690570893e-09*x1+-1.1886541304097147\n",
            "Relative Error: 100.000000\n",
            "--------------------------------------------------\n"
          ]
        },
        {
          "output_type": "stream",
          "name": "stderr",
          "text": [
            "sampling loop: 100%|██████████| 1000/1000 [00:02<00:00, 492.42it/s]\n"
          ]
        },
        {
          "output_type": "stream",
          "name": "stdout",
          "text": [
            "\n",
            "Sample 48:\n",
            "Target: C*x1+C\n",
            "Predicted Skeleton: C*x1+C\n",
            "Predicted: -8.892626690570893e-09*x1+-1.1886541304097147\n",
            "Relative Error: 100.000000\n",
            "--------------------------------------------------\n"
          ]
        },
        {
          "output_type": "stream",
          "name": "stderr",
          "text": [
            "sampling loop: 100%|██████████| 1000/1000 [00:01<00:00, 500.04it/s]\n"
          ]
        },
        {
          "output_type": "stream",
          "name": "stdout",
          "text": [
            "\n",
            "Sample 49:\n",
            "Target: C*log(C*x1**2+C)+C\n",
            "Predicted Skeleton: C*log(C*x1)6C<999999<<<9<99<<99<<99\n",
            "Predicted: 1.0*log(1.0*x1)61.0<999999<<<9<99<<99<<99\n",
            "Relative Error: 100.000000\n",
            "--------------------------------------------------\n"
          ]
        },
        {
          "output_type": "stream",
          "name": "stderr",
          "text": [
            "sampling loop: 100%|██████████| 1000/1000 [00:02<00:00, 496.42it/s]\n"
          ]
        },
        {
          "output_type": "stream",
          "name": "stdout",
          "text": [
            "\n",
            "Sample 50:\n",
            "Target: C*x1**2+C*x1+C*x1/(C*x1+C)+C/(C*x1+C)+\n",
            "Predicted Skeleton: C*x1+CC\n",
            "Predicted: 1.0*x1+1.01.0\n",
            "Relative Error: 100.000000\n",
            "--------------------------------------------------\n"
          ]
        },
        {
          "output_type": "stream",
          "name": "stderr",
          "text": [
            "sampling loop: 100%|██████████| 1000/1000 [00:02<00:00, 384.10it/s]\n"
          ]
        },
        {
          "output_type": "stream",
          "name": "stdout",
          "text": [
            "\n",
            "Sample 51:\n",
            "Target: C*x1+C\n",
            "Predicted Skeleton: C*x1+C\n",
            "Predicted: -8.892626690570893e-09*x1+-1.1886541304097147\n",
            "Relative Error: 100.000000\n",
            "--------------------------------------------------\n"
          ]
        },
        {
          "output_type": "stream",
          "name": "stderr",
          "text": [
            "sampling loop: 100%|██████████| 1000/1000 [00:02<00:00, 440.14it/s]\n"
          ]
        },
        {
          "output_type": "stream",
          "name": "stdout",
          "text": [
            "\n",
            "Sample 52:\n",
            "Target: C*x1+C\n",
            "Predicted Skeleton: C*x1**C\n",
            "Predicted: 0.04774503168916777*x1**2.819155356112406\n",
            "Relative Error: 100.000000\n",
            "--------------------------------------------------\n"
          ]
        },
        {
          "output_type": "stream",
          "name": "stderr",
          "text": [
            "sampling loop: 100%|██████████| 1000/1000 [00:02<00:00, 495.21it/s]\n"
          ]
        },
        {
          "output_type": "stream",
          "name": "stdout",
          "text": [
            "\n",
            "Sample 53:\n",
            "Target: C*log(C*cos(C*x1))+C\n",
            "Predicted Skeleton: C*x1+C\n",
            "Predicted: -8.892626690570893e-09*x1+-1.1886541304097147\n",
            "Relative Error: 100.000000\n",
            "--------------------------------------------------\n"
          ]
        },
        {
          "output_type": "stream",
          "name": "stderr",
          "text": [
            "sampling loop: 100%|██████████| 1000/1000 [00:02<00:00, 489.69it/s]\n"
          ]
        },
        {
          "output_type": "stream",
          "name": "stdout",
          "text": [
            "\n",
            "Sample 54:\n",
            "Target: C*sin(C*exp(C*x1))+C\n",
            "Predicted Skeleton: C*log(C*x1)6C<999999999999999999999\n",
            "Predicted: 1.0*log(1.0*x1)61.0<999999999999999999999\n",
            "Relative Error: 100.000000\n",
            "--------------------------------------------------\n"
          ]
        },
        {
          "output_type": "stream",
          "name": "stderr",
          "text": [
            "sampling loop: 100%|██████████| 1000/1000 [00:02<00:00, 497.23it/s]\n"
          ]
        },
        {
          "output_type": "stream",
          "name": "stdout",
          "text": [
            "\n",
            "Sample 55:\n",
            "Target: C*exp(C*x1)+C\n",
            "Predicted Skeleton: C*x1+C\n",
            "Predicted: -8.892626690570893e-09*x1+-1.1886541304097147\n",
            "Relative Error: 100.000000\n",
            "--------------------------------------------------\n"
          ]
        },
        {
          "output_type": "stream",
          "name": "stderr",
          "text": [
            "sampling loop: 100%|██████████| 1000/1000 [00:02<00:00, 487.65it/s]\n"
          ]
        },
        {
          "output_type": "stream",
          "name": "stdout",
          "text": [
            "\n",
            "Sample 56:\n",
            "Target: C*x1+C\n",
            "Predicted Skeleton: C*log(C*x1)9C<999<9<9999<9999999999\n",
            "Predicted: 1.0*log(1.0*x1)91.0<999<9<9999<9999999999\n",
            "Relative Error: 100.000000\n",
            "--------------------------------------------------\n"
          ]
        },
        {
          "output_type": "stream",
          "name": "stderr",
          "text": [
            "sampling loop: 100%|██████████| 1000/1000 [00:02<00:00, 340.49it/s]\n"
          ]
        },
        {
          "output_type": "stream",
          "name": "stdout",
          "text": [
            "\n",
            "Sample 57:\n",
            "Target: C*sin(C*x1)+C\n",
            "Predicted Skeleton: C*exp(C*x199C999999999<99999<999<<9\n",
            "Predicted: 1.0*exp(1.0*x1991.0999999999<99999<999<<9\n",
            "Relative Error: 100.000000\n",
            "--------------------------------------------------\n"
          ]
        },
        {
          "output_type": "stream",
          "name": "stderr",
          "text": [
            "sampling loop: 100%|██████████| 1000/1000 [00:02<00:00, 486.57it/s]\n"
          ]
        },
        {
          "output_type": "stream",
          "name": "stdout",
          "text": [
            "\n",
            "Sample 58:\n",
            "Target: C*sin(C*log(C*x1)+C)+C\n",
            "Predicted Skeleton: C*log(C*x1)6C<999<9<999<<99<9999999\n",
            "Predicted: 1.0*log(1.0*x1)61.0<999<9<999<<99<9999999\n",
            "Relative Error: 100.000000\n",
            "--------------------------------------------------\n"
          ]
        },
        {
          "output_type": "stream",
          "name": "stderr",
          "text": [
            "sampling loop: 100%|██████████| 1000/1000 [00:01<00:00, 507.01it/s]\n"
          ]
        },
        {
          "output_type": "stream",
          "name": "stdout",
          "text": [
            "\n",
            "Sample 59:\n",
            "Target: C*x1+C\n",
            "Predicted Skeleton: C*x1**C\n",
            "Predicted: 0.04774503168916777*x1**2.819155356112406\n",
            "Relative Error: 100.000000\n",
            "--------------------------------------------------\n"
          ]
        },
        {
          "output_type": "stream",
          "name": "stderr",
          "text": [
            "sampling loop: 100%|██████████| 1000/1000 [00:02<00:00, 489.89it/s]\n"
          ]
        },
        {
          "output_type": "stream",
          "name": "stdout",
          "text": [
            "\n",
            "Sample 60:\n",
            "Target: C*log(C*exp(C*x1))+C\n",
            "Predicted Skeleton: C*x1+C\n",
            "Predicted: -8.892626690570893e-09*x1+-1.1886541304097147\n",
            "Relative Error: 100.000000\n",
            "--------------------------------------------------\n"
          ]
        },
        {
          "output_type": "stream",
          "name": "stderr",
          "text": [
            "sampling loop: 100%|██████████| 1000/1000 [00:02<00:00, 495.50it/s]\n"
          ]
        },
        {
          "output_type": "stream",
          "name": "stdout",
          "text": [
            "\n",
            "Sample 61:\n",
            "Target: C*log(C*cos(C*x1+C))+C\n",
            "Predicted Skeleton: C*sin(C*x1)6C<999<9999<9999999999<9\n",
            "Predicted: 1.0*sin(1.0*x1)61.0<999<9999<9999999999<9\n",
            "Relative Error: 100.000000\n",
            "--------------------------------------------------\n"
          ]
        },
        {
          "output_type": "stream",
          "name": "stderr",
          "text": [
            "sampling loop: 100%|██████████| 1000/1000 [00:02<00:00, 482.63it/s]\n"
          ]
        },
        {
          "output_type": "stream",
          "name": "stdout",
          "text": [
            "\n",
            "Sample 62:\n",
            "Target: C*log(C*log(C*exp(C*x1)))+C\n",
            "Predicted Skeleton: C*x1+C\n",
            "Predicted: -8.892626690570893e-09*x1+-1.1886541304097147\n",
            "Relative Error: 100.000000\n",
            "--------------------------------------------------\n"
          ]
        },
        {
          "output_type": "stream",
          "name": "stderr",
          "text": [
            "sampling loop: 100%|██████████| 1000/1000 [00:02<00:00, 345.08it/s]\n"
          ]
        },
        {
          "output_type": "stream",
          "name": "stdout",
          "text": [
            "\n",
            "Sample 63:\n",
            "Target: C*log(C*log(C*cos(C*x1+C)))+C\n",
            "Predicted Skeleton: C*x1+C\n",
            "Predicted: -8.892626690570893e-09*x1+-1.1886541304097147\n",
            "Relative Error: 100.000000\n",
            "--------------------------------------------------\n"
          ]
        },
        {
          "output_type": "stream",
          "name": "stderr",
          "text": [
            "sampling loop: 100%|██████████| 1000/1000 [00:02<00:00, 498.11it/s]\n"
          ]
        },
        {
          "output_type": "stream",
          "name": "stdout",
          "text": [
            "\n",
            "Sample 64:\n",
            "Target: C*x1**4+C*x1**3+C*x1**2+C*x1+C\n",
            "Predicted Skeleton: C*x1**6+C\n",
            "Predicted: -8.213904724628503e-09*x1**6+-1.188654508584297\n",
            "Relative Error: 100.000000\n",
            "--------------------------------------------------\n"
          ]
        },
        {
          "output_type": "stream",
          "name": "stderr",
          "text": [
            "sampling loop: 100%|██████████| 1000/1000 [00:02<00:00, 496.89it/s]\n"
          ]
        },
        {
          "output_type": "stream",
          "name": "stdout",
          "text": [
            "\n",
            "Sample 65:\n",
            "Target: C*exp(C*x1)+C\n",
            "Predicted Skeleton: C*exp(C*x1)9C<9999<99999999<<999999\n",
            "Predicted: 1.0*exp(1.0*x1)91.0<9999<99999999<<999999\n",
            "Relative Error: 100.000000\n",
            "--------------------------------------------------\n"
          ]
        },
        {
          "output_type": "stream",
          "name": "stderr",
          "text": [
            "sampling loop: 100%|██████████| 1000/1000 [00:02<00:00, 497.47it/s]\n"
          ]
        },
        {
          "output_type": "stream",
          "name": "stdout",
          "text": [
            "\n",
            "Sample 66:\n",
            "Target: C*x1**2+C\n",
            "Predicted Skeleton: C*x1**6\n",
            "Predicted: 0.002000738942010097*x1**6\n",
            "Relative Error: 100.000000\n",
            "--------------------------------------------------\n"
          ]
        },
        {
          "output_type": "stream",
          "name": "stderr",
          "text": [
            "sampling loop: 100%|██████████| 1000/1000 [00:02<00:00, 494.54it/s]\n"
          ]
        },
        {
          "output_type": "stream",
          "name": "stdout",
          "text": [
            "\n",
            "Sample 67:\n",
            "Target: C*x1**4+C*x1**2+C\n",
            "Predicted Skeleton: C*log(C*x1)9C<999999999999999999999\n",
            "Predicted: 1.0*log(1.0*x1)91.0<999999999999999999999\n",
            "Relative Error: 100.000000\n",
            "--------------------------------------------------\n"
          ]
        },
        {
          "output_type": "stream",
          "name": "stderr",
          "text": [
            "sampling loop: 100%|██████████| 1000/1000 [00:02<00:00, 440.71it/s]\n"
          ]
        },
        {
          "output_type": "stream",
          "name": "stdout",
          "text": [
            "\n",
            "Sample 68:\n",
            "Target: C*log(C*exp(C*x1))+C\n",
            "Predicted Skeleton: C*exp(C*x1)9<99<9<<<999<999999999<9\n",
            "Predicted: 1.0*exp(1.0*x1)9<99<9<<<999<999999999<9\n",
            "Relative Error: 100.000000\n",
            "--------------------------------------------------\n"
          ]
        },
        {
          "output_type": "stream",
          "name": "stderr",
          "text": [
            "sampling loop: 100%|██████████| 1000/1000 [00:02<00:00, 368.46it/s]\n"
          ]
        },
        {
          "output_type": "stream",
          "name": "stdout",
          "text": [
            "\n",
            "Sample 69:\n",
            "Target: C*x1+C*log(C*x1+C)+C\n",
            "Predicted Skeleton: C*log(C*x1)9C<999999999<<999<999999\n",
            "Predicted: 1.0*log(1.0*x1)91.0<999999999<<999<999999\n",
            "Relative Error: 100.000000\n",
            "--------------------------------------------------\n"
          ]
        },
        {
          "output_type": "stream",
          "name": "stderr",
          "text": [
            "sampling loop: 100%|██████████| 1000/1000 [00:02<00:00, 497.55it/s]\n"
          ]
        },
        {
          "output_type": "stream",
          "name": "stdout",
          "text": [
            "\n",
            "Sample 70:\n",
            "Target: C*exp(C*x1)+C\n",
            "Predicted Skeleton: C*exp(C*x1)<C<9999999999999999999<9\n",
            "Predicted: 1.0*exp(1.0*x1)<1.0<9999999999999999999<9\n",
            "Relative Error: 100.000000\n",
            "--------------------------------------------------\n"
          ]
        },
        {
          "output_type": "stream",
          "name": "stderr",
          "text": [
            "sampling loop: 100%|██████████| 1000/1000 [00:02<00:00, 497.72it/s]\n"
          ]
        },
        {
          "output_type": "stream",
          "name": "stdout",
          "text": [
            "\n",
            "Sample 71:\n",
            "Target: C*cos(C*sin(C*x1))+C\n",
            "Predicted Skeleton: C*x1+C\n",
            "Predicted: -8.892626690570893e-09*x1+-1.1886541304097147\n",
            "Relative Error: 100.000000\n",
            "--------------------------------------------------\n"
          ]
        },
        {
          "output_type": "stream",
          "name": "stderr",
          "text": [
            "sampling loop: 100%|██████████| 1000/1000 [00:01<00:00, 501.18it/s]\n"
          ]
        },
        {
          "output_type": "stream",
          "name": "stdout",
          "text": [
            "\n",
            "Sample 72:\n",
            "Target: C*x1**5+C*x1**2+C\n",
            "Predicted Skeleton: C*x1**6+69<**<<<9<<<99<<<9<<<<<9<9\n",
            "Predicted: 1.0*x1**6+69<**<<<9<<<99<<<9<<<<<9<9\n",
            "Relative Error: 100.000000\n",
            "--------------------------------------------------\n"
          ]
        },
        {
          "output_type": "stream",
          "name": "stderr",
          "text": [
            "sampling loop: 100%|██████████| 1000/1000 [00:02<00:00, 491.35it/s]\n"
          ]
        },
        {
          "output_type": "stream",
          "name": "stdout",
          "text": [
            "\n",
            "Sample 73:\n",
            "Target: C\n",
            "Predicted Skeleton: C\n",
            "Predicted: -1.1886538543168923\n",
            "Relative Error: 100.000000\n",
            "--------------------------------------------------\n"
          ]
        },
        {
          "output_type": "stream",
          "name": "stderr",
          "text": [
            "sampling loop: 100%|██████████| 1000/1000 [00:02<00:00, 435.71it/s]\n"
          ]
        },
        {
          "output_type": "stream",
          "name": "stdout",
          "text": [
            "\n",
            "Sample 74:\n",
            "Target: C*x1+C\n",
            "Predicted Skeleton: C*x1**C\n",
            "Predicted: 0.04774503168916777*x1**2.819155356112406\n",
            "Relative Error: 100.000000\n",
            "--------------------------------------------------\n"
          ]
        },
        {
          "output_type": "stream",
          "name": "stderr",
          "text": [
            "sampling loop: 100%|██████████| 1000/1000 [00:02<00:00, 372.46it/s]\n"
          ]
        },
        {
          "output_type": "stream",
          "name": "stdout",
          "text": [
            "\n",
            "Sample 75:\n",
            "Target: C*x1+C\n",
            "Predicted Skeleton: C*x1**C\n",
            "Predicted: 0.04774503168916777*x1**2.819155356112406\n",
            "Relative Error: 100.000000\n",
            "--------------------------------------------------\n"
          ]
        },
        {
          "output_type": "stream",
          "name": "stderr",
          "text": [
            "sampling loop: 100%|██████████| 1000/1000 [00:02<00:00, 486.50it/s]\n"
          ]
        },
        {
          "output_type": "stream",
          "name": "stdout",
          "text": [
            "\n",
            "Sample 76:\n",
            "Target: C*x1+C*x1/(C*x1+C)+C*sin(C*x1**4+C*x1**3+\n",
            "Predicted Skeleton: C*x1+C\n",
            "Predicted: -8.892626690570893e-09*x1+-1.1886541304097147\n",
            "Relative Error: 100.000000\n",
            "--------------------------------------------------\n"
          ]
        },
        {
          "output_type": "stream",
          "name": "stderr",
          "text": [
            "sampling loop: 100%|██████████| 1000/1000 [00:02<00:00, 481.39it/s]\n"
          ]
        },
        {
          "output_type": "stream",
          "name": "stdout",
          "text": [
            "\n",
            "Sample 77:\n",
            "Target: C*exp(C*x1)+C\n",
            "Predicted Skeleton: C*exp(C*x1)9C9999999999999999999999\n",
            "Predicted: 1.0*exp(1.0*x1)91.09999999999999999999999\n",
            "Relative Error: 100.000000\n",
            "--------------------------------------------------\n"
          ]
        },
        {
          "output_type": "stream",
          "name": "stderr",
          "text": [
            "sampling loop: 100%|██████████| 1000/1000 [00:02<00:00, 493.74it/s]\n"
          ]
        },
        {
          "output_type": "stream",
          "name": "stdout",
          "text": [
            "\n",
            "Sample 78:\n",
            "Target: C*x1+C\n",
            "Predicted Skeleton: C*x1**6\n",
            "Predicted: 0.002000738942010097*x1**6\n",
            "Relative Error: 100.000000\n",
            "--------------------------------------------------\n"
          ]
        },
        {
          "output_type": "stream",
          "name": "stderr",
          "text": [
            "sampling loop: 100%|██████████| 1000/1000 [00:02<00:00, 495.07it/s]\n"
          ]
        },
        {
          "output_type": "stream",
          "name": "stdout",
          "text": [
            "\n",
            "Sample 79:\n",
            "Target: C*x1+C\n",
            "Predicted Skeleton: C*x1+C\n",
            "Predicted: -8.892626690570893e-09*x1+-1.1886541304097147\n",
            "Relative Error: 100.000000\n",
            "--------------------------------------------------\n"
          ]
        },
        {
          "output_type": "stream",
          "name": "stderr",
          "text": [
            "sampling loop: 100%|██████████| 1000/1000 [00:02<00:00, 385.38it/s]\n"
          ]
        },
        {
          "output_type": "stream",
          "name": "stdout",
          "text": [
            "\n",
            "Sample 80:\n",
            "Target: C*sin(C*x1)+C\n",
            "Predicted Skeleton: C*log(C*x1)6C<999<99999<99999999999\n",
            "Predicted: 1.0*log(1.0*x1)61.0<999<99999<99999999999\n",
            "Relative Error: 100.000000\n",
            "--------------------------------------------------\n"
          ]
        },
        {
          "output_type": "stream",
          "name": "stderr",
          "text": [
            "sampling loop: 100%|██████████| 1000/1000 [00:02<00:00, 413.17it/s]\n"
          ]
        },
        {
          "output_type": "stream",
          "name": "stdout",
          "text": [
            "\n",
            "Sample 81:\n",
            "Target: C*sin(C*x1**3+C*x1**2+C*x1+C/C*sin(C*x1+C)\n",
            "Predicted Skeleton: C*x1+C\n",
            "Predicted: -8.892626690570893e-09*x1+-1.1886541304097147\n",
            "Relative Error: 100.000000\n",
            "--------------------------------------------------\n"
          ]
        },
        {
          "output_type": "stream",
          "name": "stderr",
          "text": [
            "sampling loop: 100%|██████████| 1000/1000 [00:02<00:00, 489.44it/s]\n"
          ]
        },
        {
          "output_type": "stream",
          "name": "stdout",
          "text": [
            "\n",
            "Sample 82:\n",
            "Target: C*log(C*x1**2+C*x1)+C\n",
            "Predicted Skeleton: C*log(C*x1+9C\n",
            "Predicted: 1.0*log(1.0*x1+91.0\n",
            "Relative Error: 100.000000\n",
            "--------------------------------------------------\n"
          ]
        },
        {
          "output_type": "stream",
          "name": "stderr",
          "text": [
            "sampling loop: 100%|██████████| 1000/1000 [00:02<00:00, 493.53it/s]\n"
          ]
        },
        {
          "output_type": "stream",
          "name": "stdout",
          "text": [
            "\n",
            "Sample 83:\n",
            "Target: C*log(C*log(C*x1)+C)+C\n",
            "Predicted Skeleton: C*log(C*x1)6C\n",
            "Predicted: 1.0*log(1.0*x1)61.0\n",
            "Relative Error: 100.000000\n",
            "--------------------------------------------------\n"
          ]
        },
        {
          "output_type": "stream",
          "name": "stderr",
          "text": [
            "sampling loop: 100%|██████████| 1000/1000 [00:02<00:00, 497.73it/s]\n"
          ]
        },
        {
          "output_type": "stream",
          "name": "stdout",
          "text": [
            "\n",
            "Sample 84:\n",
            "Target: C*x1+C\n",
            "Predicted Skeleton: C*x1**C\n",
            "Predicted: 0.04774503168916777*x1**2.819155356112406\n",
            "Relative Error: 100.000000\n",
            "--------------------------------------------------\n"
          ]
        },
        {
          "output_type": "stream",
          "name": "stderr",
          "text": [
            "sampling loop: 100%|██████████| 1000/1000 [00:02<00:00, 499.28it/s]\n"
          ]
        },
        {
          "output_type": "stream",
          "name": "stdout",
          "text": [
            "\n",
            "Sample 85:\n",
            "Target: C*x1+C*x1/(C*x1+C)+C*sin(C*x1)+C\n",
            "Predicted Skeleton: C*x1+CC*\n",
            "Predicted: 1.0*x1+1.01.0*\n",
            "Relative Error: 100.000000\n",
            "--------------------------------------------------\n"
          ]
        },
        {
          "output_type": "stream",
          "name": "stderr",
          "text": [
            "sampling loop: 100%|██████████| 1000/1000 [00:02<00:00, 378.35it/s]\n"
          ]
        },
        {
          "output_type": "stream",
          "name": "stdout",
          "text": [
            "\n",
            "Sample 86:\n",
            "Target: C*x1+C\n",
            "Predicted Skeleton: C*x1+C\n",
            "Predicted: -8.892626690570893e-09*x1+-1.1886541304097147\n",
            "Relative Error: 100.000000\n",
            "--------------------------------------------------\n"
          ]
        },
        {
          "output_type": "stream",
          "name": "stderr",
          "text": [
            "sampling loop: 100%|██████████| 1000/1000 [00:02<00:00, 429.79it/s]\n"
          ]
        },
        {
          "output_type": "stream",
          "name": "stdout",
          "text": [
            "\n",
            "Sample 87:\n",
            "Target: C*sin(C*cos(C*log(C*x1+C)))+C\n",
            "Predicted Skeleton: C*x1+C\n",
            "Predicted: -8.892626690570893e-09*x1+-1.1886541304097147\n",
            "Relative Error: 100.000000\n",
            "--------------------------------------------------\n"
          ]
        },
        {
          "output_type": "stream",
          "name": "stderr",
          "text": [
            "sampling loop: 100%|██████████| 1000/1000 [00:02<00:00, 495.93it/s]\n"
          ]
        },
        {
          "output_type": "stream",
          "name": "stdout",
          "text": [
            "\n",
            "Sample 88:\n",
            "Target: C*x1+C\n",
            "Predicted Skeleton: C*exp(C*x1)9C<99999999999999999<999\n",
            "Predicted: 1.0*exp(1.0*x1)91.0<99999999999999999<999\n",
            "Relative Error: 100.000000\n",
            "--------------------------------------------------\n"
          ]
        },
        {
          "output_type": "stream",
          "name": "stderr",
          "text": [
            "sampling loop: 100%|██████████| 1000/1000 [00:02<00:00, 494.18it/s]\n"
          ]
        },
        {
          "output_type": "stream",
          "name": "stdout",
          "text": [
            "\n",
            "Sample 89:\n",
            "Target: C*x1**2+C*x1+C\n",
            "Predicted Skeleton: C*x1**C\n",
            "Predicted: 0.04774503168916777*x1**2.819155356112406\n",
            "Relative Error: 100.000000\n",
            "--------------------------------------------------\n"
          ]
        },
        {
          "output_type": "stream",
          "name": "stderr",
          "text": [
            "sampling loop: 100%|██████████| 1000/1000 [00:02<00:00, 493.41it/s]\n"
          ]
        },
        {
          "output_type": "stream",
          "name": "stdout",
          "text": [
            "\n",
            "Sample 90:\n",
            "Target: C\n",
            "Predicted Skeleton: C\n",
            "Predicted: -1.1886538543168923\n",
            "Relative Error: 100.000000\n",
            "--------------------------------------------------\n"
          ]
        },
        {
          "output_type": "stream",
          "name": "stderr",
          "text": [
            "sampling loop: 100%|██████████| 1000/1000 [00:02<00:00, 497.20it/s]\n"
          ]
        },
        {
          "output_type": "stream",
          "name": "stdout",
          "text": [
            "\n",
            "Sample 91:\n",
            "Target: C*x1**2+C*x1+C\n",
            "Predicted Skeleton: C*x1**C\n",
            "Predicted: 0.04774503168916777*x1**2.819155356112406\n",
            "Relative Error: 100.000000\n",
            "--------------------------------------------------\n"
          ]
        },
        {
          "output_type": "stream",
          "name": "stderr",
          "text": [
            "sampling loop: 100%|██████████| 1000/1000 [00:02<00:00, 345.61it/s]\n"
          ]
        },
        {
          "output_type": "stream",
          "name": "stdout",
          "text": [
            "\n",
            "Sample 92:\n",
            "Target: C*x1**4+C*x1+C\n",
            "Predicted Skeleton: C*x1**6\n",
            "Predicted: 0.002000738942010097*x1**6\n",
            "Relative Error: 100.000000\n",
            "--------------------------------------------------\n"
          ]
        },
        {
          "output_type": "stream",
          "name": "stderr",
          "text": [
            "sampling loop: 100%|██████████| 1000/1000 [00:02<00:00, 477.57it/s]\n"
          ]
        },
        {
          "output_type": "stream",
          "name": "stdout",
          "text": [
            "\n",
            "Sample 93:\n",
            "Target: C*x1+C\n",
            "Predicted Skeleton: C*x1+C\n",
            "Predicted: -8.892626690570893e-09*x1+-1.1886541304097147\n",
            "Relative Error: 100.000000\n",
            "--------------------------------------------------\n"
          ]
        },
        {
          "output_type": "stream",
          "name": "stderr",
          "text": [
            "sampling loop: 100%|██████████| 1000/1000 [00:02<00:00, 481.41it/s]\n"
          ]
        },
        {
          "output_type": "stream",
          "name": "stdout",
          "text": [
            "\n",
            "Sample 94:\n",
            "Target: C*cos(C*x1)+C\n",
            "Predicted Skeleton: C*log(C*x1)6C<9<999<9<<99999<9<9999\n",
            "Predicted: 1.0*log(1.0*x1)61.0<9<999<9<<99999<9<9999\n",
            "Relative Error: 100.000000\n",
            "--------------------------------------------------\n"
          ]
        },
        {
          "output_type": "stream",
          "name": "stderr",
          "text": [
            "sampling loop: 100%|██████████| 1000/1000 [00:02<00:00, 491.94it/s]\n",
            "<string>:1: SyntaxWarning: 'float' object is not callable; perhaps you missed a comma?\n",
            "<string>:1: SyntaxWarning: 'float' object is not callable; perhaps you missed a comma?\n",
            "<string>:1: SyntaxWarning: 'float' object is not callable; perhaps you missed a comma?\n",
            "<string>:1: SyntaxWarning: 'float' object is not callable; perhaps you missed a comma?\n",
            "<string>:1: SyntaxWarning: 'float' object is not callable; perhaps you missed a comma?\n",
            "<string>:1: SyntaxWarning: 'float' object is not callable; perhaps you missed a comma?\n",
            "<string>:1: SyntaxWarning: 'float' object is not callable; perhaps you missed a comma?\n",
            "<string>:1: SyntaxWarning: 'float' object is not callable; perhaps you missed a comma?\n",
            "<string>:1: SyntaxWarning: 'float' object is not callable; perhaps you missed a comma?\n",
            "<string>:1: SyntaxWarning: 'float' object is not callable; perhaps you missed a comma?\n",
            "<string>:1: SyntaxWarning: 'float' object is not callable; perhaps you missed a comma?\n",
            "<string>:1: SyntaxWarning: 'float' object is not callable; perhaps you missed a comma?\n",
            "<string>:1: SyntaxWarning: 'float' object is not callable; perhaps you missed a comma?\n",
            "<string>:1: SyntaxWarning: 'float' object is not callable; perhaps you missed a comma?\n",
            "<string>:1: SyntaxWarning: 'float' object is not callable; perhaps you missed a comma?\n",
            "<string>:1: SyntaxWarning: 'float' object is not callable; perhaps you missed a comma?\n",
            "<string>:1: SyntaxWarning: 'float' object is not callable; perhaps you missed a comma?\n",
            "<string>:1: SyntaxWarning: 'float' object is not callable; perhaps you missed a comma?\n",
            "<string>:1: SyntaxWarning: 'float' object is not callable; perhaps you missed a comma?\n",
            "<string>:1: SyntaxWarning: 'float' object is not callable; perhaps you missed a comma?\n",
            "<string>:1: SyntaxWarning: 'float' object is not callable; perhaps you missed a comma?\n",
            "<string>:1: SyntaxWarning: 'float' object is not callable; perhaps you missed a comma?\n",
            "<string>:1: SyntaxWarning: 'float' object is not callable; perhaps you missed a comma?\n",
            "<string>:1: SyntaxWarning: 'float' object is not callable; perhaps you missed a comma?\n",
            "<string>:1: SyntaxWarning: 'float' object is not callable; perhaps you missed a comma?\n",
            "<string>:1: SyntaxWarning: 'float' object is not callable; perhaps you missed a comma?\n",
            "<string>:1: SyntaxWarning: 'float' object is not callable; perhaps you missed a comma?\n",
            "<string>:1: SyntaxWarning: 'float' object is not callable; perhaps you missed a comma?\n",
            "<string>:1: SyntaxWarning: 'float' object is not callable; perhaps you missed a comma?\n",
            "<string>:1: SyntaxWarning: 'float' object is not callable; perhaps you missed a comma?\n",
            "<string>:1: SyntaxWarning: 'float' object is not callable; perhaps you missed a comma?\n",
            "<string>:1: SyntaxWarning: 'float' object is not callable; perhaps you missed a comma?\n",
            "<string>:1: SyntaxWarning: 'float' object is not callable; perhaps you missed a comma?\n",
            "<string>:1: SyntaxWarning: 'float' object is not callable; perhaps you missed a comma?\n",
            "<string>:1: SyntaxWarning: 'float' object is not callable; perhaps you missed a comma?\n",
            "<string>:1: SyntaxWarning: 'float' object is not callable; perhaps you missed a comma?\n",
            "<string>:1: SyntaxWarning: 'float' object is not callable; perhaps you missed a comma?\n",
            "<string>:1: SyntaxWarning: 'float' object is not callable; perhaps you missed a comma?\n",
            "<string>:1: SyntaxWarning: 'float' object is not callable; perhaps you missed a comma?\n",
            "<string>:1: SyntaxWarning: 'float' object is not callable; perhaps you missed a comma?\n",
            "<string>:1: SyntaxWarning: 'float' object is not callable; perhaps you missed a comma?\n",
            "<string>:1: SyntaxWarning: 'float' object is not callable; perhaps you missed a comma?\n",
            "<string>:1: SyntaxWarning: 'float' object is not callable; perhaps you missed a comma?\n",
            "<string>:1: SyntaxWarning: 'float' object is not callable; perhaps you missed a comma?\n",
            "<string>:1: SyntaxWarning: 'float' object is not callable; perhaps you missed a comma?\n",
            "<string>:1: SyntaxWarning: 'float' object is not callable; perhaps you missed a comma?\n",
            "<string>:1: SyntaxWarning: 'float' object is not callable; perhaps you missed a comma?\n",
            "<string>:1: SyntaxWarning: 'float' object is not callable; perhaps you missed a comma?\n",
            "<string>:1: SyntaxWarning: 'float' object is not callable; perhaps you missed a comma?\n",
            "<string>:1: SyntaxWarning: 'float' object is not callable; perhaps you missed a comma?\n",
            "<string>:1: SyntaxWarning: 'float' object is not callable; perhaps you missed a comma?\n",
            "<string>:1: SyntaxWarning: 'float' object is not callable; perhaps you missed a comma?\n",
            "<string>:1: SyntaxWarning: 'float' object is not callable; perhaps you missed a comma?\n",
            "<string>:1: SyntaxWarning: 'float' object is not callable; perhaps you missed a comma?\n",
            "<string>:1: SyntaxWarning: 'float' object is not callable; perhaps you missed a comma?\n",
            "<string>:1: SyntaxWarning: 'float' object is not callable; perhaps you missed a comma?\n",
            "<string>:1: SyntaxWarning: 'float' object is not callable; perhaps you missed a comma?\n",
            "<string>:1: SyntaxWarning: 'float' object is not callable; perhaps you missed a comma?\n",
            "<string>:1: SyntaxWarning: 'float' object is not callable; perhaps you missed a comma?\n",
            "<string>:1: SyntaxWarning: 'float' object is not callable; perhaps you missed a comma?\n",
            "<string>:1: SyntaxWarning: 'float' object is not callable; perhaps you missed a comma?\n",
            "<string>:1: SyntaxWarning: 'float' object is not callable; perhaps you missed a comma?\n",
            "<string>:1: SyntaxWarning: 'float' object is not callable; perhaps you missed a comma?\n",
            "<string>:1: SyntaxWarning: 'float' object is not callable; perhaps you missed a comma?\n",
            "<string>:1: SyntaxWarning: 'float' object is not callable; perhaps you missed a comma?\n",
            "<string>:1: SyntaxWarning: 'float' object is not callable; perhaps you missed a comma?\n",
            "<string>:1: SyntaxWarning: 'float' object is not callable; perhaps you missed a comma?\n",
            "<string>:1: SyntaxWarning: 'float' object is not callable; perhaps you missed a comma?\n",
            "<string>:1: SyntaxWarning: 'float' object is not callable; perhaps you missed a comma?\n",
            "<string>:1: SyntaxWarning: 'float' object is not callable; perhaps you missed a comma?\n",
            "<string>:1: SyntaxWarning: 'float' object is not callable; perhaps you missed a comma?\n",
            "<string>:1: SyntaxWarning: 'float' object is not callable; perhaps you missed a comma?\n",
            "<string>:1: SyntaxWarning: 'float' object is not callable; perhaps you missed a comma?\n",
            "<string>:1: SyntaxWarning: 'float' object is not callable; perhaps you missed a comma?\n",
            "<string>:1: SyntaxWarning: 'float' object is not callable; perhaps you missed a comma?\n",
            "<string>:1: SyntaxWarning: 'float' object is not callable; perhaps you missed a comma?\n",
            "<string>:1: SyntaxWarning: 'float' object is not callable; perhaps you missed a comma?\n",
            "<string>:1: SyntaxWarning: 'float' object is not callable; perhaps you missed a comma?\n",
            "<string>:1: SyntaxWarning: 'float' object is not callable; perhaps you missed a comma?\n",
            "<string>:1: SyntaxWarning: 'float' object is not callable; perhaps you missed a comma?\n",
            "<string>:1: SyntaxWarning: 'float' object is not callable; perhaps you missed a comma?\n",
            "<string>:1: SyntaxWarning: 'float' object is not callable; perhaps you missed a comma?\n",
            "<string>:1: SyntaxWarning: 'float' object is not callable; perhaps you missed a comma?\n",
            "<string>:1: SyntaxWarning: 'float' object is not callable; perhaps you missed a comma?\n",
            "<string>:1: SyntaxWarning: 'float' object is not callable; perhaps you missed a comma?\n",
            "<string>:1: SyntaxWarning: 'float' object is not callable; perhaps you missed a comma?\n",
            "<string>:1: SyntaxWarning: 'float' object is not callable; perhaps you missed a comma?\n",
            "<string>:1: SyntaxWarning: 'float' object is not callable; perhaps you missed a comma?\n",
            "<string>:1: SyntaxWarning: 'float' object is not callable; perhaps you missed a comma?\n",
            "<string>:1: SyntaxWarning: 'float' object is not callable; perhaps you missed a comma?\n",
            "<string>:1: SyntaxWarning: 'float' object is not callable; perhaps you missed a comma?\n",
            "<string>:1: SyntaxWarning: 'float' object is not callable; perhaps you missed a comma?\n",
            "<string>:1: SyntaxWarning: 'float' object is not callable; perhaps you missed a comma?\n",
            "<string>:1: SyntaxWarning: 'float' object is not callable; perhaps you missed a comma?\n",
            "<string>:1: SyntaxWarning: 'float' object is not callable; perhaps you missed a comma?\n",
            "<string>:1: SyntaxWarning: 'float' object is not callable; perhaps you missed a comma?\n",
            "<string>:1: SyntaxWarning: 'float' object is not callable; perhaps you missed a comma?\n",
            "<string>:1: SyntaxWarning: 'float' object is not callable; perhaps you missed a comma?\n",
            "<string>:1: SyntaxWarning: 'float' object is not callable; perhaps you missed a comma?\n",
            "<string>:1: SyntaxWarning: 'float' object is not callable; perhaps you missed a comma?\n",
            "<string>:1: SyntaxWarning: 'float' object is not callable; perhaps you missed a comma?\n",
            "<string>:1: SyntaxWarning: 'float' object is not callable; perhaps you missed a comma?\n",
            "<string>:1: SyntaxWarning: 'float' object is not callable; perhaps you missed a comma?\n",
            "<string>:1: SyntaxWarning: 'float' object is not callable; perhaps you missed a comma?\n",
            "<string>:1: SyntaxWarning: 'float' object is not callable; perhaps you missed a comma?\n",
            "<string>:1: SyntaxWarning: 'float' object is not callable; perhaps you missed a comma?\n",
            "<string>:1: SyntaxWarning: 'float' object is not callable; perhaps you missed a comma?\n",
            "<string>:1: SyntaxWarning: 'float' object is not callable; perhaps you missed a comma?\n",
            "<string>:1: SyntaxWarning: 'float' object is not callable; perhaps you missed a comma?\n",
            "<string>:1: SyntaxWarning: 'float' object is not callable; perhaps you missed a comma?\n",
            "<string>:1: SyntaxWarning: 'float' object is not callable; perhaps you missed a comma?\n",
            "<string>:1: SyntaxWarning: 'float' object is not callable; perhaps you missed a comma?\n",
            "<string>:1: SyntaxWarning: 'float' object is not callable; perhaps you missed a comma?\n",
            "<string>:1: SyntaxWarning: 'float' object is not callable; perhaps you missed a comma?\n",
            "<string>:1: SyntaxWarning: 'float' object is not callable; perhaps you missed a comma?\n",
            "<string>:1: SyntaxWarning: 'float' object is not callable; perhaps you missed a comma?\n",
            "<string>:1: SyntaxWarning: 'float' object is not callable; perhaps you missed a comma?\n",
            "<string>:1: SyntaxWarning: 'float' object is not callable; perhaps you missed a comma?\n",
            "<string>:1: SyntaxWarning: 'float' object is not callable; perhaps you missed a comma?\n",
            "<string>:1: SyntaxWarning: 'float' object is not callable; perhaps you missed a comma?\n"
          ]
        },
        {
          "output_type": "stream",
          "name": "stdout",
          "text": [
            "\n",
            "Sample 95:\n",
            "Target: C*sin(C*x1+C)+C\n",
            "Predicted Skeleton: C*x1(C*x1)+C\n",
            "Predicted: 1.0*x1(1.0*x1)+1.0\n",
            "Relative Error: 100.000000\n",
            "--------------------------------------------------\n"
          ]
        },
        {
          "output_type": "stream",
          "name": "stderr",
          "text": [
            "sampling loop: 100%|██████████| 1000/1000 [00:02<00:00, 495.34it/s]\n"
          ]
        },
        {
          "output_type": "stream",
          "name": "stdout",
          "text": [
            "\n",
            "Sample 96:\n",
            "Target: C*x1+C\n",
            "Predicted Skeleton: C*x1+C\n",
            "Predicted: -8.892626690570893e-09*x1+-1.1886541304097147\n",
            "Relative Error: 100.000000\n",
            "--------------------------------------------------\n"
          ]
        },
        {
          "output_type": "stream",
          "name": "stderr",
          "text": [
            "sampling loop: 100%|██████████| 1000/1000 [00:02<00:00, 465.48it/s]\n"
          ]
        },
        {
          "output_type": "stream",
          "name": "stdout",
          "text": [
            "\n",
            "Sample 97:\n",
            "Target: C*x1**2+C*x1+C\n",
            "Predicted Skeleton: C*x1**C\n",
            "Predicted: 0.04774503168916777*x1**2.819155356112406\n",
            "Relative Error: 100.000000\n",
            "--------------------------------------------------\n"
          ]
        },
        {
          "output_type": "stream",
          "name": "stderr",
          "text": [
            "sampling loop: 100%|██████████| 1000/1000 [00:02<00:00, 357.83it/s]\n"
          ]
        },
        {
          "output_type": "stream",
          "name": "stdout",
          "text": [
            "\n",
            "Sample 98:\n",
            "Target: C*x1**2+C*x1+C\n",
            "Predicted Skeleton: C*log(C*x1)6C<999<9<999999999999999\n",
            "Predicted: 1.0*log(1.0*x1)61.0<999<9<999999999999999\n",
            "Relative Error: 100.000000\n",
            "--------------------------------------------------\n"
          ]
        },
        {
          "output_type": "stream",
          "name": "stderr",
          "text": [
            "sampling loop: 100%|██████████| 1000/1000 [00:02<00:00, 496.85it/s]\n"
          ]
        },
        {
          "output_type": "stream",
          "name": "stdout",
          "text": [
            "\n",
            "Sample 99:\n",
            "Target: C\n",
            "Predicted Skeleton: C\n",
            "Predicted: -1.1886538543168923\n",
            "Relative Error: 100.000000\n",
            "--------------------------------------------------\n"
          ]
        },
        {
          "output_type": "stream",
          "name": "stderr",
          "text": [
            "sampling loop: 100%|██████████| 1000/1000 [00:01<00:00, 500.37it/s]\n"
          ]
        },
        {
          "output_type": "stream",
          "name": "stdout",
          "text": [
            "\n",
            "Sample 100:\n",
            "Target: C*cos(C*cos(C*x1))+C\n",
            "Predicted Skeleton: C*sin(C*x1)6C<999<<999999<999999999\n",
            "Predicted: 1.0*sin(1.0*x1)61.0<999<<999999<999999999\n",
            "Relative Error: 100.000000\n",
            "--------------------------------------------------\n"
          ]
        },
        {
          "output_type": "stream",
          "name": "stderr",
          "text": [
            "sampling loop: 100%|██████████| 1000/1000 [00:02<00:00, 485.92it/s]\n"
          ]
        },
        {
          "output_type": "stream",
          "name": "stdout",
          "text": [
            "\n",
            "Sample 101:\n",
            "Target: C*log(C*x1)+C\n",
            "Predicted Skeleton: C*log(C*x1\n",
            "Predicted: 1.0*log(1.0*x1\n",
            "Relative Error: 100.000000\n",
            "--------------------------------------------------\n"
          ]
        },
        {
          "output_type": "stream",
          "name": "stderr",
          "text": [
            "sampling loop: 100%|██████████| 1000/1000 [00:02<00:00, 490.70it/s]\n"
          ]
        },
        {
          "output_type": "stream",
          "name": "stdout",
          "text": [
            "\n",
            "Sample 102:\n",
            "Target: C*x1**2+C*x1+C*x1/(C*x1+C)+C\n",
            "Predicted Skeleton: C*x1+CC*x1CC)99)999999999999999999\n",
            "Predicted: 1.0*x1+1.01.0*x11.01.0)99)999999999999999999\n",
            "Relative Error: 100.000000\n",
            "--------------------------------------------------\n"
          ]
        },
        {
          "output_type": "stream",
          "name": "stderr",
          "text": [
            "sampling loop: 100%|██████████| 1000/1000 [00:02<00:00, 431.39it/s]\n"
          ]
        },
        {
          "output_type": "stream",
          "name": "stdout",
          "text": [
            "\n",
            "Sample 103:\n",
            "Target: C*x1+C\n",
            "Predicted Skeleton: C*x1+C\n",
            "Predicted: -8.892626690570893e-09*x1+-1.1886541304097147\n",
            "Relative Error: 100.000000\n",
            "--------------------------------------------------\n"
          ]
        },
        {
          "output_type": "stream",
          "name": "stderr",
          "text": [
            "sampling loop: 100%|██████████| 1000/1000 [00:02<00:00, 373.59it/s]\n"
          ]
        },
        {
          "output_type": "stream",
          "name": "stdout",
          "text": [
            "\n",
            "Sample 104:\n",
            "Target: C*cos(C*x1/(C*x1))+C\n",
            "Predicted Skeleton: C*x1+C\n",
            "Predicted: -8.892626690570893e-09*x1+-1.1886541304097147\n",
            "Relative Error: 100.000000\n",
            "--------------------------------------------------\n"
          ]
        },
        {
          "output_type": "stream",
          "name": "stderr",
          "text": [
            "sampling loop: 100%|██████████| 1000/1000 [00:01<00:00, 504.91it/s]\n"
          ]
        },
        {
          "output_type": "stream",
          "name": "stdout",
          "text": [
            "\n",
            "Sample 105:\n",
            "Target: C*x1+C\n",
            "Predicted Skeleton: C*x1**C\n",
            "Predicted: 0.04774503168916777*x1**2.819155356112406\n",
            "Relative Error: 100.000000\n",
            "--------------------------------------------------\n"
          ]
        },
        {
          "output_type": "stream",
          "name": "stderr",
          "text": [
            "sampling loop: 100%|██████████| 1000/1000 [00:02<00:00, 498.84it/s]\n"
          ]
        },
        {
          "output_type": "stream",
          "name": "stdout",
          "text": [
            "\n",
            "Sample 106:\n",
            "Target: C*x1**2+C*x1+C*log(C*x1**2)+C\n",
            "Predicted Skeleton: C*x1**6\n",
            "Predicted: 0.002000738942010097*x1**6\n",
            "Relative Error: 100.000000\n",
            "--------------------------------------------------\n"
          ]
        },
        {
          "output_type": "stream",
          "name": "stderr",
          "text": [
            "sampling loop: 100%|██████████| 1000/1000 [00:02<00:00, 494.83it/s]\n"
          ]
        },
        {
          "output_type": "stream",
          "name": "stdout",
          "text": [
            "\n",
            "Sample 107:\n",
            "Target: C*x1/(C*x1+C)+C/(C*x1+C)+C\n",
            "Predicted Skeleton: C/x1+C\n",
            "Predicted: -2.7108315333246384e-08/x1+-1.1886541370924706\n",
            "Relative Error: 100.000000\n",
            "--------------------------------------------------\n"
          ]
        },
        {
          "output_type": "stream",
          "name": "stderr",
          "text": [
            "sampling loop: 100%|██████████| 1000/1000 [00:02<00:00, 490.90it/s]\n"
          ]
        },
        {
          "output_type": "stream",
          "name": "stdout",
          "text": [
            "\n",
            "Sample 108:\n",
            "Target: C*x1**5+C*x1**4+C*x1**3+C*x1**2+C*x1+C*sin(\n",
            "Predicted Skeleton: C*x1**6+C\n",
            "Predicted: -8.213904724628503e-09*x1**6+-1.188654508584297\n",
            "Relative Error: 100.000000\n",
            "--------------------------------------------------\n"
          ]
        },
        {
          "output_type": "stream",
          "name": "stderr",
          "text": [
            "sampling loop: 100%|██████████| 1000/1000 [00:02<00:00, 393.92it/s]\n"
          ]
        },
        {
          "output_type": "stream",
          "name": "stdout",
          "text": [
            "\n",
            "Sample 109:\n",
            "Target: C*x1**2+C\n",
            "Predicted Skeleton: C*x1**C\n",
            "Predicted: 0.04774503168916777*x1**2.819155356112406\n",
            "Relative Error: 100.000000\n",
            "--------------------------------------------------\n"
          ]
        },
        {
          "output_type": "stream",
          "name": "stderr",
          "text": [
            "sampling loop: 100%|██████████| 1000/1000 [00:02<00:00, 412.35it/s]\n"
          ]
        },
        {
          "output_type": "stream",
          "name": "stdout",
          "text": [
            "\n",
            "Sample 110:\n",
            "Target: C*log(C*x1)+C\n",
            "Predicted Skeleton: C*log(C*x1)9C<9999<9<<9<9999<99999\n",
            "Predicted: 1.0*log(1.0*x1)91.0<9999<9<<9<9999<99999\n",
            "Relative Error: 100.000000\n",
            "--------------------------------------------------\n"
          ]
        },
        {
          "output_type": "stream",
          "name": "stderr",
          "text": [
            "sampling loop: 100%|██████████| 1000/1000 [00:02<00:00, 497.70it/s]\n"
          ]
        },
        {
          "output_type": "stream",
          "name": "stdout",
          "text": [
            "\n",
            "Sample 111:\n",
            "Target: C*exp(C*x1)+C\n",
            "Predicted Skeleton: C*x1+C\n",
            "Predicted: -8.892626690570893e-09*x1+-1.1886541304097147\n",
            "Relative Error: 100.000000\n",
            "--------------------------------------------------\n"
          ]
        },
        {
          "output_type": "stream",
          "name": "stderr",
          "text": [
            "sampling loop: 100%|██████████| 1000/1000 [00:01<00:00, 501.62it/s]\n"
          ]
        },
        {
          "output_type": "stream",
          "name": "stdout",
          "text": [
            "\n",
            "Sample 112:\n",
            "Target: C*x1**3+C*x1**5+C*x1**4+C*x1**3+C*x1**2+C*\n",
            "Predicted Skeleton: C*x1**6\n",
            "Predicted: 0.002000738942010097*x1**6\n",
            "Relative Error: 100.000000\n",
            "--------------------------------------------------\n"
          ]
        },
        {
          "output_type": "stream",
          "name": "stderr",
          "text": [
            "sampling loop: 100%|██████████| 1000/1000 [00:02<00:00, 496.79it/s]\n"
          ]
        },
        {
          "output_type": "stream",
          "name": "stdout",
          "text": [
            "\n",
            "Sample 113:\n",
            "Target: C*x1+C\n",
            "Predicted Skeleton: C*x1**C\n",
            "Predicted: 0.04774503168916777*x1**2.819155356112406\n",
            "Relative Error: 100.000000\n",
            "--------------------------------------------------\n"
          ]
        },
        {
          "output_type": "stream",
          "name": "stderr",
          "text": [
            "sampling loop: 100%|██████████| 1000/1000 [00:02<00:00, 492.76it/s]\n"
          ]
        },
        {
          "output_type": "stream",
          "name": "stdout",
          "text": [
            "\n",
            "Sample 114:\n",
            "Target: C*exp(C*cos(C/x1))+C\n",
            "Predicted Skeleton: C*x1+C\n",
            "Predicted: -8.892626690570893e-09*x1+-1.1886541304097147\n",
            "Relative Error: 100.000000\n",
            "--------------------------------------------------\n"
          ]
        },
        {
          "output_type": "stream",
          "name": "stderr",
          "text": [
            "sampling loop: 100%|██████████| 1000/1000 [00:02<00:00, 370.62it/s]\n"
          ]
        },
        {
          "output_type": "stream",
          "name": "stdout",
          "text": [
            "\n",
            "Sample 115:\n",
            "Target: C*x1**3+C*x1**2+C*x1+C*log(C*x1)+C\n",
            "Predicted Skeleton: C*x1**C\n",
            "Predicted: 0.04774503168916777*x1**2.819155356112406\n",
            "Relative Error: 100.000000\n",
            "--------------------------------------------------\n"
          ]
        },
        {
          "output_type": "stream",
          "name": "stderr",
          "text": [
            "sampling loop: 100%|██████████| 1000/1000 [00:02<00:00, 441.06it/s]\n"
          ]
        },
        {
          "output_type": "stream",
          "name": "stdout",
          "text": [
            "\n",
            "Sample 116:\n",
            "Target: C*x1**2+C\n",
            "Predicted Skeleton: C*x1**C\n",
            "Predicted: 0.04774503168916777*x1**2.819155356112406\n",
            "Relative Error: 100.000000\n",
            "--------------------------------------------------\n"
          ]
        },
        {
          "output_type": "stream",
          "name": "stderr",
          "text": [
            "sampling loop: 100%|██████████| 1000/1000 [00:02<00:00, 499.18it/s]\n"
          ]
        },
        {
          "output_type": "stream",
          "name": "stdout",
          "text": [
            "\n",
            "Sample 117:\n",
            "Target: C*sin(C*x1+C)+C\n",
            "Predicted Skeleton: C*log(C*x1)6C<9999<99999<<999999999\n",
            "Predicted: 1.0*log(1.0*x1)61.0<9999<99999<<999999999\n",
            "Relative Error: 100.000000\n",
            "--------------------------------------------------\n"
          ]
        },
        {
          "output_type": "stream",
          "name": "stderr",
          "text": [
            "sampling loop: 100%|██████████| 1000/1000 [00:02<00:00, 485.38it/s]\n"
          ]
        },
        {
          "output_type": "stream",
          "name": "stdout",
          "text": [
            "\n",
            "Sample 118:\n",
            "Target: C*log(C*x1)+C\n",
            "Predicted Skeleton: C*log(C*x199C<<99<<9<<<<<<9<<<9<<99\n",
            "Predicted: 1.0*log(1.0*x1991.0<<99<<9<<<<<<9<<<9<<99\n",
            "Relative Error: 100.000000\n",
            "--------------------------------------------------\n"
          ]
        },
        {
          "output_type": "stream",
          "name": "stderr",
          "text": [
            "sampling loop: 100%|██████████| 1000/1000 [00:02<00:00, 482.62it/s]\n"
          ]
        },
        {
          "output_type": "stream",
          "name": "stdout",
          "text": [
            "\n",
            "Sample 119:\n",
            "Target: C*x1+C*exp(C*x1)+C\n",
            "Predicted Skeleton: C*x1+C\n",
            "Predicted: -8.892626690570893e-09*x1+-1.1886541304097147\n",
            "Relative Error: 100.000000\n",
            "--------------------------------------------------\n"
          ]
        },
        {
          "output_type": "stream",
          "name": "stderr",
          "text": [
            "sampling loop: 100%|██████████| 1000/1000 [00:02<00:00, 490.21it/s]\n"
          ]
        },
        {
          "output_type": "stream",
          "name": "stdout",
          "text": [
            "\n",
            "Sample 120:\n",
            "Target: C*log(C*x1+C)**5+C\n",
            "Predicted Skeleton: C*x1+CCx1x19C99\n",
            "Predicted: 1.0*x1+1.01.0x1x191.099\n",
            "Relative Error: 100.000000\n",
            "--------------------------------------------------\n"
          ]
        },
        {
          "output_type": "stream",
          "name": "stderr",
          "text": [
            "sampling loop: 100%|██████████| 1000/1000 [00:02<00:00, 341.93it/s]\n"
          ]
        },
        {
          "output_type": "stream",
          "name": "stdout",
          "text": [
            "\n",
            "Sample 121:\n",
            "Target: C*cos(C*x1)+C*exp(C*x1)+C\n",
            "Predicted Skeleton: C*exp(C*x1)6C<9999<99999<9999999999\n",
            "Predicted: 1.0*exp(1.0*x1)61.0<9999<99999<9999999999\n",
            "Relative Error: 100.000000\n",
            "--------------------------------------------------\n"
          ]
        },
        {
          "output_type": "stream",
          "name": "stderr",
          "text": [
            "sampling loop: 100%|██████████| 1000/1000 [00:02<00:00, 471.66it/s]\n"
          ]
        },
        {
          "output_type": "stream",
          "name": "stdout",
          "text": [
            "\n",
            "Sample 122:\n",
            "Target: C*exp(C*x1/(C*x1))*C*exp(C/(C*x1))+C\n",
            "Predicted Skeleton: C*x1+C*<999\n",
            "Predicted: 1.0*x1+1.0*<999\n",
            "Relative Error: 100.000000\n",
            "--------------------------------------------------\n"
          ]
        },
        {
          "output_type": "stream",
          "name": "stderr",
          "text": [
            "sampling loop: 100%|██████████| 1000/1000 [00:02<00:00, 472.28it/s]\n"
          ]
        },
        {
          "output_type": "stream",
          "name": "stdout",
          "text": [
            "\n",
            "Sample 123:\n",
            "Target: C*exp(C*x1)+C\n",
            "Predicted Skeleton: C*x1**C\n",
            "Predicted: 0.04774503168916777*x1**2.819155356112406\n",
            "Relative Error: 100.000000\n",
            "--------------------------------------------------\n"
          ]
        },
        {
          "output_type": "stream",
          "name": "stderr",
          "text": [
            "sampling loop: 100%|██████████| 1000/1000 [00:02<00:00, 472.42it/s]\n"
          ]
        },
        {
          "output_type": "stream",
          "name": "stdout",
          "text": [
            "\n",
            "Sample 124:\n",
            "Target: C*log(C*x1**2)+C\n",
            "Predicted Skeleton: C*sin(C*x1)C)\n",
            "Predicted: 1.0*sin(1.0*x1)1.0)\n",
            "Relative Error: 100.000000\n",
            "--------------------------------------------------\n"
          ]
        },
        {
          "output_type": "stream",
          "name": "stderr",
          "text": [
            "sampling loop: 100%|██████████| 1000/1000 [00:03<00:00, 332.06it/s]\n"
          ]
        },
        {
          "output_type": "stream",
          "name": "stdout",
          "text": [
            "\n",
            "Sample 125:\n",
            "Target: C*exp(C*x1)+C\n",
            "Predicted Skeleton: C*exp(C*x1)9C<999<999<999999999<999\n",
            "Predicted: 1.0*exp(1.0*x1)91.0<999<999<999999999<999\n",
            "Relative Error: 100.000000\n",
            "--------------------------------------------------\n"
          ]
        },
        {
          "output_type": "stream",
          "name": "stderr",
          "text": [
            "sampling loop: 100%|██████████| 1000/1000 [00:02<00:00, 369.22it/s]\n"
          ]
        },
        {
          "output_type": "stream",
          "name": "stdout",
          "text": [
            "\n",
            "Sample 126:\n",
            "Target: C*x1**2+C*x1+C\n",
            "Predicted Skeleton: C*x1**C\n",
            "Predicted: 0.04774503168916777*x1**2.819155356112406\n",
            "Relative Error: 100.000000\n",
            "--------------------------------------------------\n"
          ]
        },
        {
          "output_type": "stream",
          "name": "stderr",
          "text": [
            "sampling loop: 100%|██████████| 1000/1000 [00:02<00:00, 438.31it/s]\n"
          ]
        },
        {
          "output_type": "stream",
          "name": "stdout",
          "text": [
            "\n",
            "Sample 127:\n",
            "Target: C*x1**2+C*x1+C\n",
            "Predicted Skeleton: C*x1+C\n",
            "Predicted: -8.892626690570893e-09*x1+-1.1886541304097147\n",
            "Relative Error: 100.000000\n",
            "--------------------------------------------------\n"
          ]
        },
        {
          "output_type": "stream",
          "name": "stderr",
          "text": [
            "sampling loop: 100%|██████████| 1000/1000 [00:02<00:00, 479.45it/s]\n"
          ]
        },
        {
          "output_type": "stream",
          "name": "stdout",
          "text": [
            "\n",
            "Sample 128:\n",
            "Target: C*x1+C\n",
            "Predicted Skeleton: C*x1+C\n",
            "Predicted: -8.892626690570893e-09*x1+-1.1886541304097147\n",
            "Relative Error: 100.000000\n",
            "--------------------------------------------------\n"
          ]
        },
        {
          "output_type": "stream",
          "name": "stderr",
          "text": [
            "sampling loop: 100%|██████████| 1000/1000 [00:02<00:00, 496.58it/s]\n"
          ]
        },
        {
          "output_type": "stream",
          "name": "stdout",
          "text": [
            "\n",
            "Sample 129:\n",
            "Target: C\n",
            "Predicted Skeleton: C\n",
            "Predicted: -1.1886538543168923\n",
            "Relative Error: 100.000000\n",
            "--------------------------------------------------\n"
          ]
        },
        {
          "output_type": "stream",
          "name": "stderr",
          "text": [
            "sampling loop: 100%|██████████| 1000/1000 [00:02<00:00, 485.98it/s]\n",
            "<string>:1: SyntaxWarning: 'float' object is not callable; perhaps you missed a comma?\n",
            "<string>:1: SyntaxWarning: 'float' object is not callable; perhaps you missed a comma?\n",
            "<string>:1: SyntaxWarning: 'float' object is not callable; perhaps you missed a comma?\n",
            "<string>:1: SyntaxWarning: 'float' object is not callable; perhaps you missed a comma?\n",
            "<string>:1: SyntaxWarning: 'float' object is not callable; perhaps you missed a comma?\n",
            "<string>:1: SyntaxWarning: 'float' object is not callable; perhaps you missed a comma?\n",
            "<string>:1: SyntaxWarning: 'float' object is not callable; perhaps you missed a comma?\n",
            "<string>:1: SyntaxWarning: 'float' object is not callable; perhaps you missed a comma?\n",
            "<string>:1: SyntaxWarning: 'float' object is not callable; perhaps you missed a comma?\n",
            "<string>:1: SyntaxWarning: 'float' object is not callable; perhaps you missed a comma?\n",
            "<string>:1: SyntaxWarning: 'float' object is not callable; perhaps you missed a comma?\n",
            "<string>:1: SyntaxWarning: 'float' object is not callable; perhaps you missed a comma?\n",
            "<string>:1: SyntaxWarning: 'float' object is not callable; perhaps you missed a comma?\n",
            "<string>:1: SyntaxWarning: 'float' object is not callable; perhaps you missed a comma?\n",
            "<string>:1: SyntaxWarning: 'float' object is not callable; perhaps you missed a comma?\n",
            "<string>:1: SyntaxWarning: 'float' object is not callable; perhaps you missed a comma?\n",
            "<string>:1: SyntaxWarning: 'float' object is not callable; perhaps you missed a comma?\n",
            "<string>:1: SyntaxWarning: 'float' object is not callable; perhaps you missed a comma?\n",
            "<string>:1: SyntaxWarning: 'float' object is not callable; perhaps you missed a comma?\n",
            "<string>:1: SyntaxWarning: 'float' object is not callable; perhaps you missed a comma?\n",
            "<string>:1: SyntaxWarning: 'float' object is not callable; perhaps you missed a comma?\n",
            "<string>:1: SyntaxWarning: 'float' object is not callable; perhaps you missed a comma?\n",
            "<string>:1: SyntaxWarning: 'float' object is not callable; perhaps you missed a comma?\n",
            "<string>:1: SyntaxWarning: 'float' object is not callable; perhaps you missed a comma?\n",
            "<string>:1: SyntaxWarning: 'float' object is not callable; perhaps you missed a comma?\n",
            "<string>:1: SyntaxWarning: 'float' object is not callable; perhaps you missed a comma?\n",
            "<string>:1: SyntaxWarning: 'float' object is not callable; perhaps you missed a comma?\n",
            "<string>:1: SyntaxWarning: 'float' object is not callable; perhaps you missed a comma?\n",
            "<string>:1: SyntaxWarning: 'float' object is not callable; perhaps you missed a comma?\n",
            "<string>:1: SyntaxWarning: 'float' object is not callable; perhaps you missed a comma?\n",
            "<string>:1: SyntaxWarning: 'float' object is not callable; perhaps you missed a comma?\n",
            "<string>:1: SyntaxWarning: 'float' object is not callable; perhaps you missed a comma?\n",
            "<string>:1: SyntaxWarning: 'float' object is not callable; perhaps you missed a comma?\n",
            "<string>:1: SyntaxWarning: 'float' object is not callable; perhaps you missed a comma?\n",
            "<string>:1: SyntaxWarning: 'float' object is not callable; perhaps you missed a comma?\n",
            "<string>:1: SyntaxWarning: 'float' object is not callable; perhaps you missed a comma?\n",
            "<string>:1: SyntaxWarning: 'float' object is not callable; perhaps you missed a comma?\n",
            "<string>:1: SyntaxWarning: 'float' object is not callable; perhaps you missed a comma?\n",
            "<string>:1: SyntaxWarning: 'float' object is not callable; perhaps you missed a comma?\n",
            "<string>:1: SyntaxWarning: 'float' object is not callable; perhaps you missed a comma?\n",
            "<string>:1: SyntaxWarning: 'float' object is not callable; perhaps you missed a comma?\n",
            "<string>:1: SyntaxWarning: 'float' object is not callable; perhaps you missed a comma?\n",
            "<string>:1: SyntaxWarning: 'float' object is not callable; perhaps you missed a comma?\n",
            "<string>:1: SyntaxWarning: 'float' object is not callable; perhaps you missed a comma?\n",
            "<string>:1: SyntaxWarning: 'float' object is not callable; perhaps you missed a comma?\n",
            "<string>:1: SyntaxWarning: 'float' object is not callable; perhaps you missed a comma?\n",
            "<string>:1: SyntaxWarning: 'float' object is not callable; perhaps you missed a comma?\n",
            "<string>:1: SyntaxWarning: 'float' object is not callable; perhaps you missed a comma?\n",
            "<string>:1: SyntaxWarning: 'float' object is not callable; perhaps you missed a comma?\n",
            "<string>:1: SyntaxWarning: 'float' object is not callable; perhaps you missed a comma?\n",
            "<string>:1: SyntaxWarning: 'float' object is not callable; perhaps you missed a comma?\n",
            "<string>:1: SyntaxWarning: 'float' object is not callable; perhaps you missed a comma?\n",
            "<string>:1: SyntaxWarning: 'float' object is not callable; perhaps you missed a comma?\n",
            "<string>:1: SyntaxWarning: 'float' object is not callable; perhaps you missed a comma?\n",
            "<string>:1: SyntaxWarning: 'float' object is not callable; perhaps you missed a comma?\n",
            "<string>:1: SyntaxWarning: 'float' object is not callable; perhaps you missed a comma?\n",
            "<string>:1: SyntaxWarning: 'float' object is not callable; perhaps you missed a comma?\n",
            "<string>:1: SyntaxWarning: 'float' object is not callable; perhaps you missed a comma?\n",
            "<string>:1: SyntaxWarning: 'float' object is not callable; perhaps you missed a comma?\n",
            "<string>:1: SyntaxWarning: 'float' object is not callable; perhaps you missed a comma?\n",
            "<string>:1: SyntaxWarning: 'float' object is not callable; perhaps you missed a comma?\n",
            "<string>:1: SyntaxWarning: 'float' object is not callable; perhaps you missed a comma?\n",
            "<string>:1: SyntaxWarning: 'float' object is not callable; perhaps you missed a comma?\n",
            "<string>:1: SyntaxWarning: 'float' object is not callable; perhaps you missed a comma?\n",
            "<string>:1: SyntaxWarning: 'float' object is not callable; perhaps you missed a comma?\n",
            "<string>:1: SyntaxWarning: 'float' object is not callable; perhaps you missed a comma?\n",
            "<string>:1: SyntaxWarning: 'float' object is not callable; perhaps you missed a comma?\n",
            "<string>:1: SyntaxWarning: 'float' object is not callable; perhaps you missed a comma?\n",
            "<string>:1: SyntaxWarning: 'float' object is not callable; perhaps you missed a comma?\n",
            "<string>:1: SyntaxWarning: 'float' object is not callable; perhaps you missed a comma?\n",
            "<string>:1: SyntaxWarning: 'float' object is not callable; perhaps you missed a comma?\n",
            "<string>:1: SyntaxWarning: 'float' object is not callable; perhaps you missed a comma?\n",
            "<string>:1: SyntaxWarning: 'float' object is not callable; perhaps you missed a comma?\n",
            "<string>:1: SyntaxWarning: 'float' object is not callable; perhaps you missed a comma?\n",
            "<string>:1: SyntaxWarning: 'float' object is not callable; perhaps you missed a comma?\n",
            "<string>:1: SyntaxWarning: 'float' object is not callable; perhaps you missed a comma?\n",
            "<string>:1: SyntaxWarning: 'float' object is not callable; perhaps you missed a comma?\n",
            "<string>:1: SyntaxWarning: 'float' object is not callable; perhaps you missed a comma?\n",
            "<string>:1: SyntaxWarning: 'float' object is not callable; perhaps you missed a comma?\n",
            "<string>:1: SyntaxWarning: 'float' object is not callable; perhaps you missed a comma?\n",
            "<string>:1: SyntaxWarning: 'float' object is not callable; perhaps you missed a comma?\n",
            "<string>:1: SyntaxWarning: 'float' object is not callable; perhaps you missed a comma?\n",
            "<string>:1: SyntaxWarning: 'float' object is not callable; perhaps you missed a comma?\n",
            "<string>:1: SyntaxWarning: 'float' object is not callable; perhaps you missed a comma?\n",
            "<string>:1: SyntaxWarning: 'float' object is not callable; perhaps you missed a comma?\n",
            "<string>:1: SyntaxWarning: 'float' object is not callable; perhaps you missed a comma?\n",
            "<string>:1: SyntaxWarning: 'float' object is not callable; perhaps you missed a comma?\n",
            "<string>:1: SyntaxWarning: 'float' object is not callable; perhaps you missed a comma?\n",
            "<string>:1: SyntaxWarning: 'float' object is not callable; perhaps you missed a comma?\n",
            "<string>:1: SyntaxWarning: 'float' object is not callable; perhaps you missed a comma?\n",
            "<string>:1: SyntaxWarning: 'float' object is not callable; perhaps you missed a comma?\n",
            "<string>:1: SyntaxWarning: 'float' object is not callable; perhaps you missed a comma?\n",
            "<string>:1: SyntaxWarning: 'float' object is not callable; perhaps you missed a comma?\n",
            "<string>:1: SyntaxWarning: 'float' object is not callable; perhaps you missed a comma?\n",
            "<string>:1: SyntaxWarning: 'float' object is not callable; perhaps you missed a comma?\n",
            "<string>:1: SyntaxWarning: 'float' object is not callable; perhaps you missed a comma?\n",
            "<string>:1: SyntaxWarning: 'float' object is not callable; perhaps you missed a comma?\n",
            "<string>:1: SyntaxWarning: 'float' object is not callable; perhaps you missed a comma?\n",
            "<string>:1: SyntaxWarning: 'float' object is not callable; perhaps you missed a comma?\n",
            "<string>:1: SyntaxWarning: 'float' object is not callable; perhaps you missed a comma?\n",
            "<string>:1: SyntaxWarning: 'float' object is not callable; perhaps you missed a comma?\n",
            "<string>:1: SyntaxWarning: 'float' object is not callable; perhaps you missed a comma?\n",
            "<string>:1: SyntaxWarning: 'float' object is not callable; perhaps you missed a comma?\n",
            "<string>:1: SyntaxWarning: 'float' object is not callable; perhaps you missed a comma?\n",
            "<string>:1: SyntaxWarning: 'float' object is not callable; perhaps you missed a comma?\n",
            "<string>:1: SyntaxWarning: 'float' object is not callable; perhaps you missed a comma?\n",
            "<string>:1: SyntaxWarning: 'float' object is not callable; perhaps you missed a comma?\n",
            "<string>:1: SyntaxWarning: 'float' object is not callable; perhaps you missed a comma?\n",
            "<string>:1: SyntaxWarning: 'float' object is not callable; perhaps you missed a comma?\n",
            "<string>:1: SyntaxWarning: 'float' object is not callable; perhaps you missed a comma?\n",
            "<string>:1: SyntaxWarning: 'float' object is not callable; perhaps you missed a comma?\n",
            "<string>:1: SyntaxWarning: 'float' object is not callable; perhaps you missed a comma?\n",
            "<string>:1: SyntaxWarning: 'float' object is not callable; perhaps you missed a comma?\n",
            "<string>:1: SyntaxWarning: 'float' object is not callable; perhaps you missed a comma?\n",
            "<string>:1: SyntaxWarning: 'float' object is not callable; perhaps you missed a comma?\n",
            "<string>:1: SyntaxWarning: 'float' object is not callable; perhaps you missed a comma?\n",
            "<string>:1: SyntaxWarning: 'float' object is not callable; perhaps you missed a comma?\n",
            "<string>:1: SyntaxWarning: 'float' object is not callable; perhaps you missed a comma?\n",
            "<string>:1: SyntaxWarning: 'float' object is not callable; perhaps you missed a comma?\n",
            "<string>:1: SyntaxWarning: 'float' object is not callable; perhaps you missed a comma?\n"
          ]
        },
        {
          "output_type": "stream",
          "name": "stdout",
          "text": [
            "\n",
            "Sample 130:\n",
            "Target: C*exp(C*x1/(C*x1+C))*C*exp(C/(C*x1+C))+\n",
            "Predicted Skeleton: C*x1(C*x1)+C\n",
            "Predicted: 1.0*x1(1.0*x1)+1.0\n",
            "Relative Error: 100.000000\n",
            "--------------------------------------------------\n"
          ]
        },
        {
          "output_type": "stream",
          "name": "stderr",
          "text": [
            "sampling loop: 100%|██████████| 1000/1000 [00:02<00:00, 492.93it/s]\n"
          ]
        },
        {
          "output_type": "stream",
          "name": "stdout",
          "text": [
            "\n",
            "Sample 131:\n",
            "Target: C*x1**3+C\n",
            "Predicted Skeleton: C*x1**6\n",
            "Predicted: 0.002000738942010097*x1**6\n",
            "Relative Error: 100.000000\n",
            "--------------------------------------------------\n"
          ]
        },
        {
          "output_type": "stream",
          "name": "stderr",
          "text": [
            "sampling loop: 100%|██████████| 1000/1000 [00:02<00:00, 360.43it/s]\n",
            "<string>:1: SyntaxWarning: 'int' object is not callable; perhaps you missed a comma?\n",
            "<string>:1: SyntaxWarning: 'int' object is not callable; perhaps you missed a comma?\n",
            "<string>:1: SyntaxWarning: 'int' object is not callable; perhaps you missed a comma?\n",
            "<string>:1: SyntaxWarning: 'int' object is not callable; perhaps you missed a comma?\n",
            "<string>:1: SyntaxWarning: 'int' object is not callable; perhaps you missed a comma?\n",
            "<string>:1: SyntaxWarning: 'int' object is not callable; perhaps you missed a comma?\n",
            "<string>:1: SyntaxWarning: 'int' object is not callable; perhaps you missed a comma?\n",
            "<string>:1: SyntaxWarning: 'int' object is not callable; perhaps you missed a comma?\n",
            "<string>:1: SyntaxWarning: 'int' object is not callable; perhaps you missed a comma?\n",
            "<string>:1: SyntaxWarning: 'int' object is not callable; perhaps you missed a comma?\n",
            "<string>:1: SyntaxWarning: 'int' object is not callable; perhaps you missed a comma?\n",
            "<string>:1: SyntaxWarning: 'int' object is not callable; perhaps you missed a comma?\n",
            "<string>:1: SyntaxWarning: 'int' object is not callable; perhaps you missed a comma?\n",
            "<string>:1: SyntaxWarning: 'int' object is not callable; perhaps you missed a comma?\n",
            "<string>:1: SyntaxWarning: 'int' object is not callable; perhaps you missed a comma?\n",
            "<string>:1: SyntaxWarning: 'int' object is not callable; perhaps you missed a comma?\n",
            "<string>:1: SyntaxWarning: 'int' object is not callable; perhaps you missed a comma?\n",
            "<string>:1: SyntaxWarning: 'int' object is not callable; perhaps you missed a comma?\n",
            "<string>:1: SyntaxWarning: 'int' object is not callable; perhaps you missed a comma?\n",
            "<string>:1: SyntaxWarning: 'int' object is not callable; perhaps you missed a comma?\n",
            "<string>:1: SyntaxWarning: 'int' object is not callable; perhaps you missed a comma?\n",
            "<string>:1: SyntaxWarning: 'int' object is not callable; perhaps you missed a comma?\n",
            "<string>:1: SyntaxWarning: 'int' object is not callable; perhaps you missed a comma?\n",
            "<string>:1: SyntaxWarning: 'int' object is not callable; perhaps you missed a comma?\n",
            "<string>:1: SyntaxWarning: 'int' object is not callable; perhaps you missed a comma?\n",
            "<string>:1: SyntaxWarning: 'int' object is not callable; perhaps you missed a comma?\n",
            "<string>:1: SyntaxWarning: 'int' object is not callable; perhaps you missed a comma?\n",
            "<string>:1: SyntaxWarning: 'int' object is not callable; perhaps you missed a comma?\n",
            "<string>:1: SyntaxWarning: 'int' object is not callable; perhaps you missed a comma?\n",
            "<string>:1: SyntaxWarning: 'int' object is not callable; perhaps you missed a comma?\n",
            "<string>:1: SyntaxWarning: 'int' object is not callable; perhaps you missed a comma?\n",
            "<string>:1: SyntaxWarning: 'int' object is not callable; perhaps you missed a comma?\n",
            "<string>:1: SyntaxWarning: 'int' object is not callable; perhaps you missed a comma?\n",
            "<string>:1: SyntaxWarning: 'int' object is not callable; perhaps you missed a comma?\n",
            "<string>:1: SyntaxWarning: 'int' object is not callable; perhaps you missed a comma?\n",
            "<string>:1: SyntaxWarning: 'int' object is not callable; perhaps you missed a comma?\n",
            "<string>:1: SyntaxWarning: 'int' object is not callable; perhaps you missed a comma?\n",
            "<string>:1: SyntaxWarning: 'int' object is not callable; perhaps you missed a comma?\n",
            "<string>:1: SyntaxWarning: 'int' object is not callable; perhaps you missed a comma?\n",
            "<string>:1: SyntaxWarning: 'int' object is not callable; perhaps you missed a comma?\n",
            "<string>:1: SyntaxWarning: 'int' object is not callable; perhaps you missed a comma?\n",
            "<string>:1: SyntaxWarning: 'int' object is not callable; perhaps you missed a comma?\n",
            "<string>:1: SyntaxWarning: 'int' object is not callable; perhaps you missed a comma?\n",
            "<string>:1: SyntaxWarning: 'int' object is not callable; perhaps you missed a comma?\n",
            "<string>:1: SyntaxWarning: 'int' object is not callable; perhaps you missed a comma?\n",
            "<string>:1: SyntaxWarning: 'int' object is not callable; perhaps you missed a comma?\n",
            "<string>:1: SyntaxWarning: 'int' object is not callable; perhaps you missed a comma?\n",
            "<string>:1: SyntaxWarning: 'int' object is not callable; perhaps you missed a comma?\n",
            "<string>:1: SyntaxWarning: 'int' object is not callable; perhaps you missed a comma?\n",
            "<string>:1: SyntaxWarning: 'int' object is not callable; perhaps you missed a comma?\n",
            "<string>:1: SyntaxWarning: 'int' object is not callable; perhaps you missed a comma?\n",
            "<string>:1: SyntaxWarning: 'int' object is not callable; perhaps you missed a comma?\n",
            "<string>:1: SyntaxWarning: 'int' object is not callable; perhaps you missed a comma?\n",
            "<string>:1: SyntaxWarning: 'int' object is not callable; perhaps you missed a comma?\n",
            "<string>:1: SyntaxWarning: 'int' object is not callable; perhaps you missed a comma?\n",
            "<string>:1: SyntaxWarning: 'int' object is not callable; perhaps you missed a comma?\n",
            "<string>:1: SyntaxWarning: 'int' object is not callable; perhaps you missed a comma?\n",
            "<string>:1: SyntaxWarning: 'int' object is not callable; perhaps you missed a comma?\n",
            "<string>:1: SyntaxWarning: 'int' object is not callable; perhaps you missed a comma?\n",
            "<string>:1: SyntaxWarning: 'int' object is not callable; perhaps you missed a comma?\n",
            "<string>:1: SyntaxWarning: 'int' object is not callable; perhaps you missed a comma?\n",
            "<string>:1: SyntaxWarning: 'int' object is not callable; perhaps you missed a comma?\n",
            "<string>:1: SyntaxWarning: 'int' object is not callable; perhaps you missed a comma?\n",
            "<string>:1: SyntaxWarning: 'int' object is not callable; perhaps you missed a comma?\n",
            "<string>:1: SyntaxWarning: 'int' object is not callable; perhaps you missed a comma?\n",
            "<string>:1: SyntaxWarning: 'int' object is not callable; perhaps you missed a comma?\n",
            "<string>:1: SyntaxWarning: 'int' object is not callable; perhaps you missed a comma?\n",
            "<string>:1: SyntaxWarning: 'int' object is not callable; perhaps you missed a comma?\n",
            "<string>:1: SyntaxWarning: 'int' object is not callable; perhaps you missed a comma?\n",
            "<string>:1: SyntaxWarning: 'int' object is not callable; perhaps you missed a comma?\n",
            "<string>:1: SyntaxWarning: 'int' object is not callable; perhaps you missed a comma?\n",
            "<string>:1: SyntaxWarning: 'int' object is not callable; perhaps you missed a comma?\n",
            "<string>:1: SyntaxWarning: 'int' object is not callable; perhaps you missed a comma?\n",
            "<string>:1: SyntaxWarning: 'int' object is not callable; perhaps you missed a comma?\n",
            "<string>:1: SyntaxWarning: 'int' object is not callable; perhaps you missed a comma?\n",
            "<string>:1: SyntaxWarning: 'int' object is not callable; perhaps you missed a comma?\n",
            "<string>:1: SyntaxWarning: 'int' object is not callable; perhaps you missed a comma?\n",
            "<string>:1: SyntaxWarning: 'int' object is not callable; perhaps you missed a comma?\n",
            "<string>:1: SyntaxWarning: 'int' object is not callable; perhaps you missed a comma?\n",
            "<string>:1: SyntaxWarning: 'int' object is not callable; perhaps you missed a comma?\n",
            "<string>:1: SyntaxWarning: 'int' object is not callable; perhaps you missed a comma?\n",
            "<string>:1: SyntaxWarning: 'int' object is not callable; perhaps you missed a comma?\n",
            "<string>:1: SyntaxWarning: 'int' object is not callable; perhaps you missed a comma?\n",
            "<string>:1: SyntaxWarning: 'int' object is not callable; perhaps you missed a comma?\n",
            "<string>:1: SyntaxWarning: 'int' object is not callable; perhaps you missed a comma?\n",
            "<string>:1: SyntaxWarning: 'int' object is not callable; perhaps you missed a comma?\n",
            "<string>:1: SyntaxWarning: 'int' object is not callable; perhaps you missed a comma?\n",
            "<string>:1: SyntaxWarning: 'int' object is not callable; perhaps you missed a comma?\n",
            "<string>:1: SyntaxWarning: 'int' object is not callable; perhaps you missed a comma?\n",
            "<string>:1: SyntaxWarning: 'int' object is not callable; perhaps you missed a comma?\n"
          ]
        },
        {
          "output_type": "stream",
          "name": "stdout",
          "text": [
            "\n",
            "Sample 132:\n",
            "Target: C*x1+C\n",
            "Predicted Skeleton: C*8(C*x1)<999999999<9999999999999\n",
            "Predicted: 1.0*8(1.0*x1)<999999999<9999999999999\n",
            "Relative Error: 100.000000\n",
            "--------------------------------------------------\n"
          ]
        },
        {
          "output_type": "stream",
          "name": "stderr",
          "text": [
            "sampling loop: 100%|██████████| 1000/1000 [00:02<00:00, 465.73it/s]\n"
          ]
        },
        {
          "output_type": "stream",
          "name": "stdout",
          "text": [
            "\n",
            "Sample 133:\n",
            "Target: C*sin(C*x1)+C\n",
            "Predicted Skeleton: C*x1+C\n",
            "Predicted: -8.892626690570893e-09*x1+-1.1886541304097147\n",
            "Relative Error: 100.000000\n",
            "--------------------------------------------------\n"
          ]
        },
        {
          "output_type": "stream",
          "name": "stderr",
          "text": [
            "sampling loop: 100%|██████████| 1000/1000 [00:02<00:00, 487.96it/s]\n"
          ]
        },
        {
          "output_type": "stream",
          "name": "stdout",
          "text": [
            "\n",
            "Sample 134:\n",
            "Target: C*x1**3+C\n",
            "Predicted Skeleton: C*x1**6\n",
            "Predicted: 0.002000738942010097*x1**6\n",
            "Relative Error: 100.000000\n",
            "--------------------------------------------------\n"
          ]
        },
        {
          "output_type": "stream",
          "name": "stderr",
          "text": [
            "sampling loop: 100%|██████████| 1000/1000 [00:02<00:00, 482.44it/s]\n"
          ]
        },
        {
          "output_type": "stream",
          "name": "stdout",
          "text": [
            "\n",
            "Sample 135:\n",
            "Target: C*sin(C*exp(C*x1)*C*cos(C*x1+C))+C\n",
            "Predicted Skeleton: C*sin(C*x1)6C<9999999999<9999999999\n",
            "Predicted: 1.0*sin(1.0*x1)61.0<9999999999<9999999999\n",
            "Relative Error: 100.000000\n",
            "--------------------------------------------------\n"
          ]
        },
        {
          "output_type": "stream",
          "name": "stderr",
          "text": [
            "sampling loop: 100%|██████████| 1000/1000 [00:02<00:00, 488.78it/s]\n"
          ]
        },
        {
          "output_type": "stream",
          "name": "stdout",
          "text": [
            "\n",
            "Sample 136:\n",
            "Target: C*cos(C*cos(C*x1+C))+C\n",
            "Predicted Skeleton: C*log(C*x1)6C\n",
            "Predicted: 1.0*log(1.0*x1)61.0\n",
            "Relative Error: 100.000000\n",
            "--------------------------------------------------\n"
          ]
        },
        {
          "output_type": "stream",
          "name": "stderr",
          "text": [
            "sampling loop: 100%|██████████| 1000/1000 [00:02<00:00, 467.12it/s]\n"
          ]
        },
        {
          "output_type": "stream",
          "name": "stdout",
          "text": [
            "\n",
            "Sample 137:\n",
            "Target: C*sin(C*sin(C*x1))+C\n",
            "Predicted Skeleton: C*x1+C\n",
            "Predicted: -8.892626690570893e-09*x1+-1.1886541304097147\n",
            "Relative Error: 100.000000\n",
            "--------------------------------------------------\n"
          ]
        },
        {
          "output_type": "stream",
          "name": "stderr",
          "text": [
            "sampling loop: 100%|██████████| 1000/1000 [00:02<00:00, 339.32it/s]\n"
          ]
        },
        {
          "output_type": "stream",
          "name": "stdout",
          "text": [
            "\n",
            "Sample 138:\n",
            "Target: C*sin(C*x1)+C\n",
            "Predicted Skeleton: C*log(C*x1)6C\n",
            "Predicted: 1.0*log(1.0*x1)61.0\n",
            "Relative Error: 100.000000\n",
            "--------------------------------------------------\n"
          ]
        },
        {
          "output_type": "stream",
          "name": "stderr",
          "text": [
            "sampling loop: 100%|██████████| 1000/1000 [00:02<00:00, 492.64it/s]\n"
          ]
        },
        {
          "output_type": "stream",
          "name": "stdout",
          "text": [
            "\n",
            "Sample 139:\n",
            "Target: C*cos(C*exp(C*x1)*C*cos(C*x1))+C\n",
            "Predicted Skeleton: C*log(C*x1\n",
            "Predicted: 1.0*log(1.0*x1\n",
            "Relative Error: 100.000000\n",
            "--------------------------------------------------\n"
          ]
        },
        {
          "output_type": "stream",
          "name": "stderr",
          "text": [
            "sampling loop: 100%|██████████| 1000/1000 [00:02<00:00, 493.27it/s]\n"
          ]
        },
        {
          "output_type": "stream",
          "name": "stdout",
          "text": [
            "\n",
            "Sample 140:\n",
            "Target: C*x1+C\n",
            "Predicted Skeleton: C*x1+6\n",
            "Predicted: 1.16807544555849*x1+6\n",
            "Relative Error: 100.000000\n",
            "--------------------------------------------------\n"
          ]
        },
        {
          "output_type": "stream",
          "name": "stderr",
          "text": [
            "sampling loop: 100%|██████████| 1000/1000 [00:02<00:00, 493.01it/s]\n"
          ]
        },
        {
          "output_type": "stream",
          "name": "stdout",
          "text": [
            "\n",
            "Sample 141:\n",
            "Target: C*x1+C\n",
            "Predicted Skeleton: C*x1**C\n",
            "Predicted: 0.04774503168916777*x1**2.819155356112406\n",
            "Relative Error: 100.000000\n",
            "--------------------------------------------------\n"
          ]
        },
        {
          "output_type": "stream",
          "name": "stderr",
          "text": [
            "sampling loop: 100%|██████████| 1000/1000 [00:02<00:00, 481.25it/s]\n"
          ]
        },
        {
          "output_type": "stream",
          "name": "stdout",
          "text": [
            "\n",
            "Sample 142:\n",
            "Target: C*x1+C\n",
            "Predicted Skeleton: C*x1**C\n",
            "Predicted: 0.04774503168916777*x1**2.819155356112406\n",
            "Relative Error: 100.000000\n",
            "--------------------------------------------------\n"
          ]
        },
        {
          "output_type": "stream",
          "name": "stderr",
          "text": [
            "sampling loop: 100%|██████████| 1000/1000 [00:02<00:00, 415.04it/s]\n"
          ]
        },
        {
          "output_type": "stream",
          "name": "stdout",
          "text": [
            "\n",
            "Sample 143:\n",
            "Target: C*x1+C\n",
            "Predicted Skeleton: C*x1+C\n",
            "Predicted: -8.892626690570893e-09*x1+-1.1886541304097147\n",
            "Relative Error: 100.000000\n",
            "--------------------------------------------------\n"
          ]
        },
        {
          "output_type": "stream",
          "name": "stderr",
          "text": [
            "sampling loop: 100%|██████████| 1000/1000 [00:02<00:00, 374.80it/s]\n"
          ]
        },
        {
          "output_type": "stream",
          "name": "stdout",
          "text": [
            "\n",
            "Sample 144:\n",
            "Target: C*x1+C\n",
            "Predicted Skeleton: C*x1**6\n",
            "Predicted: 0.002000738942010097*x1**6\n",
            "Relative Error: 100.000000\n",
            "--------------------------------------------------\n"
          ]
        },
        {
          "output_type": "stream",
          "name": "stderr",
          "text": [
            "sampling loop: 100%|██████████| 1000/1000 [00:02<00:00, 489.48it/s]\n"
          ]
        },
        {
          "output_type": "stream",
          "name": "stdout",
          "text": [
            "\n",
            "Sample 145:\n",
            "Target: C*x1*C*log(C*x1+C)+C\n",
            "Predicted Skeleton: C*log(C*x1)9C<9999<9999999999999999\n",
            "Predicted: 1.0*log(1.0*x1)91.0<9999<9999999999999999\n",
            "Relative Error: 100.000000\n",
            "--------------------------------------------------\n"
          ]
        },
        {
          "output_type": "stream",
          "name": "stderr",
          "text": [
            "sampling loop: 100%|██████████| 1000/1000 [00:02<00:00, 497.98it/s]\n"
          ]
        },
        {
          "output_type": "stream",
          "name": "stdout",
          "text": [
            "\n",
            "Sample 146:\n",
            "Target: C*log(C*cos(C*x1+C))+C\n",
            "Predicted Skeleton: C*sin(C*x1)+C\n",
            "Predicted: 8.032982793208245e-08*sin(0.698870134590525*x1)+-1.1886541225935499\n",
            "Relative Error: 100.000000\n",
            "--------------------------------------------------\n"
          ]
        },
        {
          "output_type": "stream",
          "name": "stderr",
          "text": [
            "sampling loop: 100%|██████████| 1000/1000 [00:02<00:00, 491.45it/s]\n"
          ]
        },
        {
          "output_type": "stream",
          "name": "stdout",
          "text": [
            "\n",
            "Sample 147:\n",
            "Target: C*x1**2+C*x1+C\n",
            "Predicted Skeleton: C*x1**C\n",
            "Predicted: 0.04774503168916777*x1**2.819155356112406\n",
            "Relative Error: 100.000000\n",
            "--------------------------------------------------\n"
          ]
        },
        {
          "output_type": "stream",
          "name": "stderr",
          "text": [
            "sampling loop: 100%|██████████| 1000/1000 [00:02<00:00, 470.31it/s]\n"
          ]
        },
        {
          "output_type": "stream",
          "name": "stdout",
          "text": [
            "\n",
            "Sample 148:\n",
            "Target: C*cos(C*x1)**4+C\n",
            "Predicted Skeleton: C*x1+C\n",
            "Predicted: -8.892626690570893e-09*x1+-1.1886541304097147\n",
            "Relative Error: 100.000000\n",
            "--------------------------------------------------\n"
          ]
        },
        {
          "output_type": "stream",
          "name": "stderr",
          "text": [
            "sampling loop: 100%|██████████| 1000/1000 [00:02<00:00, 384.95it/s]\n"
          ]
        },
        {
          "output_type": "stream",
          "name": "stdout",
          "text": [
            "\n",
            "Sample 149:\n",
            "Target: C*x1+C\n",
            "Predicted Skeleton: C*x1**C\n",
            "Predicted: 0.04774503168916777*x1**2.819155356112406\n",
            "Relative Error: 100.000000\n",
            "--------------------------------------------------\n"
          ]
        },
        {
          "output_type": "stream",
          "name": "stderr",
          "text": [
            "sampling loop: 100%|██████████| 1000/1000 [00:02<00:00, 419.87it/s]\n"
          ]
        },
        {
          "output_type": "stream",
          "name": "stdout",
          "text": [
            "\n",
            "Sample 150:\n",
            "Target: C*sin(C*x1+C)**3+C\n",
            "Predicted Skeleton: C*x1+C\n",
            "Predicted: -8.892626690570893e-09*x1+-1.1886541304097147\n",
            "Relative Error: 100.000000\n",
            "--------------------------------------------------\n"
          ]
        },
        {
          "output_type": "stream",
          "name": "stderr",
          "text": [
            "sampling loop: 100%|██████████| 1000/1000 [00:02<00:00, 492.28it/s]\n"
          ]
        },
        {
          "output_type": "stream",
          "name": "stdout",
          "text": [
            "\n",
            "Sample 151:\n",
            "Target: C*x1+C\n",
            "Predicted Skeleton: C*x1**C*79999<<99<99<<9<9999999999\n",
            "Predicted: 1.0*x1**1.0*79999<<99<99<<9<9999999999\n",
            "Relative Error: 100.000000\n",
            "--------------------------------------------------\n"
          ]
        },
        {
          "output_type": "stream",
          "name": "stderr",
          "text": [
            "sampling loop: 100%|██████████| 1000/1000 [00:02<00:00, 483.43it/s]\n"
          ]
        },
        {
          "output_type": "stream",
          "name": "stdout",
          "text": [
            "\n",
            "Sample 152:\n",
            "Target: C*x1+C\n",
            "Predicted Skeleton: C*x1**C\n",
            "Predicted: 0.04774503168916777*x1**2.819155356112406\n",
            "Relative Error: 100.000000\n",
            "--------------------------------------------------\n"
          ]
        },
        {
          "output_type": "stream",
          "name": "stderr",
          "text": [
            "sampling loop: 100%|██████████| 1000/1000 [00:01<00:00, 500.79it/s]\n"
          ]
        },
        {
          "output_type": "stream",
          "name": "stdout",
          "text": [
            "\n",
            "Sample 153:\n",
            "Target: C*x1+C\n",
            "Predicted Skeleton: C*x1+C\n",
            "Predicted: -8.892626690570893e-09*x1+-1.1886541304097147\n",
            "Relative Error: 100.000000\n",
            "--------------------------------------------------\n"
          ]
        },
        {
          "output_type": "stream",
          "name": "stderr",
          "text": [
            "sampling loop: 100%|██████████| 1000/1000 [00:01<00:00, 501.36it/s]\n"
          ]
        },
        {
          "output_type": "stream",
          "name": "stdout",
          "text": [
            "\n",
            "Sample 154:\n",
            "Target: C*exp(C/x1)+C\n",
            "Predicted Skeleton: C*x1+C\n",
            "Predicted: -8.892626690570893e-09*x1+-1.1886541304097147\n",
            "Relative Error: 100.000000\n",
            "--------------------------------------------------\n"
          ]
        },
        {
          "output_type": "stream",
          "name": "stderr",
          "text": [
            "sampling loop: 100%|██████████| 1000/1000 [00:02<00:00, 364.26it/s]\n"
          ]
        },
        {
          "output_type": "stream",
          "name": "stdout",
          "text": [
            "\n",
            "Sample 155:\n",
            "Target: C*exp(C*exp(C*x1))+C\n",
            "Predicted Skeleton: C*exp(C*x199C<<9<9<9999999<99999999\n",
            "Predicted: 1.0*exp(1.0*x1991.0<<9<9<9999999<99999999\n",
            "Relative Error: 100.000000\n",
            "--------------------------------------------------\n"
          ]
        },
        {
          "output_type": "stream",
          "name": "stderr",
          "text": [
            "sampling loop: 100%|██████████| 1000/1000 [00:02<00:00, 423.60it/s]\n"
          ]
        },
        {
          "output_type": "stream",
          "name": "stdout",
          "text": [
            "\n",
            "Sample 156:\n",
            "Target: C*x1**2+C*x1/C*sin(C*x1)+C*sin(C*log(C*x1)+\n",
            "Predicted Skeleton: C*x1**C\n",
            "Predicted: 0.04774503168916777*x1**2.819155356112406\n",
            "Relative Error: 100.000000\n",
            "--------------------------------------------------\n"
          ]
        },
        {
          "output_type": "stream",
          "name": "stderr",
          "text": [
            "sampling loop: 100%|██████████| 1000/1000 [00:02<00:00, 489.30it/s]\n"
          ]
        },
        {
          "output_type": "stream",
          "name": "stdout",
          "text": [
            "\n",
            "Sample 157:\n",
            "Target: C*x1+C*sin(C*x1)+C\n",
            "Predicted Skeleton: C*x1\n",
            "Predicted: 0.19314292203205158*x1\n",
            "Relative Error: 100.000000\n",
            "--------------------------------------------------\n"
          ]
        },
        {
          "output_type": "stream",
          "name": "stderr",
          "text": [
            "sampling loop: 100%|██████████| 1000/1000 [00:02<00:00, 498.83it/s]\n"
          ]
        },
        {
          "output_type": "stream",
          "name": "stdout",
          "text": [
            "\n",
            "Sample 158:\n",
            "Target: C*sin(C*x1**3)+C\n",
            "Predicted Skeleton: C*sin(C*x1)6C<9999999999999999<9999\n",
            "Predicted: 1.0*sin(1.0*x1)61.0<9999999999999999<9999\n",
            "Relative Error: 100.000000\n",
            "--------------------------------------------------\n"
          ]
        },
        {
          "output_type": "stream",
          "name": "stderr",
          "text": [
            "sampling loop: 100%|██████████| 1000/1000 [00:02<00:00, 486.69it/s]\n"
          ]
        },
        {
          "output_type": "stream",
          "name": "stdout",
          "text": [
            "\n",
            "Sample 159:\n",
            "Target: C*cos(C*x1)+C\n",
            "Predicted Skeleton: C*x1+C\n",
            "Predicted: -8.892626690570893e-09*x1+-1.1886541304097147\n",
            "Relative Error: 100.000000\n",
            "--------------------------------------------------\n"
          ]
        },
        {
          "output_type": "stream",
          "name": "stderr",
          "text": [
            "sampling loop: 100%|██████████| 1000/1000 [00:02<00:00, 498.47it/s]\n"
          ]
        },
        {
          "output_type": "stream",
          "name": "stdout",
          "text": [
            "\n",
            "Sample 160:\n",
            "Target: C*x1+C\n",
            "Predicted Skeleton: C*x1+C\n",
            "Predicted: -8.892626690570893e-09*x1+-1.1886541304097147\n",
            "Relative Error: 100.000000\n",
            "--------------------------------------------------\n"
          ]
        },
        {
          "output_type": "stream",
          "name": "stderr",
          "text": [
            "sampling loop: 100%|██████████| 1000/1000 [00:03<00:00, 332.90it/s]\n"
          ]
        },
        {
          "output_type": "stream",
          "name": "stdout",
          "text": [
            "\n",
            "Sample 161:\n",
            "Target: C*x1/(C*x1+C)+C\n",
            "Predicted Skeleton: C*x1**C\n",
            "Predicted: 0.04774503168916777*x1**2.819155356112406\n",
            "Relative Error: 100.000000\n",
            "--------------------------------------------------\n"
          ]
        },
        {
          "output_type": "stream",
          "name": "stderr",
          "text": [
            "sampling loop: 100%|██████████| 1000/1000 [00:02<00:00, 490.08it/s]\n"
          ]
        },
        {
          "output_type": "stream",
          "name": "stdout",
          "text": [
            "\n",
            "Sample 162:\n",
            "Target: C*log(C*x1)+C\n",
            "Predicted Skeleton: C*log(C*x1)6C<9999<<<9<<<<<99999<99\n",
            "Predicted: 1.0*log(1.0*x1)61.0<9999<<<9<<<<<99999<99\n",
            "Relative Error: 100.000000\n",
            "--------------------------------------------------\n"
          ]
        },
        {
          "output_type": "stream",
          "name": "stderr",
          "text": [
            "sampling loop: 100%|██████████| 1000/1000 [00:02<00:00, 490.21it/s]\n"
          ]
        },
        {
          "output_type": "stream",
          "name": "stdout",
          "text": [
            "\n",
            "Sample 163:\n",
            "Target: C*cos(C*x1+C)+C\n",
            "Predicted Skeleton: C*x1+C\n",
            "Predicted: -8.892626690570893e-09*x1+-1.1886541304097147\n",
            "Relative Error: 100.000000\n",
            "--------------------------------------------------\n"
          ]
        },
        {
          "output_type": "stream",
          "name": "stderr",
          "text": [
            "sampling loop: 100%|██████████| 1000/1000 [00:02<00:00, 498.92it/s]\n"
          ]
        },
        {
          "output_type": "stream",
          "name": "stdout",
          "text": [
            "\n",
            "Sample 164:\n",
            "Target: C*x1+C\n",
            "Predicted Skeleton: C*x1**C\n",
            "Predicted: 0.04774503168916777*x1**2.819155356112406\n",
            "Relative Error: 100.000000\n",
            "--------------------------------------------------\n"
          ]
        },
        {
          "output_type": "stream",
          "name": "stderr",
          "text": [
            "sampling loop: 100%|██████████| 1000/1000 [00:01<00:00, 500.80it/s]\n"
          ]
        },
        {
          "output_type": "stream",
          "name": "stdout",
          "text": [
            "\n",
            "Sample 165:\n",
            "Target: C*log(C*x1)+C\n",
            "Predicted Skeleton: C*x1+C\n",
            "Predicted: -8.892626690570893e-09*x1+-1.1886541304097147\n",
            "Relative Error: 100.000000\n",
            "--------------------------------------------------\n"
          ]
        },
        {
          "output_type": "stream",
          "name": "stderr",
          "text": [
            "sampling loop: 100%|██████████| 1000/1000 [00:02<00:00, 458.84it/s]\n"
          ]
        },
        {
          "output_type": "stream",
          "name": "stdout",
          "text": [
            "\n",
            "Sample 166:\n",
            "Target: C*x1*C*log(C*x1+C)*C*cos(C*x1+C)+C*x1+C\n",
            "Predicted Skeleton: C*x1**C\n",
            "Predicted: 0.04774503168916777*x1**2.819155356112406\n",
            "Relative Error: 100.000000\n",
            "--------------------------------------------------\n"
          ]
        },
        {
          "output_type": "stream",
          "name": "stderr",
          "text": [
            "sampling loop: 100%|██████████| 1000/1000 [00:02<00:00, 364.97it/s]\n"
          ]
        },
        {
          "output_type": "stream",
          "name": "stdout",
          "text": [
            "\n",
            "Sample 167:\n",
            "Target: C*x1**2+C*x1*C*log(C*x1)+C*x1+C\n",
            "Predicted Skeleton: C*x1+C\n",
            "Predicted: -8.892626690570893e-09*x1+-1.1886541304097147\n",
            "Relative Error: 100.000000\n",
            "--------------------------------------------------\n"
          ]
        },
        {
          "output_type": "stream",
          "name": "stderr",
          "text": [
            "sampling loop: 100%|██████████| 1000/1000 [00:02<00:00, 480.38it/s]\n"
          ]
        },
        {
          "output_type": "stream",
          "name": "stdout",
          "text": [
            "\n",
            "Sample 168:\n",
            "Target: C*cos(C*x1+C)+C\n",
            "Predicted Skeleton: C*sin(C*x1)6C9999999999999999999999\n",
            "Predicted: 1.0*sin(1.0*x1)61.09999999999999999999999\n",
            "Relative Error: 100.000000\n",
            "--------------------------------------------------\n"
          ]
        },
        {
          "output_type": "stream",
          "name": "stderr",
          "text": [
            "sampling loop: 100%|██████████| 1000/1000 [00:02<00:00, 494.87it/s]\n"
          ]
        },
        {
          "output_type": "stream",
          "name": "stdout",
          "text": [
            "\n",
            "Sample 169:\n",
            "Target: C*x1+C\n",
            "Predicted Skeleton: C*x1+C\n",
            "Predicted: -8.892626690570893e-09*x1+-1.1886541304097147\n",
            "Relative Error: 100.000000\n",
            "--------------------------------------------------\n"
          ]
        },
        {
          "output_type": "stream",
          "name": "stderr",
          "text": [
            "sampling loop: 100%|██████████| 1000/1000 [00:02<00:00, 483.92it/s]\n"
          ]
        },
        {
          "output_type": "stream",
          "name": "stdout",
          "text": [
            "\n",
            "Sample 170:\n",
            "Target: C*cos(C*sin(C*x1))+C\n",
            "Predicted Skeleton: C*sin(C*x1)6C99999999999<9999999999\n",
            "Predicted: 1.0*sin(1.0*x1)61.099999999999<9999999999\n",
            "Relative Error: 100.000000\n",
            "--------------------------------------------------\n"
          ]
        },
        {
          "output_type": "stream",
          "name": "stderr",
          "text": [
            "sampling loop: 100%|██████████| 1000/1000 [00:02<00:00, 492.82it/s]\n"
          ]
        },
        {
          "output_type": "stream",
          "name": "stdout",
          "text": [
            "\n",
            "Sample 171:\n",
            "Target: C*x1+C\n",
            "Predicted Skeleton: C*x1+C\n",
            "Predicted: -8.892626690570893e-09*x1+-1.1886541304097147\n",
            "Relative Error: 100.000000\n",
            "--------------------------------------------------\n"
          ]
        },
        {
          "output_type": "stream",
          "name": "stderr",
          "text": [
            "sampling loop: 100%|██████████| 1000/1000 [00:02<00:00, 415.72it/s]\n"
          ]
        },
        {
          "output_type": "stream",
          "name": "stdout",
          "text": [
            "\n",
            "Sample 172:\n",
            "Target: C*x1**2+C*x1+C\n",
            "Predicted Skeleton: C*x1**C\n",
            "Predicted: 0.04774503168916777*x1**2.819155356112406\n",
            "Relative Error: 100.000000\n",
            "--------------------------------------------------\n"
          ]
        },
        {
          "output_type": "stream",
          "name": "stderr",
          "text": [
            "sampling loop: 100%|██████████| 1000/1000 [00:02<00:00, 392.56it/s]\n"
          ]
        },
        {
          "output_type": "stream",
          "name": "stdout",
          "text": [
            "\n",
            "Sample 173:\n",
            "Target: C*x1**2+C*x1**2+C*x1**5+C\n",
            "Predicted Skeleton: C*x1**4+C\n",
            "Predicted: -8.448260866357092e-09*x1**4+-1.1886543143054862\n",
            "Relative Error: 100.000000\n",
            "--------------------------------------------------\n"
          ]
        },
        {
          "output_type": "stream",
          "name": "stderr",
          "text": [
            "sampling loop: 100%|██████████| 1000/1000 [00:02<00:00, 476.22it/s]\n"
          ]
        },
        {
          "output_type": "stream",
          "name": "stdout",
          "text": [
            "\n",
            "Sample 174:\n",
            "Target: C*cos(C*x1)+C\n",
            "Predicted Skeleton: C*x1+C\n",
            "Predicted: -8.892626690570893e-09*x1+-1.1886541304097147\n",
            "Relative Error: 100.000000\n",
            "--------------------------------------------------\n"
          ]
        },
        {
          "output_type": "stream",
          "name": "stderr",
          "text": [
            "sampling loop: 100%|██████████| 1000/1000 [00:02<00:00, 499.49it/s]\n"
          ]
        },
        {
          "output_type": "stream",
          "name": "stdout",
          "text": [
            "\n",
            "Sample 175:\n",
            "Target: C*exp(C*x1)+C\n",
            "Predicted Skeleton: C*exp(C*x1)9C<9999999<9999999999<99\n",
            "Predicted: 1.0*exp(1.0*x1)91.0<9999999<9999999999<99\n",
            "Relative Error: 100.000000\n",
            "--------------------------------------------------\n"
          ]
        },
        {
          "output_type": "stream",
          "name": "stderr",
          "text": [
            "sampling loop: 100%|██████████| 1000/1000 [00:02<00:00, 488.85it/s]\n"
          ]
        },
        {
          "output_type": "stream",
          "name": "stdout",
          "text": [
            "\n",
            "Sample 176:\n",
            "Target: C*x1+C\n",
            "Predicted Skeleton: C*x1**C\n",
            "Predicted: 0.04774503168916777*x1**2.819155356112406\n",
            "Relative Error: 100.000000\n",
            "--------------------------------------------------\n"
          ]
        },
        {
          "output_type": "stream",
          "name": "stderr",
          "text": [
            "sampling loop: 100%|██████████| 1000/1000 [00:01<00:00, 504.25it/s]\n"
          ]
        },
        {
          "output_type": "stream",
          "name": "stdout",
          "text": [
            "\n",
            "Sample 177:\n",
            "Target: C*x1*C*cos(C*x1)+C\n",
            "Predicted Skeleton: C*cos(C*x1)6)\n",
            "Predicted: 1.0*cos(1.0*x1)6)\n",
            "Relative Error: 100.000000\n",
            "--------------------------------------------------\n"
          ]
        },
        {
          "output_type": "stream",
          "name": "stderr",
          "text": [
            "sampling loop: 100%|██████████| 1000/1000 [00:02<00:00, 392.51it/s]\n"
          ]
        },
        {
          "output_type": "stream",
          "name": "stdout",
          "text": [
            "\n",
            "Sample 178:\n",
            "Target: C*cos(C*log(C*x1+C))+C\n",
            "Predicted Skeleton: C*log(C*x199C<<999<9999<<9<<99<9999\n",
            "Predicted: 1.0*log(1.0*x1991.0<<999<9999<<9<<99<9999\n",
            "Relative Error: 100.000000\n",
            "--------------------------------------------------\n"
          ]
        },
        {
          "output_type": "stream",
          "name": "stderr",
          "text": [
            "sampling loop: 100%|██████████| 1000/1000 [00:02<00:00, 410.57it/s]\n"
          ]
        },
        {
          "output_type": "stream",
          "name": "stdout",
          "text": [
            "\n",
            "Sample 179:\n",
            "Target: C*x1**5+C*x1**4+C*x1**3+C*x1**2+C*x1+C\n",
            "Predicted Skeleton: C*x1**C\n",
            "Predicted: 0.04774503168916777*x1**2.819155356112406\n",
            "Relative Error: 100.000000\n",
            "--------------------------------------------------\n"
          ]
        },
        {
          "output_type": "stream",
          "name": "stderr",
          "text": [
            "sampling loop: 100%|██████████| 1000/1000 [00:01<00:00, 500.93it/s]\n"
          ]
        },
        {
          "output_type": "stream",
          "name": "stdout",
          "text": [
            "\n",
            "Sample 180:\n",
            "Target: C*cos(C*x1**5+C*x1**4+C*x1**3+C*x1**2+C*x1)\n",
            "Predicted Skeleton: C*sin(C*x1)C)\n",
            "Predicted: 1.0*sin(1.0*x1)1.0)\n",
            "Relative Error: 100.000000\n",
            "--------------------------------------------------\n"
          ]
        },
        {
          "output_type": "stream",
          "name": "stderr",
          "text": [
            "sampling loop: 100%|██████████| 1000/1000 [00:02<00:00, 494.97it/s]\n"
          ]
        },
        {
          "output_type": "stream",
          "name": "stdout",
          "text": [
            "\n",
            "Sample 181:\n",
            "Target: C*x1+C\n",
            "Predicted Skeleton: C*x1+C\n",
            "Predicted: -8.892626690570893e-09*x1+-1.1886541304097147\n",
            "Relative Error: 100.000000\n",
            "--------------------------------------------------\n"
          ]
        },
        {
          "output_type": "stream",
          "name": "stderr",
          "text": [
            "sampling loop: 100%|██████████| 1000/1000 [00:02<00:00, 490.64it/s]\n"
          ]
        },
        {
          "output_type": "stream",
          "name": "stdout",
          "text": [
            "\n",
            "Sample 182:\n",
            "Target: C*exp(C*x1)+C\n",
            "Predicted Skeleton: C*x1+C\n",
            "Predicted: -8.892626690570893e-09*x1+-1.1886541304097147\n",
            "Relative Error: 100.000000\n",
            "--------------------------------------------------\n"
          ]
        },
        {
          "output_type": "stream",
          "name": "stderr",
          "text": [
            "sampling loop: 100%|██████████| 1000/1000 [00:01<00:00, 500.86it/s]\n"
          ]
        },
        {
          "output_type": "stream",
          "name": "stdout",
          "text": [
            "\n",
            "Sample 183:\n",
            "Target: C*log(C*x1+C)+C*cos(C*x1)+C\n",
            "Predicted Skeleton: C*sin(C*x1)6C\n",
            "Predicted: 1.0*sin(1.0*x1)61.0\n",
            "Relative Error: 100.000000\n",
            "--------------------------------------------------\n"
          ]
        },
        {
          "output_type": "stream",
          "name": "stderr",
          "text": [
            "sampling loop:  11%|█         | 107/1000 [00:00<00:02, 440.34it/s]\n"
          ]
        },
        {
          "output_type": "error",
          "ename": "KeyboardInterrupt",
          "evalue": "",
          "traceback": [
            "\u001b[0;31m---------------------------------------------------------------------------\u001b[0m",
            "\u001b[0;31mKeyboardInterrupt\u001b[0m                         Traceback (most recent call last)",
            "\u001b[0;32m<ipython-input-43-d91ee9df3d0a>\u001b[0m in \u001b[0;36m<cell line: 0>\u001b[0;34m()\u001b[0m\n\u001b[1;32m     27\u001b[0m \u001b[0;34m\u001b[0m\u001b[0m\n\u001b[1;32m     28\u001b[0m \u001b[0mprint\u001b[0m\u001b[0;34m(\u001b[0m\u001b[0;34m\"Testing SymbolicDiffusion model...\"\u001b[0m\u001b[0;34m)\u001b[0m\u001b[0;34m\u001b[0m\u001b[0;34m\u001b[0m\u001b[0m\n\u001b[0;32m---> 29\u001b[0;31m \u001b[0mtest_results\u001b[0m \u001b[0;34m=\u001b[0m \u001b[0mtest_model\u001b[0m\u001b[0;34m(\u001b[0m\u001b[0mmodel\u001b[0m\u001b[0;34m,\u001b[0m \u001b[0mtest_loader\u001b[0m\u001b[0;34m,\u001b[0m \u001b[0mtextTest\u001b[0m\u001b[0;34m,\u001b[0m \u001b[0mtrain_dataset\u001b[0m\u001b[0;34m,\u001b[0m \u001b[0mdevice\u001b[0m\u001b[0;34m)\u001b[0m\u001b[0;34m\u001b[0m\u001b[0;34m\u001b[0m\u001b[0m\n\u001b[0m\u001b[1;32m     30\u001b[0m \u001b[0;34m\u001b[0m\u001b[0m\n\u001b[1;32m     31\u001b[0m \u001b[0mprint\u001b[0m\u001b[0;34m(\u001b[0m\u001b[0;34m\"\\nSummary:\"\u001b[0m\u001b[0;34m)\u001b[0m\u001b[0;34m\u001b[0m\u001b[0;34m\u001b[0m\u001b[0m\n",
            "\u001b[0;32m/usr/local/lib/python3.11/dist-packages/torch/utils/_contextlib.py\u001b[0m in \u001b[0;36mdecorate_context\u001b[0;34m(*args, **kwargs)\u001b[0m\n\u001b[1;32m    114\u001b[0m     \u001b[0;32mdef\u001b[0m \u001b[0mdecorate_context\u001b[0m\u001b[0;34m(\u001b[0m\u001b[0;34m*\u001b[0m\u001b[0margs\u001b[0m\u001b[0;34m,\u001b[0m \u001b[0;34m**\u001b[0m\u001b[0mkwargs\u001b[0m\u001b[0;34m)\u001b[0m\u001b[0;34m:\u001b[0m\u001b[0;34m\u001b[0m\u001b[0;34m\u001b[0m\u001b[0m\n\u001b[1;32m    115\u001b[0m         \u001b[0;32mwith\u001b[0m \u001b[0mctx_factory\u001b[0m\u001b[0;34m(\u001b[0m\u001b[0;34m)\u001b[0m\u001b[0;34m:\u001b[0m\u001b[0;34m\u001b[0m\u001b[0;34m\u001b[0m\u001b[0m\n\u001b[0;32m--> 116\u001b[0;31m             \u001b[0;32mreturn\u001b[0m \u001b[0mfunc\u001b[0m\u001b[0;34m(\u001b[0m\u001b[0;34m*\u001b[0m\u001b[0margs\u001b[0m\u001b[0;34m,\u001b[0m \u001b[0;34m**\u001b[0m\u001b[0mkwargs\u001b[0m\u001b[0;34m)\u001b[0m\u001b[0;34m\u001b[0m\u001b[0;34m\u001b[0m\u001b[0m\n\u001b[0m\u001b[1;32m    117\u001b[0m \u001b[0;34m\u001b[0m\u001b[0m\n\u001b[1;32m    118\u001b[0m     \u001b[0;32mreturn\u001b[0m \u001b[0mdecorate_context\u001b[0m\u001b[0;34m\u001b[0m\u001b[0;34m\u001b[0m\u001b[0m\n",
            "\u001b[0;32m<ipython-input-33-80544e7a2b63>\u001b[0m in \u001b[0;36mtest_model\u001b[0;34m(model, test_loader, textTest, train_dataset, device)\u001b[0m\n\u001b[1;32m     15\u001b[0m         \u001b[0mB\u001b[0m \u001b[0;34m=\u001b[0m \u001b[0mpoints\u001b[0m\u001b[0;34m.\u001b[0m\u001b[0mshape\u001b[0m\u001b[0;34m[\u001b[0m\u001b[0;36m0\u001b[0m\u001b[0;34m]\u001b[0m\u001b[0;34m\u001b[0m\u001b[0;34m\u001b[0m\u001b[0m\n\u001b[1;32m     16\u001b[0m \u001b[0;34m\u001b[0m\u001b[0m\n\u001b[0;32m---> 17\u001b[0;31m         \u001b[0mgenerated_tokens\u001b[0m \u001b[0;34m=\u001b[0m \u001b[0mmodel\u001b[0m\u001b[0;34m.\u001b[0m\u001b[0msample\u001b[0m\u001b[0;34m(\u001b[0m\u001b[0mpoints\u001b[0m\u001b[0;34m,\u001b[0m \u001b[0mvariables\u001b[0m\u001b[0;34m,\u001b[0m \u001b[0mB\u001b[0m\u001b[0;34m)\u001b[0m\u001b[0;34m\u001b[0m\u001b[0;34m\u001b[0m\u001b[0m\n\u001b[0m\u001b[1;32m     18\u001b[0m \u001b[0;34m\u001b[0m\u001b[0m\n\u001b[1;32m     19\u001b[0m         \u001b[0;32mfor\u001b[0m \u001b[0mi\u001b[0m \u001b[0;32min\u001b[0m \u001b[0mrange\u001b[0m\u001b[0;34m(\u001b[0m\u001b[0mbatch_size\u001b[0m\u001b[0;34m)\u001b[0m\u001b[0;34m:\u001b[0m\u001b[0;34m\u001b[0m\u001b[0;34m\u001b[0m\u001b[0m\n",
            "\u001b[0;32m/usr/local/lib/python3.11/dist-packages/torch/utils/_contextlib.py\u001b[0m in \u001b[0;36mdecorate_context\u001b[0;34m(*args, **kwargs)\u001b[0m\n\u001b[1;32m    114\u001b[0m     \u001b[0;32mdef\u001b[0m \u001b[0mdecorate_context\u001b[0m\u001b[0;34m(\u001b[0m\u001b[0;34m*\u001b[0m\u001b[0margs\u001b[0m\u001b[0;34m,\u001b[0m \u001b[0;34m**\u001b[0m\u001b[0mkwargs\u001b[0m\u001b[0;34m)\u001b[0m\u001b[0;34m:\u001b[0m\u001b[0;34m\u001b[0m\u001b[0;34m\u001b[0m\u001b[0m\n\u001b[1;32m    115\u001b[0m         \u001b[0;32mwith\u001b[0m \u001b[0mctx_factory\u001b[0m\u001b[0;34m(\u001b[0m\u001b[0;34m)\u001b[0m\u001b[0;34m:\u001b[0m\u001b[0;34m\u001b[0m\u001b[0;34m\u001b[0m\u001b[0m\n\u001b[0;32m--> 116\u001b[0;31m             \u001b[0;32mreturn\u001b[0m \u001b[0mfunc\u001b[0m\u001b[0;34m(\u001b[0m\u001b[0;34m*\u001b[0m\u001b[0margs\u001b[0m\u001b[0;34m,\u001b[0m \u001b[0;34m**\u001b[0m\u001b[0mkwargs\u001b[0m\u001b[0;34m)\u001b[0m\u001b[0;34m\u001b[0m\u001b[0;34m\u001b[0m\u001b[0m\n\u001b[0m\u001b[1;32m    117\u001b[0m \u001b[0;34m\u001b[0m\u001b[0m\n\u001b[1;32m    118\u001b[0m     \u001b[0;32mreturn\u001b[0m \u001b[0mdecorate_context\u001b[0m\u001b[0;34m\u001b[0m\u001b[0;34m\u001b[0m\u001b[0m\n",
            "\u001b[0;32m<ipython-input-42-78308c2e4d34>\u001b[0m in \u001b[0;36msample\u001b[0;34m(self, points, variables, batch_size)\u001b[0m\n\u001b[1;32m    208\u001b[0m                 \u001b[0;32melse\u001b[0m \u001b[0mtorch\u001b[0m\u001b[0;34m.\u001b[0m\u001b[0mtensor\u001b[0m\u001b[0;34m(\u001b[0m\u001b[0;36m0\u001b[0m\u001b[0;34m,\u001b[0m \u001b[0mdevice\u001b[0m\u001b[0;34m=\u001b[0m\u001b[0mself\u001b[0m\u001b[0;34m.\u001b[0m\u001b[0mdevice\u001b[0m\u001b[0;34m)\u001b[0m\u001b[0;34m\u001b[0m\u001b[0;34m\u001b[0m\u001b[0m\n\u001b[1;32m    209\u001b[0m             )\n\u001b[0;32m--> 210\u001b[0;31m             \u001b[0mx\u001b[0m \u001b[0;34m=\u001b[0m \u001b[0mself\u001b[0m\u001b[0;34m.\u001b[0m\u001b[0mp_sample\u001b[0m\u001b[0;34m(\u001b[0m\u001b[0mx\u001b[0m\u001b[0;34m,\u001b[0m \u001b[0mt\u001b[0m\u001b[0;34m,\u001b[0m \u001b[0mt_next\u001b[0m\u001b[0;34m,\u001b[0m \u001b[0mcondition\u001b[0m\u001b[0;34m)\u001b[0m\u001b[0;34m\u001b[0m\u001b[0;34m\u001b[0m\u001b[0m\n\u001b[0m\u001b[1;32m    211\u001b[0m \u001b[0;34m\u001b[0m\u001b[0m\n\u001b[1;32m    212\u001b[0m         \u001b[0;31m# Map embeddings to token indices via decoder\u001b[0m\u001b[0;34m\u001b[0m\u001b[0;34m\u001b[0m\u001b[0m\n",
            "\u001b[0;32m/usr/local/lib/python3.11/dist-packages/torch/utils/_contextlib.py\u001b[0m in \u001b[0;36mdecorate_context\u001b[0;34m(*args, **kwargs)\u001b[0m\n\u001b[1;32m    114\u001b[0m     \u001b[0;32mdef\u001b[0m \u001b[0mdecorate_context\u001b[0m\u001b[0;34m(\u001b[0m\u001b[0;34m*\u001b[0m\u001b[0margs\u001b[0m\u001b[0;34m,\u001b[0m \u001b[0;34m**\u001b[0m\u001b[0mkwargs\u001b[0m\u001b[0;34m)\u001b[0m\u001b[0;34m:\u001b[0m\u001b[0;34m\u001b[0m\u001b[0;34m\u001b[0m\u001b[0m\n\u001b[1;32m    115\u001b[0m         \u001b[0;32mwith\u001b[0m \u001b[0mctx_factory\u001b[0m\u001b[0;34m(\u001b[0m\u001b[0;34m)\u001b[0m\u001b[0;34m:\u001b[0m\u001b[0;34m\u001b[0m\u001b[0;34m\u001b[0m\u001b[0m\n\u001b[0;32m--> 116\u001b[0;31m             \u001b[0;32mreturn\u001b[0m \u001b[0mfunc\u001b[0m\u001b[0;34m(\u001b[0m\u001b[0;34m*\u001b[0m\u001b[0margs\u001b[0m\u001b[0;34m,\u001b[0m \u001b[0;34m**\u001b[0m\u001b[0mkwargs\u001b[0m\u001b[0;34m)\u001b[0m\u001b[0;34m\u001b[0m\u001b[0;34m\u001b[0m\u001b[0m\n\u001b[0m\u001b[1;32m    117\u001b[0m \u001b[0;34m\u001b[0m\u001b[0m\n\u001b[1;32m    118\u001b[0m     \u001b[0;32mreturn\u001b[0m \u001b[0mdecorate_context\u001b[0m\u001b[0;34m\u001b[0m\u001b[0;34m\u001b[0m\u001b[0m\n",
            "\u001b[0;32m<ipython-input-42-78308c2e4d34>\u001b[0m in \u001b[0;36mp_sample\u001b[0;34m(self, x, t, t_next, condition)\u001b[0m\n\u001b[1;32m    184\u001b[0m     \u001b[0;34m@\u001b[0m\u001b[0mtorch\u001b[0m\u001b[0;34m.\u001b[0m\u001b[0mno_grad\u001b[0m\u001b[0;34m(\u001b[0m\u001b[0;34m)\u001b[0m\u001b[0;34m\u001b[0m\u001b[0;34m\u001b[0m\u001b[0m\n\u001b[1;32m    185\u001b[0m     \u001b[0;32mdef\u001b[0m \u001b[0mp_sample\u001b[0m\u001b[0;34m(\u001b[0m\u001b[0mself\u001b[0m\u001b[0;34m,\u001b[0m \u001b[0mx\u001b[0m\u001b[0;34m,\u001b[0m \u001b[0mt\u001b[0m\u001b[0;34m,\u001b[0m \u001b[0mt_next\u001b[0m\u001b[0;34m,\u001b[0m \u001b[0mcondition\u001b[0m\u001b[0;34m)\u001b[0m\u001b[0;34m:\u001b[0m\u001b[0;34m\u001b[0m\u001b[0;34m\u001b[0m\u001b[0m\n\u001b[0;32m--> 186\u001b[0;31m         \u001b[0mmean\u001b[0m\u001b[0;34m,\u001b[0m \u001b[0mvariance\u001b[0m \u001b[0;34m=\u001b[0m \u001b[0mself\u001b[0m\u001b[0;34m.\u001b[0m\u001b[0mp_mean_variance\u001b[0m\u001b[0;34m(\u001b[0m\u001b[0mx\u001b[0m\u001b[0;34m,\u001b[0m \u001b[0mt\u001b[0m\u001b[0;34m,\u001b[0m \u001b[0mt_next\u001b[0m\u001b[0;34m,\u001b[0m \u001b[0mcondition\u001b[0m\u001b[0;34m)\u001b[0m\u001b[0;34m\u001b[0m\u001b[0;34m\u001b[0m\u001b[0m\n\u001b[0m\u001b[1;32m    187\u001b[0m         \u001b[0;32mif\u001b[0m \u001b[0mtorch\u001b[0m\u001b[0;34m.\u001b[0m\u001b[0mall\u001b[0m\u001b[0;34m(\u001b[0m\u001b[0mt_next\u001b[0m \u001b[0;34m==\u001b[0m \u001b[0;36m0\u001b[0m\u001b[0;34m)\u001b[0m\u001b[0;34m:\u001b[0m\u001b[0;34m\u001b[0m\u001b[0;34m\u001b[0m\u001b[0m\n\u001b[1;32m    188\u001b[0m             \u001b[0;32mreturn\u001b[0m \u001b[0mmean\u001b[0m\u001b[0;34m\u001b[0m\u001b[0;34m\u001b[0m\u001b[0m\n",
            "\u001b[0;32m<ipython-input-42-78308c2e4d34>\u001b[0m in \u001b[0;36mp_mean_variance\u001b[0;34m(self, x, t, t_next, condition)\u001b[0m\n\u001b[1;32m    174\u001b[0m         \u001b[0mbeta_t\u001b[0m \u001b[0;34m=\u001b[0m \u001b[0mself\u001b[0m\u001b[0;34m.\u001b[0m\u001b[0mbeta\u001b[0m\u001b[0;34m[\u001b[0m\u001b[0mt\u001b[0m\u001b[0;34m]\u001b[0m\u001b[0;34m\u001b[0m\u001b[0;34m\u001b[0m\u001b[0m\n\u001b[1;32m    175\u001b[0m \u001b[0;34m\u001b[0m\u001b[0m\n\u001b[0;32m--> 176\u001b[0;31m         \u001b[0mx_start_pred\u001b[0m \u001b[0;34m=\u001b[0m \u001b[0mself\u001b[0m\u001b[0;34m.\u001b[0m\u001b[0mmodel\u001b[0m\u001b[0;34m(\u001b[0m\u001b[0mx\u001b[0m\u001b[0;34m,\u001b[0m \u001b[0mt\u001b[0m\u001b[0;34m.\u001b[0m\u001b[0mlong\u001b[0m\u001b[0;34m(\u001b[0m\u001b[0;34m)\u001b[0m\u001b[0;34m,\u001b[0m \u001b[0mcondition\u001b[0m\u001b[0;34m)\u001b[0m\u001b[0;34m\u001b[0m\u001b[0;34m\u001b[0m\u001b[0m\n\u001b[0m\u001b[1;32m    177\u001b[0m \u001b[0;34m\u001b[0m\u001b[0m\n\u001b[1;32m    178\u001b[0m         \u001b[0mcoeff1\u001b[0m \u001b[0;34m=\u001b[0m \u001b[0mtorch\u001b[0m\u001b[0;34m.\u001b[0m\u001b[0msqrt\u001b[0m\u001b[0;34m(\u001b[0m\u001b[0malpha_bar_t_next\u001b[0m\u001b[0;34m)\u001b[0m \u001b[0;34m*\u001b[0m \u001b[0mbeta_t\u001b[0m \u001b[0;34m/\u001b[0m \u001b[0;34m(\u001b[0m\u001b[0;36m1\u001b[0m \u001b[0;34m-\u001b[0m \u001b[0malpha_bar_t\u001b[0m\u001b[0;34m)\u001b[0m\u001b[0;34m\u001b[0m\u001b[0;34m\u001b[0m\u001b[0m\n",
            "\u001b[0;32m/usr/local/lib/python3.11/dist-packages/torch/nn/modules/module.py\u001b[0m in \u001b[0;36m_wrapped_call_impl\u001b[0;34m(self, *args, **kwargs)\u001b[0m\n\u001b[1;32m   1737\u001b[0m             \u001b[0;32mreturn\u001b[0m \u001b[0mself\u001b[0m\u001b[0;34m.\u001b[0m\u001b[0m_compiled_call_impl\u001b[0m\u001b[0;34m(\u001b[0m\u001b[0;34m*\u001b[0m\u001b[0margs\u001b[0m\u001b[0;34m,\u001b[0m \u001b[0;34m**\u001b[0m\u001b[0mkwargs\u001b[0m\u001b[0;34m)\u001b[0m  \u001b[0;31m# type: ignore[misc]\u001b[0m\u001b[0;34m\u001b[0m\u001b[0;34m\u001b[0m\u001b[0m\n\u001b[1;32m   1738\u001b[0m         \u001b[0;32melse\u001b[0m\u001b[0;34m:\u001b[0m\u001b[0;34m\u001b[0m\u001b[0;34m\u001b[0m\u001b[0m\n\u001b[0;32m-> 1739\u001b[0;31m             \u001b[0;32mreturn\u001b[0m \u001b[0mself\u001b[0m\u001b[0;34m.\u001b[0m\u001b[0m_call_impl\u001b[0m\u001b[0;34m(\u001b[0m\u001b[0;34m*\u001b[0m\u001b[0margs\u001b[0m\u001b[0;34m,\u001b[0m \u001b[0;34m**\u001b[0m\u001b[0mkwargs\u001b[0m\u001b[0;34m)\u001b[0m\u001b[0;34m\u001b[0m\u001b[0;34m\u001b[0m\u001b[0m\n\u001b[0m\u001b[1;32m   1740\u001b[0m \u001b[0;34m\u001b[0m\u001b[0m\n\u001b[1;32m   1741\u001b[0m     \u001b[0;31m# torchrec tests the code consistency with the following code\u001b[0m\u001b[0;34m\u001b[0m\u001b[0;34m\u001b[0m\u001b[0m\n",
            "\u001b[0;32m/usr/local/lib/python3.11/dist-packages/torch/nn/modules/module.py\u001b[0m in \u001b[0;36m_call_impl\u001b[0;34m(self, *args, **kwargs)\u001b[0m\n\u001b[1;32m   1748\u001b[0m                 \u001b[0;32mor\u001b[0m \u001b[0m_global_backward_pre_hooks\u001b[0m \u001b[0;32mor\u001b[0m \u001b[0m_global_backward_hooks\u001b[0m\u001b[0;34m\u001b[0m\u001b[0;34m\u001b[0m\u001b[0m\n\u001b[1;32m   1749\u001b[0m                 or _global_forward_hooks or _global_forward_pre_hooks):\n\u001b[0;32m-> 1750\u001b[0;31m             \u001b[0;32mreturn\u001b[0m \u001b[0mforward_call\u001b[0m\u001b[0;34m(\u001b[0m\u001b[0;34m*\u001b[0m\u001b[0margs\u001b[0m\u001b[0;34m,\u001b[0m \u001b[0;34m**\u001b[0m\u001b[0mkwargs\u001b[0m\u001b[0;34m)\u001b[0m\u001b[0;34m\u001b[0m\u001b[0;34m\u001b[0m\u001b[0m\n\u001b[0m\u001b[1;32m   1751\u001b[0m \u001b[0;34m\u001b[0m\u001b[0m\n\u001b[1;32m   1752\u001b[0m         \u001b[0mresult\u001b[0m \u001b[0;34m=\u001b[0m \u001b[0;32mNone\u001b[0m\u001b[0;34m\u001b[0m\u001b[0;34m\u001b[0m\u001b[0m\n",
            "\u001b[0;32m<ipython-input-42-78308c2e4d34>\u001b[0m in \u001b[0;36mforward\u001b[0;34m(self, x_t, t, condition)\u001b[0m\n\u001b[1;32m    111\u001b[0m \u001b[0;34m\u001b[0m\u001b[0m\n\u001b[1;32m    112\u001b[0m         \u001b[0mx\u001b[0m \u001b[0;34m=\u001b[0m \u001b[0mx_t\u001b[0m \u001b[0;34m+\u001b[0m \u001b[0mpos_emb\u001b[0m \u001b[0;34m+\u001b[0m \u001b[0mtime_emb\u001b[0m \u001b[0;34m+\u001b[0m \u001b[0mcondition\u001b[0m\u001b[0;34m\u001b[0m\u001b[0;34m\u001b[0m\u001b[0m\n\u001b[0;32m--> 113\u001b[0;31m         \u001b[0;32mreturn\u001b[0m \u001b[0mself\u001b[0m\u001b[0;34m.\u001b[0m\u001b[0mencoder\u001b[0m\u001b[0;34m(\u001b[0m\u001b[0mx\u001b[0m\u001b[0;34m)\u001b[0m\u001b[0;34m\u001b[0m\u001b[0;34m\u001b[0m\u001b[0m\n\u001b[0m\u001b[1;32m    114\u001b[0m \u001b[0;34m\u001b[0m\u001b[0m\n\u001b[1;32m    115\u001b[0m \u001b[0;34m\u001b[0m\u001b[0m\n",
            "\u001b[0;32m/usr/local/lib/python3.11/dist-packages/torch/nn/modules/module.py\u001b[0m in \u001b[0;36m_wrapped_call_impl\u001b[0;34m(self, *args, **kwargs)\u001b[0m\n\u001b[1;32m   1737\u001b[0m             \u001b[0;32mreturn\u001b[0m \u001b[0mself\u001b[0m\u001b[0;34m.\u001b[0m\u001b[0m_compiled_call_impl\u001b[0m\u001b[0;34m(\u001b[0m\u001b[0;34m*\u001b[0m\u001b[0margs\u001b[0m\u001b[0;34m,\u001b[0m \u001b[0;34m**\u001b[0m\u001b[0mkwargs\u001b[0m\u001b[0;34m)\u001b[0m  \u001b[0;31m# type: ignore[misc]\u001b[0m\u001b[0;34m\u001b[0m\u001b[0;34m\u001b[0m\u001b[0m\n\u001b[1;32m   1738\u001b[0m         \u001b[0;32melse\u001b[0m\u001b[0;34m:\u001b[0m\u001b[0;34m\u001b[0m\u001b[0;34m\u001b[0m\u001b[0m\n\u001b[0;32m-> 1739\u001b[0;31m             \u001b[0;32mreturn\u001b[0m \u001b[0mself\u001b[0m\u001b[0;34m.\u001b[0m\u001b[0m_call_impl\u001b[0m\u001b[0;34m(\u001b[0m\u001b[0;34m*\u001b[0m\u001b[0margs\u001b[0m\u001b[0;34m,\u001b[0m \u001b[0;34m**\u001b[0m\u001b[0mkwargs\u001b[0m\u001b[0;34m)\u001b[0m\u001b[0;34m\u001b[0m\u001b[0;34m\u001b[0m\u001b[0m\n\u001b[0m\u001b[1;32m   1740\u001b[0m \u001b[0;34m\u001b[0m\u001b[0m\n\u001b[1;32m   1741\u001b[0m     \u001b[0;31m# torchrec tests the code consistency with the following code\u001b[0m\u001b[0;34m\u001b[0m\u001b[0;34m\u001b[0m\u001b[0m\n",
            "\u001b[0;32m/usr/local/lib/python3.11/dist-packages/torch/nn/modules/module.py\u001b[0m in \u001b[0;36m_call_impl\u001b[0;34m(self, *args, **kwargs)\u001b[0m\n\u001b[1;32m   1748\u001b[0m                 \u001b[0;32mor\u001b[0m \u001b[0m_global_backward_pre_hooks\u001b[0m \u001b[0;32mor\u001b[0m \u001b[0m_global_backward_hooks\u001b[0m\u001b[0;34m\u001b[0m\u001b[0;34m\u001b[0m\u001b[0m\n\u001b[1;32m   1749\u001b[0m                 or _global_forward_hooks or _global_forward_pre_hooks):\n\u001b[0;32m-> 1750\u001b[0;31m             \u001b[0;32mreturn\u001b[0m \u001b[0mforward_call\u001b[0m\u001b[0;34m(\u001b[0m\u001b[0;34m*\u001b[0m\u001b[0margs\u001b[0m\u001b[0;34m,\u001b[0m \u001b[0;34m**\u001b[0m\u001b[0mkwargs\u001b[0m\u001b[0;34m)\u001b[0m\u001b[0;34m\u001b[0m\u001b[0;34m\u001b[0m\u001b[0m\n\u001b[0m\u001b[1;32m   1751\u001b[0m \u001b[0;34m\u001b[0m\u001b[0m\n\u001b[1;32m   1752\u001b[0m         \u001b[0mresult\u001b[0m \u001b[0;34m=\u001b[0m \u001b[0;32mNone\u001b[0m\u001b[0;34m\u001b[0m\u001b[0;34m\u001b[0m\u001b[0m\n",
            "\u001b[0;32m/usr/local/lib/python3.11/dist-packages/torch/nn/modules/transformer.py\u001b[0m in \u001b[0;36mforward\u001b[0;34m(self, src, mask, src_key_padding_mask, is_causal)\u001b[0m\n\u001b[1;32m    515\u001b[0m \u001b[0;34m\u001b[0m\u001b[0m\n\u001b[1;32m    516\u001b[0m         \u001b[0;32mfor\u001b[0m \u001b[0mmod\u001b[0m \u001b[0;32min\u001b[0m \u001b[0mself\u001b[0m\u001b[0;34m.\u001b[0m\u001b[0mlayers\u001b[0m\u001b[0;34m:\u001b[0m\u001b[0;34m\u001b[0m\u001b[0;34m\u001b[0m\u001b[0m\n\u001b[0;32m--> 517\u001b[0;31m             output = mod(\n\u001b[0m\u001b[1;32m    518\u001b[0m                 \u001b[0moutput\u001b[0m\u001b[0;34m,\u001b[0m\u001b[0;34m\u001b[0m\u001b[0;34m\u001b[0m\u001b[0m\n\u001b[1;32m    519\u001b[0m                 \u001b[0msrc_mask\u001b[0m\u001b[0;34m=\u001b[0m\u001b[0mmask\u001b[0m\u001b[0;34m,\u001b[0m\u001b[0;34m\u001b[0m\u001b[0;34m\u001b[0m\u001b[0m\n",
            "\u001b[0;32m/usr/local/lib/python3.11/dist-packages/torch/nn/modules/module.py\u001b[0m in \u001b[0;36m_wrapped_call_impl\u001b[0;34m(self, *args, **kwargs)\u001b[0m\n\u001b[1;32m   1737\u001b[0m             \u001b[0;32mreturn\u001b[0m \u001b[0mself\u001b[0m\u001b[0;34m.\u001b[0m\u001b[0m_compiled_call_impl\u001b[0m\u001b[0;34m(\u001b[0m\u001b[0;34m*\u001b[0m\u001b[0margs\u001b[0m\u001b[0;34m,\u001b[0m \u001b[0;34m**\u001b[0m\u001b[0mkwargs\u001b[0m\u001b[0;34m)\u001b[0m  \u001b[0;31m# type: ignore[misc]\u001b[0m\u001b[0;34m\u001b[0m\u001b[0;34m\u001b[0m\u001b[0m\n\u001b[1;32m   1738\u001b[0m         \u001b[0;32melse\u001b[0m\u001b[0;34m:\u001b[0m\u001b[0;34m\u001b[0m\u001b[0;34m\u001b[0m\u001b[0m\n\u001b[0;32m-> 1739\u001b[0;31m             \u001b[0;32mreturn\u001b[0m \u001b[0mself\u001b[0m\u001b[0;34m.\u001b[0m\u001b[0m_call_impl\u001b[0m\u001b[0;34m(\u001b[0m\u001b[0;34m*\u001b[0m\u001b[0margs\u001b[0m\u001b[0;34m,\u001b[0m \u001b[0;34m**\u001b[0m\u001b[0mkwargs\u001b[0m\u001b[0;34m)\u001b[0m\u001b[0;34m\u001b[0m\u001b[0;34m\u001b[0m\u001b[0m\n\u001b[0m\u001b[1;32m   1740\u001b[0m \u001b[0;34m\u001b[0m\u001b[0m\n\u001b[1;32m   1741\u001b[0m     \u001b[0;31m# torchrec tests the code consistency with the following code\u001b[0m\u001b[0;34m\u001b[0m\u001b[0;34m\u001b[0m\u001b[0m\n",
            "\u001b[0;32m/usr/local/lib/python3.11/dist-packages/torch/nn/modules/module.py\u001b[0m in \u001b[0;36m_call_impl\u001b[0;34m(self, *args, **kwargs)\u001b[0m\n\u001b[1;32m   1748\u001b[0m                 \u001b[0;32mor\u001b[0m \u001b[0m_global_backward_pre_hooks\u001b[0m \u001b[0;32mor\u001b[0m \u001b[0m_global_backward_hooks\u001b[0m\u001b[0;34m\u001b[0m\u001b[0;34m\u001b[0m\u001b[0m\n\u001b[1;32m   1749\u001b[0m                 or _global_forward_hooks or _global_forward_pre_hooks):\n\u001b[0;32m-> 1750\u001b[0;31m             \u001b[0;32mreturn\u001b[0m \u001b[0mforward_call\u001b[0m\u001b[0;34m(\u001b[0m\u001b[0;34m*\u001b[0m\u001b[0margs\u001b[0m\u001b[0;34m,\u001b[0m \u001b[0;34m**\u001b[0m\u001b[0mkwargs\u001b[0m\u001b[0;34m)\u001b[0m\u001b[0;34m\u001b[0m\u001b[0;34m\u001b[0m\u001b[0m\n\u001b[0m\u001b[1;32m   1751\u001b[0m \u001b[0;34m\u001b[0m\u001b[0m\n\u001b[1;32m   1752\u001b[0m         \u001b[0mresult\u001b[0m \u001b[0;34m=\u001b[0m \u001b[0;32mNone\u001b[0m\u001b[0;34m\u001b[0m\u001b[0;34m\u001b[0m\u001b[0m\n",
            "\u001b[0;32m/usr/local/lib/python3.11/dist-packages/torch/nn/modules/transformer.py\u001b[0m in \u001b[0;36mforward\u001b[0;34m(self, src, src_mask, src_key_padding_mask, is_causal)\u001b[0m\n\u001b[1;32m    866\u001b[0m                 \u001b[0mtorch\u001b[0m\u001b[0;34m.\u001b[0m\u001b[0mutils\u001b[0m\u001b[0;34m.\u001b[0m\u001b[0mbackend_registration\u001b[0m\u001b[0;34m.\u001b[0m\u001b[0m_privateuse1_backend_name\u001b[0m\u001b[0;34m,\u001b[0m\u001b[0;34m\u001b[0m\u001b[0;34m\u001b[0m\u001b[0m\n\u001b[1;32m    867\u001b[0m             ]\n\u001b[0;32m--> 868\u001b[0;31m             \u001b[0;32mif\u001b[0m \u001b[0mtorch\u001b[0m\u001b[0;34m.\u001b[0m\u001b[0moverrides\u001b[0m\u001b[0;34m.\u001b[0m\u001b[0mhas_torch_function\u001b[0m\u001b[0;34m(\u001b[0m\u001b[0mtensor_args\u001b[0m\u001b[0;34m)\u001b[0m\u001b[0;34m:\u001b[0m\u001b[0;34m\u001b[0m\u001b[0;34m\u001b[0m\u001b[0m\n\u001b[0m\u001b[1;32m    869\u001b[0m                 \u001b[0mwhy_not_sparsity_fast_path\u001b[0m \u001b[0;34m=\u001b[0m \u001b[0;34m\"some Tensor argument has_torch_function\"\u001b[0m\u001b[0;34m\u001b[0m\u001b[0;34m\u001b[0m\u001b[0m\n\u001b[1;32m    870\u001b[0m             elif not all(\n",
            "\u001b[0;31mKeyboardInterrupt\u001b[0m: "
          ]
        }
      ],
      "source": [
        "pconfig = PointNetConfig(\n",
        "    embeddingSize=n_embd,\n",
        "    numberofPoints=250,\n",
        "    numberofVars=1,\n",
        "    numberofYs=1,\n",
        ")\n",
        "model = SymbolicGaussianDiffusion(\n",
        "    tnet_config=pconfig,\n",
        "    vocab_size=train_dataset.vocab_size,\n",
        "    max_seq_len=32,\n",
        "    padding_idx=test_dataset.paddingID,\n",
        "    max_num_vars=9,\n",
        "    n_layer=4,\n",
        "    n_head=4,\n",
        "    n_embd=n_embd,\n",
        "    timesteps=timesteps,\n",
        "    beta_start=0.0001,\n",
        "    beta_end=0.02,\n",
        ").to(device)\n",
        "\n",
        "\n",
        "print(train_dataset.itos)\n",
        "\n",
        "model_path = \"/content/drive/MyDrive/Colab Notebooks/STAT946_proj/models/best_model_115.pth\"\n",
        "model.load_state_dict(torch.load(model_path, map_location=device, weights_only=True))\n",
        "model.eval()\n",
        "\n",
        "print(\"Testing SymbolicDiffusion model...\")\n",
        "test_results = test_model(model, test_loader, textTest, train_dataset, device)\n",
        "\n",
        "print(\"\\nSummary:\")\n",
        "for i in range(len(test_results['target'])):\n",
        "    print(f\"Sample {i+1}:\")\n",
        "    print(f\"  Target: {test_results['target'][i]}\")\n",
        "    print(f\"  Predicted Skeleton: {test_results['predicted_skeleton'][i]}\")\n",
        "    print(f\"  Predicted: {test_results['predicted'][i]}\")\n",
        "    print(f\"  Error: {test_results['error'][i]:.6f}\")"
      ]
    }
  ],
  "metadata": {
    "accelerator": "GPU",
    "colab": {
      "gpuType": "T4",
      "provenance": [],
      "include_colab_link": true
    },
    "kernelspec": {
      "display_name": "Python 3",
      "name": "python3"
    },
    "language_info": {
      "name": "python",
      "version": "3.13.1"
    }
  },
  "nbformat": 4,
  "nbformat_minor": 5
}