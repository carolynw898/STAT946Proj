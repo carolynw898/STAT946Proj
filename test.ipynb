{
  "cells": [
    {
      "cell_type": "markdown",
      "metadata": {
        "id": "view-in-github",
        "colab_type": "text"
      },
      "source": [
        "<a href=\"https://colab.research.google.com/github/carolynw898/STAT946Proj/blob/main/test.ipynb\" target=\"_parent\"><img src=\"https://colab.research.google.com/assets/colab-badge.svg\" alt=\"Open In Colab\"/></a>"
      ]
    },
    {
      "cell_type": "code",
      "execution_count": null,
      "id": "3CmZzXN5ny5A",
      "metadata": {
        "colab": {
          "base_uri": "https://localhost:8080/"
        },
        "id": "3CmZzXN5ny5A",
        "outputId": "f70dc910-d3c9-465e-a446-ac98c7c13bfb"
      },
      "outputs": [
        {
          "name": "stdout",
          "output_type": "stream",
          "text": [
            "Mounted at /content/drive\n"
          ]
        }
      ],
      "source": [
        "from google.colab import drive\n",
        "drive.mount('/content/drive')"
      ]
    },
    {
      "cell_type": "code",
      "execution_count": 9,
      "id": "aee353d1",
      "metadata": {
        "id": "aee353d1"
      },
      "outputs": [],
      "source": [
        "import torch\n",
        "\n",
        "n_embd = 512\n",
        "timesteps = 1000\n",
        "batch_size = 1\n",
        "learning_rate = 1e-4\n",
        "num_epochs = 10\n",
        "blockSize = 32\n",
        "testBlockSize = 400\n",
        "numVars = 1\n",
        "numYs = 1\n",
        "numPoints = 250\n",
        "target = 'Skeleton'\n",
        "const_range = [-2.1, 2.1]\n",
        "trainRange = [-3.0, 3.0]\n",
        "decimals = 8\n",
        "addVars = False\n",
        "device = torch.device(\"cuda\" if torch.cuda.is_available() else \"cpu\")"
      ]
    },
    {
      "cell_type": "code",
      "execution_count": null,
      "id": "JvNAveGHCEae",
      "metadata": {
        "colab": {
          "base_uri": "https://localhost:8080/"
        },
        "id": "JvNAveGHCEae",
        "outputId": "2ddbbf61-8388-4066-905d-067fd57d476f"
      },
      "outputs": [
        {
          "name": "stdout",
          "output_type": "stream",
          "text": [
            "data has 498795 examples, 27 unique.\n",
            "id:447738\n",
            "outputs:C*log(C*x1)+C>_____________________\n",
            "variables:1\n"
          ]
        }
      ],
      "source": [
        "from torch.utils.data import DataLoader\n",
        "import numpy as np\n",
        "import glob\n",
        "from utils import processDataFiles, CharDataset, tokenize_equation\n",
        "import random\n",
        "import json\n",
        "\n",
        "files = glob.glob(\"/content/drive/MyDrive/Colab Notebooks/STAT946_proj/data/1_var_train.json\")\n",
        "text = processDataFiles(files)\n",
        "text = text.split('\\n') # convert the raw text to a set of examples\n",
        "# skeletons = []\n",
        "skeletons = [json.loads(item)['Skeleton'] for item in text if item.strip()]\n",
        "all_tokens = set()\n",
        "for eq in skeletons:\n",
        "    all_tokens.update(tokenize_equation(eq))\n",
        "integers = {'0', '1', '2', '3', '4', '5', '6', '7', '8', '9'}\n",
        "all_tokens.update(integers)  # add all integers to the token set\n",
        "tokens = sorted(list(all_tokens) + ['_', 'T', '<', '>', ':'])  # special tokens\n",
        "trainText = text[:-1] if len(text[-1]) == 0 else text\n",
        "random.shuffle(trainText) # shuffle the dataset, it's important specailly for the combined number of variables experiment\n",
        "train_dataset = CharDataset(trainText, blockSize, tokens=tokens, numVars=numVars,\n",
        "                        numYs=numYs, numPoints=numPoints, target=target, addVars=addVars,\n",
        "                        const_range=const_range, xRange=trainRange, decimals=decimals)\n",
        "\n",
        "idx = np.random.randint(train_dataset.__len__())\n",
        "inputs, outputs, points, variables = train_dataset.__getitem__(idx)\n",
        "inputs = ''.join([train_dataset.itos[int(i)] for i in inputs])\n",
        "outputs = ''.join([train_dataset.itos[int(i)] for i in outputs])\n",
        "print('id:{}\\noutputs:{}\\nvariables:{}'.format(idx,outputs,variables))"
      ]
    },
    {
      "cell_type": "code",
      "execution_count": 10,
      "id": "Xnj3g0a0_5R1",
      "metadata": {
        "colab": {
          "base_uri": "https://localhost:8080/"
        },
        "id": "Xnj3g0a0_5R1",
        "outputId": "b44b6f87-731c-4783-b207-42525397b9d8"
      },
      "outputs": [
        {
          "output_type": "stream",
          "name": "stdout",
          "text": [
            "data has 967 examples, 27 unique.\n",
            "tensor(-2.9196) tensor(2.9405)\n",
            "id:478\n",
            "outputs:C*log(C*log(C*x1+C))+C>______________\n",
            "variables:1\n"
          ]
        }
      ],
      "source": [
        "files = glob.glob(\"/content/drive/MyDrive/Colab Notebooks/STAT946_proj/data/1_var_test.json\")\n",
        "textTest = processDataFiles([files[0]])\n",
        "textTest = textTest.split('\\n') # convert the raw text to a set of examples\n",
        "test_dataset = CharDataset(textTest, blockSize, tokens=tokens, numVars=numVars,\n",
        "                        numYs=numYs, numPoints=numPoints, target=target, addVars=addVars,\n",
        "                        const_range=const_range, xRange=trainRange, decimals=decimals)\n",
        "\n",
        "# print a random sample\n",
        "idx = np.random.randint(test_dataset.__len__())\n",
        "inputs, outputs, points, variables = test_dataset.__getitem__(idx)\n",
        "print(points.min(), points.max())\n",
        "inputs = ''.join([train_dataset.itos[int(i)] for i in inputs])\n",
        "outputs = ''.join([train_dataset.itos[int(i)] for i in outputs])\n",
        "print('id:{}\\noutputs:{}\\nvariables:{}'.format(idx,outputs,variables))\n",
        "\n",
        "test_loader = DataLoader(\n",
        "        test_dataset,\n",
        "        batch_size=batch_size,\n",
        "        pin_memory=True,\n",
        "        shuffle=False,\n",
        "        num_workers=2\n",
        "    )"
      ]
    },
    {
      "cell_type": "code",
      "execution_count": 11,
      "id": "itNSUyzeNVgV",
      "metadata": {
        "id": "itNSUyzeNVgV"
      },
      "outputs": [],
      "source": [
        "import torch\n",
        "import json\n",
        "from tqdm import tqdm\n",
        "from utils import sample_and_select_best\n",
        "\n",
        "@torch.no_grad()\n",
        "def test_model(model, test_loader, textTest, train_dataset, device, ddim_step=20, numTests=10):\n",
        "    results = {\"target\": [], \"target_skeleton\": [], \"predicted_skeleton\": [], \"predicted\": [], \"error\": []}\n",
        "    for batch_idx, (_, tokens, points, variables) in tqdm(\n",
        "        enumerate(test_loader),\n",
        "        total=len(test_loader),\n",
        "        desc=\"Processing Test Batches\",\n",
        "        unit=\"batch\"\n",
        "    ):\n",
        "        points = points.to(device)\n",
        "        tokens = tokens.to(device)\n",
        "        variables = variables.to(device)\n",
        "        B = points.shape[0]\n",
        "        print(f'points.shape: {points.shape}')\n",
        "\n",
        "        for i in tqdm(\n",
        "            range(B),\n",
        "            total=B,\n",
        "            desc=f\"Batch {batch_idx+1}/{len(test_loader)} Samples\",\n",
        "            unit=\"sample\",\n",
        "            leave=False\n",
        "        ):\n",
        "            t = json.loads(textTest[batch_idx * test_loader.batch_size + i])\n",
        "            eq = t[\"EQ\"]\n",
        "\n",
        "            eq_skeleton = ''.join([train_dataset.itos[int(k)] for k in tokens[i]])\n",
        "            eq_skeleton = eq_skeleton.strip(train_dataset.paddingToken).split('>')[0].strip('<').strip(\">\")\n",
        "\n",
        "            points_i = points[i:i+1]\n",
        "            variables_i = variables[i:i+1]\n",
        "            predicted_skeleton, predicted, err = sample_and_select_best(\n",
        "                model, points_i, variables_i, train_dataset, eq, t, numTests, ddim_step\n",
        "            )\n",
        "\n",
        "            #print(f'eq: {eq}')\n",
        "            #print(f'eq_skeleton: {eq_skeleton}')\n",
        "            #print(f'predicted_skeleton: {predicted_skeleton}')\n",
        "            #print(f'predicted: {predicted}')\n",
        "            #print(f'err: {err}\\n')\n",
        "\n",
        "            results[\"target\"].append(eq)\n",
        "            results[\"target_skeleton\"].append(eq_skeleton)\n",
        "            results[\"predicted_skeleton\"].append(predicted_skeleton)\n",
        "            results[\"predicted\"].append(predicted)\n",
        "            results[\"error\"].append(err)\n",
        "\n",
        "    return results"
      ]
    },
    {
      "cell_type": "code",
      "execution_count": 12,
      "id": "a8306e68",
      "metadata": {
        "id": "a8306e68"
      },
      "outputs": [],
      "source": [
        "from utils import plot_and_save_results\n",
        "\n",
        "def run_and_plot(model, fName, test_loader, textTest, train_dataset, device, pconf=None, ddim_step=20, numTests=10):\n",
        "    \"\"\"Run test_model and plot results using utility functions.\n",
        "    Args:\n",
        "        model: SymbolicGaussianDiffusion model\n",
        "        test_loader: DataLoader for test data\n",
        "        textTest: list of test data\n",
        "        train_dataset: dataset with itos mapping\n",
        "        device: torch device\n",
        "        pconf: PointNetConfig object\n",
        "    \"\"\"\n",
        "    results = test_model(model, test_loader, textTest, train_dataset, device, ddim_step, numTests)\n",
        "\n",
        "    modelKey = 'SymbolicDiffusion'\n",
        "    resultDict = {\n",
        "        fName: {\n",
        "            modelKey: {\n",
        "                'err': results['error'],\n",
        "                'trg': results['target'],\n",
        "                'prd': results['predicted']\n",
        "            }\n",
        "        }\n",
        "    }\n",
        "\n",
        "    titleTemplate = \"{} equations of {} variables - Benchmark\"\n",
        "    plot_and_save_results(resultDict, fName, pconf, titleTemplate, textTest, modelKey=modelKey)"
      ]
    },
    {
      "cell_type": "code",
      "execution_count": 14,
      "id": "e676e953",
      "metadata": {
        "colab": {
          "base_uri": "https://localhost:8080/",
          "height": 1000
        },
        "id": "e676e953",
        "outputId": "e6dd5680-f0ce-41f6-a674-ea985d44e288"
      },
      "outputs": [
        {
          "output_type": "error",
          "ename": "RuntimeError",
          "evalue": "Error(s) in loading state_dict for SymbolicGaussianDiffusion:\n\tsize mismatch for tnet.enc.0.I: copying a param with shape torch.Size([1, 250, 128]) from checkpoint, the shape in current model is torch.Size([1, 250, 512]).\n\tsize mismatch for tnet.enc.0.mab0.fc_q.weight: copying a param with shape torch.Size([128, 128]) from checkpoint, the shape in current model is torch.Size([512, 512]).\n\tsize mismatch for tnet.enc.0.mab0.fc_q.bias: copying a param with shape torch.Size([128]) from checkpoint, the shape in current model is torch.Size([512]).\n\tsize mismatch for tnet.enc.0.mab0.fc_k.weight: copying a param with shape torch.Size([128, 2]) from checkpoint, the shape in current model is torch.Size([512, 2]).\n\tsize mismatch for tnet.enc.0.mab0.fc_k.bias: copying a param with shape torch.Size([128]) from checkpoint, the shape in current model is torch.Size([512]).\n\tsize mismatch for tnet.enc.0.mab0.fc_v.weight: copying a param with shape torch.Size([128, 2]) from checkpoint, the shape in current model is torch.Size([512, 2]).\n\tsize mismatch for tnet.enc.0.mab0.fc_v.bias: copying a param with shape torch.Size([128]) from checkpoint, the shape in current model is torch.Size([512]).\n\tsize mismatch for tnet.enc.0.mab0.fc_o.weight: copying a param with shape torch.Size([128, 128]) from checkpoint, the shape in current model is torch.Size([512, 512]).\n\tsize mismatch for tnet.enc.0.mab0.fc_o.bias: copying a param with shape torch.Size([128]) from checkpoint, the shape in current model is torch.Size([512]).\n\tsize mismatch for tnet.enc.0.mab1.fc_q.weight: copying a param with shape torch.Size([128, 2]) from checkpoint, the shape in current model is torch.Size([512, 2]).\n\tsize mismatch for tnet.enc.0.mab1.fc_q.bias: copying a param with shape torch.Size([128]) from checkpoint, the shape in current model is torch.Size([512]).\n\tsize mismatch for tnet.enc.0.mab1.fc_k.weight: copying a param with shape torch.Size([128, 128]) from checkpoint, the shape in current model is torch.Size([512, 512]).\n\tsize mismatch for tnet.enc.0.mab1.fc_k.bias: copying a param with shape torch.Size([128]) from checkpoint, the shape in current model is torch.Size([512]).\n\tsize mismatch for tnet.enc.0.mab1.fc_v.weight: copying a param with shape torch.Size([128, 128]) from checkpoint, the shape in current model is torch.Size([512, 512]).\n\tsize mismatch for tnet.enc.0.mab1.fc_v.bias: copying a param with shape torch.Size([128]) from checkpoint, the shape in current model is torch.Size([512]).\n\tsize mismatch for tnet.enc.0.mab1.fc_o.weight: copying a param with shape torch.Size([128, 128]) from checkpoint, the shape in current model is torch.Size([512, 512]).\n\tsize mismatch for tnet.enc.0.mab1.fc_o.bias: copying a param with shape torch.Size([128]) from checkpoint, the shape in current model is torch.Size([512]).\n\tsize mismatch for tnet.enc.1.I: copying a param with shape torch.Size([1, 250, 128]) from checkpoint, the shape in current model is torch.Size([1, 250, 512]).\n\tsize mismatch for tnet.enc.1.mab0.fc_q.weight: copying a param with shape torch.Size([128, 128]) from checkpoint, the shape in current model is torch.Size([512, 512]).\n\tsize mismatch for tnet.enc.1.mab0.fc_q.bias: copying a param with shape torch.Size([128]) from checkpoint, the shape in current model is torch.Size([512]).\n\tsize mismatch for tnet.enc.1.mab0.fc_k.weight: copying a param with shape torch.Size([128, 128]) from checkpoint, the shape in current model is torch.Size([512, 512]).\n\tsize mismatch for tnet.enc.1.mab0.fc_k.bias: copying a param with shape torch.Size([128]) from checkpoint, the shape in current model is torch.Size([512]).\n\tsize mismatch for tnet.enc.1.mab0.fc_v.weight: copying a param with shape torch.Size([128, 128]) from checkpoint, the shape in current model is torch.Size([512, 512]).\n\tsize mismatch for tnet.enc.1.mab0.fc_v.bias: copying a param with shape torch.Size([128]) from checkpoint, the shape in current model is torch.Size([512]).\n\tsize mismatch for tnet.enc.1.mab0.fc_o.weight: copying a param with shape torch.Size([128, 128]) from checkpoint, the shape in current model is torch.Size([512, 512]).\n\tsize mismatch for tnet.enc.1.mab0.fc_o.bias: copying a param with shape torch.Size([128]) from checkpoint, the shape in current model is torch.Size([512]).\n\tsize mismatch for tnet.enc.1.mab1.fc_q.weight: copying a param with shape torch.Size([128, 128]) from checkpoint, the shape in current model is torch.Size([512, 512]).\n\tsize mismatch for tnet.enc.1.mab1.fc_q.bias: copying a param with shape torch.Size([128]) from checkpoint, the shape in current model is torch.Size([512]).\n\tsize mismatch for tnet.enc.1.mab1.fc_k.weight: copying a param with shape torch.Size([128, 128]) from checkpoint, the shape in current model is torch.Size([512, 512]).\n\tsize mismatch for tnet.enc.1.mab1.fc_k.bias: copying a param with shape torch.Size([128]) from checkpoint, the shape in current model is torch.Size([512]).\n\tsize mismatch for tnet.enc.1.mab1.fc_v.weight: copying a param with shape torch.Size([128, 128]) from checkpoint, the shape in current model is torch.Size([512, 512]).\n\tsize mismatch for tnet.enc.1.mab1.fc_v.bias: copying a param with shape torch.Size([128]) from checkpoint, the shape in current model is torch.Size([512]).\n\tsize mismatch for tnet.enc.1.mab1.fc_o.weight: copying a param with shape torch.Size([128, 128]) from checkpoint, the shape in current model is torch.Size([512, 512]).\n\tsize mismatch for tnet.enc.1.mab1.fc_o.bias: copying a param with shape torch.Size([128]) from checkpoint, the shape in current model is torch.Size([512]).\n\tsize mismatch for tnet.dec.0.S: copying a param with shape torch.Size([1, 1, 128]) from checkpoint, the shape in current model is torch.Size([1, 1, 512]).\n\tsize mismatch for tnet.dec.0.mab.fc_q.weight: copying a param with shape torch.Size([128, 128]) from checkpoint, the shape in current model is torch.Size([512, 512]).\n\tsize mismatch for tnet.dec.0.mab.fc_q.bias: copying a param with shape torch.Size([128]) from checkpoint, the shape in current model is torch.Size([512]).\n\tsize mismatch for tnet.dec.0.mab.fc_k.weight: copying a param with shape torch.Size([128, 128]) from checkpoint, the shape in current model is torch.Size([512, 512]).\n\tsize mismatch for tnet.dec.0.mab.fc_k.bias: copying a param with shape torch.Size([128]) from checkpoint, the shape in current model is torch.Size([512]).\n\tsize mismatch for tnet.dec.0.mab.fc_v.weight: copying a param with shape torch.Size([128, 128]) from checkpoint, the shape in current model is torch.Size([512, 512]).\n\tsize mismatch for tnet.dec.0.mab.fc_v.bias: copying a param with shape torch.Size([128]) from checkpoint, the shape in current model is torch.Size([512]).\n\tsize mismatch for tnet.dec.0.mab.fc_o.weight: copying a param with shape torch.Size([128, 128]) from checkpoint, the shape in current model is torch.Size([512, 512]).\n\tsize mismatch for tnet.dec.0.mab.fc_o.bias: copying a param with shape torch.Size([128]) from checkpoint, the shape in current model is torch.Size([512]).\n\tsize mismatch for tnet.dec.1.mab.fc_q.weight: copying a param with shape torch.Size([128, 128]) from checkpoint, the shape in current model is torch.Size([512, 512]).\n\tsize mismatch for tnet.dec.1.mab.fc_q.bias: copying a param with shape torch.Size([128]) from checkpoint, the shape in current model is torch.Size([512]).\n\tsize mismatch for tnet.dec.1.mab.fc_k.weight: copying a param with shape torch.Size([128, 128]) from checkpoint, the shape in current model is torch.Size([512, 512]).\n\tsize mismatch for tnet.dec.1.mab.fc_k.bias: copying a param with shape torch.Size([128]) from checkpoint, the shape in current model is torch.Size([512]).\n\tsize mismatch for tnet.dec.1.mab.fc_v.weight: copying a param with shape torch.Size([128, 128]) from checkpoint, the shape in current model is torch.Size([512, 512]).\n\tsize mismatch for tnet.dec.1.mab.fc_v.bias: copying a param with shape torch.Size([128]) from checkpoint, the shape in current model is torch.Size([512]).\n\tsize mismatch for tnet.dec.1.mab.fc_o.weight: copying a param with shape torch.Size([128, 128]) from checkpoint, the shape in current model is torch.Size([512, 512]).\n\tsize mismatch for tnet.dec.1.mab.fc_o.bias: copying a param with shape torch.Size([128]) from checkpoint, the shape in current model is torch.Size([512]).\n\tsize mismatch for tnet.dec.2.mab.fc_q.weight: copying a param with shape torch.Size([128, 128]) from checkpoint, the shape in current model is torch.Size([512, 512]).\n\tsize mismatch for tnet.dec.2.mab.fc_q.bias: copying a param with shape torch.Size([128]) from checkpoint, the shape in current model is torch.Size([512]).\n\tsize mismatch for tnet.dec.2.mab.fc_k.weight: copying a param with shape torch.Size([128, 128]) from checkpoint, the shape in current model is torch.Size([512, 512]).\n\tsize mismatch for tnet.dec.2.mab.fc_k.bias: copying a param with shape torch.Size([128]) from checkpoint, the shape in current model is torch.Size([512]).\n\tsize mismatch for tnet.dec.2.mab.fc_v.weight: copying a param with shape torch.Size([128, 128]) from checkpoint, the shape in current model is torch.Size([512, 512]).\n\tsize mismatch for tnet.dec.2.mab.fc_v.bias: copying a param with shape torch.Size([128]) from checkpoint, the shape in current model is torch.Size([512]).\n\tsize mismatch for tnet.dec.2.mab.fc_o.weight: copying a param with shape torch.Size([128, 128]) from checkpoint, the shape in current model is torch.Size([512, 512]).\n\tsize mismatch for tnet.dec.2.mab.fc_o.bias: copying a param with shape torch.Size([128]) from checkpoint, the shape in current model is torch.Size([512]).\n\tsize mismatch for tnet.dec.3.weight: copying a param with shape torch.Size([512, 128]) from checkpoint, the shape in current model is torch.Size([512, 512]).",
          "traceback": [
            "\u001b[0;31m---------------------------------------------------------------------------\u001b[0m",
            "\u001b[0;31mRuntimeError\u001b[0m                              Traceback (most recent call last)",
            "\u001b[0;32m<ipython-input-14-b441dbb8125a>\u001b[0m in \u001b[0;36m<cell line: 0>\u001b[0;34m()\u001b[0m\n\u001b[1;32m     23\u001b[0m \u001b[0;34m\u001b[0m\u001b[0m\n\u001b[1;32m     24\u001b[0m \u001b[0mmodel_path\u001b[0m \u001b[0;34m=\u001b[0m \u001b[0;34m\"/content/drive/MyDrive/Colab Notebooks/STAT946_proj/models/1Var_set_transformer_best_model.pth\"\u001b[0m\u001b[0;34m\u001b[0m\u001b[0;34m\u001b[0m\u001b[0m\n\u001b[0;32m---> 25\u001b[0;31m \u001b[0mmodel\u001b[0m\u001b[0;34m.\u001b[0m\u001b[0mload_state_dict\u001b[0m\u001b[0;34m(\u001b[0m\u001b[0mtorch\u001b[0m\u001b[0;34m.\u001b[0m\u001b[0mload\u001b[0m\u001b[0;34m(\u001b[0m\u001b[0mmodel_path\u001b[0m\u001b[0;34m,\u001b[0m \u001b[0mmap_location\u001b[0m\u001b[0;34m=\u001b[0m\u001b[0mdevice\u001b[0m\u001b[0;34m,\u001b[0m \u001b[0mweights_only\u001b[0m\u001b[0;34m=\u001b[0m\u001b[0;32mTrue\u001b[0m\u001b[0;34m)\u001b[0m\u001b[0;34m)\u001b[0m\u001b[0;34m\u001b[0m\u001b[0;34m\u001b[0m\u001b[0m\n\u001b[0m\u001b[1;32m     26\u001b[0m \u001b[0mmodel\u001b[0m\u001b[0;34m.\u001b[0m\u001b[0meval\u001b[0m\u001b[0;34m(\u001b[0m\u001b[0;34m)\u001b[0m\u001b[0;34m\u001b[0m\u001b[0;34m\u001b[0m\u001b[0m\n\u001b[1;32m     27\u001b[0m \u001b[0;34m\u001b[0m\u001b[0m\n",
            "\u001b[0;32m/usr/local/lib/python3.11/dist-packages/torch/nn/modules/module.py\u001b[0m in \u001b[0;36mload_state_dict\u001b[0;34m(self, state_dict, strict, assign)\u001b[0m\n\u001b[1;32m   2579\u001b[0m \u001b[0;34m\u001b[0m\u001b[0m\n\u001b[1;32m   2580\u001b[0m         \u001b[0;32mif\u001b[0m \u001b[0mlen\u001b[0m\u001b[0;34m(\u001b[0m\u001b[0merror_msgs\u001b[0m\u001b[0;34m)\u001b[0m \u001b[0;34m>\u001b[0m \u001b[0;36m0\u001b[0m\u001b[0;34m:\u001b[0m\u001b[0;34m\u001b[0m\u001b[0;34m\u001b[0m\u001b[0m\n\u001b[0;32m-> 2581\u001b[0;31m             raise RuntimeError(\n\u001b[0m\u001b[1;32m   2582\u001b[0m                 \"Error(s) in loading state_dict for {}:\\n\\t{}\".format(\n\u001b[1;32m   2583\u001b[0m                     \u001b[0mself\u001b[0m\u001b[0;34m.\u001b[0m\u001b[0m__class__\u001b[0m\u001b[0;34m.\u001b[0m\u001b[0m__name__\u001b[0m\u001b[0;34m,\u001b[0m \u001b[0;34m\"\\n\\t\"\u001b[0m\u001b[0;34m.\u001b[0m\u001b[0mjoin\u001b[0m\u001b[0;34m(\u001b[0m\u001b[0merror_msgs\u001b[0m\u001b[0;34m)\u001b[0m\u001b[0;34m\u001b[0m\u001b[0;34m\u001b[0m\u001b[0m\n",
            "\u001b[0;31mRuntimeError\u001b[0m: Error(s) in loading state_dict for SymbolicGaussianDiffusion:\n\tsize mismatch for tnet.enc.0.I: copying a param with shape torch.Size([1, 250, 128]) from checkpoint, the shape in current model is torch.Size([1, 250, 512]).\n\tsize mismatch for tnet.enc.0.mab0.fc_q.weight: copying a param with shape torch.Size([128, 128]) from checkpoint, the shape in current model is torch.Size([512, 512]).\n\tsize mismatch for tnet.enc.0.mab0.fc_q.bias: copying a param with shape torch.Size([128]) from checkpoint, the shape in current model is torch.Size([512]).\n\tsize mismatch for tnet.enc.0.mab0.fc_k.weight: copying a param with shape torch.Size([128, 2]) from checkpoint, the shape in current model is torch.Size([512, 2]).\n\tsize mismatch for tnet.enc.0.mab0.fc_k.bias: copying a param with shape torch.Size([128]) from checkpoint, the shape in current model is torch.Size([512]).\n\tsize mismatch for tnet.enc.0.mab0.fc_v.weight: copying a param with shape torch.Size([128, 2]) from checkpoint, the shape in current model is torch.Size([512, 2]).\n\tsize mismatch for tnet.enc.0.mab0.fc_v.bias: copying a param with shape torch.Size([128]) from checkpoint, the shape in current model is torch.Size([512]).\n\tsize mismatch for tnet.enc.0.mab0.fc_o.weight: copying a param with shape torch.Size([128, 128]) from checkpoint, the shape in current model is torch.Size([512, 512]).\n\tsize mismatch for tnet.enc.0.mab0.fc_o.bias: copying a param with shape torch.Size([128]) from checkpoint, the shape in current model is torch.Size([512]).\n\tsize mismatch for tnet.enc.0.mab1.fc_q.weight: copying a param with shape torch.Size([128, 2]) from checkpoint, the shape in current model is torch.Size([512, 2]).\n\tsize mismatch for tnet.enc.0.mab1.fc_q.bias: copying a param with shape torch.Size([128]) from checkpoint, the shape in current model is torch.Size([512]).\n\tsize mismatch for tnet.enc.0.mab1.fc_k.weight: copying a param with shape torch.Size([128, 128]) from checkpoint, the shape in current model is torch.Size([512, 512]).\n\tsize mismatch for tnet.enc.0.mab1.fc_k.bias: copying a param with shape torch.Size([128]) from checkpoint, the shape in current model is torch.Size([512]).\n\tsize mismatch for tnet.enc.0.mab1.fc_v.weight: copying a param with shape torch.Size([128, 128]) from checkpoint, the shape in current model is torch.Size([512, 512]).\n\tsize mismatch for tnet.enc.0.mab1.fc_v.bias: copying a param with shape torch.Size([128]) from checkpoint, the shape in current model is torch.Size([512]).\n\tsize mismatch for tnet.enc.0.mab1.fc_o.weight: copying a param with shape torch.Size([128, 128]) from checkpoint, the shape in current model is torch.Size([512, 512]).\n\tsize mismatch for tnet.enc.0.mab1.fc_o.bias: copying a param with shape torch.Size([128]) from checkpoint, the shape in current model is torch.Size([512]).\n\tsize mismatch for tnet.enc.1.I: copying a param with shape torch.Size([1, 250, 128]) from checkpoint, the shape in current model is torch.Size([1, 250, 512]).\n\tsize mismatch for tnet.enc.1.mab0.fc_q.weight: copying a param with shape torch.Size([128, 128]) from checkpoint, the shape in current model is torch.Size([512, 512]).\n\tsize mismatch for tnet.enc.1.mab0.fc_q.bias: copying a param with shape torch.Size([128]) from checkpoint, the shape in current model is torch.Size([512]).\n\tsize mismatch for tnet.enc.1.mab0.fc_k.weight: copying a param with shape torch.Size([128, 128]) from checkpoint, the shape in current model is torch.Size([512, 512]).\n\tsize mismatch for tnet.enc.1.mab0.fc_k.bias: copying a param with shape torch.Size([128]) from checkpoint, the shape in current model is torch.Size([512]).\n\tsize mismatch for tnet.enc.1.mab0.fc_v.weight: copying a param with shape torch.Size([128, 128]) from checkpoint, the shape in current model is torch.Size([512, 512]).\n\tsize mismatch for tnet.enc.1.mab0.fc_v.bias: copying a param with shape torch.Size([128]) from checkpoint, the shape in current model is torch.Size([512]).\n\tsize mismatch for tnet.enc.1.mab0.fc_o.weight: copying a param with shape torch.Size([128, 128]) from checkpoint, the shape in current model is torch.Size([512, 512]).\n\tsize mismatch for tnet.enc.1.mab0.fc_o.bias: copying a param with shape torch.Size([128]) from checkpoint, the shape in current model is torch.Size([512]).\n\tsize mismatch for tnet.enc.1.mab1.fc_q.weight: copying a param with shape torch.Size([128, 128]) from checkpoint, the shape in current model is torch.Size([512, 512]).\n\tsize mismatch for tnet.enc.1.mab1.fc_q.bias: copying a param with shape torch.Size([128]) from checkpoint, the shape in current model is torch.Size([512]).\n\tsize mismatch for tnet.enc.1.mab1.fc_k.weight: copying a param with shape torch.Size([128, 128]) from checkpoint, the shape in current model is torch.Size([512, 512]).\n\tsize mismatch for tnet.enc.1.mab1.fc_k.bias: copying a param with shape torch.Size([128]) from checkpoint, the shape in current model is torch.Size([512]).\n\tsize mismatch for tnet.enc.1.mab1.fc_v.weight: copying a param with shape torch.Size([128, 128]) from checkpoint, the shape in current model is torch.Size([512, 512]).\n\tsize mismatch for tnet.enc.1.mab1.fc_v.bias: copying a param with shape torch.Size([128]) from checkpoint, the shape in current model is torch.Size([512]).\n\tsize mismatch for tnet.enc.1.mab1.fc_o.weight: copying a param with shape torch.Size([128, 128]) from checkpoint, the shape in current model is torch.Size([512, 512]).\n\tsize mismatch for tnet.enc.1.mab1.fc_o.bias: copying a param with shape torch.Size([128]) from checkpoint, the shape in current model is torch.Size([512]).\n\tsize mismatch for tnet.dec.0.S: copying a param with shape torch.Size([1, 1, 128]) from checkpoint, the shape in current model is torch.Size([1, 1, 512]).\n\tsize mismatch for tnet.dec.0.mab.fc_q.weight: copying a param with shape torch.Size([128, 128]) from checkpoint, the shape in current model is torch.Size([512, 512]).\n\tsize mismatch for tnet.dec.0.mab.fc_q.bias: copying a param with shape torch.Size([128]) from checkpoint, the shape in current model is torch.Size([512]).\n\tsize mismatch for tnet.dec.0.mab.fc_k.weight: copying a param with shape torch.Size([128, 128]) from checkpoint, the shape in current model is torch.Size([512, 512]).\n\tsize mismatch for tnet.dec.0.mab.fc_k.bias: copying a param with shape torch.Size([128]) from checkpoint, the shape in current model is torch.Size([512]).\n\tsize mismatch for tnet.dec.0.mab.fc_v.weight: copying a param with shape torch.Size([128, 128]) from checkpoint, the shape in current model is torch.Size([512, 512]).\n\tsize mismatch for tnet.dec.0.mab.fc_v.bias: copying a param with shape torch.Size([128]) from checkpoint, the shape in current model is torch.Size([512]).\n\tsize mismatch for tnet.dec.0.mab.fc_o.weight: copying a param with shape torch.Size([128, 128]) from checkpoint, the shape in current model is torch.Size([512, 512]).\n\tsize mismatch for tnet.dec.0.mab.fc_o.bias: copying a param with shape torch.Size([128]) from checkpoint, the shape in current model is torch.Size([512]).\n\tsize mismatch for tnet.dec.1.mab.fc_q.weight: copying a param with shape torch.Size([128, 128]) from checkpoint, the shape in current model is torch.Size([512, 512]).\n\tsize mismatch for tnet.dec.1.mab.fc_q.bias: copying a param with shape torch.Size([128]) from checkpoint, the shape in current model is torch.Size([512]).\n\tsize mismatch for tnet.dec.1.mab.fc_k.weight: copying a param with shape torch.Size([128, 128]) from checkpoint, the shape in current model is torch.Size([512, 512]).\n\tsize mismatch for tnet.dec.1.mab.fc_k.bias: copying a param with shape torch.Size([128]) from checkpoint, the shape in current model is torch.Size([512]).\n\tsize mismatch for tnet.dec.1.mab.fc_v.weight: copying a param with shape torch.Size([128, 128]) from checkpoint, the shape in current model is torch.Size([512, 512]).\n\tsize mismatch for tnet.dec.1.mab.fc_v.bias: copying a param with shape torch.Size([128]) from checkpoint, the shape in current model is torch.Size([512]).\n\tsize mismatch for tnet.dec.1.mab.fc_o.weight: copying a param with shape torch.Size([128, 128]) from checkpoint, the shape in current model is torch.Size([512, 512]).\n\tsize mismatch for tnet.dec.1.mab.fc_o.bias: copying a param with shape torch.Size([128]) from checkpoint, the shape in current model is torch.Size([512]).\n\tsize mismatch for tnet.dec.2.mab.fc_q.weight: copying a param with shape torch.Size([128, 128]) from checkpoint, the shape in current model is torch.Size([512, 512]).\n\tsize mismatch for tnet.dec.2.mab.fc_q.bias: copying a param with shape torch.Size([128]) from checkpoint, the shape in current model is torch.Size([512]).\n\tsize mismatch for tnet.dec.2.mab.fc_k.weight: copying a param with shape torch.Size([128, 128]) from checkpoint, the shape in current model is torch.Size([512, 512]).\n\tsize mismatch for tnet.dec.2.mab.fc_k.bias: copying a param with shape torch.Size([128]) from checkpoint, the shape in current model is torch.Size([512]).\n\tsize mismatch for tnet.dec.2.mab.fc_v.weight: copying a param with shape torch.Size([128, 128]) from checkpoint, the shape in current model is torch.Size([512, 512]).\n\tsize mismatch for tnet.dec.2.mab.fc_v.bias: copying a param with shape torch.Size([128]) from checkpoint, the shape in current model is torch.Size([512]).\n\tsize mismatch for tnet.dec.2.mab.fc_o.weight: copying a param with shape torch.Size([128, 128]) from checkpoint, the shape in current model is torch.Size([512, 512]).\n\tsize mismatch for tnet.dec.2.mab.fc_o.bias: copying a param with shape torch.Size([128]) from checkpoint, the shape in current model is torch.Size([512]).\n\tsize mismatch for tnet.dec.3.weight: copying a param with shape torch.Size([512, 128]) from checkpoint, the shape in current model is torch.Size([512, 512])."
          ]
        }
      ],
      "source": [
        "from models import SymbolicGaussianDiffusion, PointNetConfig\n",
        "\n",
        "pconfig = PointNetConfig(\n",
        "    embeddingSize=n_embd,\n",
        "    numberofPoints=250,\n",
        "    numberofVars=1,\n",
        "    numberofYs=1,\n",
        ")\n",
        "model = SymbolicGaussianDiffusion(\n",
        "    tnet_config=pconfig,\n",
        "    vocab_size=train_dataset.vocab_size,\n",
        "    max_seq_len=32,\n",
        "    padding_idx=test_dataset.paddingID,\n",
        "    max_num_vars=9,\n",
        "    n_layer=4,\n",
        "    n_head=4,\n",
        "    n_embd=n_embd,\n",
        "    timesteps=timesteps,\n",
        "    beta_start=0.0001,\n",
        "    beta_end=0.02,\n",
        "    set_transformer=True,\n",
        ").to(device)\n",
        "\n",
        "model_path = \"/content/drive/MyDrive/Colab Notebooks/STAT946_proj/models/1Var_set_transformer_best_model.pth\"\n",
        "model.load_state_dict(torch.load(model_path, map_location=device, weights_only=True))\n",
        "model.eval()\n",
        "\n",
        "fName = \"1Var_set_transformer.txt\"\n",
        "test_results = run_and_plot(model, fName, test_loader, textTest, train_dataset, device, pconfig, ddim_step=5, numTests=20)"
      ]
    }
  ],
  "metadata": {
    "accelerator": "GPU",
    "colab": {
      "gpuType": "T4",
      "provenance": [],
      "include_colab_link": true
    },
    "kernelspec": {
      "display_name": "s946_env (3.13.1)",
      "language": "python",
      "name": "python3"
    },
    "language_info": {
      "codemirror_mode": {
        "name": "ipython",
        "version": 3
      },
      "file_extension": ".py",
      "mimetype": "text/x-python",
      "name": "python",
      "nbconvert_exporter": "python",
      "pygments_lexer": "ipython3",
      "version": "3.13.1"
    }
  },
  "nbformat": 4,
  "nbformat_minor": 5
}