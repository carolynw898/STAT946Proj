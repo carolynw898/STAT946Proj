{
  "cells": [
    {
      "cell_type": "markdown",
      "metadata": {
        "id": "view-in-github",
        "colab_type": "text"
      },
      "source": [
        "<a href=\"https://colab.research.google.com/github/carolynw898/STAT946Proj/blob/main/stat946-proj.ipynb\" target=\"_parent\"><img src=\"https://colab.research.google.com/assets/colab-badge.svg\" alt=\"Open In Colab\"/></a>"
      ]
    },
    {
      "cell_type": "code",
      "source": [
        "from google.colab import drive\n",
        "\n",
        "drive.mount('/content/drive')"
      ],
      "metadata": {
        "id": "68BgA1xE63Rk",
        "outputId": "3d3be1e4-7c3b-4c20-ab12-793af54f5b35",
        "colab": {
          "base_uri": "https://localhost:8080/"
        }
      },
      "id": "68BgA1xE63Rk",
      "execution_count": 13,
      "outputs": [
        {
          "output_type": "stream",
          "name": "stdout",
          "text": [
            "Drive already mounted at /content/drive; to attempt to forcibly remount, call drive.mount(\"/content/drive\", force_remount=True).\n"
          ]
        }
      ]
    },
    {
      "cell_type": "code",
      "execution_count": 14,
      "id": "c63489dd",
      "metadata": {
        "execution": {
          "iopub.execute_input": "2025-04-09T04:36:58.889980Z",
          "iopub.status.busy": "2025-04-09T04:36:58.889777Z",
          "iopub.status.idle": "2025-04-09T04:36:58.901754Z",
          "shell.execute_reply": "2025-04-09T04:36:58.901130Z"
        },
        "papermill": {
          "duration": 0.016526,
          "end_time": "2025-04-09T04:36:58.902925",
          "exception": false,
          "start_time": "2025-04-09T04:36:58.886399",
          "status": "completed"
        },
        "tags": [],
        "id": "c63489dd"
      },
      "outputs": [],
      "source": [
        "import torch\n",
        "import torch.nn as nn\n",
        "from torch.utils.data import DataLoader\n",
        "from torch.optim import Adam\n",
        "from torch.optim.lr_scheduler import ReduceLROnPlateau\n",
        "import tqdm\n",
        "from typing import Tuple\n",
        "from models import SymbolicGaussianDiffusion, PointNetConfig\n",
        "from utils import CharDataset, processDataFiles, tokenize_equation\n",
        "\n",
        "def train_epoch(\n",
        "    model: SymbolicGaussianDiffusion,\n",
        "    train_loader: DataLoader,\n",
        "    optimizer: Adam,\n",
        "    train_dataset: CharDataset,\n",
        "    timesteps: int,\n",
        "    device: torch.device,\n",
        "    epoch: int,\n",
        "    num_epochs: int,\n",
        ") -> Tuple[float, float, float]:\n",
        "    model.train()\n",
        "    total_train_loss = 0\n",
        "\n",
        "    for i, (_, tokens, points, variables) in tqdm.tqdm(\n",
        "        enumerate(train_loader),\n",
        "        total=len(train_loader),\n",
        "        desc=f\"Epoch {epoch+1}/{num_epochs}\",\n",
        "    ):\n",
        "        points, tokens, variables = (\n",
        "            points.to(device),\n",
        "            tokens.to(device),\n",
        "            variables.to(device),\n",
        "        )\n",
        "        t = torch.randint(0, timesteps, (tokens.shape[0],), device=device)\n",
        "        optimizer.zero_grad()\n",
        "\n",
        "        total_loss = model(points, tokens, variables, t)\n",
        "\n",
        "        if (i + 1) % 250 == 0:\n",
        "            print(f\"Batch {i + 1}/{len(train_loader)}:\")\n",
        "            print(f\"total_loss: {total_loss}\")\n",
        "\n",
        "        total_loss.backward()\n",
        "        optimizer.step()\n",
        "\n",
        "        total_train_loss += total_loss.item()\n",
        "\n",
        "\n",
        "    avg_train_loss = total_train_loss / len(train_loader)\n",
        "    return avg_train_loss\n",
        "\n",
        "\n",
        "def val_epoch(\n",
        "    model: SymbolicGaussianDiffusion,\n",
        "    val_loader: DataLoader,\n",
        "    train_dataset: CharDataset,\n",
        "    timesteps: int,\n",
        "    device: torch.device,\n",
        "    epoch: int,\n",
        "    num_epochs: int,\n",
        ") -> Tuple[float, float, float]:\n",
        "    model.eval()\n",
        "    total_val_loss = 0\n",
        "\n",
        "    with torch.no_grad():\n",
        "        for _, tokens, points, variables in tqdm.tqdm(\n",
        "            val_loader, total=len(val_loader), desc=\"Validating\"\n",
        "        ):\n",
        "            points, tokens, variables = (\n",
        "                points.to(device),\n",
        "                tokens.to(device),\n",
        "                variables.to(device),\n",
        "            )\n",
        "            t = torch.randint(0, timesteps, (tokens.shape[0],), device=device)\n",
        "            total_loss = model(points, tokens, variables, t)\n",
        "\n",
        "            total_val_loss += total_loss.item()\n",
        "\n",
        "    avg_val_loss = total_val_loss / len(val_loader)\n",
        "    return avg_val_loss\n",
        "\n",
        "\n",
        "def train_single_gpu(\n",
        "    model: SymbolicGaussianDiffusion,\n",
        "    train_dataset: CharDataset,\n",
        "    val_dataset: CharDataset,\n",
        "    num_epochs=10,\n",
        "    save_every=2,\n",
        "    batch_size=32,\n",
        "    timesteps=1000,\n",
        "    learning_rate=1e-3,\n",
        "    path=None,\n",
        "):\n",
        "    device = torch.device(\"cuda\" if torch.cuda.is_available() else \"cpu\")\n",
        "\n",
        "    model = model.to(device)\n",
        "\n",
        "    optimizer = Adam(model.parameters(), lr=learning_rate)\n",
        "    scheduler = ReduceLROnPlateau(optimizer, mode=\"min\", factor=0.5, patience=1)\n",
        "\n",
        "    train_loader = DataLoader(\n",
        "        train_dataset,\n",
        "        batch_size=batch_size,\n",
        "        pin_memory=True,\n",
        "        shuffle=True,\n",
        "        num_workers=4,\n",
        "    )\n",
        "    val_loader = DataLoader(\n",
        "        val_dataset,\n",
        "        batch_size=batch_size,\n",
        "        pin_memory=True,\n",
        "        shuffle=False,\n",
        "        num_workers=4,\n",
        "    )\n",
        "\n",
        "    best_val_loss = float(\"inf\")\n",
        "\n",
        "    for epoch in range(num_epochs):\n",
        "        avg_train_loss = train_epoch(\n",
        "            model,\n",
        "            train_loader,\n",
        "            optimizer,\n",
        "            train_dataset,\n",
        "            timesteps,\n",
        "            device,\n",
        "            epoch,\n",
        "            num_epochs,\n",
        "        )\n",
        "\n",
        "        avg_val_loss = val_epoch(\n",
        "            model, val_loader, train_dataset, timesteps, device, epoch, num_epochs\n",
        "        )\n",
        "\n",
        "        scheduler.step(avg_val_loss)\n",
        "        current_lr = optimizer.param_groups[0][\"lr\"]\n",
        "\n",
        "        print(\"\\nEpoch Summary:\")\n",
        "        print(\n",
        "            f\"Train Total Loss: {avg_train_loss:.4f}\"\n",
        "        )\n",
        "        print(\n",
        "            f\"Val Total Loss: {avg_val_loss:.4f}\"\n",
        "        )\n",
        "        print(f\"Learning Rate: {current_lr:.6f}\")\n",
        "\n",
        "        if avg_val_loss < best_val_loss:\n",
        "            best_val_loss = avg_val_loss\n",
        "            state_dict = model.state_dict()\n",
        "            torch.save(state_dict, path)\n",
        "            print(f\"New best model saved with val loss: {best_val_loss:.4f}\")\n",
        "\n",
        "        print(\"-\" * 50)"
      ]
    },
    {
      "cell_type": "code",
      "execution_count": 15,
      "id": "40f82cb9",
      "metadata": {
        "execution": {
          "iopub.execute_input": "2025-04-09T04:36:58.909108Z",
          "iopub.status.busy": "2025-04-09T04:36:58.908916Z",
          "iopub.status.idle": "2025-04-09T04:36:59.013494Z",
          "shell.execute_reply": "2025-04-09T04:36:59.012754Z"
        },
        "papermill": {
          "duration": 0.109049,
          "end_time": "2025-04-09T04:36:59.014764",
          "exception": false,
          "start_time": "2025-04-09T04:36:58.905715",
          "status": "completed"
        },
        "tags": [],
        "id": "40f82cb9"
      },
      "outputs": [],
      "source": [
        "n_embd = 512\n",
        "timesteps = 1000\n",
        "batch_size = 64\n",
        "learning_rate = 1e-4\n",
        "num_epochs = 5\n",
        "blockSize = 32\n",
        "numVars = 3\n",
        "numYs = 1\n",
        "numPoints = 250\n",
        "target = 'Skeleton'\n",
        "const_range = [-2.1, 2.1]\n",
        "trainRange = [-3.0, 3.0]\n",
        "decimals = 8\n",
        "addVars = False\n",
        "maxNumFiles = 100\n",
        "device = torch.device(\"cuda\" if torch.cuda.is_available() else \"cpu\")"
      ]
    },
    {
      "cell_type": "code",
      "execution_count": 16,
      "id": "1082b87e",
      "metadata": {
        "execution": {
          "iopub.execute_input": "2025-04-09T04:36:59.022690Z",
          "iopub.status.busy": "2025-04-09T04:36:59.022461Z",
          "iopub.status.idle": "2025-04-09T04:36:59.025458Z",
          "shell.execute_reply": "2025-04-09T04:36:59.024842Z"
        },
        "papermill": {
          "duration": 0.007644,
          "end_time": "2025-04-09T04:36:59.026676",
          "exception": false,
          "start_time": "2025-04-09T04:36:59.019032",
          "status": "completed"
        },
        "tags": [],
        "id": "1082b87e"
      },
      "outputs": [],
      "source": [
        "dataDir = \"/content/drive/MyDrive/Colab/STAT946_proj/data\"\n",
        "dataFolder = \"3_var_dataset\""
      ]
    },
    {
      "cell_type": "code",
      "execution_count": 17,
      "id": "949b9144",
      "metadata": {
        "execution": {
          "iopub.execute_input": "2025-04-09T04:36:59.033270Z",
          "iopub.status.busy": "2025-04-09T04:36:59.033062Z",
          "iopub.status.idle": "2025-04-09T04:37:15.805532Z",
          "shell.execute_reply": "2025-04-09T04:37:15.804525Z"
        },
        "papermill": {
          "duration": 16.777345,
          "end_time": "2025-04-09T04:37:15.806956",
          "exception": false,
          "start_time": "2025-04-09T04:36:59.029611",
          "status": "completed"
        },
        "tags": [],
        "id": "949b9144",
        "outputId": "5ffc516a-945a-4f06-b60c-45a146c836c1",
        "colab": {
          "base_uri": "https://localhost:8080/"
        }
      },
      "outputs": [
        {
          "output_type": "stream",
          "name": "stdout",
          "text": [
            "data has 498101 examples, 30 unique.\n",
            "id:391541\n",
            "outputs:C*cos(C*x2**5)+C>___________________\n",
            "variables:2\n"
          ]
        }
      ],
      "source": [
        "from torch.utils.data import DataLoader\n",
        "import numpy as np\n",
        "import glob\n",
        "from utils import processDataFiles, CharDataset, tokenize_equation\n",
        "import random\n",
        "import json\n",
        "\n",
        "path = '{}/{}/Train/*.json'.format(dataDir, dataFolder)\n",
        "files = glob.glob(path)[:maxNumFiles]\n",
        "text = processDataFiles(files)\n",
        "text = text.split('\\n') # convert the raw text to a set of examples\n",
        "# skeletons = []\n",
        "skeletons = [json.loads(item)['Skeleton'] for item in text if item.strip()]\n",
        "all_tokens = set()\n",
        "for eq in skeletons:\n",
        "    all_tokens.update(tokenize_equation(eq))\n",
        "integers = {'0', '1', '2', '3', '4', '5', '6', '7', '8', '9'}\n",
        "all_tokens.update(integers)  # add all integers to the token set\n",
        "tokens = sorted(list(all_tokens) + ['_', 'T', '<', '>', ':'])  # special tokens\n",
        "trainText = text[:-1] if len(text[-1]) == 0 else text\n",
        "random.shuffle(trainText) # shuffle the dataset, it's important specailly for the combined number of variables experiment\n",
        "train_dataset = CharDataset(trainText, blockSize, tokens=tokens, numVars=numVars,\n",
        "                        numYs=numYs, numPoints=numPoints, target=target, addVars=addVars,\n",
        "                        const_range=const_range, xRange=trainRange, decimals=decimals)\n",
        "\n",
        "idx = np.random.randint(train_dataset.__len__())\n",
        "inputs, outputs, points, variables = train_dataset.__getitem__(idx)\n",
        "inputs = ''.join([train_dataset.itos[int(i)] for i in inputs])\n",
        "outputs = ''.join([train_dataset.itos[int(i)] for i in outputs])\n",
        "print('id:{}\\noutputs:{}\\nvariables:{}'.format(idx,outputs,variables))"
      ]
    },
    {
      "cell_type": "code",
      "execution_count": 18,
      "id": "3cec88e0",
      "metadata": {
        "execution": {
          "iopub.execute_input": "2025-04-09T04:37:15.814858Z",
          "iopub.status.busy": "2025-04-09T04:37:15.814600Z",
          "iopub.status.idle": "2025-04-09T04:37:15.913109Z",
          "shell.execute_reply": "2025-04-09T04:37:15.912228Z"
        },
        "papermill": {
          "duration": 0.103734,
          "end_time": "2025-04-09T04:37:15.914323",
          "exception": false,
          "start_time": "2025-04-09T04:37:15.810589",
          "status": "completed"
        },
        "tags": [],
        "id": "3cec88e0",
        "outputId": "ae95d4f2-4a9e-4ff8-897f-02f2482f6b23",
        "colab": {
          "base_uri": "https://localhost:8080/"
        }
      },
      "outputs": [
        {
          "output_type": "stream",
          "name": "stdout",
          "text": [
            "data has 948 examples, 30 unique.\n",
            "tensor(-308.6018) tensor(16.9162)\n",
            "id:62\n",
            "outputs:C*x1*C*sin(C*x2+C)*C*cos(C*x1+C)/x2+C*x2+\n",
            "variables:3\n"
          ]
        }
      ],
      "source": [
        "path = '{}/{}/Val/*.json'.format(dataDir,dataFolder)\n",
        "files = glob.glob(path)\n",
        "textVal = processDataFiles([files[0]])\n",
        "textVal = textVal.split('\\n') # convert the raw text to a set of examples\n",
        "val_dataset = CharDataset(textVal, blockSize, tokens=tokens, numVars=numVars,\n",
        "                        numYs=numYs, numPoints=numPoints, target=target, addVars=addVars,\n",
        "                        const_range=const_range, xRange=trainRange, decimals=decimals)\n",
        "\n",
        "# print a random sample\n",
        "idx = np.random.randint(val_dataset.__len__())\n",
        "inputs, outputs, points, variables = val_dataset.__getitem__(idx)\n",
        "print(points.min(), points.max())\n",
        "inputs = ''.join([train_dataset.itos[int(i)] for i in inputs])\n",
        "outputs = ''.join([train_dataset.itos[int(i)] for i in outputs])\n",
        "print('id:{}\\noutputs:{}\\nvariables:{}'.format(idx,outputs,variables))"
      ]
    },
    {
      "cell_type": "code",
      "execution_count": 19,
      "id": "b54b4deb",
      "metadata": {
        "execution": {
          "iopub.execute_input": "2025-04-09T04:37:15.921801Z",
          "iopub.status.busy": "2025-04-09T04:37:15.921566Z",
          "iopub.status.idle": "2025-04-09T07:23:43.919953Z",
          "shell.execute_reply": "2025-04-09T07:23:43.919058Z"
        },
        "papermill": {
          "duration": 9988.003529,
          "end_time": "2025-04-09T07:23:43.921246",
          "exception": false,
          "start_time": "2025-04-09T04:37:15.917717",
          "status": "completed"
        },
        "tags": [],
        "id": "b54b4deb",
        "outputId": "a85c0ff9-e910-402e-cb95-c63bf1e61737",
        "colab": {
          "base_uri": "https://localhost:8080/"
        }
      },
      "outputs": [
        {
          "output_type": "stream",
          "name": "stderr",
          "text": [
            "Epoch 1/5:   3%|▎         | 251/7783 [00:27<12:48,  9.81it/s]"
          ]
        },
        {
          "output_type": "stream",
          "name": "stdout",
          "text": [
            "Batch 250/7783:\n",
            "total_loss: 2.487004280090332\n"
          ]
        },
        {
          "output_type": "stream",
          "name": "stderr",
          "text": [
            "Epoch 1/5:   6%|▋         | 500/7783 [00:54<12:11,  9.96it/s]"
          ]
        },
        {
          "output_type": "stream",
          "name": "stdout",
          "text": [
            "Batch 500/7783:\n",
            "total_loss: 1.139195442199707\n"
          ]
        },
        {
          "output_type": "stream",
          "name": "stderr",
          "text": [
            "Epoch 1/5:  10%|▉         | 752/7783 [01:21<11:10, 10.49it/s]"
          ]
        },
        {
          "output_type": "stream",
          "name": "stdout",
          "text": [
            "Batch 750/7783:\n",
            "total_loss: 1.156992793083191\n"
          ]
        },
        {
          "output_type": "stream",
          "name": "stderr",
          "text": [
            "Epoch 1/5:  13%|█▎        | 1001/7783 [01:47<11:41,  9.67it/s]"
          ]
        },
        {
          "output_type": "stream",
          "name": "stdout",
          "text": [
            "Batch 1000/7783:\n",
            "total_loss: 1.1037955284118652\n"
          ]
        },
        {
          "output_type": "stream",
          "name": "stderr",
          "text": [
            "Epoch 1/5:  16%|█▌        | 1251/7783 [02:14<10:33, 10.31it/s]"
          ]
        },
        {
          "output_type": "stream",
          "name": "stdout",
          "text": [
            "Batch 1250/7783:\n",
            "total_loss: 0.7133010625839233\n"
          ]
        },
        {
          "output_type": "stream",
          "name": "stderr",
          "text": [
            "Epoch 1/5:  19%|█▉        | 1499/7783 [02:40<10:05, 10.37it/s]"
          ]
        },
        {
          "output_type": "stream",
          "name": "stdout",
          "text": [
            "Batch 1500/7783:\n",
            "total_loss: 0.8165925145149231\n"
          ]
        },
        {
          "output_type": "stream",
          "name": "stderr",
          "text": [
            "Epoch 1/5:  22%|██▏       | 1751/7783 [03:07<09:49, 10.23it/s]"
          ]
        },
        {
          "output_type": "stream",
          "name": "stdout",
          "text": [
            "Batch 1750/7783:\n",
            "total_loss: 0.8534173965454102\n"
          ]
        },
        {
          "output_type": "stream",
          "name": "stderr",
          "text": [
            "Epoch 1/5:  26%|██▌       | 2001/7783 [03:34<09:38,  9.99it/s]"
          ]
        },
        {
          "output_type": "stream",
          "name": "stdout",
          "text": [
            "Batch 2000/7783:\n",
            "total_loss: 0.6771409511566162\n"
          ]
        },
        {
          "output_type": "stream",
          "name": "stderr",
          "text": [
            "Epoch 1/5:  29%|██▉       | 2250/7783 [04:00<09:20,  9.87it/s]"
          ]
        },
        {
          "output_type": "stream",
          "name": "stdout",
          "text": [
            "Batch 2250/7783:\n",
            "total_loss: 0.7251788973808289\n"
          ]
        },
        {
          "output_type": "stream",
          "name": "stderr",
          "text": [
            "Epoch 1/5:  32%|███▏      | 2501/7783 [04:27<08:46, 10.04it/s]"
          ]
        },
        {
          "output_type": "stream",
          "name": "stdout",
          "text": [
            "Batch 2500/7783:\n",
            "total_loss: 0.4326946437358856\n"
          ]
        },
        {
          "output_type": "stream",
          "name": "stderr",
          "text": [
            "Epoch 1/5:  35%|███▌      | 2751/7783 [04:54<09:22,  8.94it/s]"
          ]
        },
        {
          "output_type": "stream",
          "name": "stdout",
          "text": [
            "Batch 2750/7783:\n",
            "total_loss: 0.6554166078567505\n"
          ]
        },
        {
          "output_type": "stream",
          "name": "stderr",
          "text": [
            "Epoch 1/5:  39%|███▊      | 3000/7783 [05:20<07:46, 10.26it/s]"
          ]
        },
        {
          "output_type": "stream",
          "name": "stdout",
          "text": [
            "Batch 3000/7783:\n",
            "total_loss: 0.45467954874038696\n"
          ]
        },
        {
          "output_type": "stream",
          "name": "stderr",
          "text": [
            "Epoch 1/5:  42%|████▏     | 3251/7783 [05:48<08:32,  8.84it/s]"
          ]
        },
        {
          "output_type": "stream",
          "name": "stdout",
          "text": [
            "Batch 3250/7783:\n",
            "total_loss: 0.7153379917144775\n"
          ]
        },
        {
          "output_type": "stream",
          "name": "stderr",
          "text": [
            "Epoch 1/5:  45%|████▍     | 3499/7783 [06:14<07:31,  9.49it/s]"
          ]
        },
        {
          "output_type": "stream",
          "name": "stdout",
          "text": [
            "Batch 3500/7783:\n",
            "total_loss: 0.538017749786377\n"
          ]
        },
        {
          "output_type": "stream",
          "name": "stderr",
          "text": [
            "Epoch 1/5:  48%|████▊     | 3751/7783 [06:41<06:25, 10.47it/s]"
          ]
        },
        {
          "output_type": "stream",
          "name": "stdout",
          "text": [
            "Batch 3750/7783:\n",
            "total_loss: 0.46045127511024475\n"
          ]
        },
        {
          "output_type": "stream",
          "name": "stderr",
          "text": [
            "Epoch 1/5:  51%|█████▏    | 3999/7783 [07:08<06:46,  9.32it/s]"
          ]
        },
        {
          "output_type": "stream",
          "name": "stdout",
          "text": [
            "Batch 4000/7783:\n",
            "total_loss: 0.7207744121551514\n"
          ]
        },
        {
          "output_type": "stream",
          "name": "stderr",
          "text": [
            "Epoch 1/5:  55%|█████▍    | 4252/7783 [07:34<05:44, 10.24it/s]"
          ]
        },
        {
          "output_type": "stream",
          "name": "stdout",
          "text": [
            "Batch 4250/7783:\n",
            "total_loss: 0.5130143761634827\n"
          ]
        },
        {
          "output_type": "stream",
          "name": "stderr",
          "text": [
            "Epoch 1/5:  58%|█████▊    | 4501/7783 [08:01<05:22, 10.19it/s]"
          ]
        },
        {
          "output_type": "stream",
          "name": "stdout",
          "text": [
            "Batch 4500/7783:\n",
            "total_loss: 0.4884134829044342\n"
          ]
        },
        {
          "output_type": "stream",
          "name": "stderr",
          "text": [
            "Epoch 1/5:  61%|██████    | 4749/7783 [08:28<04:57, 10.19it/s]"
          ]
        },
        {
          "output_type": "stream",
          "name": "stdout",
          "text": [
            "Batch 4750/7783:\n",
            "total_loss: 0.6816918849945068\n"
          ]
        },
        {
          "output_type": "stream",
          "name": "stderr",
          "text": [
            "Epoch 1/5:  64%|██████▍   | 5001/7783 [08:55<04:27, 10.41it/s]"
          ]
        },
        {
          "output_type": "stream",
          "name": "stdout",
          "text": [
            "Batch 5000/7783:\n",
            "total_loss: 0.5933822393417358\n"
          ]
        },
        {
          "output_type": "stream",
          "name": "stderr",
          "text": [
            "Epoch 1/5:  67%|██████▋   | 5250/7783 [09:21<04:08, 10.20it/s]"
          ]
        },
        {
          "output_type": "stream",
          "name": "stdout",
          "text": [
            "Batch 5250/7783:\n",
            "total_loss: 0.5761051177978516\n"
          ]
        },
        {
          "output_type": "stream",
          "name": "stderr",
          "text": [
            "Epoch 1/5:  71%|███████   | 5501/7783 [09:48<03:43, 10.21it/s]"
          ]
        },
        {
          "output_type": "stream",
          "name": "stdout",
          "text": [
            "Batch 5500/7783:\n",
            "total_loss: 0.2744663655757904\n"
          ]
        },
        {
          "output_type": "stream",
          "name": "stderr",
          "text": [
            "Epoch 1/5:  74%|███████▍  | 5749/7783 [10:14<03:21, 10.11it/s]"
          ]
        },
        {
          "output_type": "stream",
          "name": "stdout",
          "text": [
            "Batch 5750/7783:\n",
            "total_loss: 0.4002000093460083\n"
          ]
        },
        {
          "output_type": "stream",
          "name": "stderr",
          "text": [
            "Epoch 1/5:  77%|███████▋  | 5999/7783 [10:42<02:55, 10.14it/s]"
          ]
        },
        {
          "output_type": "stream",
          "name": "stdout",
          "text": [
            "Batch 6000/7783:\n",
            "total_loss: 0.41747236251831055\n"
          ]
        },
        {
          "output_type": "stream",
          "name": "stderr",
          "text": [
            "Epoch 1/5:  80%|████████  | 6251/7783 [11:09<02:27, 10.38it/s]"
          ]
        },
        {
          "output_type": "stream",
          "name": "stdout",
          "text": [
            "Batch 6250/7783:\n",
            "total_loss: 0.8041149377822876\n"
          ]
        },
        {
          "output_type": "stream",
          "name": "stderr",
          "text": [
            "Epoch 1/5:  84%|████████▎ | 6502/7783 [11:36<02:01, 10.51it/s]"
          ]
        },
        {
          "output_type": "stream",
          "name": "stdout",
          "text": [
            "Batch 6500/7783:\n",
            "total_loss: 0.7349252700805664\n"
          ]
        },
        {
          "output_type": "stream",
          "name": "stderr",
          "text": [
            "Epoch 1/5:  87%|████████▋ | 6750/7783 [12:02<01:47,  9.57it/s]"
          ]
        },
        {
          "output_type": "stream",
          "name": "stdout",
          "text": [
            "Batch 6750/7783:\n",
            "total_loss: 0.7058141231536865\n"
          ]
        },
        {
          "output_type": "stream",
          "name": "stderr",
          "text": [
            "Epoch 1/5:  90%|████████▉ | 7002/7783 [12:29<01:15, 10.31it/s]"
          ]
        },
        {
          "output_type": "stream",
          "name": "stdout",
          "text": [
            "Batch 7000/7783:\n",
            "total_loss: 0.6545202732086182\n"
          ]
        },
        {
          "output_type": "stream",
          "name": "stderr",
          "text": [
            "Epoch 1/5:  93%|█████████▎| 7250/7783 [12:56<00:51, 10.33it/s]"
          ]
        },
        {
          "output_type": "stream",
          "name": "stdout",
          "text": [
            "Batch 7250/7783:\n",
            "total_loss: 0.5732424259185791\n"
          ]
        },
        {
          "output_type": "stream",
          "name": "stderr",
          "text": [
            "Epoch 1/5:  96%|█████████▋| 7502/7783 [13:22<00:27, 10.34it/s]"
          ]
        },
        {
          "output_type": "stream",
          "name": "stdout",
          "text": [
            "Batch 7500/7783:\n",
            "total_loss: 0.516656219959259\n"
          ]
        },
        {
          "output_type": "stream",
          "name": "stderr",
          "text": [
            "Epoch 1/5: 100%|█████████▉| 7750/7783 [13:49<00:03, 10.42it/s]"
          ]
        },
        {
          "output_type": "stream",
          "name": "stdout",
          "text": [
            "Batch 7750/7783:\n",
            "total_loss: 0.39046618342399597\n"
          ]
        },
        {
          "output_type": "stream",
          "name": "stderr",
          "text": [
            "Epoch 1/5: 100%|██████████| 7783/7783 [13:53<00:00,  9.33it/s]\n",
            "Validating: 100%|██████████| 15/15 [00:02<00:00,  5.07it/s]"
          ]
        },
        {
          "output_type": "stream",
          "name": "stdout",
          "text": [
            "\n",
            "Epoch Summary:\n",
            "Train Total Loss: 0.7783\n",
            "Val Total Loss: 0.5273\n",
            "Learning Rate: 0.000100\n",
            "New best model saved with val loss: 0.5273\n",
            "--------------------------------------------------\n"
          ]
        },
        {
          "output_type": "stream",
          "name": "stderr",
          "text": [
            "\n",
            "Epoch 2/5:   3%|▎         | 252/7783 [00:27<12:16, 10.23it/s]"
          ]
        },
        {
          "output_type": "stream",
          "name": "stdout",
          "text": [
            "Batch 250/7783:\n",
            "total_loss: 0.6174187660217285\n"
          ]
        },
        {
          "output_type": "stream",
          "name": "stderr",
          "text": [
            "Epoch 2/5:   6%|▋         | 500/7783 [00:54<13:22,  9.08it/s]"
          ]
        },
        {
          "output_type": "stream",
          "name": "stdout",
          "text": [
            "Batch 500/7783:\n",
            "total_loss: 0.5130387544631958\n"
          ]
        },
        {
          "output_type": "stream",
          "name": "stderr",
          "text": [
            "Epoch 2/5:  10%|▉         | 752/7783 [01:21<11:18, 10.36it/s]"
          ]
        },
        {
          "output_type": "stream",
          "name": "stdout",
          "text": [
            "Batch 750/7783:\n",
            "total_loss: 0.5422541499137878\n"
          ]
        },
        {
          "output_type": "stream",
          "name": "stderr",
          "text": [
            "Epoch 2/5:  13%|█▎        | 1000/7783 [01:48<11:06, 10.18it/s]"
          ]
        },
        {
          "output_type": "stream",
          "name": "stdout",
          "text": [
            "Batch 1000/7783:\n",
            "total_loss: 0.5579790472984314\n"
          ]
        },
        {
          "output_type": "stream",
          "name": "stderr",
          "text": [
            "Epoch 2/5:  16%|█▌        | 1251/7783 [02:15<12:27,  8.74it/s]"
          ]
        },
        {
          "output_type": "stream",
          "name": "stdout",
          "text": [
            "Batch 1250/7783:\n",
            "total_loss: 0.49765831232070923\n"
          ]
        },
        {
          "output_type": "stream",
          "name": "stderr",
          "text": [
            "Epoch 2/5:  19%|█▉        | 1501/7783 [02:41<09:58, 10.49it/s]"
          ]
        },
        {
          "output_type": "stream",
          "name": "stdout",
          "text": [
            "Batch 1500/7783:\n",
            "total_loss: 0.460420161485672\n"
          ]
        },
        {
          "output_type": "stream",
          "name": "stderr",
          "text": [
            "Epoch 2/5:  23%|██▎       | 1752/7783 [03:08<10:04,  9.97it/s]"
          ]
        },
        {
          "output_type": "stream",
          "name": "stdout",
          "text": [
            "Batch 1750/7783:\n",
            "total_loss: 0.4868209958076477\n"
          ]
        },
        {
          "output_type": "stream",
          "name": "stderr",
          "text": [
            "Epoch 2/5:  26%|██▌       | 2000/7783 [03:35<09:18, 10.35it/s]"
          ]
        },
        {
          "output_type": "stream",
          "name": "stdout",
          "text": [
            "Batch 2000/7783:\n",
            "total_loss: 0.7166166305541992\n"
          ]
        },
        {
          "output_type": "stream",
          "name": "stderr",
          "text": [
            "Epoch 2/5:  29%|██▉       | 2252/7783 [04:02<08:51, 10.41it/s]"
          ]
        },
        {
          "output_type": "stream",
          "name": "stdout",
          "text": [
            "Batch 2250/7783:\n",
            "total_loss: 0.6488161683082581\n"
          ]
        },
        {
          "output_type": "stream",
          "name": "stderr",
          "text": [
            "Epoch 2/5:  32%|███▏      | 2500/7783 [04:29<08:34, 10.27it/s]"
          ]
        },
        {
          "output_type": "stream",
          "name": "stdout",
          "text": [
            "Batch 2500/7783:\n",
            "total_loss: 0.48197680711746216\n"
          ]
        },
        {
          "output_type": "stream",
          "name": "stderr",
          "text": [
            "Epoch 2/5:  35%|███▌      | 2752/7783 [04:56<08:13, 10.20it/s]"
          ]
        },
        {
          "output_type": "stream",
          "name": "stdout",
          "text": [
            "Batch 2750/7783:\n",
            "total_loss: 0.6194902062416077\n"
          ]
        },
        {
          "output_type": "stream",
          "name": "stderr",
          "text": [
            "Epoch 2/5:  39%|███▊      | 3000/7783 [05:23<07:51, 10.14it/s]"
          ]
        },
        {
          "output_type": "stream",
          "name": "stdout",
          "text": [
            "Batch 3000/7783:\n",
            "total_loss: 0.5945083498954773\n"
          ]
        },
        {
          "output_type": "stream",
          "name": "stderr",
          "text": [
            "Epoch 2/5:  42%|████▏     | 3251/7783 [05:50<07:28, 10.10it/s]"
          ]
        },
        {
          "output_type": "stream",
          "name": "stdout",
          "text": [
            "Batch 3250/7783:\n",
            "total_loss: 0.7003620862960815\n"
          ]
        },
        {
          "output_type": "stream",
          "name": "stderr",
          "text": [
            "Epoch 2/5:  45%|████▍     | 3500/7783 [06:17<07:30,  9.50it/s]"
          ]
        },
        {
          "output_type": "stream",
          "name": "stdout",
          "text": [
            "Batch 3500/7783:\n",
            "total_loss: 0.37887275218963623\n"
          ]
        },
        {
          "output_type": "stream",
          "name": "stderr",
          "text": [
            "Epoch 2/5:  48%|████▊     | 3752/7783 [06:44<06:29, 10.34it/s]"
          ]
        },
        {
          "output_type": "stream",
          "name": "stdout",
          "text": [
            "Batch 3750/7783:\n",
            "total_loss: 0.630586564540863\n"
          ]
        },
        {
          "output_type": "stream",
          "name": "stderr",
          "text": [
            "Epoch 2/5:  51%|█████▏    | 4002/7783 [07:11<06:15, 10.07it/s]"
          ]
        },
        {
          "output_type": "stream",
          "name": "stdout",
          "text": [
            "Batch 4000/7783:\n",
            "total_loss: 0.7384699583053589\n"
          ]
        },
        {
          "output_type": "stream",
          "name": "stderr",
          "text": [
            "Epoch 2/5:  55%|█████▍    | 4251/7783 [07:37<07:09,  8.23it/s]"
          ]
        },
        {
          "output_type": "stream",
          "name": "stdout",
          "text": [
            "Batch 4250/7783:\n",
            "total_loss: 0.5160409808158875\n"
          ]
        },
        {
          "output_type": "stream",
          "name": "stderr",
          "text": [
            "Epoch 2/5:  58%|█████▊    | 4501/7783 [08:05<05:24, 10.13it/s]"
          ]
        },
        {
          "output_type": "stream",
          "name": "stdout",
          "text": [
            "Batch 4500/7783:\n",
            "total_loss: 0.6033084392547607\n"
          ]
        },
        {
          "output_type": "stream",
          "name": "stderr",
          "text": [
            "Epoch 2/5:  61%|██████    | 4751/7783 [08:32<05:40,  8.91it/s]"
          ]
        },
        {
          "output_type": "stream",
          "name": "stdout",
          "text": [
            "Batch 4750/7783:\n",
            "total_loss: 0.6495813131332397\n"
          ]
        },
        {
          "output_type": "stream",
          "name": "stderr",
          "text": [
            "Epoch 2/5:  64%|██████▍   | 5000/7783 [08:58<04:43,  9.82it/s]"
          ]
        },
        {
          "output_type": "stream",
          "name": "stdout",
          "text": [
            "Batch 5000/7783:\n",
            "total_loss: 0.23567599058151245\n"
          ]
        },
        {
          "output_type": "stream",
          "name": "stderr",
          "text": [
            "Epoch 2/5:  67%|██████▋   | 5252/7783 [09:26<04:07, 10.23it/s]"
          ]
        },
        {
          "output_type": "stream",
          "name": "stdout",
          "text": [
            "Batch 5250/7783:\n",
            "total_loss: 0.40380895137786865\n"
          ]
        },
        {
          "output_type": "stream",
          "name": "stderr",
          "text": [
            "Epoch 2/5:  71%|███████   | 5501/7783 [09:53<03:39, 10.37it/s]"
          ]
        },
        {
          "output_type": "stream",
          "name": "stdout",
          "text": [
            "Batch 5500/7783:\n",
            "total_loss: 0.626427412033081\n"
          ]
        },
        {
          "output_type": "stream",
          "name": "stderr",
          "text": [
            "Epoch 2/5:  74%|███████▍  | 5752/7783 [10:20<03:14, 10.42it/s]"
          ]
        },
        {
          "output_type": "stream",
          "name": "stdout",
          "text": [
            "Batch 5750/7783:\n",
            "total_loss: 0.47742366790771484\n"
          ]
        },
        {
          "output_type": "stream",
          "name": "stderr",
          "text": [
            "Epoch 2/5:  77%|███████▋  | 6002/7783 [10:47<03:05,  9.58it/s]"
          ]
        },
        {
          "output_type": "stream",
          "name": "stdout",
          "text": [
            "Batch 6000/7783:\n",
            "total_loss: 0.2708381116390228\n"
          ]
        },
        {
          "output_type": "stream",
          "name": "stderr",
          "text": [
            "Epoch 2/5:  80%|████████  | 6251/7783 [11:14<02:29, 10.22it/s]"
          ]
        },
        {
          "output_type": "stream",
          "name": "stdout",
          "text": [
            "Batch 6250/7783:\n",
            "total_loss: 0.3851410448551178\n"
          ]
        },
        {
          "output_type": "stream",
          "name": "stderr",
          "text": [
            "Epoch 2/5:  84%|████████▎ | 6499/7783 [11:41<02:05, 10.24it/s]"
          ]
        },
        {
          "output_type": "stream",
          "name": "stdout",
          "text": [
            "Batch 6500/7783:\n",
            "total_loss: 0.39663615822792053\n"
          ]
        },
        {
          "output_type": "stream",
          "name": "stderr",
          "text": [
            "Epoch 2/5:  87%|████████▋ | 6749/7783 [12:08<01:42, 10.09it/s]"
          ]
        },
        {
          "output_type": "stream",
          "name": "stdout",
          "text": [
            "Batch 6750/7783:\n",
            "total_loss: 0.42378655076026917\n"
          ]
        },
        {
          "output_type": "stream",
          "name": "stderr",
          "text": [
            "Epoch 2/5:  90%|████████▉ | 7001/7783 [12:36<01:18,  9.94it/s]"
          ]
        },
        {
          "output_type": "stream",
          "name": "stdout",
          "text": [
            "Batch 7000/7783:\n",
            "total_loss: 0.309518426656723\n"
          ]
        },
        {
          "output_type": "stream",
          "name": "stderr",
          "text": [
            "Epoch 2/5:  93%|█████████▎| 7249/7783 [13:02<00:53, 10.04it/s]"
          ]
        },
        {
          "output_type": "stream",
          "name": "stdout",
          "text": [
            "Batch 7250/7783:\n",
            "total_loss: 0.325260728597641\n"
          ]
        },
        {
          "output_type": "stream",
          "name": "stderr",
          "text": [
            "Epoch 2/5:  96%|█████████▋| 7501/7783 [13:29<00:27, 10.30it/s]"
          ]
        },
        {
          "output_type": "stream",
          "name": "stdout",
          "text": [
            "Batch 7500/7783:\n",
            "total_loss: 0.5203643441200256\n"
          ]
        },
        {
          "output_type": "stream",
          "name": "stderr",
          "text": [
            "Epoch 2/5: 100%|█████████▉| 7749/7783 [13:56<00:03, 10.03it/s]"
          ]
        },
        {
          "output_type": "stream",
          "name": "stdout",
          "text": [
            "Batch 7750/7783:\n",
            "total_loss: 0.5733766555786133\n"
          ]
        },
        {
          "output_type": "stream",
          "name": "stderr",
          "text": [
            "Epoch 2/5: 100%|██████████| 7783/7783 [14:00<00:00,  9.26it/s]\n",
            "Validating: 100%|██████████| 15/15 [00:02<00:00,  5.00it/s]"
          ]
        },
        {
          "output_type": "stream",
          "name": "stdout",
          "text": [
            "\n",
            "Epoch Summary:\n",
            "Train Total Loss: 0.5154\n",
            "Val Total Loss: 0.4498\n",
            "Learning Rate: 0.000100\n",
            "New best model saved with val loss: 0.4498\n",
            "--------------------------------------------------\n"
          ]
        },
        {
          "output_type": "stream",
          "name": "stderr",
          "text": [
            "\n",
            "Epoch 3/5:   3%|▎         | 252/7783 [00:27<12:09, 10.33it/s]"
          ]
        },
        {
          "output_type": "stream",
          "name": "stdout",
          "text": [
            "Batch 250/7783:\n",
            "total_loss: 0.4803950786590576\n"
          ]
        },
        {
          "output_type": "stream",
          "name": "stderr",
          "text": [
            "Epoch 3/5:   6%|▋         | 500/7783 [00:53<12:01, 10.10it/s]"
          ]
        },
        {
          "output_type": "stream",
          "name": "stdout",
          "text": [
            "Batch 500/7783:\n",
            "total_loss: 0.6825218796730042\n"
          ]
        },
        {
          "output_type": "stream",
          "name": "stderr",
          "text": [
            "Epoch 3/5:  10%|▉         | 752/7783 [01:21<11:36, 10.09it/s]"
          ]
        },
        {
          "output_type": "stream",
          "name": "stdout",
          "text": [
            "Batch 750/7783:\n",
            "total_loss: 0.6157584190368652\n"
          ]
        },
        {
          "output_type": "stream",
          "name": "stderr",
          "text": [
            "Epoch 3/5:  13%|█▎        | 1000/7783 [01:47<11:25,  9.89it/s]"
          ]
        },
        {
          "output_type": "stream",
          "name": "stdout",
          "text": [
            "Batch 1000/7783:\n",
            "total_loss: 0.517510175704956\n"
          ]
        },
        {
          "output_type": "stream",
          "name": "stderr",
          "text": [
            "Epoch 3/5:  16%|█▌        | 1252/7783 [02:15<10:45, 10.12it/s]"
          ]
        },
        {
          "output_type": "stream",
          "name": "stdout",
          "text": [
            "Batch 1250/7783:\n",
            "total_loss: 0.3378576636314392\n"
          ]
        },
        {
          "output_type": "stream",
          "name": "stderr",
          "text": [
            "Epoch 3/5:  19%|█▉        | 1500/7783 [02:41<10:07, 10.35it/s]"
          ]
        },
        {
          "output_type": "stream",
          "name": "stdout",
          "text": [
            "Batch 1500/7783:\n",
            "total_loss: 0.41662636399269104\n"
          ]
        },
        {
          "output_type": "stream",
          "name": "stderr",
          "text": [
            "Epoch 3/5:  22%|██▏       | 1751/7783 [03:08<09:57, 10.10it/s]"
          ]
        },
        {
          "output_type": "stream",
          "name": "stdout",
          "text": [
            "Batch 1750/7783:\n",
            "total_loss: 0.4612868130207062\n"
          ]
        },
        {
          "output_type": "stream",
          "name": "stderr",
          "text": [
            "Epoch 3/5:  26%|██▌       | 2001/7783 [03:36<09:38, 10.00it/s]"
          ]
        },
        {
          "output_type": "stream",
          "name": "stdout",
          "text": [
            "Batch 2000/7783:\n",
            "total_loss: 0.6557658314704895\n"
          ]
        },
        {
          "output_type": "stream",
          "name": "stderr",
          "text": [
            "Epoch 3/5:  29%|██▉       | 2249/7783 [04:03<09:12, 10.02it/s]"
          ]
        },
        {
          "output_type": "stream",
          "name": "stdout",
          "text": [
            "Batch 2250/7783:\n",
            "total_loss: 0.8163413405418396\n"
          ]
        },
        {
          "output_type": "stream",
          "name": "stderr",
          "text": [
            "Epoch 3/5:  32%|███▏      | 2501/7783 [04:29<08:43, 10.08it/s]"
          ]
        },
        {
          "output_type": "stream",
          "name": "stdout",
          "text": [
            "Batch 2500/7783:\n",
            "total_loss: 0.556919276714325\n"
          ]
        },
        {
          "output_type": "stream",
          "name": "stderr",
          "text": [
            "Epoch 3/5:  35%|███▌      | 2751/7783 [04:56<09:49,  8.53it/s]"
          ]
        },
        {
          "output_type": "stream",
          "name": "stdout",
          "text": [
            "Batch 2750/7783:\n",
            "total_loss: 0.5780665278434753\n"
          ]
        },
        {
          "output_type": "stream",
          "name": "stderr",
          "text": [
            "Epoch 3/5:  39%|███▊      | 3001/7783 [05:24<08:08,  9.79it/s]"
          ]
        },
        {
          "output_type": "stream",
          "name": "stdout",
          "text": [
            "Batch 3000/7783:\n",
            "total_loss: 0.6945744156837463\n"
          ]
        },
        {
          "output_type": "stream",
          "name": "stderr",
          "text": [
            "Epoch 3/5:  42%|████▏     | 3251/7783 [05:51<08:45,  8.63it/s]"
          ]
        },
        {
          "output_type": "stream",
          "name": "stdout",
          "text": [
            "Batch 3250/7783:\n",
            "total_loss: 0.4697644114494324\n"
          ]
        },
        {
          "output_type": "stream",
          "name": "stderr",
          "text": [
            "Epoch 3/5:  45%|████▍     | 3502/7783 [06:18<07:01, 10.16it/s]"
          ]
        },
        {
          "output_type": "stream",
          "name": "stdout",
          "text": [
            "Batch 3500/7783:\n",
            "total_loss: 0.45015716552734375\n"
          ]
        },
        {
          "output_type": "stream",
          "name": "stderr",
          "text": [
            "Epoch 3/5:  48%|████▊     | 3752/7783 [06:45<06:39, 10.09it/s]"
          ]
        },
        {
          "output_type": "stream",
          "name": "stdout",
          "text": [
            "Batch 3750/7783:\n",
            "total_loss: 0.3002169728279114\n"
          ]
        },
        {
          "output_type": "stream",
          "name": "stderr",
          "text": [
            "Epoch 3/5:  51%|█████▏    | 4001/7783 [07:13<06:15, 10.07it/s]"
          ]
        },
        {
          "output_type": "stream",
          "name": "stdout",
          "text": [
            "Batch 4000/7783:\n",
            "total_loss: 0.5114618539810181\n"
          ]
        },
        {
          "output_type": "stream",
          "name": "stderr",
          "text": [
            "Epoch 3/5:  55%|█████▍    | 4252/7783 [07:40<05:47, 10.17it/s]"
          ]
        },
        {
          "output_type": "stream",
          "name": "stdout",
          "text": [
            "Batch 4250/7783:\n",
            "total_loss: 0.36421725153923035\n"
          ]
        },
        {
          "output_type": "stream",
          "name": "stderr",
          "text": [
            "Epoch 3/5:  58%|█████▊    | 4500/7783 [08:07<05:23, 10.16it/s]"
          ]
        },
        {
          "output_type": "stream",
          "name": "stdout",
          "text": [
            "Batch 4500/7783:\n",
            "total_loss: 0.4007834196090698\n"
          ]
        },
        {
          "output_type": "stream",
          "name": "stderr",
          "text": [
            "Epoch 3/5:  61%|██████    | 4752/7783 [08:34<05:12,  9.70it/s]"
          ]
        },
        {
          "output_type": "stream",
          "name": "stdout",
          "text": [
            "Batch 4750/7783:\n",
            "total_loss: 0.4172327518463135\n"
          ]
        },
        {
          "output_type": "stream",
          "name": "stderr",
          "text": [
            "Epoch 3/5:  64%|██████▍   | 5000/7783 [09:01<04:28, 10.35it/s]"
          ]
        },
        {
          "output_type": "stream",
          "name": "stdout",
          "text": [
            "Batch 5000/7783:\n",
            "total_loss: 0.555371880531311\n"
          ]
        },
        {
          "output_type": "stream",
          "name": "stderr",
          "text": [
            "Epoch 3/5:  67%|██████▋   | 5252/7783 [09:28<04:21,  9.67it/s]"
          ]
        },
        {
          "output_type": "stream",
          "name": "stdout",
          "text": [
            "Batch 5250/7783:\n",
            "total_loss: 0.5435057878494263\n"
          ]
        },
        {
          "output_type": "stream",
          "name": "stderr",
          "text": [
            "Epoch 3/5:  71%|███████   | 5500/7783 [09:56<04:07,  9.21it/s]"
          ]
        },
        {
          "output_type": "stream",
          "name": "stdout",
          "text": [
            "Batch 5500/7783:\n",
            "total_loss: 0.5160278677940369\n"
          ]
        },
        {
          "output_type": "stream",
          "name": "stderr",
          "text": [
            "Epoch 3/5:  74%|███████▍  | 5752/7783 [10:23<03:15, 10.37it/s]"
          ]
        },
        {
          "output_type": "stream",
          "name": "stdout",
          "text": [
            "Batch 5750/7783:\n",
            "total_loss: 0.6242573857307434\n"
          ]
        },
        {
          "output_type": "stream",
          "name": "stderr",
          "text": [
            "Epoch 3/5:  77%|███████▋  | 6000/7783 [10:49<03:10,  9.36it/s]"
          ]
        },
        {
          "output_type": "stream",
          "name": "stdout",
          "text": [
            "Batch 6000/7783:\n",
            "total_loss: 0.3696134388446808\n"
          ]
        },
        {
          "output_type": "stream",
          "name": "stderr",
          "text": [
            "Epoch 3/5:  80%|████████  | 6250/7783 [11:16<02:30, 10.18it/s]"
          ]
        },
        {
          "output_type": "stream",
          "name": "stdout",
          "text": [
            "Batch 6250/7783:\n",
            "total_loss: 0.35211122035980225\n"
          ]
        },
        {
          "output_type": "stream",
          "name": "stderr",
          "text": [
            "Epoch 3/5:  84%|████████▎ | 6502/7783 [11:43<02:03, 10.39it/s]"
          ]
        },
        {
          "output_type": "stream",
          "name": "stdout",
          "text": [
            "Batch 6500/7783:\n",
            "total_loss: 0.4562491178512573\n"
          ]
        },
        {
          "output_type": "stream",
          "name": "stderr",
          "text": [
            "Epoch 3/5:  87%|████████▋ | 6750/7783 [12:09<01:44,  9.85it/s]"
          ]
        },
        {
          "output_type": "stream",
          "name": "stdout",
          "text": [
            "Batch 6750/7783:\n",
            "total_loss: 0.3596145510673523\n"
          ]
        },
        {
          "output_type": "stream",
          "name": "stderr",
          "text": [
            "Epoch 3/5:  90%|████████▉ | 7002/7783 [12:36<01:14, 10.45it/s]"
          ]
        },
        {
          "output_type": "stream",
          "name": "stdout",
          "text": [
            "Batch 7000/7783:\n",
            "total_loss: 0.41959348320961\n"
          ]
        },
        {
          "output_type": "stream",
          "name": "stderr",
          "text": [
            "Epoch 3/5:  93%|█████████▎| 7250/7783 [13:03<00:52, 10.12it/s]"
          ]
        },
        {
          "output_type": "stream",
          "name": "stdout",
          "text": [
            "Batch 7250/7783:\n",
            "total_loss: 0.42669105529785156\n"
          ]
        },
        {
          "output_type": "stream",
          "name": "stderr",
          "text": [
            "Epoch 3/5:  96%|█████████▋| 7500/7783 [13:30<00:27, 10.20it/s]"
          ]
        },
        {
          "output_type": "stream",
          "name": "stdout",
          "text": [
            "Batch 7500/7783:\n",
            "total_loss: 0.38575175404548645\n"
          ]
        },
        {
          "output_type": "stream",
          "name": "stderr",
          "text": [
            "Epoch 3/5: 100%|█████████▉| 7750/7783 [13:57<00:03, 10.07it/s]"
          ]
        },
        {
          "output_type": "stream",
          "name": "stdout",
          "text": [
            "Batch 7750/7783:\n",
            "total_loss: 0.4041978716850281\n"
          ]
        },
        {
          "output_type": "stream",
          "name": "stderr",
          "text": [
            "Epoch 3/5: 100%|██████████| 7783/7783 [14:01<00:00,  9.25it/s]\n",
            "Validating: 100%|██████████| 15/15 [00:02<00:00,  5.46it/s]"
          ]
        },
        {
          "output_type": "stream",
          "name": "stdout",
          "text": [
            "\n",
            "Epoch Summary:\n",
            "Train Total Loss: 0.4515\n",
            "Val Total Loss: 0.3829\n",
            "Learning Rate: 0.000100\n",
            "New best model saved with val loss: 0.3829\n",
            "--------------------------------------------------\n"
          ]
        },
        {
          "output_type": "stream",
          "name": "stderr",
          "text": [
            "\n",
            "Epoch 4/5:   3%|▎         | 250/7783 [00:27<13:03,  9.62it/s]"
          ]
        },
        {
          "output_type": "stream",
          "name": "stdout",
          "text": [
            "Batch 250/7783:\n",
            "total_loss: 0.5813769102096558\n"
          ]
        },
        {
          "output_type": "stream",
          "name": "stderr",
          "text": [
            "Epoch 4/5:   6%|▋         | 499/7783 [00:54<11:48, 10.28it/s]"
          ]
        },
        {
          "output_type": "stream",
          "name": "stdout",
          "text": [
            "Batch 500/7783:\n",
            "total_loss: 0.4501926898956299\n"
          ]
        },
        {
          "output_type": "stream",
          "name": "stderr",
          "text": [
            "Epoch 4/5:  10%|▉         | 751/7783 [01:21<11:26, 10.25it/s]"
          ]
        },
        {
          "output_type": "stream",
          "name": "stdout",
          "text": [
            "Batch 750/7783:\n",
            "total_loss: 0.37848398089408875\n"
          ]
        },
        {
          "output_type": "stream",
          "name": "stderr",
          "text": [
            "Epoch 4/5:  13%|█▎        | 999/7783 [01:48<10:56, 10.34it/s]"
          ]
        },
        {
          "output_type": "stream",
          "name": "stdout",
          "text": [
            "Batch 1000/7783:\n",
            "total_loss: 0.5006594061851501\n"
          ]
        },
        {
          "output_type": "stream",
          "name": "stderr",
          "text": [
            "Epoch 4/5:  16%|█▌        | 1252/7783 [02:15<10:45, 10.11it/s]"
          ]
        },
        {
          "output_type": "stream",
          "name": "stdout",
          "text": [
            "Batch 1250/7783:\n",
            "total_loss: 0.3449082672595978\n"
          ]
        },
        {
          "output_type": "stream",
          "name": "stderr",
          "text": [
            "Epoch 4/5:  19%|█▉        | 1500/7783 [02:42<10:27, 10.01it/s]"
          ]
        },
        {
          "output_type": "stream",
          "name": "stdout",
          "text": [
            "Batch 1500/7783:\n",
            "total_loss: 0.3793310821056366\n"
          ]
        },
        {
          "output_type": "stream",
          "name": "stderr",
          "text": [
            "Epoch 4/5:  23%|██▎       | 1752/7783 [03:09<10:06,  9.94it/s]"
          ]
        },
        {
          "output_type": "stream",
          "name": "stdout",
          "text": [
            "Batch 1750/7783:\n",
            "total_loss: 0.21813395619392395\n"
          ]
        },
        {
          "output_type": "stream",
          "name": "stderr",
          "text": [
            "Epoch 4/5:  26%|██▌       | 2000/7783 [03:36<09:18, 10.35it/s]"
          ]
        },
        {
          "output_type": "stream",
          "name": "stdout",
          "text": [
            "Batch 2000/7783:\n",
            "total_loss: 0.4977359473705292\n"
          ]
        },
        {
          "output_type": "stream",
          "name": "stderr",
          "text": [
            "Epoch 4/5:  29%|██▉       | 2252/7783 [04:03<08:55, 10.32it/s]"
          ]
        },
        {
          "output_type": "stream",
          "name": "stdout",
          "text": [
            "Batch 2250/7783:\n",
            "total_loss: 0.24689166247844696\n"
          ]
        },
        {
          "output_type": "stream",
          "name": "stderr",
          "text": [
            "Epoch 4/5:  32%|███▏      | 2500/7783 [04:30<08:43, 10.09it/s]"
          ]
        },
        {
          "output_type": "stream",
          "name": "stdout",
          "text": [
            "Batch 2500/7783:\n",
            "total_loss: 0.3125508427619934\n"
          ]
        },
        {
          "output_type": "stream",
          "name": "stderr",
          "text": [
            "Epoch 4/5:  35%|███▌      | 2752/7783 [04:57<08:05, 10.37it/s]"
          ]
        },
        {
          "output_type": "stream",
          "name": "stdout",
          "text": [
            "Batch 2750/7783:\n",
            "total_loss: 0.30993103981018066\n"
          ]
        },
        {
          "output_type": "stream",
          "name": "stderr",
          "text": [
            "Epoch 4/5:  39%|███▊      | 3000/7783 [05:24<07:39, 10.40it/s]"
          ]
        },
        {
          "output_type": "stream",
          "name": "stdout",
          "text": [
            "Batch 3000/7783:\n",
            "total_loss: 0.2908690571784973\n"
          ]
        },
        {
          "output_type": "stream",
          "name": "stderr",
          "text": [
            "Epoch 4/5:  42%|████▏     | 3252/7783 [05:51<07:55,  9.54it/s]"
          ]
        },
        {
          "output_type": "stream",
          "name": "stdout",
          "text": [
            "Batch 3250/7783:\n",
            "total_loss: 0.40808212757110596\n"
          ]
        },
        {
          "output_type": "stream",
          "name": "stderr",
          "text": [
            "Epoch 4/5:  45%|████▍     | 3500/7783 [06:18<07:03, 10.12it/s]"
          ]
        },
        {
          "output_type": "stream",
          "name": "stdout",
          "text": [
            "Batch 3500/7783:\n",
            "total_loss: 0.37431609630584717\n"
          ]
        },
        {
          "output_type": "stream",
          "name": "stderr",
          "text": [
            "Epoch 4/5:  48%|████▊     | 3752/7783 [06:45<06:45,  9.93it/s]"
          ]
        },
        {
          "output_type": "stream",
          "name": "stdout",
          "text": [
            "Batch 3750/7783:\n",
            "total_loss: 0.42086029052734375\n"
          ]
        },
        {
          "output_type": "stream",
          "name": "stderr",
          "text": [
            "Epoch 4/5:  51%|█████▏    | 4000/7783 [07:12<06:04, 10.39it/s]"
          ]
        },
        {
          "output_type": "stream",
          "name": "stdout",
          "text": [
            "Batch 4000/7783:\n",
            "total_loss: 0.4888419210910797\n"
          ]
        },
        {
          "output_type": "stream",
          "name": "stderr",
          "text": [
            "Epoch 4/5:  55%|█████▍    | 4249/7783 [07:39<05:47, 10.18it/s]"
          ]
        },
        {
          "output_type": "stream",
          "name": "stdout",
          "text": [
            "Batch 4250/7783:\n",
            "total_loss: 0.5705952048301697\n"
          ]
        },
        {
          "output_type": "stream",
          "name": "stderr",
          "text": [
            "Epoch 4/5:  58%|█████▊    | 4501/7783 [08:06<05:24, 10.11it/s]"
          ]
        },
        {
          "output_type": "stream",
          "name": "stdout",
          "text": [
            "Batch 4500/7783:\n",
            "total_loss: 0.4607667624950409\n"
          ]
        },
        {
          "output_type": "stream",
          "name": "stderr",
          "text": [
            "Epoch 4/5:  61%|██████    | 4749/7783 [08:33<05:02, 10.04it/s]"
          ]
        },
        {
          "output_type": "stream",
          "name": "stdout",
          "text": [
            "Batch 4750/7783:\n",
            "total_loss: 0.42896702885627747\n"
          ]
        },
        {
          "output_type": "stream",
          "name": "stderr",
          "text": [
            "Epoch 4/5:  64%|██████▍   | 5001/7783 [09:00<04:30, 10.27it/s]"
          ]
        },
        {
          "output_type": "stream",
          "name": "stdout",
          "text": [
            "Batch 5000/7783:\n",
            "total_loss: 0.32409995794296265\n"
          ]
        },
        {
          "output_type": "stream",
          "name": "stderr",
          "text": [
            "Epoch 4/5:  67%|██████▋   | 5249/7783 [09:27<04:23,  9.61it/s]"
          ]
        },
        {
          "output_type": "stream",
          "name": "stdout",
          "text": [
            "Batch 5250/7783:\n",
            "total_loss: 0.542652428150177\n"
          ]
        },
        {
          "output_type": "stream",
          "name": "stderr",
          "text": [
            "Epoch 4/5:  71%|███████   | 5502/7783 [09:54<03:42, 10.27it/s]"
          ]
        },
        {
          "output_type": "stream",
          "name": "stdout",
          "text": [
            "Batch 5500/7783:\n",
            "total_loss: 0.43653494119644165\n"
          ]
        },
        {
          "output_type": "stream",
          "name": "stderr",
          "text": [
            "Epoch 4/5:  74%|███████▍  | 5750/7783 [10:21<03:25,  9.88it/s]"
          ]
        },
        {
          "output_type": "stream",
          "name": "stdout",
          "text": [
            "Batch 5750/7783:\n",
            "total_loss: 0.441150963306427\n"
          ]
        },
        {
          "output_type": "stream",
          "name": "stderr",
          "text": [
            "Epoch 4/5:  77%|███████▋  | 6001/7783 [10:48<02:53, 10.29it/s]"
          ]
        },
        {
          "output_type": "stream",
          "name": "stdout",
          "text": [
            "Batch 6000/7783:\n",
            "total_loss: 0.3121704161167145\n"
          ]
        },
        {
          "output_type": "stream",
          "name": "stderr",
          "text": [
            "Epoch 4/5:  80%|████████  | 6250/7783 [11:15<02:30, 10.17it/s]"
          ]
        },
        {
          "output_type": "stream",
          "name": "stdout",
          "text": [
            "Batch 6250/7783:\n",
            "total_loss: 0.36377546191215515\n"
          ]
        },
        {
          "output_type": "stream",
          "name": "stderr",
          "text": [
            "Epoch 4/5:  84%|████████▎ | 6502/7783 [11:42<02:04, 10.25it/s]"
          ]
        },
        {
          "output_type": "stream",
          "name": "stdout",
          "text": [
            "Batch 6500/7783:\n",
            "total_loss: 0.4202072024345398\n"
          ]
        },
        {
          "output_type": "stream",
          "name": "stderr",
          "text": [
            "Epoch 4/5:  87%|████████▋ | 6750/7783 [12:09<01:43, 10.00it/s]"
          ]
        },
        {
          "output_type": "stream",
          "name": "stdout",
          "text": [
            "Batch 6750/7783:\n",
            "total_loss: 0.3390291631221771\n"
          ]
        },
        {
          "output_type": "stream",
          "name": "stderr",
          "text": [
            "Epoch 4/5:  90%|████████▉ | 7001/7783 [12:36<01:29,  8.73it/s]"
          ]
        },
        {
          "output_type": "stream",
          "name": "stdout",
          "text": [
            "Batch 7000/7783:\n",
            "total_loss: 0.42732465267181396\n"
          ]
        },
        {
          "output_type": "stream",
          "name": "stderr",
          "text": [
            "Epoch 4/5:  93%|█████████▎| 7249/7783 [13:03<00:51, 10.36it/s]"
          ]
        },
        {
          "output_type": "stream",
          "name": "stdout",
          "text": [
            "Batch 7250/7783:\n",
            "total_loss: 0.4019427001476288\n"
          ]
        },
        {
          "output_type": "stream",
          "name": "stderr",
          "text": [
            "Epoch 4/5:  96%|█████████▋| 7502/7783 [13:30<00:27, 10.25it/s]"
          ]
        },
        {
          "output_type": "stream",
          "name": "stdout",
          "text": [
            "Batch 7500/7783:\n",
            "total_loss: 0.535003662109375\n"
          ]
        },
        {
          "output_type": "stream",
          "name": "stderr",
          "text": [
            "Epoch 4/5: 100%|█████████▉| 7750/7783 [13:56<00:03, 10.22it/s]"
          ]
        },
        {
          "output_type": "stream",
          "name": "stdout",
          "text": [
            "Batch 7750/7783:\n",
            "total_loss: 0.4573497772216797\n"
          ]
        },
        {
          "output_type": "stream",
          "name": "stderr",
          "text": [
            "Epoch 4/5: 100%|██████████| 7783/7783 [14:00<00:00,  9.26it/s]\n",
            "Validating: 100%|██████████| 15/15 [00:02<00:00,  5.54it/s]"
          ]
        },
        {
          "output_type": "stream",
          "name": "stdout",
          "text": [
            "\n",
            "Epoch Summary:\n",
            "Train Total Loss: 0.4067\n",
            "Val Total Loss: 0.4036\n",
            "Learning Rate: 0.000100\n",
            "--------------------------------------------------\n"
          ]
        },
        {
          "output_type": "stream",
          "name": "stderr",
          "text": [
            "\n",
            "Epoch 5/5:   3%|▎         | 251/7783 [00:27<12:12, 10.29it/s]"
          ]
        },
        {
          "output_type": "stream",
          "name": "stdout",
          "text": [
            "Batch 250/7783:\n",
            "total_loss: 0.3088120222091675\n"
          ]
        },
        {
          "output_type": "stream",
          "name": "stderr",
          "text": [
            "Epoch 5/5:   6%|▋         | 499/7783 [00:53<11:38, 10.43it/s]"
          ]
        },
        {
          "output_type": "stream",
          "name": "stdout",
          "text": [
            "Batch 500/7783:\n",
            "total_loss: 0.5017609000205994\n"
          ]
        },
        {
          "output_type": "stream",
          "name": "stderr",
          "text": [
            "Epoch 5/5:  10%|▉         | 751/7783 [01:20<11:39, 10.05it/s]"
          ]
        },
        {
          "output_type": "stream",
          "name": "stdout",
          "text": [
            "Batch 750/7783:\n",
            "total_loss: 0.25263720750808716\n"
          ]
        },
        {
          "output_type": "stream",
          "name": "stderr",
          "text": [
            "Epoch 5/5:  13%|█▎        | 999/7783 [01:47<10:49, 10.45it/s]"
          ]
        },
        {
          "output_type": "stream",
          "name": "stdout",
          "text": [
            "Batch 1000/7783:\n",
            "total_loss: 0.3914138674736023\n"
          ]
        },
        {
          "output_type": "stream",
          "name": "stderr",
          "text": [
            "Epoch 5/5:  16%|█▌        | 1249/7783 [02:13<10:38, 10.24it/s]"
          ]
        },
        {
          "output_type": "stream",
          "name": "stdout",
          "text": [
            "Batch 1250/7783:\n",
            "total_loss: 0.47338658571243286\n"
          ]
        },
        {
          "output_type": "stream",
          "name": "stderr",
          "text": [
            "Epoch 5/5:  19%|█▉        | 1501/7783 [02:40<10:17, 10.17it/s]"
          ]
        },
        {
          "output_type": "stream",
          "name": "stdout",
          "text": [
            "Batch 1500/7783:\n",
            "total_loss: 0.32836511731147766\n"
          ]
        },
        {
          "output_type": "stream",
          "name": "stderr",
          "text": [
            "Epoch 5/5:  22%|██▏       | 1751/7783 [03:08<10:13,  9.84it/s]"
          ]
        },
        {
          "output_type": "stream",
          "name": "stdout",
          "text": [
            "Batch 1750/7783:\n",
            "total_loss: 0.3774169385433197\n"
          ]
        },
        {
          "output_type": "stream",
          "name": "stderr",
          "text": [
            "Epoch 5/5:  26%|██▌       | 2001/7783 [03:35<11:06,  8.67it/s]"
          ]
        },
        {
          "output_type": "stream",
          "name": "stdout",
          "text": [
            "Batch 2000/7783:\n",
            "total_loss: 0.2512301802635193\n"
          ]
        },
        {
          "output_type": "stream",
          "name": "stderr",
          "text": [
            "Epoch 5/5:  29%|██▉       | 2250/7783 [04:01<09:23,  9.82it/s]"
          ]
        },
        {
          "output_type": "stream",
          "name": "stdout",
          "text": [
            "Batch 2250/7783:\n",
            "total_loss: 0.2536848187446594\n"
          ]
        },
        {
          "output_type": "stream",
          "name": "stderr",
          "text": [
            "Epoch 5/5:  32%|███▏      | 2500/7783 [04:28<08:47, 10.01it/s]"
          ]
        },
        {
          "output_type": "stream",
          "name": "stdout",
          "text": [
            "Batch 2500/7783:\n",
            "total_loss: 0.40198156237602234\n"
          ]
        },
        {
          "output_type": "stream",
          "name": "stderr",
          "text": [
            "Epoch 5/5:  35%|███▌      | 2752/7783 [04:55<08:07, 10.31it/s]"
          ]
        },
        {
          "output_type": "stream",
          "name": "stdout",
          "text": [
            "Batch 2750/7783:\n",
            "total_loss: 0.387783944606781\n"
          ]
        },
        {
          "output_type": "stream",
          "name": "stderr",
          "text": [
            "Epoch 5/5:  39%|███▊      | 3002/7783 [05:22<08:05,  9.85it/s]"
          ]
        },
        {
          "output_type": "stream",
          "name": "stdout",
          "text": [
            "Batch 3000/7783:\n",
            "total_loss: 0.3073616027832031\n"
          ]
        },
        {
          "output_type": "stream",
          "name": "stderr",
          "text": [
            "Epoch 5/5:  42%|████▏     | 3250/7783 [05:49<07:18, 10.33it/s]"
          ]
        },
        {
          "output_type": "stream",
          "name": "stdout",
          "text": [
            "Batch 3250/7783:\n",
            "total_loss: 0.29058846831321716\n"
          ]
        },
        {
          "output_type": "stream",
          "name": "stderr",
          "text": [
            "Epoch 5/5:  45%|████▍     | 3502/7783 [06:16<07:06, 10.04it/s]"
          ]
        },
        {
          "output_type": "stream",
          "name": "stdout",
          "text": [
            "Batch 3500/7783:\n",
            "total_loss: 0.40234777331352234\n"
          ]
        },
        {
          "output_type": "stream",
          "name": "stderr",
          "text": [
            "Epoch 5/5:  48%|████▊     | 3750/7783 [06:43<07:23,  9.08it/s]"
          ]
        },
        {
          "output_type": "stream",
          "name": "stdout",
          "text": [
            "Batch 3750/7783:\n",
            "total_loss: 0.5115523934364319\n"
          ]
        },
        {
          "output_type": "stream",
          "name": "stderr",
          "text": [
            "Epoch 5/5:  51%|█████▏    | 4002/7783 [07:10<06:43,  9.38it/s]"
          ]
        },
        {
          "output_type": "stream",
          "name": "stdout",
          "text": [
            "Batch 4000/7783:\n",
            "total_loss: 0.33954551815986633\n"
          ]
        },
        {
          "output_type": "stream",
          "name": "stderr",
          "text": [
            "Epoch 5/5:  55%|█████▍    | 4250/7783 [07:37<06:06,  9.65it/s]"
          ]
        },
        {
          "output_type": "stream",
          "name": "stdout",
          "text": [
            "Batch 4250/7783:\n",
            "total_loss: 0.26551955938339233\n"
          ]
        },
        {
          "output_type": "stream",
          "name": "stderr",
          "text": [
            "Epoch 5/5:  58%|█████▊    | 4501/7783 [08:04<05:24, 10.10it/s]"
          ]
        },
        {
          "output_type": "stream",
          "name": "stdout",
          "text": [
            "Batch 4500/7783:\n",
            "total_loss: 0.2739455997943878\n"
          ]
        },
        {
          "output_type": "stream",
          "name": "stderr",
          "text": [
            "Epoch 5/5:  61%|██████    | 4752/7783 [08:31<04:51, 10.40it/s]"
          ]
        },
        {
          "output_type": "stream",
          "name": "stdout",
          "text": [
            "Batch 4750/7783:\n",
            "total_loss: 0.33426621556282043\n"
          ]
        },
        {
          "output_type": "stream",
          "name": "stderr",
          "text": [
            "Epoch 5/5:  64%|██████▍   | 5000/7783 [08:58<04:35, 10.12it/s]"
          ]
        },
        {
          "output_type": "stream",
          "name": "stdout",
          "text": [
            "Batch 5000/7783:\n",
            "total_loss: 0.498263418674469\n"
          ]
        },
        {
          "output_type": "stream",
          "name": "stderr",
          "text": [
            "Epoch 5/5:  67%|██████▋   | 5252/7783 [09:25<04:13,  9.97it/s]"
          ]
        },
        {
          "output_type": "stream",
          "name": "stdout",
          "text": [
            "Batch 5250/7783:\n",
            "total_loss: 0.21309711039066315\n"
          ]
        },
        {
          "output_type": "stream",
          "name": "stderr",
          "text": [
            "Epoch 5/5:  71%|███████   | 5500/7783 [09:52<03:38, 10.46it/s]"
          ]
        },
        {
          "output_type": "stream",
          "name": "stdout",
          "text": [
            "Batch 5500/7783:\n",
            "total_loss: 0.42148464918136597\n"
          ]
        },
        {
          "output_type": "stream",
          "name": "stderr",
          "text": [
            "Epoch 5/5:  74%|███████▍  | 5752/7783 [10:19<03:25,  9.89it/s]"
          ]
        },
        {
          "output_type": "stream",
          "name": "stdout",
          "text": [
            "Batch 5750/7783:\n",
            "total_loss: 0.5086964964866638\n"
          ]
        },
        {
          "output_type": "stream",
          "name": "stderr",
          "text": [
            "Epoch 5/5:  77%|███████▋  | 6000/7783 [10:46<02:52, 10.31it/s]"
          ]
        },
        {
          "output_type": "stream",
          "name": "stdout",
          "text": [
            "Batch 6000/7783:\n",
            "total_loss: 0.43739643692970276\n"
          ]
        },
        {
          "output_type": "stream",
          "name": "stderr",
          "text": [
            "Epoch 5/5:  80%|████████  | 6252/7783 [11:13<02:31, 10.09it/s]"
          ]
        },
        {
          "output_type": "stream",
          "name": "stdout",
          "text": [
            "Batch 6250/7783:\n",
            "total_loss: 0.25562742352485657\n"
          ]
        },
        {
          "output_type": "stream",
          "name": "stderr",
          "text": [
            "Epoch 5/5:  84%|████████▎ | 6500/7783 [11:40<02:06, 10.16it/s]"
          ]
        },
        {
          "output_type": "stream",
          "name": "stdout",
          "text": [
            "Batch 6500/7783:\n",
            "total_loss: 0.37235236167907715\n"
          ]
        },
        {
          "output_type": "stream",
          "name": "stderr",
          "text": [
            "Epoch 5/5:  87%|████████▋ | 6749/7783 [12:06<01:49,  9.41it/s]"
          ]
        },
        {
          "output_type": "stream",
          "name": "stdout",
          "text": [
            "Batch 6750/7783:\n",
            "total_loss: 0.29373326897621155\n"
          ]
        },
        {
          "output_type": "stream",
          "name": "stderr",
          "text": [
            "Epoch 5/5:  90%|████████▉ | 7000/7783 [12:33<01:18,  9.96it/s]"
          ]
        },
        {
          "output_type": "stream",
          "name": "stdout",
          "text": [
            "Batch 7000/7783:\n",
            "total_loss: 0.23771759867668152\n"
          ]
        },
        {
          "output_type": "stream",
          "name": "stderr",
          "text": [
            "Epoch 5/5:  93%|█████████▎| 7250/7783 [13:00<00:52, 10.16it/s]"
          ]
        },
        {
          "output_type": "stream",
          "name": "stdout",
          "text": [
            "Batch 7250/7783:\n",
            "total_loss: 0.42935481667518616\n"
          ]
        },
        {
          "output_type": "stream",
          "name": "stderr",
          "text": [
            "Epoch 5/5:  96%|█████████▋| 7502/7783 [13:27<00:28,  9.95it/s]"
          ]
        },
        {
          "output_type": "stream",
          "name": "stdout",
          "text": [
            "Batch 7500/7783:\n",
            "total_loss: 0.1438828557729721\n"
          ]
        },
        {
          "output_type": "stream",
          "name": "stderr",
          "text": [
            "Epoch 5/5: 100%|█████████▉| 7751/7783 [13:54<00:03,  8.75it/s]"
          ]
        },
        {
          "output_type": "stream",
          "name": "stdout",
          "text": [
            "Batch 7750/7783:\n",
            "total_loss: 0.2663438618183136\n"
          ]
        },
        {
          "output_type": "stream",
          "name": "stderr",
          "text": [
            "Epoch 5/5: 100%|██████████| 7783/7783 [13:58<00:00,  9.28it/s]\n",
            "Validating: 100%|██████████| 15/15 [00:02<00:00,  5.47it/s]"
          ]
        },
        {
          "output_type": "stream",
          "name": "stdout",
          "text": [
            "\n",
            "Epoch Summary:\n",
            "Train Total Loss: 0.3688\n",
            "Val Total Loss: 0.3259\n",
            "Learning Rate: 0.000100\n",
            "New best model saved with val loss: 0.3259\n",
            "--------------------------------------------------\n"
          ]
        },
        {
          "output_type": "stream",
          "name": "stderr",
          "text": [
            "\n"
          ]
        }
      ],
      "source": [
        "pconfig = PointNetConfig(\n",
        "    embeddingSize=n_embd,\n",
        "    numberofPoints=numPoints,\n",
        "    numberofVars=numVars,\n",
        "    numberofYs=numYs,\n",
        ")\n",
        "\n",
        "model = SymbolicGaussianDiffusion(\n",
        "    tnet_config=pconfig,\n",
        "    vocab_size=train_dataset.vocab_size,\n",
        "    max_seq_len=blockSize,\n",
        "    padding_idx=train_dataset.paddingID,\n",
        "    max_num_vars=9,\n",
        "    n_layer=4,\n",
        "    n_head=4,\n",
        "    n_embd=n_embd,\n",
        "    timesteps=timesteps,\n",
        "    beta_start=0.0001,\n",
        "    beta_end=0.02,\n",
        "    set_transformer=True,\n",
        ")\n",
        "\n",
        "train_single_gpu(\n",
        "    model,\n",
        "    train_dataset,\n",
        "    val_dataset,\n",
        "    num_epochs=num_epochs,\n",
        "    save_every=2,\n",
        "    batch_size=batch_size,\n",
        "    timesteps=timesteps,\n",
        "    learning_rate=learning_rate,\n",
        "    path=\"/content/drive/MyDrive/Colab/STAT946_proj/models/stable_diffusym/3_var_set_transformer_sd.pth\"\n",
        ")"
      ]
    }
  ],
  "metadata": {
    "kaggle": {
      "accelerator": "nvidiaTeslaT4",
      "dataSources": [
        {
          "datasetId": 6977314,
          "sourceId": 11178716,
          "sourceType": "datasetVersion"
        },
        {
          "datasetId": 7089758,
          "sourceId": 11333846,
          "sourceType": "datasetVersion"
        },
        {
          "isSourceIdPinned": true,
          "modelId": 282263,
          "modelInstanceId": 261112,
          "sourceId": 306062,
          "sourceType": "modelInstanceVersion"
        },
        {
          "isSourceIdPinned": true,
          "modelId": 290784,
          "modelInstanceId": 269794,
          "sourceId": 319741,
          "sourceType": "modelInstanceVersion"
        },
        {
          "isSourceIdPinned": true,
          "modelId": 290853,
          "modelInstanceId": 269860,
          "sourceId": 319828,
          "sourceType": "modelInstanceVersion"
        }
      ],
      "dockerImageVersionId": 30919,
      "isGpuEnabled": true,
      "isInternetEnabled": true,
      "language": "python",
      "sourceType": "notebook"
    },
    "kernelspec": {
      "display_name": "Python 3",
      "name": "python3"
    },
    "language_info": {
      "codemirror_mode": {
        "name": "ipython",
        "version": 3
      },
      "file_extension": ".py",
      "mimetype": "text/x-python",
      "name": "python",
      "nbconvert_exporter": "python",
      "pygments_lexer": "ipython3",
      "version": "3.10.12"
    },
    "papermill": {
      "default_parameters": {},
      "duration": 10018.029584,
      "end_time": "2025-04-09T07:23:48.813413",
      "environment_variables": {},
      "exception": null,
      "input_path": "__notebook__.ipynb",
      "output_path": "__notebook__.ipynb",
      "parameters": {},
      "start_time": "2025-04-09T04:36:50.783829",
      "version": "2.6.0"
    },
    "colab": {
      "provenance": [],
      "machine_shape": "hm",
      "gpuType": "L4",
      "include_colab_link": true
    },
    "accelerator": "GPU"
  },
  "nbformat": 4,
  "nbformat_minor": 5
}