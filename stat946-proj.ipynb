{
  "cells": [
    {
      "cell_type": "markdown",
      "metadata": {
        "id": "view-in-github",
        "colab_type": "text"
      },
      "source": [
        "<a href=\"https://colab.research.google.com/github/carolynw898/STAT946Proj/blob/CFG-sampling/stat946-proj.ipynb\" target=\"_parent\"><img src=\"https://colab.research.google.com/assets/colab-badge.svg\" alt=\"Open In Colab\"/></a>"
      ]
    },
    {
      "cell_type": "code",
      "execution_count": 1,
      "id": "a7c33550",
      "metadata": {
        "_cell_guid": "b1076dfc-b9ad-4769-8c92-a6c4dae69d19",
        "_uuid": "8f2839f25d086af736a60e9eeb907d3b93b6e0e5",
        "execution": {
          "iopub.execute_input": "2025-04-13T14:38:52.823554Z",
          "iopub.status.busy": "2025-04-13T14:38:52.823331Z",
          "iopub.status.idle": "2025-04-13T14:38:53.832031Z",
          "shell.execute_reply": "2025-04-13T14:38:53.830904Z"
        },
        "papermill": {
          "duration": 1.01423,
          "end_time": "2025-04-13T14:38:53.833680",
          "exception": false,
          "start_time": "2025-04-13T14:38:52.819450",
          "status": "completed"
        },
        "tags": [],
        "id": "a7c33550",
        "outputId": "e9c3c2a1-b6b2-4568-bd94-b00766885d5d",
        "colab": {
          "base_uri": "https://localhost:8080/"
        }
      },
      "outputs": [
        {
          "output_type": "stream",
          "name": "stdout",
          "text": [
            "Mounted at /content/drive\n"
          ]
        }
      ],
      "source": [
        "from google.colab import drive\n",
        "drive.mount('/content/drive')"
      ]
    },
    {
      "cell_type": "code",
      "source": [
        "!git init\n",
        "!git remote add origin https://github.com/carolynw898/STAT946Proj.git\n",
        "!git fetch\n",
        "!git checkout f79dce25f2db624cc5518a9290c7cf9fb3a5717e -f"
      ],
      "metadata": {
        "id": "VPWsQSBBMDBX",
        "outputId": "9e39cbab-d02f-4462-ceef-5b41a03e20f9",
        "colab": {
          "base_uri": "https://localhost:8080/"
        }
      },
      "id": "VPWsQSBBMDBX",
      "execution_count": 2,
      "outputs": [
        {
          "output_type": "stream",
          "name": "stdout",
          "text": [
            "\u001b[33mhint: Using 'master' as the name for the initial branch. This default branch name\u001b[m\n",
            "\u001b[33mhint: is subject to change. To configure the initial branch name to use in all\u001b[m\n",
            "\u001b[33mhint: of your new repositories, which will suppress this warning, call:\u001b[m\n",
            "\u001b[33mhint: \u001b[m\n",
            "\u001b[33mhint: \tgit config --global init.defaultBranch <name>\u001b[m\n",
            "\u001b[33mhint: \u001b[m\n",
            "\u001b[33mhint: Names commonly chosen instead of 'master' are 'main', 'trunk' and\u001b[m\n",
            "\u001b[33mhint: 'development'. The just-created branch can be renamed via this command:\u001b[m\n",
            "\u001b[33mhint: \u001b[m\n",
            "\u001b[33mhint: \tgit branch -m <name>\u001b[m\n",
            "Initialized empty Git repository in /content/.git/\n",
            "remote: Enumerating objects: 20414, done.\u001b[K\n",
            "remote: Counting objects: 100% (53/53), done.\u001b[K\n",
            "remote: Compressing objects: 100% (50/50), done.\u001b[K\n",
            "remote: Total 20414 (delta 28), reused 8 (delta 3), pack-reused 20361 (from 2)\u001b[K\n",
            "Receiving objects: 100% (20414/20414), 82.84 MiB | 30.40 MiB/s, done.\n",
            "Resolving deltas: 100% (8003/8003), done.\n",
            "From https://github.com/carolynw898/STAT946Proj\n",
            " * [new branch]        CFG-sampling        -> origin/CFG-sampling\n",
            " * [new branch]        classifier-free     -> origin/classifier-free\n",
            " * [new branch]        main                -> origin/main\n",
            " * [new branch]        operatortok         -> origin/operatortok\n",
            " * [new branch]        validate_expression -> origin/validate_expression\n",
            "Note: switching to 'f79dce25f2db624cc5518a9290c7cf9fb3a5717e'.\n",
            "\n",
            "You are in 'detached HEAD' state. You can look around, make experimental\n",
            "changes and commit them, and you can discard any commits you make in this\n",
            "state without impacting any branches by switching back to a branch.\n",
            "\n",
            "If you want to create a new branch to retain commits you create, you may\n",
            "do so (now or later) by using -c with the switch command. Example:\n",
            "\n",
            "  git switch -c <new-branch-name>\n",
            "\n",
            "Or undo this operation with:\n",
            "\n",
            "  git switch -\n",
            "\n",
            "Turn off this advice by setting config variable advice.detachedHead to false\n",
            "\n",
            "HEAD is now at f79dce25 Fuck it. Flow Matching.\n"
          ]
        }
      ]
    },
    {
      "cell_type": "code",
      "source": [
        "from models import SymbolicGaussianDiffusion, PointNetConfig\n",
        "from utils import CharDataset, processDataFiles, tokenize_equation\n",
        "import json\n",
        "import numpy as np"
      ],
      "metadata": {
        "id": "KRommJiZOH6X"
      },
      "id": "KRommJiZOH6X",
      "execution_count": 3,
      "outputs": []
    },
    {
      "cell_type": "code",
      "source": [
        "import torch\n",
        "import torch.nn as nn\n",
        "from torch.utils.data import DataLoader\n",
        "from torch.optim import Adam\n",
        "from torch.optim.lr_scheduler import ReduceLROnPlateau, StepLR\n",
        "import tqdm\n",
        "from typing import Tuple\n",
        "from pathlib import Path\n",
        "\n",
        "def train_epoch(\n",
        "    model: SymbolicGaussianDiffusion,\n",
        "    train_loader: DataLoader,\n",
        "    optimizer: Adam,\n",
        "    train_dataset: CharDataset,\n",
        "    timesteps: int,\n",
        "    device: torch.device,\n",
        "    epoch: int,\n",
        "    num_epochs: int,\n",
        ") -> Tuple[float, float, float]:\n",
        "    model.train()\n",
        "    total_train_loss = 0\n",
        "\n",
        "    for i, (_, tokens, points, variables) in tqdm.tqdm(\n",
        "        enumerate(train_loader),\n",
        "        total=len(train_loader),\n",
        "        desc=f\"Epoch {epoch+1}/{num_epochs}\",\n",
        "    ):\n",
        "        points, tokens, variables = (\n",
        "            points.to(device),\n",
        "            tokens.to(device),\n",
        "            variables.to(device),\n",
        "        )\n",
        "        t = torch.randint(0, timesteps, (tokens.shape[0],), device=device)\n",
        "        optimizer.zero_grad()\n",
        "\n",
        "        total_loss = model(points, tokens, variables, t)\n",
        "\n",
        "        if (i + 1) % 250 == 0:\n",
        "            print(f\"Batch {i + 1}/{len(train_loader)}:\")\n",
        "            print(f\"total_loss: {total_loss}\")\n",
        "\n",
        "        total_loss.backward()\n",
        "        optimizer.step()\n",
        "\n",
        "        total_train_loss += total_loss.item()\n",
        "\n",
        "\n",
        "    avg_train_loss = total_train_loss / len(train_loader)\n",
        "    return avg_train_loss\n",
        "\n",
        "\n",
        "def val_epoch(\n",
        "    model: SymbolicGaussianDiffusion,\n",
        "    val_loader: DataLoader,\n",
        "    train_dataset: CharDataset,\n",
        "    timesteps: int,\n",
        "    device: torch.device,\n",
        "    epoch: int,\n",
        "    num_epochs: int,\n",
        ") -> Tuple[float, float, float]:\n",
        "    model.eval()\n",
        "    total_val_loss = 0\n",
        "\n",
        "    with torch.no_grad():\n",
        "        for _, tokens, points, variables in tqdm.tqdm(\n",
        "            val_loader, total=len(val_loader), desc=\"Validating\"\n",
        "        ):\n",
        "            points, tokens, variables = (\n",
        "                points.to(device),\n",
        "                tokens.to(device),\n",
        "                variables.to(device),\n",
        "            )\n",
        "            t = torch.randint(0, timesteps, (tokens.shape[0],), device=device)\n",
        "            total_loss = model(points, tokens, variables, t)\n",
        "\n",
        "            total_val_loss += total_loss.item()\n",
        "\n",
        "    avg_val_loss = total_val_loss / len(val_loader)\n",
        "    return avg_val_loss\n",
        "\n",
        "\n",
        "def train_single_gpu(\n",
        "    model: SymbolicGaussianDiffusion,\n",
        "    train_dataset: CharDataset,\n",
        "    val_dataset: CharDataset,\n",
        "    num_epochs=10,\n",
        "    save_every=2,\n",
        "    batch_size=32,\n",
        "    timesteps=1000,\n",
        "    learning_rate=1e-3,\n",
        "    path=None,\n",
        "):\n",
        "    device = torch.device(\"cuda\" if torch.cuda.is_available() else \"cpu\")\n",
        "\n",
        "    model = model.to(device)\n",
        "\n",
        "    optimizer = Adam(model.parameters(), lr=learning_rate)\n",
        "    scheduler = StepLR(optimizer, 1, 0.8)\n",
        "\n",
        "    train_loader = DataLoader(\n",
        "        train_dataset,\n",
        "        batch_size=batch_size,\n",
        "        pin_memory=True,\n",
        "        shuffle=True,\n",
        "        num_workers=4,\n",
        "    )\n",
        "    val_loader = DataLoader(\n",
        "        val_dataset,\n",
        "        batch_size=batch_size,\n",
        "        pin_memory=True,\n",
        "        shuffle=False,\n",
        "        num_workers=4,\n",
        "    )\n",
        "\n",
        "    best_val_loss = float(\"inf\")\n",
        "\n",
        "    for epoch in range(num_epochs):\n",
        "        avg_train_loss = train_epoch(\n",
        "            model,\n",
        "            train_loader,\n",
        "            optimizer,\n",
        "            train_dataset,\n",
        "            timesteps,\n",
        "            device,\n",
        "            epoch,\n",
        "            num_epochs,\n",
        "        )\n",
        "\n",
        "        avg_val_loss = val_epoch(\n",
        "            model, val_loader, train_dataset, timesteps, device, epoch, num_epochs\n",
        "        )\n",
        "\n",
        "        scheduler.step()\n",
        "        current_lr = optimizer.param_groups[0][\"lr\"]\n",
        "\n",
        "        print(\"\\nEpoch Summary:\")\n",
        "        print(\n",
        "            f\"Train Total Loss: {avg_train_loss:.4f}\"\n",
        "        )\n",
        "        print(\n",
        "            f\"Val Total Loss: {avg_val_loss:.4f}\"\n",
        "        )\n",
        "        print(f\"Learning Rate: {current_lr:.6f}\")\n",
        "\n",
        "        if avg_val_loss < best_val_loss:\n",
        "            best_val_loss = avg_val_loss\n",
        "            state_dict = model.state_dict()\n",
        "            path = Path(path)\n",
        "            path.parent.mkdir(parents=True, exist_ok=True)\n",
        "            torch.save(state_dict, path)\n",
        "            print(f\"New best model saved with val loss: {best_val_loss:.4f}\")\n",
        "\n",
        "        print(\"-\" * 50)"
      ],
      "metadata": {
        "id": "vKO45g_ORkXf"
      },
      "execution_count": 4,
      "outputs": [],
      "id": "vKO45g_ORkXf"
    },
    {
      "cell_type": "code",
      "execution_count": 5,
      "id": "477ccd8d",
      "metadata": {
        "execution": {
          "iopub.execute_input": "2025-04-13T14:38:59.265079Z",
          "iopub.status.busy": "2025-04-13T14:38:59.264866Z",
          "iopub.status.idle": "2025-04-13T14:38:59.338265Z",
          "shell.execute_reply": "2025-04-13T14:38:59.337529Z"
        },
        "papermill": {
          "duration": 0.077815,
          "end_time": "2025-04-13T14:38:59.339495",
          "exception": false,
          "start_time": "2025-04-13T14:38:59.261680",
          "status": "completed"
        },
        "tags": [],
        "id": "477ccd8d"
      },
      "outputs": [],
      "source": [
        "n_embd = 512\n",
        "timesteps = 1000\n",
        "batch_size = 64\n",
        "learning_rate = 1e-4\n",
        "num_epochs = 5\n",
        "blockSize = 32\n",
        "numVars = 1\n",
        "numYs = 1\n",
        "numPoints = 250\n",
        "target = 'Skeleton'\n",
        "const_range = [-2.1, 2.1]\n",
        "trainRange = [-3.0, 3.0]\n",
        "decimals = 8\n",
        "addVars = False\n",
        "maxNumFiles = 100\n",
        "device = torch.device(\"cuda\" if torch.cuda.is_available() else \"cpu\")"
      ]
    },
    {
      "cell_type": "code",
      "execution_count": 6,
      "id": "2a4557e5",
      "metadata": {
        "execution": {
          "iopub.execute_input": "2025-04-13T14:38:59.346322Z",
          "iopub.status.busy": "2025-04-13T14:38:59.346101Z",
          "iopub.status.idle": "2025-04-13T14:38:59.348870Z",
          "shell.execute_reply": "2025-04-13T14:38:59.348294Z"
        },
        "papermill": {
          "duration": 0.007472,
          "end_time": "2025-04-13T14:38:59.350105",
          "exception": false,
          "start_time": "2025-04-13T14:38:59.342633",
          "status": "completed"
        },
        "tags": [],
        "id": "2a4557e5"
      },
      "outputs": [],
      "source": [
        "dataDir = \"/content/drive/MyDrive/Colab/STAT946_proj/data\"\n",
        "dataFolder = \"1_var_dataset\""
      ]
    },
    {
      "cell_type": "code",
      "execution_count": 7,
      "metadata": {
        "execution": {
          "iopub.execute_input": "2025-04-13T14:38:59.356694Z",
          "iopub.status.busy": "2025-04-13T14:38:59.356490Z",
          "iopub.status.idle": "2025-04-13T14:47:15.872840Z",
          "shell.execute_reply": "2025-04-13T14:47:15.871925Z"
        },
        "papermill": {
          "duration": 496.524253,
          "end_time": "2025-04-13T14:47:15.877356",
          "exception": false,
          "start_time": "2025-04-13T14:38:59.353103",
          "status": "completed"
        },
        "tags": [],
        "id": "aaebc18b",
        "outputId": "e20e3419-3ee6-4413-fdd9-9511a50b5fae",
        "colab": {
          "base_uri": "https://localhost:8080/"
        }
      },
      "outputs": [
        {
          "output_type": "stream",
          "name": "stdout",
          "text": [
            "data has 498795 examples, 27 unique.\n",
            "id:235689\n",
            "outputs:C*exp(C*x1)+C>_____________________\n",
            "variables:1\n"
          ]
        }
      ],
      "source": [
        "import glob\n",
        "import random\n",
        "\n",
        "path = '{}/{}/Train/*.json'.format(dataDir, dataFolder)\n",
        "files = glob.glob(path)[:maxNumFiles]\n",
        "text = processDataFiles(files)\n",
        "text = text.split('\\n') # convert the raw text to a set of examples\n",
        "# skeletons = []\n",
        "skeletons = [json.loads(item)['Skeleton'] for item in text if item.strip()]\n",
        "all_tokens = set()\n",
        "for eq in skeletons:\n",
        "    all_tokens.update(tokenize_equation(eq))\n",
        "integers = {'0', '1', '2', '3', '4', '5', '6', '7', '8', '9'}\n",
        "all_tokens.update(integers)  # add all integers to the token set\n",
        "tokens = sorted(list(all_tokens) + ['_', 'T', '<', '>', ':'])  # special tokens\n",
        "trainText = text[:-1] if len(text[-1]) == 0 else text\n",
        "random.shuffle(trainText) # shuffle the dataset, it's important specailly for the combined number of variables experiment\n",
        "train_dataset = CharDataset(trainText, blockSize, tokens=tokens, numVars=numVars,\n",
        "                        numYs=numYs, numPoints=numPoints, target=target, addVars=addVars,\n",
        "                        const_range=const_range, xRange=trainRange, decimals=decimals)\n",
        "\n",
        "idx = np.random.randint(train_dataset.__len__())\n",
        "inputs, outputs, points, variables = train_dataset.__getitem__(idx)\n",
        "inputs = ''.join([train_dataset.itos[int(i)] for i in inputs])\n",
        "outputs = ''.join([train_dataset.itos[int(i)] for i in outputs])\n",
        "print('id:{}\\noutputs:{}\\nvariables:{}'.format(idx,outputs,variables))"
      ],
      "id": "aaebc18b"
    },
    {
      "cell_type": "code",
      "execution_count": 8,
      "id": "1c719d51",
      "metadata": {
        "execution": {
          "iopub.execute_input": "2025-04-13T14:47:15.884280Z",
          "iopub.status.busy": "2025-04-13T14:47:15.884034Z",
          "iopub.status.idle": "2025-04-13T14:47:15.980261Z",
          "shell.execute_reply": "2025-04-13T14:47:15.979352Z"
        },
        "papermill": {
          "duration": 0.101076,
          "end_time": "2025-04-13T14:47:15.981511",
          "exception": false,
          "start_time": "2025-04-13T14:47:15.880435",
          "status": "completed"
        },
        "tags": [],
        "id": "1c719d51",
        "outputId": "128c0860-04f5-4059-da3f-ed012dd7fd39",
        "colab": {
          "base_uri": "https://localhost:8080/"
        }
      },
      "outputs": [
        {
          "output_type": "stream",
          "name": "stdout",
          "text": [
            "data has 972 examples, 27 unique.\n",
            "tensor(-2.9438) tensor(2.9613)\n",
            "id:98\n",
            "outputs:C*sin(C*x1)+C>_____________________\n",
            "variables:1\n"
          ]
        }
      ],
      "source": [
        "path = '{}/{}/Val/*.json'.format(dataDir,dataFolder)\n",
        "files = glob.glob(path)\n",
        "textVal = processDataFiles([files[0]])\n",
        "textVal = textVal.split('\\n') # convert the raw text to a set of examples\n",
        "val_dataset = CharDataset(textVal, blockSize, tokens=tokens, numVars=numVars,\n",
        "                        numYs=numYs, numPoints=numPoints, target=target, addVars=addVars,\n",
        "                        const_range=const_range, xRange=trainRange, decimals=decimals)\n",
        "\n",
        "# print a random sample\n",
        "idx = np.random.randint(val_dataset.__len__())\n",
        "inputs, outputs, points, variables = val_dataset.__getitem__(idx)\n",
        "print(points.min(), points.max())\n",
        "inputs = ''.join([train_dataset.itos[int(i)] for i in inputs])\n",
        "outputs = ''.join([train_dataset.itos[int(i)] for i in outputs])\n",
        "print('id:{}\\noutputs:{}\\nvariables:{}'.format(idx,outputs,variables))"
      ]
    },
    {
      "cell_type": "code",
      "execution_count": 9,
      "id": "f288d39b",
      "metadata": {
        "execution": {
          "iopub.execute_input": "2025-04-13T14:47:15.988688Z",
          "iopub.status.busy": "2025-04-13T14:47:15.988449Z",
          "iopub.status.idle": "2025-04-13T23:30:22.237087Z",
          "shell.execute_reply": "2025-04-13T23:30:22.235749Z"
        },
        "papermill": {
          "duration": 31386.25414,
          "end_time": "2025-04-13T23:30:22.238919",
          "exception": false,
          "start_time": "2025-04-13T14:47:15.984779",
          "status": "completed"
        },
        "tags": [],
        "id": "f288d39b",
        "outputId": "2c61b170-2ac4-4a93-ae16-643c4f36a76d",
        "colab": {
          "base_uri": "https://localhost:8080/",
          "height": 374
        }
      },
      "outputs": [
        {
          "output_type": "stream",
          "name": "stderr",
          "text": [
            "Epoch 1/5:   0%|          | 0/7794 [00:00<?, ?it/s]\n"
          ]
        },
        {
          "output_type": "error",
          "ename": "RuntimeError",
          "evalue": "The size of tensor a (64) must match the size of tensor b (512) at non-singleton dimension 2",
          "traceback": [
            "\u001b[0;31m---------------------------------------------------------------------------\u001b[0m",
            "\u001b[0;31mRuntimeError\u001b[0m                              Traceback (most recent call last)",
            "\u001b[0;32m<ipython-input-9-251cec4e6a2e>\u001b[0m in \u001b[0;36m<cell line: 0>\u001b[0;34m()\u001b[0m\n\u001b[1;32m     24\u001b[0m \u001b[0;31m#model.load_state_dict(torch.load(model_path, map_location=device, weights_only=True))\u001b[0m\u001b[0;34m\u001b[0m\u001b[0;34m\u001b[0m\u001b[0m\n\u001b[1;32m     25\u001b[0m \u001b[0;34m\u001b[0m\u001b[0m\n\u001b[0;32m---> 26\u001b[0;31m train_single_gpu(\n\u001b[0m\u001b[1;32m     27\u001b[0m     \u001b[0mmodel\u001b[0m\u001b[0;34m,\u001b[0m\u001b[0;34m\u001b[0m\u001b[0;34m\u001b[0m\u001b[0m\n\u001b[1;32m     28\u001b[0m     \u001b[0mtrain_dataset\u001b[0m\u001b[0;34m,\u001b[0m\u001b[0;34m\u001b[0m\u001b[0;34m\u001b[0m\u001b[0m\n",
            "\u001b[0;32m<ipython-input-4-0aab32ac210f>\u001b[0m in \u001b[0;36mtrain_single_gpu\u001b[0;34m(model, train_dataset, val_dataset, num_epochs, save_every, batch_size, timesteps, learning_rate, path)\u001b[0m\n\u001b[1;32m    116\u001b[0m \u001b[0;34m\u001b[0m\u001b[0m\n\u001b[1;32m    117\u001b[0m     \u001b[0;32mfor\u001b[0m \u001b[0mepoch\u001b[0m \u001b[0;32min\u001b[0m \u001b[0mrange\u001b[0m\u001b[0;34m(\u001b[0m\u001b[0mnum_epochs\u001b[0m\u001b[0;34m)\u001b[0m\u001b[0;34m:\u001b[0m\u001b[0;34m\u001b[0m\u001b[0;34m\u001b[0m\u001b[0m\n\u001b[0;32m--> 118\u001b[0;31m         avg_train_loss = train_epoch(\n\u001b[0m\u001b[1;32m    119\u001b[0m             \u001b[0mmodel\u001b[0m\u001b[0;34m,\u001b[0m\u001b[0;34m\u001b[0m\u001b[0;34m\u001b[0m\u001b[0m\n\u001b[1;32m    120\u001b[0m             \u001b[0mtrain_loader\u001b[0m\u001b[0;34m,\u001b[0m\u001b[0;34m\u001b[0m\u001b[0;34m\u001b[0m\u001b[0m\n",
            "\u001b[0;32m<ipython-input-4-0aab32ac210f>\u001b[0m in \u001b[0;36mtrain_epoch\u001b[0;34m(model, train_loader, optimizer, train_dataset, timesteps, device, epoch, num_epochs)\u001b[0m\n\u001b[1;32m     34\u001b[0m         \u001b[0moptimizer\u001b[0m\u001b[0;34m.\u001b[0m\u001b[0mzero_grad\u001b[0m\u001b[0;34m(\u001b[0m\u001b[0;34m)\u001b[0m\u001b[0;34m\u001b[0m\u001b[0;34m\u001b[0m\u001b[0m\n\u001b[1;32m     35\u001b[0m \u001b[0;34m\u001b[0m\u001b[0m\n\u001b[0;32m---> 36\u001b[0;31m         \u001b[0mtotal_loss\u001b[0m \u001b[0;34m=\u001b[0m \u001b[0mmodel\u001b[0m\u001b[0;34m(\u001b[0m\u001b[0mpoints\u001b[0m\u001b[0;34m,\u001b[0m \u001b[0mtokens\u001b[0m\u001b[0;34m,\u001b[0m \u001b[0mvariables\u001b[0m\u001b[0;34m,\u001b[0m \u001b[0mt\u001b[0m\u001b[0;34m)\u001b[0m\u001b[0;34m\u001b[0m\u001b[0;34m\u001b[0m\u001b[0m\n\u001b[0m\u001b[1;32m     37\u001b[0m \u001b[0;34m\u001b[0m\u001b[0m\n\u001b[1;32m     38\u001b[0m         \u001b[0;32mif\u001b[0m \u001b[0;34m(\u001b[0m\u001b[0mi\u001b[0m \u001b[0;34m+\u001b[0m \u001b[0;36m1\u001b[0m\u001b[0;34m)\u001b[0m \u001b[0;34m%\u001b[0m \u001b[0;36m250\u001b[0m \u001b[0;34m==\u001b[0m \u001b[0;36m0\u001b[0m\u001b[0;34m:\u001b[0m\u001b[0;34m\u001b[0m\u001b[0;34m\u001b[0m\u001b[0m\n",
            "\u001b[0;32m/usr/local/lib/python3.11/dist-packages/torch/nn/modules/module.py\u001b[0m in \u001b[0;36m_wrapped_call_impl\u001b[0;34m(self, *args, **kwargs)\u001b[0m\n\u001b[1;32m   1737\u001b[0m             \u001b[0;32mreturn\u001b[0m \u001b[0mself\u001b[0m\u001b[0;34m.\u001b[0m\u001b[0m_compiled_call_impl\u001b[0m\u001b[0;34m(\u001b[0m\u001b[0;34m*\u001b[0m\u001b[0margs\u001b[0m\u001b[0;34m,\u001b[0m \u001b[0;34m**\u001b[0m\u001b[0mkwargs\u001b[0m\u001b[0;34m)\u001b[0m  \u001b[0;31m# type: ignore[misc]\u001b[0m\u001b[0;34m\u001b[0m\u001b[0;34m\u001b[0m\u001b[0m\n\u001b[1;32m   1738\u001b[0m         \u001b[0;32melse\u001b[0m\u001b[0;34m:\u001b[0m\u001b[0;34m\u001b[0m\u001b[0;34m\u001b[0m\u001b[0m\n\u001b[0;32m-> 1739\u001b[0;31m             \u001b[0;32mreturn\u001b[0m \u001b[0mself\u001b[0m\u001b[0;34m.\u001b[0m\u001b[0m_call_impl\u001b[0m\u001b[0;34m(\u001b[0m\u001b[0;34m*\u001b[0m\u001b[0margs\u001b[0m\u001b[0;34m,\u001b[0m \u001b[0;34m**\u001b[0m\u001b[0mkwargs\u001b[0m\u001b[0;34m)\u001b[0m\u001b[0;34m\u001b[0m\u001b[0;34m\u001b[0m\u001b[0m\n\u001b[0m\u001b[1;32m   1740\u001b[0m \u001b[0;34m\u001b[0m\u001b[0m\n\u001b[1;32m   1741\u001b[0m     \u001b[0;31m# torchrec tests the code consistency with the following code\u001b[0m\u001b[0;34m\u001b[0m\u001b[0;34m\u001b[0m\u001b[0m\n",
            "\u001b[0;32m/usr/local/lib/python3.11/dist-packages/torch/nn/modules/module.py\u001b[0m in \u001b[0;36m_call_impl\u001b[0;34m(self, *args, **kwargs)\u001b[0m\n\u001b[1;32m   1748\u001b[0m                 \u001b[0;32mor\u001b[0m \u001b[0m_global_backward_pre_hooks\u001b[0m \u001b[0;32mor\u001b[0m \u001b[0m_global_backward_hooks\u001b[0m\u001b[0;34m\u001b[0m\u001b[0;34m\u001b[0m\u001b[0m\n\u001b[1;32m   1749\u001b[0m                 or _global_forward_hooks or _global_forward_pre_hooks):\n\u001b[0;32m-> 1750\u001b[0;31m             \u001b[0;32mreturn\u001b[0m \u001b[0mforward_call\u001b[0m\u001b[0;34m(\u001b[0m\u001b[0;34m*\u001b[0m\u001b[0margs\u001b[0m\u001b[0;34m,\u001b[0m \u001b[0;34m**\u001b[0m\u001b[0mkwargs\u001b[0m\u001b[0;34m)\u001b[0m\u001b[0;34m\u001b[0m\u001b[0;34m\u001b[0m\u001b[0m\n\u001b[0m\u001b[1;32m   1751\u001b[0m \u001b[0;34m\u001b[0m\u001b[0m\n\u001b[1;32m   1752\u001b[0m         \u001b[0mresult\u001b[0m \u001b[0;34m=\u001b[0m \u001b[0;32mNone\u001b[0m\u001b[0;34m\u001b[0m\u001b[0;34m\u001b[0m\u001b[0m\n",
            "\u001b[0;32m/content/models.py\u001b[0m in \u001b[0;36mforward\u001b[0;34m(self, points, tokens, variables, t)\u001b[0m\n\u001b[1;32m    372\u001b[0m     \u001b[0;32mdef\u001b[0m \u001b[0mforward\u001b[0m\u001b[0;34m(\u001b[0m\u001b[0mself\u001b[0m\u001b[0;34m,\u001b[0m \u001b[0mpoints\u001b[0m\u001b[0;34m,\u001b[0m \u001b[0mtokens\u001b[0m\u001b[0;34m,\u001b[0m \u001b[0mvariables\u001b[0m\u001b[0;34m,\u001b[0m \u001b[0mt\u001b[0m\u001b[0;34m)\u001b[0m\u001b[0;34m:\u001b[0m\u001b[0;34m\u001b[0m\u001b[0;34m\u001b[0m\u001b[0m\n\u001b[1;32m    373\u001b[0m         \u001b[0mtoken_emb\u001b[0m \u001b[0;34m=\u001b[0m \u001b[0mself\u001b[0m\u001b[0;34m.\u001b[0m\u001b[0mtok_emb\u001b[0m\u001b[0;34m(\u001b[0m\u001b[0mtokens\u001b[0m\u001b[0;34m)\u001b[0m\u001b[0;34m\u001b[0m\u001b[0;34m\u001b[0m\u001b[0m\n\u001b[0;32m--> 374\u001b[0;31m         \u001b[0mce_loss\u001b[0m \u001b[0;34m=\u001b[0m \u001b[0mself\u001b[0m\u001b[0;34m.\u001b[0m\u001b[0mp_losses\u001b[0m\u001b[0;34m(\u001b[0m\u001b[0mtoken_emb\u001b[0m\u001b[0;34m,\u001b[0m \u001b[0mpoints\u001b[0m\u001b[0;34m,\u001b[0m \u001b[0mtokens\u001b[0m\u001b[0;34m,\u001b[0m \u001b[0mvariables\u001b[0m\u001b[0;34m,\u001b[0m \u001b[0mt\u001b[0m\u001b[0;34m)\u001b[0m\u001b[0;34m\u001b[0m\u001b[0;34m\u001b[0m\u001b[0m\n\u001b[0m\u001b[1;32m    375\u001b[0m         \u001b[0;32mreturn\u001b[0m \u001b[0mce_loss\u001b[0m\u001b[0;34m\u001b[0m\u001b[0;34m\u001b[0m\u001b[0m\n\u001b[1;32m    376\u001b[0m \u001b[0;34m\u001b[0m\u001b[0m\n",
            "\u001b[0;32m/content/models.py\u001b[0m in \u001b[0;36mp_losses\u001b[0;34m(self, x_start, points, tokens, variables, t)\u001b[0m\n\u001b[1;32m    343\u001b[0m         \u001b[0;34m\"\"\"Hybrid loss: MSE on embeddings + CE on tokens.\"\"\"\u001b[0m\u001b[0;34m\u001b[0m\u001b[0;34m\u001b[0m\u001b[0m\n\u001b[1;32m    344\u001b[0m         \u001b[0mnoise\u001b[0m \u001b[0;34m=\u001b[0m \u001b[0mtorch\u001b[0m\u001b[0;34m.\u001b[0m\u001b[0mrandn_like\u001b[0m\u001b[0;34m(\u001b[0m\u001b[0mx_start\u001b[0m\u001b[0;34m)\u001b[0m\u001b[0;34m\u001b[0m\u001b[0;34m\u001b[0m\u001b[0m\n\u001b[0;32m--> 345\u001b[0;31m         \u001b[0mx_t\u001b[0m \u001b[0;34m=\u001b[0m \u001b[0mself\u001b[0m\u001b[0;34m.\u001b[0m\u001b[0mq_sample\u001b[0m\u001b[0;34m(\u001b[0m\u001b[0mx_start\u001b[0m\u001b[0;34m,\u001b[0m \u001b[0mt\u001b[0m\u001b[0;34m,\u001b[0m \u001b[0mnoise\u001b[0m\u001b[0;34m)\u001b[0m\u001b[0;34m\u001b[0m\u001b[0;34m\u001b[0m\u001b[0m\n\u001b[0m\u001b[1;32m    346\u001b[0m \u001b[0;34m\u001b[0m\u001b[0m\n\u001b[1;32m    347\u001b[0m         \u001b[0;32mif\u001b[0m \u001b[0mself\u001b[0m\u001b[0;34m.\u001b[0m\u001b[0mset_transformer\u001b[0m\u001b[0;34m:\u001b[0m\u001b[0;34m\u001b[0m\u001b[0;34m\u001b[0m\u001b[0m\n",
            "\u001b[0;32m/content/models.py\u001b[0m in \u001b[0;36mq_sample\u001b[0;34m(self, x_start, t, noise)\u001b[0m\n\u001b[1;32m    261\u001b[0m         \u001b[0;32mif\u001b[0m \u001b[0mnoise\u001b[0m \u001b[0;32mis\u001b[0m \u001b[0;32mNone\u001b[0m\u001b[0;34m:\u001b[0m\u001b[0;34m\u001b[0m\u001b[0;34m\u001b[0m\u001b[0m\n\u001b[1;32m    262\u001b[0m             \u001b[0mnoise\u001b[0m \u001b[0;34m=\u001b[0m \u001b[0mtorch\u001b[0m\u001b[0;34m.\u001b[0m\u001b[0mrandn_like\u001b[0m\u001b[0;34m(\u001b[0m\u001b[0mx_start\u001b[0m\u001b[0;34m)\u001b[0m\u001b[0;34m\u001b[0m\u001b[0;34m\u001b[0m\u001b[0m\n\u001b[0;32m--> 263\u001b[0;31m         \u001b[0mx_t\u001b[0m \u001b[0;34m=\u001b[0m \u001b[0;34m(\u001b[0m\u001b[0;36m1\u001b[0m \u001b[0;34m-\u001b[0m \u001b[0mt\u001b[0m\u001b[0;34m)\u001b[0m \u001b[0;34m*\u001b[0m \u001b[0mx_start\u001b[0m \u001b[0;34m+\u001b[0m \u001b[0mt\u001b[0m \u001b[0;34m*\u001b[0m \u001b[0mnoise\u001b[0m\u001b[0;34m\u001b[0m\u001b[0;34m\u001b[0m\u001b[0m\n\u001b[0m\u001b[1;32m    264\u001b[0m         \u001b[0;32mreturn\u001b[0m \u001b[0mx_t\u001b[0m\u001b[0;34m\u001b[0m\u001b[0;34m\u001b[0m\u001b[0m\n\u001b[1;32m    265\u001b[0m \u001b[0;34m\u001b[0m\u001b[0m\n",
            "\u001b[0;31mRuntimeError\u001b[0m: The size of tensor a (64) must match the size of tensor b (512) at non-singleton dimension 2"
          ]
        }
      ],
      "source": [
        "pconfig = PointNetConfig(\n",
        "    embeddingSize=n_embd,\n",
        "    numberofPoints=numPoints,\n",
        "    numberofVars=numVars,\n",
        "    numberofYs=numYs,\n",
        ")\n",
        "\n",
        "model = SymbolicGaussianDiffusion(\n",
        "    tnet_config=pconfig,\n",
        "    vocab_size=train_dataset.vocab_size,\n",
        "    max_seq_len=blockSize,\n",
        "    padding_idx=train_dataset.paddingID,\n",
        "    max_num_vars=numVars,\n",
        "    n_layer=4,\n",
        "    n_head=4,\n",
        "    n_embd=n_embd,\n",
        "    timesteps=timesteps,\n",
        "    beta_start=0.0001,\n",
        "    beta_end=0.02,\n",
        "    p_uncond = 0.4\n",
        ")\n",
        "\n",
        "#model_path = \"/content/drive/MyDrive/Colab/STAT946_proj/models/diffusym/1Var_set_transformer.pth\"\n",
        "#model.load_state_dict(torch.load(model_path, map_location=device, weights_only=True))\n",
        "\n",
        "train_single_gpu(\n",
        "    model,\n",
        "    train_dataset,\n",
        "    val_dataset,\n",
        "    num_epochs=num_epochs,\n",
        "    save_every=1,\n",
        "    batch_size=batch_size,\n",
        "    timesteps=timesteps,\n",
        "    learning_rate=learning_rate,\n",
        "    path=\"/content/drive/MyDrive/Colab/STAT946_proj/models/diffusymflow/1_var_set_transformer.pth\"\n",
        ")"
      ]
    }
  ],
  "metadata": {
    "kaggle": {
      "accelerator": "nvidiaTeslaT4",
      "dataSources": [
        {
          "datasetId": 7089758,
          "sourceId": 11333846,
          "sourceType": "datasetVersion"
        },
        {
          "datasetId": 7119350,
          "sourceId": 11372292,
          "sourceType": "datasetVersion"
        },
        {
          "datasetId": 7128814,
          "sourceId": 11384814,
          "sourceType": "datasetVersion"
        },
        {
          "modelId": 282263,
          "modelInstanceId": 261112,
          "sourceId": 306062,
          "sourceType": "modelInstanceVersion"
        },
        {
          "modelId": 290784,
          "modelInstanceId": 269794,
          "sourceId": 319741,
          "sourceType": "modelInstanceVersion"
        },
        {
          "modelId": 290853,
          "modelInstanceId": 269860,
          "sourceId": 319828,
          "sourceType": "modelInstanceVersion"
        }
      ],
      "dockerImageVersionId": 30919,
      "isGpuEnabled": true,
      "isInternetEnabled": true,
      "language": "python",
      "sourceType": "notebook"
    },
    "kernelspec": {
      "display_name": "Python 3",
      "name": "python3"
    },
    "language_info": {
      "codemirror_mode": {
        "name": "ipython",
        "version": 3
      },
      "file_extension": ".py",
      "mimetype": "text/x-python",
      "name": "python",
      "nbconvert_exporter": "python",
      "pygments_lexer": "ipython3",
      "version": "3.10.12"
    },
    "papermill": {
      "default_parameters": {},
      "duration": 31904.438452,
      "end_time": "2025-04-13T23:30:34.722275",
      "environment_variables": {},
      "exception": null,
      "input_path": "__notebook__.ipynb",
      "output_path": "__notebook__.ipynb",
      "parameters": {},
      "start_time": "2025-04-13T14:38:50.283823",
      "version": "2.6.0"
    },
    "colab": {
      "provenance": [],
      "machine_shape": "hm",
      "include_colab_link": true
    }
  },
  "nbformat": 4,
  "nbformat_minor": 5
}