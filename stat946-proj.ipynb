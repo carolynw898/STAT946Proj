{
  "cells": [
    {
      "cell_type": "markdown",
      "metadata": {
        "id": "view-in-github",
        "colab_type": "text"
      },
      "source": [
        "<a href=\"https://colab.research.google.com/github/carolynw898/STAT946Proj/blob/main/stat946-proj.ipynb\" target=\"_parent\"><img src=\"https://colab.research.google.com/assets/colab-badge.svg\" alt=\"Open In Colab\"/></a>"
      ]
    },
    {
      "cell_type": "code",
      "source": [
        "from google.colab import drive\n",
        "\n",
        "drive.mount('/content/drive')"
      ],
      "metadata": {
        "id": "68BgA1xE63Rk",
        "outputId": "06c9d907-8d3b-4a96-ea92-e8e330ee29bd",
        "colab": {
          "base_uri": "https://localhost:8080/"
        }
      },
      "id": "68BgA1xE63Rk",
      "execution_count": 1,
      "outputs": [
        {
          "output_type": "stream",
          "name": "stdout",
          "text": [
            "Drive already mounted at /content/drive; to attempt to forcibly remount, call drive.mount(\"/content/drive\", force_remount=True).\n"
          ]
        }
      ]
    },
    {
      "cell_type": "code",
      "execution_count": 12,
      "id": "c63489dd",
      "metadata": {
        "execution": {
          "iopub.execute_input": "2025-04-09T04:36:58.889980Z",
          "iopub.status.busy": "2025-04-09T04:36:58.889777Z",
          "iopub.status.idle": "2025-04-09T04:36:58.901754Z",
          "shell.execute_reply": "2025-04-09T04:36:58.901130Z"
        },
        "papermill": {
          "duration": 0.016526,
          "end_time": "2025-04-09T04:36:58.902925",
          "exception": false,
          "start_time": "2025-04-09T04:36:58.886399",
          "status": "completed"
        },
        "tags": [],
        "id": "c63489dd"
      },
      "outputs": [],
      "source": [
        "import torch\n",
        "import torch.nn as nn\n",
        "from torch.utils.data import DataLoader\n",
        "from torch.optim import Adam\n",
        "from torch.optim.lr_scheduler import ReduceLROnPlateau\n",
        "import tqdm\n",
        "from typing import Tuple\n",
        "from models import SymbolicGaussianDiffusion, PointNetConfig\n",
        "from utils import CharDataset, processDataFiles, tokenize_equation\n",
        "\n",
        "def train_epoch(\n",
        "    model: SymbolicGaussianDiffusion,\n",
        "    train_loader: DataLoader,\n",
        "    optimizer: Adam,\n",
        "    train_dataset: CharDataset,\n",
        "    timesteps: int,\n",
        "    device: torch.device,\n",
        "    epoch: int,\n",
        "    num_epochs: int,\n",
        ") -> Tuple[float, float, float]:\n",
        "    model.train()\n",
        "    total_train_loss = 0\n",
        "\n",
        "    for i, (_, tokens, points, variables) in tqdm.tqdm(\n",
        "        enumerate(train_loader),\n",
        "        total=len(train_loader),\n",
        "        desc=f\"Epoch {epoch+1}/{num_epochs}\",\n",
        "    ):\n",
        "        points, tokens, variables = (\n",
        "            points.to(device),\n",
        "            tokens.to(device),\n",
        "            variables.to(device),\n",
        "        )\n",
        "        t = torch.randint(0, timesteps, (tokens.shape[0],), device=device)\n",
        "        optimizer.zero_grad()\n",
        "\n",
        "        total_loss = model(points, tokens, variables, t)\n",
        "\n",
        "        if (i + 1) % 250 == 0:\n",
        "            print(f\"Batch {i + 1}/{len(train_loader)}:\")\n",
        "            print(f\"total_loss: {total_loss}\")\n",
        "\n",
        "        total_loss.backward()\n",
        "        optimizer.step()\n",
        "\n",
        "        total_train_loss += total_loss.item()\n",
        "\n",
        "\n",
        "    avg_train_loss = total_train_loss / len(train_loader)\n",
        "    return avg_train_loss\n",
        "\n",
        "\n",
        "def val_epoch(\n",
        "    model: SymbolicGaussianDiffusion,\n",
        "    val_loader: DataLoader,\n",
        "    train_dataset: CharDataset,\n",
        "    timesteps: int,\n",
        "    device: torch.device,\n",
        "    epoch: int,\n",
        "    num_epochs: int,\n",
        ") -> Tuple[float, float, float]:\n",
        "    model.eval()\n",
        "    total_val_loss = 0\n",
        "\n",
        "    with torch.no_grad():\n",
        "        for _, tokens, points, variables in tqdm.tqdm(\n",
        "            val_loader, total=len(val_loader), desc=\"Validating\"\n",
        "        ):\n",
        "            points, tokens, variables = (\n",
        "                points.to(device),\n",
        "                tokens.to(device),\n",
        "                variables.to(device),\n",
        "            )\n",
        "            t = torch.randint(0, timesteps, (tokens.shape[0],), device=device)\n",
        "            total_loss = model(points, tokens, variables, t)\n",
        "\n",
        "            total_val_loss += total_loss.item()\n",
        "\n",
        "    avg_val_loss = total_val_loss / len(val_loader)\n",
        "    return avg_val_loss\n",
        "\n",
        "\n",
        "def train_single_gpu(\n",
        "    model: SymbolicGaussianDiffusion,\n",
        "    train_dataset: CharDataset,\n",
        "    val_dataset: CharDataset,\n",
        "    num_epochs=10,\n",
        "    save_every=2,\n",
        "    batch_size=32,\n",
        "    timesteps=1000,\n",
        "    learning_rate=1e-3,\n",
        "    path=None,\n",
        "):\n",
        "    device = torch.device(\"cuda\" if torch.cuda.is_available() else \"cpu\")\n",
        "\n",
        "    model = model.to(device)\n",
        "\n",
        "    optimizer = Adam(model.parameters(), lr=learning_rate)\n",
        "    scheduler = ReduceLROnPlateau(optimizer, mode=\"min\", factor=0.5, patience=1)\n",
        "\n",
        "    train_loader = DataLoader(\n",
        "        train_dataset,\n",
        "        batch_size=batch_size,\n",
        "        pin_memory=True,\n",
        "        shuffle=True,\n",
        "        num_workers=4,\n",
        "    )\n",
        "    val_loader = DataLoader(\n",
        "        val_dataset,\n",
        "        batch_size=batch_size,\n",
        "        pin_memory=True,\n",
        "        shuffle=False,\n",
        "        num_workers=4,\n",
        "    )\n",
        "\n",
        "    best_val_loss = float(\"inf\")\n",
        "\n",
        "    for epoch in range(num_epochs):\n",
        "        avg_train_loss = train_epoch(\n",
        "            model,\n",
        "            train_loader,\n",
        "            optimizer,\n",
        "            train_dataset,\n",
        "            timesteps,\n",
        "            device,\n",
        "            epoch,\n",
        "            num_epochs,\n",
        "        )\n",
        "\n",
        "        avg_val_loss = val_epoch(\n",
        "            model, val_loader, train_dataset, timesteps, device, epoch, num_epochs\n",
        "        )\n",
        "\n",
        "        scheduler.step(avg_val_loss)\n",
        "        current_lr = optimizer.param_groups[0][\"lr\"]\n",
        "\n",
        "        print(\"\\nEpoch Summary:\")\n",
        "        print(\n",
        "            f\"Train Total Loss: {avg_train_loss:.4f}\"\n",
        "        )\n",
        "        print(\n",
        "            f\"Val Total Loss: {avg_val_loss:.4f}\"\n",
        "        )\n",
        "        print(f\"Learning Rate: {current_lr:.6f}\")\n",
        "\n",
        "        if avg_val_loss < best_val_loss:\n",
        "            best_val_loss = avg_val_loss\n",
        "            state_dict = model.state_dict()\n",
        "            torch.save(state_dict, path)\n",
        "            print(f\"New best model saved with val loss: {best_val_loss:.4f}\")\n",
        "\n",
        "        print(\"-\" * 50)"
      ]
    },
    {
      "cell_type": "code",
      "execution_count": 3,
      "id": "40f82cb9",
      "metadata": {
        "execution": {
          "iopub.execute_input": "2025-04-09T04:36:58.909108Z",
          "iopub.status.busy": "2025-04-09T04:36:58.908916Z",
          "iopub.status.idle": "2025-04-09T04:36:59.013494Z",
          "shell.execute_reply": "2025-04-09T04:36:59.012754Z"
        },
        "papermill": {
          "duration": 0.109049,
          "end_time": "2025-04-09T04:36:59.014764",
          "exception": false,
          "start_time": "2025-04-09T04:36:58.905715",
          "status": "completed"
        },
        "tags": [],
        "id": "40f82cb9"
      },
      "outputs": [],
      "source": [
        "n_embd = 512\n",
        "timesteps = 1000\n",
        "batch_size = 64\n",
        "learning_rate = 1e-4\n",
        "num_epochs = 5\n",
        "blockSize = 32\n",
        "numVars = 1\n",
        "numYs = 1\n",
        "numPoints = 250\n",
        "target = 'Skeleton'\n",
        "const_range = [-2.1, 2.1]\n",
        "trainRange = [-3.0, 3.0]\n",
        "decimals = 8\n",
        "addVars = False\n",
        "maxNumFiles = 100\n",
        "device = torch.device(\"cuda\" if torch.cuda.is_available() else \"cpu\")"
      ]
    },
    {
      "cell_type": "code",
      "execution_count": 4,
      "id": "1082b87e",
      "metadata": {
        "execution": {
          "iopub.execute_input": "2025-04-09T04:36:59.022690Z",
          "iopub.status.busy": "2025-04-09T04:36:59.022461Z",
          "iopub.status.idle": "2025-04-09T04:36:59.025458Z",
          "shell.execute_reply": "2025-04-09T04:36:59.024842Z"
        },
        "papermill": {
          "duration": 0.007644,
          "end_time": "2025-04-09T04:36:59.026676",
          "exception": false,
          "start_time": "2025-04-09T04:36:59.019032",
          "status": "completed"
        },
        "tags": [],
        "id": "1082b87e"
      },
      "outputs": [],
      "source": [
        "dataDir = \"/content/drive/MyDrive/Colab/STAT946_proj/data\"\n",
        "dataFolder = \"1_var_dataset\""
      ]
    },
    {
      "cell_type": "code",
      "execution_count": 5,
      "id": "949b9144",
      "metadata": {
        "execution": {
          "iopub.execute_input": "2025-04-09T04:36:59.033270Z",
          "iopub.status.busy": "2025-04-09T04:36:59.033062Z",
          "iopub.status.idle": "2025-04-09T04:37:15.805532Z",
          "shell.execute_reply": "2025-04-09T04:37:15.804525Z"
        },
        "papermill": {
          "duration": 16.777345,
          "end_time": "2025-04-09T04:37:15.806956",
          "exception": false,
          "start_time": "2025-04-09T04:36:59.029611",
          "status": "completed"
        },
        "tags": [],
        "id": "949b9144",
        "outputId": "85f348c6-9184-481d-a4dd-ff077ba5cc0a",
        "colab": {
          "base_uri": "https://localhost:8080/"
        }
      },
      "outputs": [
        {
          "output_type": "stream",
          "name": "stdout",
          "text": [
            "data has 498795 examples, 27 unique.\n",
            "id:405137\n",
            "outputs:C*cos(C*sin(C*x1)+C/x1)+C>____________\n",
            "variables:1\n"
          ]
        }
      ],
      "source": [
        "from torch.utils.data import DataLoader\n",
        "import numpy as np\n",
        "import glob\n",
        "from utils import processDataFiles, CharDataset, tokenize_equation\n",
        "import random\n",
        "import json\n",
        "\n",
        "path = '{}/{}/Train/*.json'.format(dataDir, dataFolder)\n",
        "files = glob.glob(path)[:maxNumFiles]\n",
        "text = processDataFiles(files)\n",
        "text = text.split('\\n') # convert the raw text to a set of examples\n",
        "# skeletons = []\n",
        "skeletons = [json.loads(item)['Skeleton'] for item in text if item.strip()]\n",
        "all_tokens = set()\n",
        "for eq in skeletons:\n",
        "    all_tokens.update(tokenize_equation(eq))\n",
        "integers = {'0', '1', '2', '3', '4', '5', '6', '7', '8', '9'}\n",
        "all_tokens.update(integers)  # add all integers to the token set\n",
        "tokens = sorted(list(all_tokens) + ['_', 'T', '<', '>', ':'])  # special tokens\n",
        "trainText = text[:-1] if len(text[-1]) == 0 else text\n",
        "random.shuffle(trainText) # shuffle the dataset, it's important specailly for the combined number of variables experiment\n",
        "train_dataset = CharDataset(trainText, blockSize, tokens=tokens, numVars=numVars,\n",
        "                        numYs=numYs, numPoints=numPoints, target=target, addVars=addVars,\n",
        "                        const_range=const_range, xRange=trainRange, decimals=decimals)\n",
        "\n",
        "idx = np.random.randint(train_dataset.__len__())\n",
        "inputs, outputs, points, variables = train_dataset.__getitem__(idx)\n",
        "inputs = ''.join([train_dataset.itos[int(i)] for i in inputs])\n",
        "outputs = ''.join([train_dataset.itos[int(i)] for i in outputs])\n",
        "print('id:{}\\noutputs:{}\\nvariables:{}'.format(idx,outputs,variables))"
      ]
    },
    {
      "cell_type": "code",
      "execution_count": 6,
      "id": "3cec88e0",
      "metadata": {
        "execution": {
          "iopub.execute_input": "2025-04-09T04:37:15.814858Z",
          "iopub.status.busy": "2025-04-09T04:37:15.814600Z",
          "iopub.status.idle": "2025-04-09T04:37:15.913109Z",
          "shell.execute_reply": "2025-04-09T04:37:15.912228Z"
        },
        "papermill": {
          "duration": 0.103734,
          "end_time": "2025-04-09T04:37:15.914323",
          "exception": false,
          "start_time": "2025-04-09T04:37:15.810589",
          "status": "completed"
        },
        "tags": [],
        "id": "3cec88e0",
        "outputId": "8e5f3013-00c4-4576-bcaf-46ea642951ec",
        "colab": {
          "base_uri": "https://localhost:8080/"
        }
      },
      "outputs": [
        {
          "output_type": "stream",
          "name": "stdout",
          "text": [
            "data has 972 examples, 27 unique.\n",
            "tensor(-52.6893) tensor(5.2545)\n",
            "id:803\n",
            "outputs:C*x1/(C*x1+C)+C>__________________\n",
            "variables:1\n"
          ]
        }
      ],
      "source": [
        "path = '{}/{}/Val/*.json'.format(dataDir,dataFolder)\n",
        "files = glob.glob(path)\n",
        "textVal = processDataFiles([files[0]])\n",
        "textVal = textVal.split('\\n') # convert the raw text to a set of examples\n",
        "val_dataset = CharDataset(textVal, blockSize, tokens=tokens, numVars=numVars,\n",
        "                        numYs=numYs, numPoints=numPoints, target=target, addVars=addVars,\n",
        "                        const_range=const_range, xRange=trainRange, decimals=decimals)\n",
        "\n",
        "# print a random sample\n",
        "idx = np.random.randint(val_dataset.__len__())\n",
        "inputs, outputs, points, variables = val_dataset.__getitem__(idx)\n",
        "print(points.min(), points.max())\n",
        "inputs = ''.join([train_dataset.itos[int(i)] for i in inputs])\n",
        "outputs = ''.join([train_dataset.itos[int(i)] for i in outputs])\n",
        "print('id:{}\\noutputs:{}\\nvariables:{}'.format(idx,outputs,variables))"
      ]
    },
    {
      "cell_type": "code",
      "execution_count": 13,
      "id": "b54b4deb",
      "metadata": {
        "execution": {
          "iopub.execute_input": "2025-04-09T04:37:15.921801Z",
          "iopub.status.busy": "2025-04-09T04:37:15.921566Z",
          "iopub.status.idle": "2025-04-09T07:23:43.919953Z",
          "shell.execute_reply": "2025-04-09T07:23:43.919058Z"
        },
        "papermill": {
          "duration": 9988.003529,
          "end_time": "2025-04-09T07:23:43.921246",
          "exception": false,
          "start_time": "2025-04-09T04:37:15.917717",
          "status": "completed"
        },
        "tags": [],
        "id": "b54b4deb",
        "outputId": "ff8dd2c2-842f-4eb1-bba8-fc4ba68bb02e",
        "colab": {
          "base_uri": "https://localhost:8080/"
        }
      },
      "outputs": [
        {
          "output_type": "stream",
          "name": "stderr",
          "text": [
            "Epoch 1/5:   3%|▎         | 251/7794 [00:14<07:05, 17.74it/s]"
          ]
        },
        {
          "output_type": "stream",
          "name": "stdout",
          "text": [
            "Batch 250/7794:\n",
            "total_loss: 1.760127305984497\n"
          ]
        },
        {
          "output_type": "stream",
          "name": "stderr",
          "text": [
            "Epoch 1/5:   6%|▋         | 501/7794 [00:28<07:00, 17.36it/s]"
          ]
        },
        {
          "output_type": "stream",
          "name": "stdout",
          "text": [
            "Batch 500/7794:\n",
            "total_loss: 1.2598085403442383\n"
          ]
        },
        {
          "output_type": "stream",
          "name": "stderr",
          "text": [
            "Epoch 1/5:  10%|▉         | 751/7794 [00:42<06:40, 17.57it/s]"
          ]
        },
        {
          "output_type": "stream",
          "name": "stdout",
          "text": [
            "Batch 750/7794:\n",
            "total_loss: 1.1648240089416504\n"
          ]
        },
        {
          "output_type": "stream",
          "name": "stderr",
          "text": [
            "Epoch 1/5:  13%|█▎        | 1001/7794 [00:56<06:24, 17.68it/s]"
          ]
        },
        {
          "output_type": "stream",
          "name": "stdout",
          "text": [
            "Batch 1000/7794:\n",
            "total_loss: 0.9402586817741394\n"
          ]
        },
        {
          "output_type": "stream",
          "name": "stderr",
          "text": [
            "Epoch 1/5:  16%|█▌        | 1251/7794 [01:10<06:04, 17.94it/s]"
          ]
        },
        {
          "output_type": "stream",
          "name": "stdout",
          "text": [
            "Batch 1250/7794:\n",
            "total_loss: 0.7823335528373718\n"
          ]
        },
        {
          "output_type": "stream",
          "name": "stderr",
          "text": [
            "Epoch 1/5:  19%|█▉        | 1501/7794 [01:24<05:56, 17.66it/s]"
          ]
        },
        {
          "output_type": "stream",
          "name": "stdout",
          "text": [
            "Batch 1500/7794:\n",
            "total_loss: 0.5902435183525085\n"
          ]
        },
        {
          "output_type": "stream",
          "name": "stderr",
          "text": [
            "Epoch 1/5:  22%|██▏       | 1751/7794 [01:38<05:38, 17.86it/s]"
          ]
        },
        {
          "output_type": "stream",
          "name": "stdout",
          "text": [
            "Batch 1750/7794:\n",
            "total_loss: 0.6718902587890625\n"
          ]
        },
        {
          "output_type": "stream",
          "name": "stderr",
          "text": [
            "Epoch 1/5:  26%|██▌       | 2001/7794 [01:52<05:27, 17.71it/s]"
          ]
        },
        {
          "output_type": "stream",
          "name": "stdout",
          "text": [
            "Batch 2000/7794:\n",
            "total_loss: 0.600426197052002\n"
          ]
        },
        {
          "output_type": "stream",
          "name": "stderr",
          "text": [
            "Epoch 1/5:  29%|██▉       | 2251/7794 [02:07<05:15, 17.57it/s]"
          ]
        },
        {
          "output_type": "stream",
          "name": "stdout",
          "text": [
            "Batch 2250/7794:\n",
            "total_loss: 0.6319841146469116\n"
          ]
        },
        {
          "output_type": "stream",
          "name": "stderr",
          "text": [
            "Epoch 1/5:  32%|███▏      | 2501/7794 [02:21<04:59, 17.69it/s]"
          ]
        },
        {
          "output_type": "stream",
          "name": "stdout",
          "text": [
            "Batch 2500/7794:\n",
            "total_loss: 0.6263789534568787\n"
          ]
        },
        {
          "output_type": "stream",
          "name": "stderr",
          "text": [
            "Epoch 1/5:  35%|███▌      | 2751/7794 [02:35<04:47, 17.57it/s]"
          ]
        },
        {
          "output_type": "stream",
          "name": "stdout",
          "text": [
            "Batch 2750/7794:\n",
            "total_loss: 0.8388538956642151\n"
          ]
        },
        {
          "output_type": "stream",
          "name": "stderr",
          "text": [
            "Epoch 1/5:  39%|███▊      | 3001/7794 [02:49<04:30, 17.70it/s]"
          ]
        },
        {
          "output_type": "stream",
          "name": "stdout",
          "text": [
            "Batch 3000/7794:\n",
            "total_loss: 0.642079770565033\n"
          ]
        },
        {
          "output_type": "stream",
          "name": "stderr",
          "text": [
            "Epoch 1/5:  42%|████▏     | 3251/7794 [03:03<04:15, 17.79it/s]"
          ]
        },
        {
          "output_type": "stream",
          "name": "stdout",
          "text": [
            "Batch 3250/7794:\n",
            "total_loss: 0.6665394306182861\n"
          ]
        },
        {
          "output_type": "stream",
          "name": "stderr",
          "text": [
            "Epoch 1/5:  45%|████▍     | 3501/7794 [03:17<04:03, 17.66it/s]"
          ]
        },
        {
          "output_type": "stream",
          "name": "stdout",
          "text": [
            "Batch 3500/7794:\n",
            "total_loss: 0.7430440187454224\n"
          ]
        },
        {
          "output_type": "stream",
          "name": "stderr",
          "text": [
            "Epoch 1/5:  48%|████▊     | 3751/7794 [03:31<03:48, 17.70it/s]"
          ]
        },
        {
          "output_type": "stream",
          "name": "stdout",
          "text": [
            "Batch 3750/7794:\n",
            "total_loss: 0.3497365415096283\n"
          ]
        },
        {
          "output_type": "stream",
          "name": "stderr",
          "text": [
            "Epoch 1/5:  51%|█████▏    | 4001/7794 [03:45<03:34, 17.66it/s]"
          ]
        },
        {
          "output_type": "stream",
          "name": "stdout",
          "text": [
            "Batch 4000/7794:\n",
            "total_loss: 0.3692811131477356\n"
          ]
        },
        {
          "output_type": "stream",
          "name": "stderr",
          "text": [
            "Epoch 1/5:  55%|█████▍    | 4251/7794 [03:59<03:20, 17.63it/s]"
          ]
        },
        {
          "output_type": "stream",
          "name": "stdout",
          "text": [
            "Batch 4250/7794:\n",
            "total_loss: 0.6714485287666321\n"
          ]
        },
        {
          "output_type": "stream",
          "name": "stderr",
          "text": [
            "Epoch 1/5:  58%|█████▊    | 4501/7794 [04:14<03:05, 17.77it/s]"
          ]
        },
        {
          "output_type": "stream",
          "name": "stdout",
          "text": [
            "Batch 4500/7794:\n",
            "total_loss: 0.5681069493293762\n"
          ]
        },
        {
          "output_type": "stream",
          "name": "stderr",
          "text": [
            "Epoch 1/5:  61%|██████    | 4751/7794 [04:28<02:52, 17.69it/s]"
          ]
        },
        {
          "output_type": "stream",
          "name": "stdout",
          "text": [
            "Batch 4750/7794:\n",
            "total_loss: 0.43899431824684143\n"
          ]
        },
        {
          "output_type": "stream",
          "name": "stderr",
          "text": [
            "Epoch 1/5:  64%|██████▍   | 5001/7794 [04:42<02:36, 17.82it/s]"
          ]
        },
        {
          "output_type": "stream",
          "name": "stdout",
          "text": [
            "Batch 5000/7794:\n",
            "total_loss: 0.37503665685653687\n"
          ]
        },
        {
          "output_type": "stream",
          "name": "stderr",
          "text": [
            "Epoch 1/5:  67%|██████▋   | 5251/7794 [04:56<02:24, 17.59it/s]"
          ]
        },
        {
          "output_type": "stream",
          "name": "stdout",
          "text": [
            "Batch 5250/7794:\n",
            "total_loss: 0.49030330777168274\n"
          ]
        },
        {
          "output_type": "stream",
          "name": "stderr",
          "text": [
            "Epoch 1/5:  71%|███████   | 5501/7794 [05:10<02:09, 17.72it/s]"
          ]
        },
        {
          "output_type": "stream",
          "name": "stdout",
          "text": [
            "Batch 5500/7794:\n",
            "total_loss: 0.2985667884349823\n"
          ]
        },
        {
          "output_type": "stream",
          "name": "stderr",
          "text": [
            "Epoch 1/5:  74%|███████▍  | 5751/7794 [05:24<01:55, 17.76it/s]"
          ]
        },
        {
          "output_type": "stream",
          "name": "stdout",
          "text": [
            "Batch 5750/7794:\n",
            "total_loss: 0.6765999794006348\n"
          ]
        },
        {
          "output_type": "stream",
          "name": "stderr",
          "text": [
            "Epoch 1/5:  77%|███████▋  | 6001/7794 [05:38<01:41, 17.69it/s]"
          ]
        },
        {
          "output_type": "stream",
          "name": "stdout",
          "text": [
            "Batch 6000/7794:\n",
            "total_loss: 0.6968816518783569\n"
          ]
        },
        {
          "output_type": "stream",
          "name": "stderr",
          "text": [
            "Epoch 1/5:  80%|████████  | 6251/7794 [05:52<01:27, 17.58it/s]"
          ]
        },
        {
          "output_type": "stream",
          "name": "stdout",
          "text": [
            "Batch 6250/7794:\n",
            "total_loss: 0.46786585450172424\n"
          ]
        },
        {
          "output_type": "stream",
          "name": "stderr",
          "text": [
            "Epoch 1/5:  83%|████████▎ | 6501/7794 [06:06<01:13, 17.62it/s]"
          ]
        },
        {
          "output_type": "stream",
          "name": "stdout",
          "text": [
            "Batch 6500/7794:\n",
            "total_loss: 0.6111153960227966\n"
          ]
        },
        {
          "output_type": "stream",
          "name": "stderr",
          "text": [
            "Epoch 1/5:  87%|████████▋ | 6751/7794 [06:21<00:59, 17.45it/s]"
          ]
        },
        {
          "output_type": "stream",
          "name": "stdout",
          "text": [
            "Batch 6750/7794:\n",
            "total_loss: 0.7107164263725281\n"
          ]
        },
        {
          "output_type": "stream",
          "name": "stderr",
          "text": [
            "Epoch 1/5:  90%|████████▉ | 7001/7794 [06:35<00:45, 17.61it/s]"
          ]
        },
        {
          "output_type": "stream",
          "name": "stdout",
          "text": [
            "Batch 7000/7794:\n",
            "total_loss: 0.5944525003433228\n"
          ]
        },
        {
          "output_type": "stream",
          "name": "stderr",
          "text": [
            "Epoch 1/5:  93%|█████████▎| 7251/7794 [06:49<00:30, 17.54it/s]"
          ]
        },
        {
          "output_type": "stream",
          "name": "stdout",
          "text": [
            "Batch 7250/7794:\n",
            "total_loss: 0.2973841428756714\n"
          ]
        },
        {
          "output_type": "stream",
          "name": "stderr",
          "text": [
            "Epoch 1/5:  96%|█████████▌| 7501/7794 [07:03<00:16, 17.59it/s]"
          ]
        },
        {
          "output_type": "stream",
          "name": "stdout",
          "text": [
            "Batch 7500/7794:\n",
            "total_loss: 0.41381147503852844\n"
          ]
        },
        {
          "output_type": "stream",
          "name": "stderr",
          "text": [
            "Epoch 1/5:  99%|█████████▉| 7751/7794 [07:17<00:02, 17.62it/s]"
          ]
        },
        {
          "output_type": "stream",
          "name": "stdout",
          "text": [
            "Batch 7750/7794:\n",
            "total_loss: 0.6039680242538452\n"
          ]
        },
        {
          "output_type": "stream",
          "name": "stderr",
          "text": [
            "Epoch 1/5: 100%|██████████| 7794/7794 [07:20<00:00, 17.71it/s]\n",
            "Validating: 100%|██████████| 16/16 [00:00<00:00, 31.33it/s]"
          ]
        },
        {
          "output_type": "stream",
          "name": "stdout",
          "text": [
            "\n",
            "Epoch Summary:\n",
            "Train Total Loss: 0.7195\n",
            "Val Total Loss: 0.4258\n",
            "Learning Rate: 0.000100\n",
            "New best model saved with val loss: 0.4258\n",
            "--------------------------------------------------\n"
          ]
        },
        {
          "output_type": "stream",
          "name": "stderr",
          "text": [
            "\n",
            "Epoch 2/5:   3%|▎         | 251/7794 [00:14<07:08, 17.59it/s]"
          ]
        },
        {
          "output_type": "stream",
          "name": "stdout",
          "text": [
            "Batch 250/7794:\n",
            "total_loss: 0.49523064494132996\n"
          ]
        },
        {
          "output_type": "stream",
          "name": "stderr",
          "text": [
            "Epoch 2/5:   6%|▋         | 501/7794 [00:28<06:51, 17.74it/s]"
          ]
        },
        {
          "output_type": "stream",
          "name": "stdout",
          "text": [
            "Batch 500/7794:\n",
            "total_loss: 0.7479625344276428\n"
          ]
        },
        {
          "output_type": "stream",
          "name": "stderr",
          "text": [
            "Epoch 2/5:  10%|▉         | 751/7794 [00:42<06:38, 17.69it/s]"
          ]
        },
        {
          "output_type": "stream",
          "name": "stdout",
          "text": [
            "Batch 750/7794:\n",
            "total_loss: 0.5059036612510681\n"
          ]
        },
        {
          "output_type": "stream",
          "name": "stderr",
          "text": [
            "Epoch 2/5:  13%|█▎        | 1001/7794 [00:56<06:23, 17.71it/s]"
          ]
        },
        {
          "output_type": "stream",
          "name": "stdout",
          "text": [
            "Batch 1000/7794:\n",
            "total_loss: 0.5702353715896606\n"
          ]
        },
        {
          "output_type": "stream",
          "name": "stderr",
          "text": [
            "Epoch 2/5:  16%|█▌        | 1251/7794 [01:10<06:09, 17.72it/s]"
          ]
        },
        {
          "output_type": "stream",
          "name": "stdout",
          "text": [
            "Batch 1250/7794:\n",
            "total_loss: 0.5608868598937988\n"
          ]
        },
        {
          "output_type": "stream",
          "name": "stderr",
          "text": [
            "Epoch 2/5:  19%|█▉        | 1501/7794 [01:24<05:56, 17.66it/s]"
          ]
        },
        {
          "output_type": "stream",
          "name": "stdout",
          "text": [
            "Batch 1500/7794:\n",
            "total_loss: 0.6750186085700989\n"
          ]
        },
        {
          "output_type": "stream",
          "name": "stderr",
          "text": [
            "Epoch 2/5:  22%|██▏       | 1751/7794 [01:38<05:41, 17.72it/s]"
          ]
        },
        {
          "output_type": "stream",
          "name": "stdout",
          "text": [
            "Batch 1750/7794:\n",
            "total_loss: 0.4750761389732361\n"
          ]
        },
        {
          "output_type": "stream",
          "name": "stderr",
          "text": [
            "Epoch 2/5:  26%|██▌       | 2001/7794 [01:52<05:26, 17.75it/s]"
          ]
        },
        {
          "output_type": "stream",
          "name": "stdout",
          "text": [
            "Batch 2000/7794:\n",
            "total_loss: 0.4640514850616455\n"
          ]
        },
        {
          "output_type": "stream",
          "name": "stderr",
          "text": [
            "Epoch 2/5:  29%|██▉       | 2251/7794 [02:07<05:12, 17.74it/s]"
          ]
        },
        {
          "output_type": "stream",
          "name": "stdout",
          "text": [
            "Batch 2250/7794:\n",
            "total_loss: 0.6608189940452576\n"
          ]
        },
        {
          "output_type": "stream",
          "name": "stderr",
          "text": [
            "Epoch 2/5:  32%|███▏      | 2501/7794 [02:21<04:58, 17.73it/s]"
          ]
        },
        {
          "output_type": "stream",
          "name": "stdout",
          "text": [
            "Batch 2500/7794:\n",
            "total_loss: 0.5352658033370972\n"
          ]
        },
        {
          "output_type": "stream",
          "name": "stderr",
          "text": [
            "Epoch 2/5:  35%|███▌      | 2751/7794 [02:35<04:43, 17.80it/s]"
          ]
        },
        {
          "output_type": "stream",
          "name": "stdout",
          "text": [
            "Batch 2750/7794:\n",
            "total_loss: 0.4523034989833832\n"
          ]
        },
        {
          "output_type": "stream",
          "name": "stderr",
          "text": [
            "Epoch 2/5:  39%|███▊      | 3001/7794 [02:49<04:30, 17.69it/s]"
          ]
        },
        {
          "output_type": "stream",
          "name": "stdout",
          "text": [
            "Batch 3000/7794:\n",
            "total_loss: 0.4280036389827728\n"
          ]
        },
        {
          "output_type": "stream",
          "name": "stderr",
          "text": [
            "Epoch 2/5:  42%|████▏     | 3251/7794 [03:03<04:18, 17.60it/s]"
          ]
        },
        {
          "output_type": "stream",
          "name": "stdout",
          "text": [
            "Batch 3250/7794:\n",
            "total_loss: 0.4339623749256134\n"
          ]
        },
        {
          "output_type": "stream",
          "name": "stderr",
          "text": [
            "Epoch 2/5:  45%|████▍     | 3501/7794 [03:17<04:03, 17.66it/s]"
          ]
        },
        {
          "output_type": "stream",
          "name": "stdout",
          "text": [
            "Batch 3500/7794:\n",
            "total_loss: 0.6780082583427429\n"
          ]
        },
        {
          "output_type": "stream",
          "name": "stderr",
          "text": [
            "Epoch 2/5:  48%|████▊     | 3751/7794 [03:31<03:49, 17.65it/s]"
          ]
        },
        {
          "output_type": "stream",
          "name": "stdout",
          "text": [
            "Batch 3750/7794:\n",
            "total_loss: 0.4959571659564972\n"
          ]
        },
        {
          "output_type": "stream",
          "name": "stderr",
          "text": [
            "Epoch 2/5:  51%|█████▏    | 4001/7794 [03:45<03:34, 17.72it/s]"
          ]
        },
        {
          "output_type": "stream",
          "name": "stdout",
          "text": [
            "Batch 4000/7794:\n",
            "total_loss: 0.4241112470626831\n"
          ]
        },
        {
          "output_type": "stream",
          "name": "stderr",
          "text": [
            "Epoch 2/5:  55%|█████▍    | 4251/7794 [04:00<03:19, 17.76it/s]"
          ]
        },
        {
          "output_type": "stream",
          "name": "stdout",
          "text": [
            "Batch 4250/7794:\n",
            "total_loss: 0.502284586429596\n"
          ]
        },
        {
          "output_type": "stream",
          "name": "stderr",
          "text": [
            "Epoch 2/5:  58%|█████▊    | 4501/7794 [04:14<03:06, 17.63it/s]"
          ]
        },
        {
          "output_type": "stream",
          "name": "stdout",
          "text": [
            "Batch 4500/7794:\n",
            "total_loss: 0.5120351314544678\n"
          ]
        },
        {
          "output_type": "stream",
          "name": "stderr",
          "text": [
            "Epoch 2/5:  61%|██████    | 4751/7794 [04:28<02:52, 17.67it/s]"
          ]
        },
        {
          "output_type": "stream",
          "name": "stdout",
          "text": [
            "Batch 4750/7794:\n",
            "total_loss: 0.37465614080429077\n"
          ]
        },
        {
          "output_type": "stream",
          "name": "stderr",
          "text": [
            "Epoch 2/5:  64%|██████▍   | 5001/7794 [04:42<02:36, 17.81it/s]"
          ]
        },
        {
          "output_type": "stream",
          "name": "stdout",
          "text": [
            "Batch 5000/7794:\n",
            "total_loss: 0.4926343262195587\n"
          ]
        },
        {
          "output_type": "stream",
          "name": "stderr",
          "text": [
            "Epoch 2/5:  67%|██████▋   | 5251/7794 [04:56<02:23, 17.72it/s]"
          ]
        },
        {
          "output_type": "stream",
          "name": "stdout",
          "text": [
            "Batch 5250/7794:\n",
            "total_loss: 0.40980419516563416\n"
          ]
        },
        {
          "output_type": "stream",
          "name": "stderr",
          "text": [
            "Epoch 2/5:  71%|███████   | 5501/7794 [05:10<02:10, 17.62it/s]"
          ]
        },
        {
          "output_type": "stream",
          "name": "stdout",
          "text": [
            "Batch 5500/7794:\n",
            "total_loss: 0.4092652499675751\n"
          ]
        },
        {
          "output_type": "stream",
          "name": "stderr",
          "text": [
            "Epoch 2/5:  74%|███████▍  | 5751/7794 [05:24<01:56, 17.59it/s]"
          ]
        },
        {
          "output_type": "stream",
          "name": "stdout",
          "text": [
            "Batch 5750/7794:\n",
            "total_loss: 0.5252406597137451\n"
          ]
        },
        {
          "output_type": "stream",
          "name": "stderr",
          "text": [
            "Epoch 2/5:  77%|███████▋  | 6001/7794 [05:39<01:41, 17.72it/s]"
          ]
        },
        {
          "output_type": "stream",
          "name": "stdout",
          "text": [
            "Batch 6000/7794:\n",
            "total_loss: 0.5693560838699341\n"
          ]
        },
        {
          "output_type": "stream",
          "name": "stderr",
          "text": [
            "Epoch 2/5:  80%|████████  | 6251/7794 [05:53<01:27, 17.63it/s]"
          ]
        },
        {
          "output_type": "stream",
          "name": "stdout",
          "text": [
            "Batch 6250/7794:\n",
            "total_loss: 0.4397949278354645\n"
          ]
        },
        {
          "output_type": "stream",
          "name": "stderr",
          "text": [
            "Epoch 2/5:  83%|████████▎ | 6501/7794 [06:07<01:13, 17.71it/s]"
          ]
        },
        {
          "output_type": "stream",
          "name": "stdout",
          "text": [
            "Batch 6500/7794:\n",
            "total_loss: 0.4274633228778839\n"
          ]
        },
        {
          "output_type": "stream",
          "name": "stderr",
          "text": [
            "Epoch 2/5:  87%|████████▋ | 6751/7794 [06:21<00:59, 17.54it/s]"
          ]
        },
        {
          "output_type": "stream",
          "name": "stdout",
          "text": [
            "Batch 6750/7794:\n",
            "total_loss: 0.7094650864601135\n"
          ]
        },
        {
          "output_type": "stream",
          "name": "stderr",
          "text": [
            "Epoch 2/5:  90%|████████▉ | 7001/7794 [06:35<00:44, 17.76it/s]"
          ]
        },
        {
          "output_type": "stream",
          "name": "stdout",
          "text": [
            "Batch 7000/7794:\n",
            "total_loss: 0.5777230858802795\n"
          ]
        },
        {
          "output_type": "stream",
          "name": "stderr",
          "text": [
            "Epoch 2/5:  93%|█████████▎| 7251/7794 [06:49<00:30, 17.62it/s]"
          ]
        },
        {
          "output_type": "stream",
          "name": "stdout",
          "text": [
            "Batch 7250/7794:\n",
            "total_loss: 0.5101160407066345\n"
          ]
        },
        {
          "output_type": "stream",
          "name": "stderr",
          "text": [
            "Epoch 2/5:  96%|█████████▌| 7501/7794 [07:03<00:16, 17.65it/s]"
          ]
        },
        {
          "output_type": "stream",
          "name": "stdout",
          "text": [
            "Batch 7500/7794:\n",
            "total_loss: 0.4266366958618164\n"
          ]
        },
        {
          "output_type": "stream",
          "name": "stderr",
          "text": [
            "Epoch 2/5:  99%|█████████▉| 7751/7794 [07:18<00:02, 17.67it/s]"
          ]
        },
        {
          "output_type": "stream",
          "name": "stdout",
          "text": [
            "Batch 7750/7794:\n",
            "total_loss: 0.3235415518283844\n"
          ]
        },
        {
          "output_type": "stream",
          "name": "stderr",
          "text": [
            "Epoch 2/5: 100%|██████████| 7794/7794 [07:20<00:00, 17.69it/s]\n",
            "Validating: 100%|██████████| 16/16 [00:00<00:00, 33.23it/s]\n"
          ]
        },
        {
          "output_type": "stream",
          "name": "stdout",
          "text": [
            "\n",
            "Epoch Summary:\n",
            "Train Total Loss: 0.4620\n",
            "Val Total Loss: 0.3669\n",
            "Learning Rate: 0.000100\n",
            "New best model saved with val loss: 0.3669\n",
            "--------------------------------------------------\n"
          ]
        },
        {
          "output_type": "stream",
          "name": "stderr",
          "text": [
            "Epoch 3/5:   3%|▎         | 251/7794 [00:14<07:06, 17.68it/s]"
          ]
        },
        {
          "output_type": "stream",
          "name": "stdout",
          "text": [
            "Batch 250/7794:\n",
            "total_loss: 0.4311765134334564\n"
          ]
        },
        {
          "output_type": "stream",
          "name": "stderr",
          "text": [
            "Epoch 3/5:   6%|▋         | 501/7794 [00:28<06:52, 17.67it/s]"
          ]
        },
        {
          "output_type": "stream",
          "name": "stdout",
          "text": [
            "Batch 500/7794:\n",
            "total_loss: 0.3070276081562042\n"
          ]
        },
        {
          "output_type": "stream",
          "name": "stderr",
          "text": [
            "Epoch 3/5:  10%|▉         | 751/7794 [00:42<06:35, 17.81it/s]"
          ]
        },
        {
          "output_type": "stream",
          "name": "stdout",
          "text": [
            "Batch 750/7794:\n",
            "total_loss: 0.5010106563568115\n"
          ]
        },
        {
          "output_type": "stream",
          "name": "stderr",
          "text": [
            "Epoch 3/5:  13%|█▎        | 1001/7794 [00:56<06:22, 17.74it/s]"
          ]
        },
        {
          "output_type": "stream",
          "name": "stdout",
          "text": [
            "Batch 1000/7794:\n",
            "total_loss: 0.6703079342842102\n"
          ]
        },
        {
          "output_type": "stream",
          "name": "stderr",
          "text": [
            "Epoch 3/5:  16%|█▌        | 1251/7794 [01:10<06:10, 17.67it/s]"
          ]
        },
        {
          "output_type": "stream",
          "name": "stdout",
          "text": [
            "Batch 1250/7794:\n",
            "total_loss: 0.42082729935646057\n"
          ]
        },
        {
          "output_type": "stream",
          "name": "stderr",
          "text": [
            "Epoch 3/5:  19%|█▉        | 1501/7794 [01:24<05:54, 17.75it/s]"
          ]
        },
        {
          "output_type": "stream",
          "name": "stdout",
          "text": [
            "Batch 1500/7794:\n",
            "total_loss: 0.385206937789917\n"
          ]
        },
        {
          "output_type": "stream",
          "name": "stderr",
          "text": [
            "Epoch 3/5:  22%|██▏       | 1751/7794 [01:38<05:39, 17.78it/s]"
          ]
        },
        {
          "output_type": "stream",
          "name": "stdout",
          "text": [
            "Batch 1750/7794:\n",
            "total_loss: 0.2857153117656708\n"
          ]
        },
        {
          "output_type": "stream",
          "name": "stderr",
          "text": [
            "Epoch 3/5:  26%|██▌       | 2001/7794 [01:52<05:25, 17.77it/s]"
          ]
        },
        {
          "output_type": "stream",
          "name": "stdout",
          "text": [
            "Batch 2000/7794:\n",
            "total_loss: 0.643294632434845\n"
          ]
        },
        {
          "output_type": "stream",
          "name": "stderr",
          "text": [
            "Epoch 3/5:  29%|██▉       | 2251/7794 [02:07<05:13, 17.70it/s]"
          ]
        },
        {
          "output_type": "stream",
          "name": "stdout",
          "text": [
            "Batch 2250/7794:\n",
            "total_loss: 0.4485008418560028\n"
          ]
        },
        {
          "output_type": "stream",
          "name": "stderr",
          "text": [
            "Epoch 3/5:  32%|███▏      | 2501/7794 [02:21<05:01, 17.58it/s]"
          ]
        },
        {
          "output_type": "stream",
          "name": "stdout",
          "text": [
            "Batch 2500/7794:\n",
            "total_loss: 0.610541045665741\n"
          ]
        },
        {
          "output_type": "stream",
          "name": "stderr",
          "text": [
            "Epoch 3/5:  35%|███▌      | 2751/7794 [02:35<04:46, 17.58it/s]"
          ]
        },
        {
          "output_type": "stream",
          "name": "stdout",
          "text": [
            "Batch 2750/7794:\n",
            "total_loss: 0.40324923396110535\n"
          ]
        },
        {
          "output_type": "stream",
          "name": "stderr",
          "text": [
            "Epoch 3/5:  39%|███▊      | 3001/7794 [02:49<04:31, 17.68it/s]"
          ]
        },
        {
          "output_type": "stream",
          "name": "stdout",
          "text": [
            "Batch 3000/7794:\n",
            "total_loss: 0.4330770671367645\n"
          ]
        },
        {
          "output_type": "stream",
          "name": "stderr",
          "text": [
            "Epoch 3/5:  42%|████▏     | 3251/7794 [03:03<04:16, 17.68it/s]"
          ]
        },
        {
          "output_type": "stream",
          "name": "stdout",
          "text": [
            "Batch 3250/7794:\n",
            "total_loss: 0.2668856680393219\n"
          ]
        },
        {
          "output_type": "stream",
          "name": "stderr",
          "text": [
            "Epoch 3/5:  45%|████▍     | 3501/7794 [03:17<04:03, 17.61it/s]"
          ]
        },
        {
          "output_type": "stream",
          "name": "stdout",
          "text": [
            "Batch 3500/7794:\n",
            "total_loss: 0.564409077167511\n"
          ]
        },
        {
          "output_type": "stream",
          "name": "stderr",
          "text": [
            "Epoch 3/5:  48%|████▊     | 3751/7794 [03:31<03:47, 17.80it/s]"
          ]
        },
        {
          "output_type": "stream",
          "name": "stdout",
          "text": [
            "Batch 3750/7794:\n",
            "total_loss: 0.5253268480300903\n"
          ]
        },
        {
          "output_type": "stream",
          "name": "stderr",
          "text": [
            "Epoch 3/5:  51%|█████▏    | 4001/7794 [03:46<03:34, 17.67it/s]"
          ]
        },
        {
          "output_type": "stream",
          "name": "stdout",
          "text": [
            "Batch 4000/7794:\n",
            "total_loss: 0.5704588294029236\n"
          ]
        },
        {
          "output_type": "stream",
          "name": "stderr",
          "text": [
            "Epoch 3/5:  55%|█████▍    | 4251/7794 [04:00<03:20, 17.63it/s]"
          ]
        },
        {
          "output_type": "stream",
          "name": "stdout",
          "text": [
            "Batch 4250/7794:\n",
            "total_loss: 0.47228285670280457\n"
          ]
        },
        {
          "output_type": "stream",
          "name": "stderr",
          "text": [
            "Epoch 3/5:  58%|█████▊    | 4501/7794 [04:14<03:06, 17.65it/s]"
          ]
        },
        {
          "output_type": "stream",
          "name": "stdout",
          "text": [
            "Batch 4500/7794:\n",
            "total_loss: 0.48994702100753784\n"
          ]
        },
        {
          "output_type": "stream",
          "name": "stderr",
          "text": [
            "Epoch 3/5:  61%|██████    | 4751/7794 [04:28<02:52, 17.68it/s]"
          ]
        },
        {
          "output_type": "stream",
          "name": "stdout",
          "text": [
            "Batch 4750/7794:\n",
            "total_loss: 0.4265270233154297\n"
          ]
        },
        {
          "output_type": "stream",
          "name": "stderr",
          "text": [
            "Epoch 3/5:  64%|██████▍   | 5001/7794 [04:42<02:37, 17.68it/s]"
          ]
        },
        {
          "output_type": "stream",
          "name": "stdout",
          "text": [
            "Batch 5000/7794:\n",
            "total_loss: 0.3683379888534546\n"
          ]
        },
        {
          "output_type": "stream",
          "name": "stderr",
          "text": [
            "Epoch 3/5:  67%|██████▋   | 5251/7794 [04:56<02:23, 17.67it/s]"
          ]
        },
        {
          "output_type": "stream",
          "name": "stdout",
          "text": [
            "Batch 5250/7794:\n",
            "total_loss: 0.3322710394859314\n"
          ]
        },
        {
          "output_type": "stream",
          "name": "stderr",
          "text": [
            "Epoch 3/5:  71%|███████   | 5501/7794 [05:10<02:10, 17.62it/s]"
          ]
        },
        {
          "output_type": "stream",
          "name": "stdout",
          "text": [
            "Batch 5500/7794:\n",
            "total_loss: 0.35403677821159363\n"
          ]
        },
        {
          "output_type": "stream",
          "name": "stderr",
          "text": [
            "Epoch 3/5:  74%|███████▍  | 5751/7794 [05:24<01:55, 17.64it/s]"
          ]
        },
        {
          "output_type": "stream",
          "name": "stdout",
          "text": [
            "Batch 5750/7794:\n",
            "total_loss: 0.5693978667259216\n"
          ]
        },
        {
          "output_type": "stream",
          "name": "stderr",
          "text": [
            "Epoch 3/5:  77%|███████▋  | 6001/7794 [05:39<01:41, 17.59it/s]"
          ]
        },
        {
          "output_type": "stream",
          "name": "stdout",
          "text": [
            "Batch 6000/7794:\n",
            "total_loss: 0.49416542053222656\n"
          ]
        },
        {
          "output_type": "stream",
          "name": "stderr",
          "text": [
            "Epoch 3/5:  80%|████████  | 6251/7794 [05:53<01:28, 17.44it/s]"
          ]
        },
        {
          "output_type": "stream",
          "name": "stdout",
          "text": [
            "Batch 6250/7794:\n",
            "total_loss: 0.2775140106678009\n"
          ]
        },
        {
          "output_type": "stream",
          "name": "stderr",
          "text": [
            "Epoch 3/5:  83%|████████▎ | 6501/7794 [06:07<01:13, 17.66it/s]"
          ]
        },
        {
          "output_type": "stream",
          "name": "stdout",
          "text": [
            "Batch 6500/7794:\n",
            "total_loss: 0.523048996925354\n"
          ]
        },
        {
          "output_type": "stream",
          "name": "stderr",
          "text": [
            "Epoch 3/5:  87%|████████▋ | 6751/7794 [06:21<00:59, 17.49it/s]"
          ]
        },
        {
          "output_type": "stream",
          "name": "stdout",
          "text": [
            "Batch 6750/7794:\n",
            "total_loss: 0.432698518037796\n"
          ]
        },
        {
          "output_type": "stream",
          "name": "stderr",
          "text": [
            "Epoch 3/5:  90%|████████▉ | 7001/7794 [06:35<00:45, 17.56it/s]"
          ]
        },
        {
          "output_type": "stream",
          "name": "stdout",
          "text": [
            "Batch 7000/7794:\n",
            "total_loss: 0.27505019307136536\n"
          ]
        },
        {
          "output_type": "stream",
          "name": "stderr",
          "text": [
            "Epoch 3/5:  93%|█████████▎| 7251/7794 [06:49<00:30, 17.63it/s]"
          ]
        },
        {
          "output_type": "stream",
          "name": "stdout",
          "text": [
            "Batch 7250/7794:\n",
            "total_loss: 0.3851536214351654\n"
          ]
        },
        {
          "output_type": "stream",
          "name": "stderr",
          "text": [
            "Epoch 3/5:  96%|█████████▌| 7501/7794 [07:04<00:16, 17.63it/s]"
          ]
        },
        {
          "output_type": "stream",
          "name": "stdout",
          "text": [
            "Batch 7500/7794:\n",
            "total_loss: 0.28292545676231384\n"
          ]
        },
        {
          "output_type": "stream",
          "name": "stderr",
          "text": [
            "Epoch 3/5:  99%|█████████▉| 7751/7794 [07:18<00:02, 17.71it/s]"
          ]
        },
        {
          "output_type": "stream",
          "name": "stdout",
          "text": [
            "Batch 7750/7794:\n",
            "total_loss: 0.37029948830604553\n"
          ]
        },
        {
          "output_type": "stream",
          "name": "stderr",
          "text": [
            "Epoch 3/5: 100%|██████████| 7794/7794 [07:20<00:00, 17.69it/s]\n",
            "Validating: 100%|██████████| 16/16 [00:00<00:00, 33.52it/s]\n"
          ]
        },
        {
          "output_type": "stream",
          "name": "stdout",
          "text": [
            "\n",
            "Epoch Summary:\n",
            "Train Total Loss: 0.4025\n",
            "Val Total Loss: 0.2994\n",
            "Learning Rate: 0.000100\n",
            "New best model saved with val loss: 0.2994\n",
            "--------------------------------------------------\n"
          ]
        },
        {
          "output_type": "stream",
          "name": "stderr",
          "text": [
            "Epoch 4/5:   3%|▎         | 251/7794 [00:14<07:06, 17.68it/s]"
          ]
        },
        {
          "output_type": "stream",
          "name": "stdout",
          "text": [
            "Batch 250/7794:\n",
            "total_loss: 0.33545979857444763\n"
          ]
        },
        {
          "output_type": "stream",
          "name": "stderr",
          "text": [
            "Epoch 4/5:   6%|▋         | 501/7794 [00:28<06:54, 17.60it/s]"
          ]
        },
        {
          "output_type": "stream",
          "name": "stdout",
          "text": [
            "Batch 500/7794:\n",
            "total_loss: 0.2773694396018982\n"
          ]
        },
        {
          "output_type": "stream",
          "name": "stderr",
          "text": [
            "Epoch 4/5:  10%|▉         | 751/7794 [00:42<06:38, 17.68it/s]"
          ]
        },
        {
          "output_type": "stream",
          "name": "stdout",
          "text": [
            "Batch 750/7794:\n",
            "total_loss: 0.41336575150489807\n"
          ]
        },
        {
          "output_type": "stream",
          "name": "stderr",
          "text": [
            "Epoch 4/5:  13%|█▎        | 1001/7794 [00:56<06:25, 17.64it/s]"
          ]
        },
        {
          "output_type": "stream",
          "name": "stdout",
          "text": [
            "Batch 1000/7794:\n",
            "total_loss: 0.4911518692970276\n"
          ]
        },
        {
          "output_type": "stream",
          "name": "stderr",
          "text": [
            "Epoch 4/5:  16%|█▌        | 1251/7794 [01:10<06:12, 17.55it/s]"
          ]
        },
        {
          "output_type": "stream",
          "name": "stdout",
          "text": [
            "Batch 1250/7794:\n",
            "total_loss: 0.4201255738735199\n"
          ]
        },
        {
          "output_type": "stream",
          "name": "stderr",
          "text": [
            "Epoch 4/5:  19%|█▉        | 1501/7794 [01:25<05:54, 17.74it/s]"
          ]
        },
        {
          "output_type": "stream",
          "name": "stdout",
          "text": [
            "Batch 1500/7794:\n",
            "total_loss: 0.37399476766586304\n"
          ]
        },
        {
          "output_type": "stream",
          "name": "stderr",
          "text": [
            "Epoch 4/5:  22%|██▏       | 1751/7794 [01:39<05:42, 17.64it/s]"
          ]
        },
        {
          "output_type": "stream",
          "name": "stdout",
          "text": [
            "Batch 1750/7794:\n",
            "total_loss: 0.26680415868759155\n"
          ]
        },
        {
          "output_type": "stream",
          "name": "stderr",
          "text": [
            "Epoch 4/5:  26%|██▌       | 2001/7794 [01:53<05:27, 17.68it/s]"
          ]
        },
        {
          "output_type": "stream",
          "name": "stdout",
          "text": [
            "Batch 2000/7794:\n",
            "total_loss: 0.36984983086586\n"
          ]
        },
        {
          "output_type": "stream",
          "name": "stderr",
          "text": [
            "Epoch 4/5:  29%|██▉       | 2251/7794 [02:07<05:14, 17.62it/s]"
          ]
        },
        {
          "output_type": "stream",
          "name": "stdout",
          "text": [
            "Batch 2250/7794:\n",
            "total_loss: 0.2986784279346466\n"
          ]
        },
        {
          "output_type": "stream",
          "name": "stderr",
          "text": [
            "Epoch 4/5:  32%|███▏      | 2501/7794 [02:21<04:58, 17.70it/s]"
          ]
        },
        {
          "output_type": "stream",
          "name": "stdout",
          "text": [
            "Batch 2500/7794:\n",
            "total_loss: 0.27087533473968506\n"
          ]
        },
        {
          "output_type": "stream",
          "name": "stderr",
          "text": [
            "Epoch 4/5:  35%|███▌      | 2751/7794 [02:35<04:46, 17.61it/s]"
          ]
        },
        {
          "output_type": "stream",
          "name": "stdout",
          "text": [
            "Batch 2750/7794:\n",
            "total_loss: 0.23219624161720276\n"
          ]
        },
        {
          "output_type": "stream",
          "name": "stderr",
          "text": [
            "Epoch 4/5:  39%|███▊      | 3001/7794 [02:49<04:30, 17.69it/s]"
          ]
        },
        {
          "output_type": "stream",
          "name": "stdout",
          "text": [
            "Batch 3000/7794:\n",
            "total_loss: 0.2211928367614746\n"
          ]
        },
        {
          "output_type": "stream",
          "name": "stderr",
          "text": [
            "Epoch 4/5:  42%|████▏     | 3251/7794 [03:03<04:18, 17.58it/s]"
          ]
        },
        {
          "output_type": "stream",
          "name": "stdout",
          "text": [
            "Batch 3250/7794:\n",
            "total_loss: 0.4725821614265442\n"
          ]
        },
        {
          "output_type": "stream",
          "name": "stderr",
          "text": [
            "Epoch 4/5:  45%|████▍     | 3501/7794 [03:18<04:03, 17.61it/s]"
          ]
        },
        {
          "output_type": "stream",
          "name": "stdout",
          "text": [
            "Batch 3500/7794:\n",
            "total_loss: 0.33953362703323364\n"
          ]
        },
        {
          "output_type": "stream",
          "name": "stderr",
          "text": [
            "Epoch 4/5:  48%|████▊     | 3751/7794 [03:32<03:50, 17.58it/s]"
          ]
        },
        {
          "output_type": "stream",
          "name": "stdout",
          "text": [
            "Batch 3750/7794:\n",
            "total_loss: 0.22926954925060272\n"
          ]
        },
        {
          "output_type": "stream",
          "name": "stderr",
          "text": [
            "Epoch 4/5:  51%|█████▏    | 4001/7794 [03:46<03:37, 17.46it/s]"
          ]
        },
        {
          "output_type": "stream",
          "name": "stdout",
          "text": [
            "Batch 4000/7794:\n",
            "total_loss: 0.22325992584228516\n"
          ]
        },
        {
          "output_type": "stream",
          "name": "stderr",
          "text": [
            "Epoch 4/5:  55%|█████▍    | 4251/7794 [04:00<03:19, 17.72it/s]"
          ]
        },
        {
          "output_type": "stream",
          "name": "stdout",
          "text": [
            "Batch 4250/7794:\n",
            "total_loss: 0.37449368834495544\n"
          ]
        },
        {
          "output_type": "stream",
          "name": "stderr",
          "text": [
            "Epoch 4/5:  58%|█████▊    | 4501/7794 [04:14<03:07, 17.61it/s]"
          ]
        },
        {
          "output_type": "stream",
          "name": "stdout",
          "text": [
            "Batch 4500/7794:\n",
            "total_loss: 0.32956281304359436\n"
          ]
        },
        {
          "output_type": "stream",
          "name": "stderr",
          "text": [
            "Epoch 4/5:  61%|██████    | 4751/7794 [04:28<02:52, 17.65it/s]"
          ]
        },
        {
          "output_type": "stream",
          "name": "stdout",
          "text": [
            "Batch 4750/7794:\n",
            "total_loss: 0.4278548061847687\n"
          ]
        },
        {
          "output_type": "stream",
          "name": "stderr",
          "text": [
            "Epoch 4/5:  64%|██████▍   | 5001/7794 [04:43<02:38, 17.62it/s]"
          ]
        },
        {
          "output_type": "stream",
          "name": "stdout",
          "text": [
            "Batch 5000/7794:\n",
            "total_loss: 0.4098535478115082\n"
          ]
        },
        {
          "output_type": "stream",
          "name": "stderr",
          "text": [
            "Epoch 4/5:  67%|██████▋   | 5251/7794 [04:57<02:24, 17.62it/s]"
          ]
        },
        {
          "output_type": "stream",
          "name": "stdout",
          "text": [
            "Batch 5250/7794:\n",
            "total_loss: 0.40436142683029175\n"
          ]
        },
        {
          "output_type": "stream",
          "name": "stderr",
          "text": [
            "Epoch 4/5:  71%|███████   | 5501/7794 [05:11<02:09, 17.69it/s]"
          ]
        },
        {
          "output_type": "stream",
          "name": "stdout",
          "text": [
            "Batch 5500/7794:\n",
            "total_loss: 0.21059221029281616\n"
          ]
        },
        {
          "output_type": "stream",
          "name": "stderr",
          "text": [
            "Epoch 4/5:  74%|███████▍  | 5751/7794 [05:25<01:55, 17.73it/s]"
          ]
        },
        {
          "output_type": "stream",
          "name": "stdout",
          "text": [
            "Batch 5750/7794:\n",
            "total_loss: 0.28528887033462524\n"
          ]
        },
        {
          "output_type": "stream",
          "name": "stderr",
          "text": [
            "Epoch 4/5:  77%|███████▋  | 6001/7794 [05:39<01:41, 17.58it/s]"
          ]
        },
        {
          "output_type": "stream",
          "name": "stdout",
          "text": [
            "Batch 6000/7794:\n",
            "total_loss: 0.2939842641353607\n"
          ]
        },
        {
          "output_type": "stream",
          "name": "stderr",
          "text": [
            "Epoch 4/5:  80%|████████  | 6251/7794 [05:53<01:27, 17.71it/s]"
          ]
        },
        {
          "output_type": "stream",
          "name": "stdout",
          "text": [
            "Batch 6250/7794:\n",
            "total_loss: 0.33765339851379395\n"
          ]
        },
        {
          "output_type": "stream",
          "name": "stderr",
          "text": [
            "Epoch 4/5:  83%|████████▎ | 6501/7794 [06:07<01:12, 17.73it/s]"
          ]
        },
        {
          "output_type": "stream",
          "name": "stdout",
          "text": [
            "Batch 6500/7794:\n",
            "total_loss: 0.3082755208015442\n"
          ]
        },
        {
          "output_type": "stream",
          "name": "stderr",
          "text": [
            "Epoch 4/5:  87%|████████▋ | 6751/7794 [06:22<00:59, 17.66it/s]"
          ]
        },
        {
          "output_type": "stream",
          "name": "stdout",
          "text": [
            "Batch 6750/7794:\n",
            "total_loss: 0.3715333640575409\n"
          ]
        },
        {
          "output_type": "stream",
          "name": "stderr",
          "text": [
            "Epoch 4/5:  90%|████████▉ | 7001/7794 [06:36<00:44, 17.62it/s]"
          ]
        },
        {
          "output_type": "stream",
          "name": "stdout",
          "text": [
            "Batch 7000/7794:\n",
            "total_loss: 0.3587143123149872\n"
          ]
        },
        {
          "output_type": "stream",
          "name": "stderr",
          "text": [
            "Epoch 4/5:  93%|█████████▎| 7251/7794 [06:50<00:31, 17.49it/s]"
          ]
        },
        {
          "output_type": "stream",
          "name": "stdout",
          "text": [
            "Batch 7250/7794:\n",
            "total_loss: 0.3646736741065979\n"
          ]
        },
        {
          "output_type": "stream",
          "name": "stderr",
          "text": [
            "Epoch 4/5:  96%|█████████▌| 7501/7794 [07:04<00:16, 17.56it/s]"
          ]
        },
        {
          "output_type": "stream",
          "name": "stdout",
          "text": [
            "Batch 7500/7794:\n",
            "total_loss: 0.4415661096572876\n"
          ]
        },
        {
          "output_type": "stream",
          "name": "stderr",
          "text": [
            "Epoch 4/5:  99%|█████████▉| 7751/7794 [07:18<00:02, 17.56it/s]"
          ]
        },
        {
          "output_type": "stream",
          "name": "stdout",
          "text": [
            "Batch 7750/7794:\n",
            "total_loss: 0.28538283705711365\n"
          ]
        },
        {
          "output_type": "stream",
          "name": "stderr",
          "text": [
            "Epoch 4/5: 100%|██████████| 7794/7794 [07:21<00:00, 17.66it/s]\n",
            "Validating: 100%|██████████| 16/16 [00:00<00:00, 32.87it/s]"
          ]
        },
        {
          "output_type": "stream",
          "name": "stdout",
          "text": [
            "\n",
            "Epoch Summary:\n",
            "Train Total Loss: 0.3577\n",
            "Val Total Loss: 0.3060\n",
            "Learning Rate: 0.000100\n",
            "--------------------------------------------------\n"
          ]
        },
        {
          "output_type": "stream",
          "name": "stderr",
          "text": [
            "\n",
            "Epoch 5/5:   3%|▎         | 251/7794 [00:14<07:06, 17.69it/s]"
          ]
        },
        {
          "output_type": "stream",
          "name": "stdout",
          "text": [
            "Batch 250/7794:\n",
            "total_loss: 0.45593273639678955\n"
          ]
        },
        {
          "output_type": "stream",
          "name": "stderr",
          "text": [
            "Epoch 5/5:   6%|▋         | 501/7794 [00:28<06:49, 17.81it/s]"
          ]
        },
        {
          "output_type": "stream",
          "name": "stdout",
          "text": [
            "Batch 500/7794:\n",
            "total_loss: 0.2640936076641083\n"
          ]
        },
        {
          "output_type": "stream",
          "name": "stderr",
          "text": [
            "Epoch 5/5:  10%|▉         | 751/7794 [00:42<06:38, 17.67it/s]"
          ]
        },
        {
          "output_type": "stream",
          "name": "stdout",
          "text": [
            "Batch 750/7794:\n",
            "total_loss: 0.5390698313713074\n"
          ]
        },
        {
          "output_type": "stream",
          "name": "stderr",
          "text": [
            "Epoch 5/5:  13%|█▎        | 1001/7794 [00:56<06:26, 17.60it/s]"
          ]
        },
        {
          "output_type": "stream",
          "name": "stdout",
          "text": [
            "Batch 1000/7794:\n",
            "total_loss: 0.18360091745853424\n"
          ]
        },
        {
          "output_type": "stream",
          "name": "stderr",
          "text": [
            "Epoch 5/5:  16%|█▌        | 1251/7794 [01:10<06:08, 17.75it/s]"
          ]
        },
        {
          "output_type": "stream",
          "name": "stdout",
          "text": [
            "Batch 1250/7794:\n",
            "total_loss: 0.30243751406669617\n"
          ]
        },
        {
          "output_type": "stream",
          "name": "stderr",
          "text": [
            "Epoch 5/5:  19%|█▉        | 1501/7794 [01:24<05:55, 17.68it/s]"
          ]
        },
        {
          "output_type": "stream",
          "name": "stdout",
          "text": [
            "Batch 1500/7794:\n",
            "total_loss: 0.30511561036109924\n"
          ]
        },
        {
          "output_type": "stream",
          "name": "stderr",
          "text": [
            "Epoch 5/5:  22%|██▏       | 1751/7794 [01:38<05:42, 17.64it/s]"
          ]
        },
        {
          "output_type": "stream",
          "name": "stdout",
          "text": [
            "Batch 1750/7794:\n",
            "total_loss: 0.402237206697464\n"
          ]
        },
        {
          "output_type": "stream",
          "name": "stderr",
          "text": [
            "Epoch 5/5:  26%|██▌       | 2001/7794 [01:52<05:28, 17.61it/s]"
          ]
        },
        {
          "output_type": "stream",
          "name": "stdout",
          "text": [
            "Batch 2000/7794:\n",
            "total_loss: 0.3117322623729706\n"
          ]
        },
        {
          "output_type": "stream",
          "name": "stderr",
          "text": [
            "Epoch 5/5:  29%|██▉       | 2251/7794 [02:07<05:12, 17.73it/s]"
          ]
        },
        {
          "output_type": "stream",
          "name": "stdout",
          "text": [
            "Batch 2250/7794:\n",
            "total_loss: 0.2203267514705658\n"
          ]
        },
        {
          "output_type": "stream",
          "name": "stderr",
          "text": [
            "Epoch 5/5:  32%|███▏      | 2501/7794 [02:21<05:00, 17.64it/s]"
          ]
        },
        {
          "output_type": "stream",
          "name": "stdout",
          "text": [
            "Batch 2500/7794:\n",
            "total_loss: 0.18605409562587738\n"
          ]
        },
        {
          "output_type": "stream",
          "name": "stderr",
          "text": [
            "Epoch 5/5:  35%|███▌      | 2751/7794 [02:35<04:43, 17.76it/s]"
          ]
        },
        {
          "output_type": "stream",
          "name": "stdout",
          "text": [
            "Batch 2750/7794:\n",
            "total_loss: 0.17528551816940308\n"
          ]
        },
        {
          "output_type": "stream",
          "name": "stderr",
          "text": [
            "Epoch 5/5:  39%|███▊      | 3001/7794 [02:49<04:30, 17.69it/s]"
          ]
        },
        {
          "output_type": "stream",
          "name": "stdout",
          "text": [
            "Batch 3000/7794:\n",
            "total_loss: 0.28981468081474304\n"
          ]
        },
        {
          "output_type": "stream",
          "name": "stderr",
          "text": [
            "Epoch 5/5:  42%|████▏     | 3251/7794 [03:03<04:16, 17.74it/s]"
          ]
        },
        {
          "output_type": "stream",
          "name": "stdout",
          "text": [
            "Batch 3250/7794:\n",
            "total_loss: 0.30644509196281433\n"
          ]
        },
        {
          "output_type": "stream",
          "name": "stderr",
          "text": [
            "Epoch 5/5:  45%|████▍     | 3501/7794 [03:17<04:03, 17.62it/s]"
          ]
        },
        {
          "output_type": "stream",
          "name": "stdout",
          "text": [
            "Batch 3500/7794:\n",
            "total_loss: 0.33486202359199524\n"
          ]
        },
        {
          "output_type": "stream",
          "name": "stderr",
          "text": [
            "Epoch 5/5:  48%|████▊     | 3751/7794 [03:31<03:48, 17.67it/s]"
          ]
        },
        {
          "output_type": "stream",
          "name": "stdout",
          "text": [
            "Batch 3750/7794:\n",
            "total_loss: 0.259114146232605\n"
          ]
        },
        {
          "output_type": "stream",
          "name": "stderr",
          "text": [
            "Epoch 5/5:  51%|█████▏    | 4001/7794 [03:45<03:33, 17.73it/s]"
          ]
        },
        {
          "output_type": "stream",
          "name": "stdout",
          "text": [
            "Batch 4000/7794:\n",
            "total_loss: 0.2655238211154938\n"
          ]
        },
        {
          "output_type": "stream",
          "name": "stderr",
          "text": [
            "Epoch 5/5:  55%|█████▍    | 4251/7794 [03:59<03:20, 17.67it/s]"
          ]
        },
        {
          "output_type": "stream",
          "name": "stdout",
          "text": [
            "Batch 4250/7794:\n",
            "total_loss: 0.3943725824356079\n"
          ]
        },
        {
          "output_type": "stream",
          "name": "stderr",
          "text": [
            "Epoch 5/5:  58%|█████▊    | 4501/7794 [04:14<03:06, 17.64it/s]"
          ]
        },
        {
          "output_type": "stream",
          "name": "stdout",
          "text": [
            "Batch 4500/7794:\n",
            "total_loss: 0.38045376539230347\n"
          ]
        },
        {
          "output_type": "stream",
          "name": "stderr",
          "text": [
            "Epoch 5/5:  61%|██████    | 4751/7794 [04:28<02:51, 17.70it/s]"
          ]
        },
        {
          "output_type": "stream",
          "name": "stdout",
          "text": [
            "Batch 4750/7794:\n",
            "total_loss: 0.28380244970321655\n"
          ]
        },
        {
          "output_type": "stream",
          "name": "stderr",
          "text": [
            "Epoch 5/5:  64%|██████▍   | 5001/7794 [04:42<02:39, 17.56it/s]"
          ]
        },
        {
          "output_type": "stream",
          "name": "stdout",
          "text": [
            "Batch 5000/7794:\n",
            "total_loss: 0.18494218587875366\n"
          ]
        },
        {
          "output_type": "stream",
          "name": "stderr",
          "text": [
            "Epoch 5/5:  67%|██████▋   | 5251/7794 [04:56<02:23, 17.73it/s]"
          ]
        },
        {
          "output_type": "stream",
          "name": "stdout",
          "text": [
            "Batch 5250/7794:\n",
            "total_loss: 0.21959492564201355\n"
          ]
        },
        {
          "output_type": "stream",
          "name": "stderr",
          "text": [
            "Epoch 5/5:  71%|███████   | 5501/7794 [05:10<02:10, 17.61it/s]"
          ]
        },
        {
          "output_type": "stream",
          "name": "stdout",
          "text": [
            "Batch 5500/7794:\n",
            "total_loss: 0.3479990065097809\n"
          ]
        },
        {
          "output_type": "stream",
          "name": "stderr",
          "text": [
            "Epoch 5/5:  74%|███████▍  | 5751/7794 [05:24<01:55, 17.62it/s]"
          ]
        },
        {
          "output_type": "stream",
          "name": "stdout",
          "text": [
            "Batch 5750/7794:\n",
            "total_loss: 0.33242133259773254\n"
          ]
        },
        {
          "output_type": "stream",
          "name": "stderr",
          "text": [
            "Epoch 5/5:  77%|███████▋  | 6001/7794 [05:38<01:41, 17.64it/s]"
          ]
        },
        {
          "output_type": "stream",
          "name": "stdout",
          "text": [
            "Batch 6000/7794:\n",
            "total_loss: 0.4794304072856903\n"
          ]
        },
        {
          "output_type": "stream",
          "name": "stderr",
          "text": [
            "Epoch 5/5:  80%|████████  | 6251/7794 [05:52<01:27, 17.72it/s]"
          ]
        },
        {
          "output_type": "stream",
          "name": "stdout",
          "text": [
            "Batch 6250/7794:\n",
            "total_loss: 0.38104018568992615\n"
          ]
        },
        {
          "output_type": "stream",
          "name": "stderr",
          "text": [
            "Epoch 5/5:  83%|████████▎ | 6501/7794 [06:07<01:13, 17.59it/s]"
          ]
        },
        {
          "output_type": "stream",
          "name": "stdout",
          "text": [
            "Batch 6500/7794:\n",
            "total_loss: 0.36106765270233154\n"
          ]
        },
        {
          "output_type": "stream",
          "name": "stderr",
          "text": [
            "Epoch 5/5:  87%|████████▋ | 6751/7794 [06:21<00:59, 17.65it/s]"
          ]
        },
        {
          "output_type": "stream",
          "name": "stdout",
          "text": [
            "Batch 6750/7794:\n",
            "total_loss: 0.3501778244972229\n"
          ]
        },
        {
          "output_type": "stream",
          "name": "stderr",
          "text": [
            "Epoch 5/5:  90%|████████▉ | 7001/7794 [06:35<00:44, 17.68it/s]"
          ]
        },
        {
          "output_type": "stream",
          "name": "stdout",
          "text": [
            "Batch 7000/7794:\n",
            "total_loss: 0.2216043919324875\n"
          ]
        },
        {
          "output_type": "stream",
          "name": "stderr",
          "text": [
            "Epoch 5/5:  93%|█████████▎| 7251/7794 [06:49<00:30, 17.66it/s]"
          ]
        },
        {
          "output_type": "stream",
          "name": "stdout",
          "text": [
            "Batch 7250/7794:\n",
            "total_loss: 0.23670180141925812\n"
          ]
        },
        {
          "output_type": "stream",
          "name": "stderr",
          "text": [
            "Epoch 5/5:  96%|█████████▌| 7501/7794 [07:03<00:16, 17.70it/s]"
          ]
        },
        {
          "output_type": "stream",
          "name": "stdout",
          "text": [
            "Batch 7500/7794:\n",
            "total_loss: 0.30171626806259155\n"
          ]
        },
        {
          "output_type": "stream",
          "name": "stderr",
          "text": [
            "Epoch 5/5:  99%|█████████▉| 7751/7794 [07:17<00:02, 17.69it/s]"
          ]
        },
        {
          "output_type": "stream",
          "name": "stdout",
          "text": [
            "Batch 7750/7794:\n",
            "total_loss: 0.3648933172225952\n"
          ]
        },
        {
          "output_type": "stream",
          "name": "stderr",
          "text": [
            "Epoch 5/5: 100%|██████████| 7794/7794 [07:20<00:00, 17.70it/s]\n",
            "Validating: 100%|██████████| 16/16 [00:00<00:00, 33.53it/s]\n"
          ]
        },
        {
          "output_type": "stream",
          "name": "stdout",
          "text": [
            "\n",
            "Epoch Summary:\n",
            "Train Total Loss: 0.3181\n",
            "Val Total Loss: 0.2718\n",
            "Learning Rate: 0.000100\n",
            "New best model saved with val loss: 0.2718\n",
            "--------------------------------------------------\n"
          ]
        }
      ],
      "source": [
        "pconfig = PointNetConfig(\n",
        "    embeddingSize=n_embd,\n",
        "    numberofPoints=numPoints,\n",
        "    numberofVars=numVars,\n",
        "    numberofYs=numYs,\n",
        ")\n",
        "\n",
        "model = SymbolicGaussianDiffusion(\n",
        "    tnet_config=pconfig,\n",
        "    vocab_size=train_dataset.vocab_size,\n",
        "    max_seq_len=blockSize,\n",
        "    padding_idx=train_dataset.paddingID,\n",
        "    max_num_vars=9,\n",
        "    n_layer=4,\n",
        "    n_head=4,\n",
        "    n_embd=n_embd,\n",
        "    timesteps=timesteps,\n",
        "    beta_start=0.0001,\n",
        "    beta_end=0.02,\n",
        "    set_transformer=True,\n",
        ")\n",
        "\n",
        "train_single_gpu(\n",
        "    model,\n",
        "    train_dataset,\n",
        "    val_dataset,\n",
        "    num_epochs=num_epochs,\n",
        "    save_every=2,\n",
        "    batch_size=batch_size,\n",
        "    timesteps=timesteps,\n",
        "    learning_rate=learning_rate,\n",
        "    path=\"1_var_set_transformer_validity.pth\"\n",
        ")"
      ]
    }
  ],
  "metadata": {
    "kaggle": {
      "accelerator": "nvidiaTeslaT4",
      "dataSources": [
        {
          "datasetId": 6977314,
          "sourceId": 11178716,
          "sourceType": "datasetVersion"
        },
        {
          "datasetId": 7089758,
          "sourceId": 11333846,
          "sourceType": "datasetVersion"
        },
        {
          "isSourceIdPinned": true,
          "modelId": 282263,
          "modelInstanceId": 261112,
          "sourceId": 306062,
          "sourceType": "modelInstanceVersion"
        },
        {
          "isSourceIdPinned": true,
          "modelId": 290784,
          "modelInstanceId": 269794,
          "sourceId": 319741,
          "sourceType": "modelInstanceVersion"
        },
        {
          "isSourceIdPinned": true,
          "modelId": 290853,
          "modelInstanceId": 269860,
          "sourceId": 319828,
          "sourceType": "modelInstanceVersion"
        }
      ],
      "dockerImageVersionId": 30919,
      "isGpuEnabled": true,
      "isInternetEnabled": true,
      "language": "python",
      "sourceType": "notebook"
    },
    "kernelspec": {
      "display_name": "Python 3",
      "name": "python3"
    },
    "language_info": {
      "codemirror_mode": {
        "name": "ipython",
        "version": 3
      },
      "file_extension": ".py",
      "mimetype": "text/x-python",
      "name": "python",
      "nbconvert_exporter": "python",
      "pygments_lexer": "ipython3",
      "version": "3.10.12"
    },
    "papermill": {
      "default_parameters": {},
      "duration": 10018.029584,
      "end_time": "2025-04-09T07:23:48.813413",
      "environment_variables": {},
      "exception": null,
      "input_path": "__notebook__.ipynb",
      "output_path": "__notebook__.ipynb",
      "parameters": {},
      "start_time": "2025-04-09T04:36:50.783829",
      "version": "2.6.0"
    },
    "colab": {
      "provenance": [],
      "machine_shape": "hm",
      "gpuType": "L4",
      "include_colab_link": true
    },
    "accelerator": "GPU"
  },
  "nbformat": 4,
  "nbformat_minor": 5
}