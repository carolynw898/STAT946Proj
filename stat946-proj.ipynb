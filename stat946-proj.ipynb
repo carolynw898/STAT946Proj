{
  "cells": [
    {
      "cell_type": "markdown",
      "metadata": {
        "id": "view-in-github",
        "colab_type": "text"
      },
      "source": [
        "<a href=\"https://colab.research.google.com/github/carolynw898/STAT946Proj/blob/main/stat946-proj.ipynb\" target=\"_parent\"><img src=\"https://colab.research.google.com/assets/colab-badge.svg\" alt=\"Open In Colab\"/></a>"
      ]
    },
    {
      "cell_type": "code",
      "source": [
        "from google.colab import drive\n",
        "\n",
        "drive.mount('/content/drive')"
      ],
      "metadata": {
        "id": "68BgA1xE63Rk",
        "outputId": "6ba24a7c-6aec-40a6-aed2-845e187755ef",
        "colab": {
          "base_uri": "https://localhost:8080/"
        }
      },
      "id": "68BgA1xE63Rk",
      "execution_count": 6,
      "outputs": [
        {
          "output_type": "stream",
          "name": "stdout",
          "text": [
            "Drive already mounted at /content/drive; to attempt to forcibly remount, call drive.mount(\"/content/drive\", force_remount=True).\n"
          ]
        }
      ]
    },
    {
      "cell_type": "code",
      "execution_count": 7,
      "id": "c63489dd",
      "metadata": {
        "execution": {
          "iopub.execute_input": "2025-04-09T04:36:58.889980Z",
          "iopub.status.busy": "2025-04-09T04:36:58.889777Z",
          "iopub.status.idle": "2025-04-09T04:36:58.901754Z",
          "shell.execute_reply": "2025-04-09T04:36:58.901130Z"
        },
        "papermill": {
          "duration": 0.016526,
          "end_time": "2025-04-09T04:36:58.902925",
          "exception": false,
          "start_time": "2025-04-09T04:36:58.886399",
          "status": "completed"
        },
        "tags": [],
        "id": "c63489dd"
      },
      "outputs": [],
      "source": [
        "import torch\n",
        "import torch.nn as nn\n",
        "from torch.utils.data import DataLoader\n",
        "from torch.optim import Adam\n",
        "from torch.optim.lr_scheduler import ReduceLROnPlateau\n",
        "import tqdm\n",
        "from typing import Tuple\n",
        "from models import SymbolicGaussianDiffusion, PointNetConfig\n",
        "from utils import CharDataset, processDataFiles, tokenize_equation\n",
        "\n",
        "def train_epoch(\n",
        "    model: SymbolicGaussianDiffusion,\n",
        "    train_loader: DataLoader,\n",
        "    optimizer: Adam,\n",
        "    train_dataset: CharDataset,\n",
        "    timesteps: int,\n",
        "    device: torch.device,\n",
        "    epoch: int,\n",
        "    num_epochs: int,\n",
        ") -> Tuple[float, float, float]:\n",
        "    model.train()\n",
        "    total_train_loss = 0\n",
        "\n",
        "    for i, (_, tokens, points, variables) in tqdm.tqdm(\n",
        "        enumerate(train_loader),\n",
        "        total=len(train_loader),\n",
        "        desc=f\"Epoch {epoch+1}/{num_epochs}\",\n",
        "    ):\n",
        "        points, tokens, variables = (\n",
        "            points.to(device),\n",
        "            tokens.to(device),\n",
        "            variables.to(device),\n",
        "        )\n",
        "        t = torch.randint(0, timesteps, (tokens.shape[0],), device=device)\n",
        "        optimizer.zero_grad()\n",
        "\n",
        "        total_loss = model(points, tokens, variables, t)\n",
        "\n",
        "        if (i + 1) % 250 == 0:\n",
        "            print(f\"Batch {i + 1}/{len(train_loader)}:\")\n",
        "            print(f\"total_loss: {total_loss}\")\n",
        "\n",
        "        total_loss.backward()\n",
        "        optimizer.step()\n",
        "\n",
        "        total_train_loss += total_loss.item()\n",
        "\n",
        "\n",
        "    avg_train_loss = total_train_loss / len(train_loader)\n",
        "    return avg_train_loss\n",
        "\n",
        "\n",
        "def val_epoch(\n",
        "    model: SymbolicGaussianDiffusion,\n",
        "    val_loader: DataLoader,\n",
        "    train_dataset: CharDataset,\n",
        "    timesteps: int,\n",
        "    device: torch.device,\n",
        "    epoch: int,\n",
        "    num_epochs: int,\n",
        ") -> Tuple[float, float, float]:\n",
        "    model.eval()\n",
        "    total_val_loss = 0\n",
        "\n",
        "    with torch.no_grad():\n",
        "        for _, tokens, points, variables in tqdm.tqdm(\n",
        "            val_loader, total=len(val_loader), desc=\"Validating\"\n",
        "        ):\n",
        "            points, tokens, variables = (\n",
        "                points.to(device),\n",
        "                tokens.to(device),\n",
        "                variables.to(device),\n",
        "            )\n",
        "            t = torch.randint(0, timesteps, (tokens.shape[0],), device=device)\n",
        "            total_loss = model(points, tokens, variables, t)\n",
        "\n",
        "            total_val_loss += total_loss.item()\n",
        "\n",
        "    avg_val_loss = total_val_loss / len(val_loader)\n",
        "    return avg_val_loss\n",
        "\n",
        "\n",
        "def train_single_gpu(\n",
        "    model: SymbolicGaussianDiffusion,\n",
        "    train_dataset: CharDataset,\n",
        "    val_dataset: CharDataset,\n",
        "    num_epochs=10,\n",
        "    save_every=2,\n",
        "    batch_size=32,\n",
        "    timesteps=1000,\n",
        "    learning_rate=1e-3,\n",
        "    path=None,\n",
        "):\n",
        "    device = torch.device(\"cuda\" if torch.cuda.is_available() else \"cpu\")\n",
        "\n",
        "    model = model.to(device)\n",
        "\n",
        "    optimizer = Adam(model.parameters(), lr=learning_rate)\n",
        "    scheduler = ReduceLROnPlateau(optimizer, mode=\"min\", factor=0.5, patience=1)\n",
        "\n",
        "    train_loader = DataLoader(\n",
        "        train_dataset,\n",
        "        batch_size=batch_size,\n",
        "        pin_memory=True,\n",
        "        shuffle=True,\n",
        "        num_workers=4,\n",
        "    )\n",
        "    val_loader = DataLoader(\n",
        "        val_dataset,\n",
        "        batch_size=batch_size,\n",
        "        pin_memory=True,\n",
        "        shuffle=False,\n",
        "        num_workers=4,\n",
        "    )\n",
        "\n",
        "    best_val_loss = float(\"inf\")\n",
        "\n",
        "    for epoch in range(num_epochs):\n",
        "        avg_train_loss = train_epoch(\n",
        "            model,\n",
        "            train_loader,\n",
        "            optimizer,\n",
        "            train_dataset,\n",
        "            timesteps,\n",
        "            device,\n",
        "            epoch,\n",
        "            num_epochs,\n",
        "        )\n",
        "\n",
        "        avg_val_loss = val_epoch(\n",
        "            model, val_loader, train_dataset, timesteps, device, epoch, num_epochs\n",
        "        )\n",
        "\n",
        "        scheduler.step(avg_val_loss)\n",
        "        current_lr = optimizer.param_groups[0][\"lr\"]\n",
        "\n",
        "        print(\"\\nEpoch Summary:\")\n",
        "        print(\n",
        "            f\"Train Total Loss: {avg_train_loss:.4f}\"\n",
        "        )\n",
        "        print(\n",
        "            f\"Val Total Loss: {avg_val_loss:.4f}\"\n",
        "        )\n",
        "        print(f\"Learning Rate: {current_lr:.6f}\")\n",
        "\n",
        "        if avg_val_loss < best_val_loss:\n",
        "            best_val_loss = avg_val_loss\n",
        "            state_dict = model.state_dict()\n",
        "            torch.save(state_dict, path)\n",
        "            print(f\"New best model saved with val loss: {best_val_loss:.4f}\")\n",
        "\n",
        "        print(\"-\" * 50)"
      ]
    },
    {
      "cell_type": "code",
      "execution_count": 8,
      "id": "40f82cb9",
      "metadata": {
        "execution": {
          "iopub.execute_input": "2025-04-09T04:36:58.909108Z",
          "iopub.status.busy": "2025-04-09T04:36:58.908916Z",
          "iopub.status.idle": "2025-04-09T04:36:59.013494Z",
          "shell.execute_reply": "2025-04-09T04:36:59.012754Z"
        },
        "papermill": {
          "duration": 0.109049,
          "end_time": "2025-04-09T04:36:59.014764",
          "exception": false,
          "start_time": "2025-04-09T04:36:58.905715",
          "status": "completed"
        },
        "tags": [],
        "id": "40f82cb9"
      },
      "outputs": [],
      "source": [
        "n_embd = 512\n",
        "timesteps = 1000\n",
        "batch_size = 64\n",
        "learning_rate = 1e-4\n",
        "num_epochs = 5\n",
        "blockSize = 32\n",
        "numVars = 2\n",
        "numYs = 1\n",
        "numPoints = 250\n",
        "target = 'Skeleton'\n",
        "const_range = [-2.1, 2.1]\n",
        "trainRange = [-3.0, 3.0]\n",
        "decimals = 8\n",
        "addVars = False\n",
        "maxNumFiles = 100\n",
        "device = torch.device(\"cuda\" if torch.cuda.is_available() else \"cpu\")"
      ]
    },
    {
      "cell_type": "code",
      "execution_count": 9,
      "id": "1082b87e",
      "metadata": {
        "execution": {
          "iopub.execute_input": "2025-04-09T04:36:59.022690Z",
          "iopub.status.busy": "2025-04-09T04:36:59.022461Z",
          "iopub.status.idle": "2025-04-09T04:36:59.025458Z",
          "shell.execute_reply": "2025-04-09T04:36:59.024842Z"
        },
        "papermill": {
          "duration": 0.007644,
          "end_time": "2025-04-09T04:36:59.026676",
          "exception": false,
          "start_time": "2025-04-09T04:36:59.019032",
          "status": "completed"
        },
        "tags": [],
        "id": "1082b87e"
      },
      "outputs": [],
      "source": [
        "dataDir = \"/content/drive/MyDrive/Colab/STAT946_proj/data\"\n",
        "dataFolder = \"2_var_dataset\""
      ]
    },
    {
      "cell_type": "code",
      "execution_count": 10,
      "id": "949b9144",
      "metadata": {
        "execution": {
          "iopub.execute_input": "2025-04-09T04:36:59.033270Z",
          "iopub.status.busy": "2025-04-09T04:36:59.033062Z",
          "iopub.status.idle": "2025-04-09T04:37:15.805532Z",
          "shell.execute_reply": "2025-04-09T04:37:15.804525Z"
        },
        "papermill": {
          "duration": 16.777345,
          "end_time": "2025-04-09T04:37:15.806956",
          "exception": false,
          "start_time": "2025-04-09T04:36:59.029611",
          "status": "completed"
        },
        "tags": [],
        "id": "949b9144",
        "outputId": "f500707d-aa6f-4d92-91fd-d80b9dacae7b",
        "colab": {
          "base_uri": "https://localhost:8080/"
        }
      },
      "outputs": [
        {
          "output_type": "stream",
          "name": "stdout",
          "text": [
            "data has 499035 examples, 30 unique.\n",
            "id:390191\n",
            "outputs:C*exp(C*x2**4)+C*exp(C*x1)+C>__________\n",
            "variables:2\n"
          ]
        }
      ],
      "source": [
        "from torch.utils.data import DataLoader\n",
        "import numpy as np\n",
        "import glob\n",
        "from utils import processDataFiles, CharDataset, tokenize_equation\n",
        "import random\n",
        "import json\n",
        "\n",
        "path = '{}/{}/Train/*.json'.format(dataDir, dataFolder)\n",
        "files = glob.glob(path)[:maxNumFiles]\n",
        "text = processDataFiles(files)\n",
        "text = text.split('\\n') # convert the raw text to a set of examples\n",
        "# skeletons = []\n",
        "skeletons = [json.loads(item)['Skeleton'] for item in text if item.strip()]\n",
        "all_tokens = set()\n",
        "for eq in skeletons:\n",
        "    all_tokens.update(tokenize_equation(eq))\n",
        "integers = {'0', '1', '2', '3', '4', '5', '6', '7', '8', '9'}\n",
        "all_tokens.update(integers)  # add all integers to the token set\n",
        "tokens = sorted(list(all_tokens) + ['_', 'T', '<', '>', ':'])  # special tokens\n",
        "trainText = text[:-1] if len(text[-1]) == 0 else text\n",
        "random.shuffle(trainText) # shuffle the dataset, it's important specailly for the combined number of variables experiment\n",
        "train_dataset = CharDataset(trainText, blockSize, tokens=tokens, numVars=numVars,\n",
        "                        numYs=numYs, numPoints=numPoints, target=target, addVars=addVars,\n",
        "                        const_range=const_range, xRange=trainRange, decimals=decimals)\n",
        "\n",
        "idx = np.random.randint(train_dataset.__len__())\n",
        "inputs, outputs, points, variables = train_dataset.__getitem__(idx)\n",
        "inputs = ''.join([train_dataset.itos[int(i)] for i in inputs])\n",
        "outputs = ''.join([train_dataset.itos[int(i)] for i in outputs])\n",
        "print('id:{}\\noutputs:{}\\nvariables:{}'.format(idx,outputs,variables))"
      ]
    },
    {
      "cell_type": "code",
      "execution_count": 11,
      "id": "3cec88e0",
      "metadata": {
        "execution": {
          "iopub.execute_input": "2025-04-09T04:37:15.814858Z",
          "iopub.status.busy": "2025-04-09T04:37:15.814600Z",
          "iopub.status.idle": "2025-04-09T04:37:15.913109Z",
          "shell.execute_reply": "2025-04-09T04:37:15.912228Z"
        },
        "papermill": {
          "duration": 0.103734,
          "end_time": "2025-04-09T04:37:15.914323",
          "exception": false,
          "start_time": "2025-04-09T04:37:15.810589",
          "status": "completed"
        },
        "tags": [],
        "id": "3cec88e0",
        "outputId": "ad3d6301-5f0f-48f7-bb01-9585adacbc22",
        "colab": {
          "base_uri": "https://localhost:8080/"
        }
      },
      "outputs": [
        {
          "output_type": "stream",
          "name": "stdout",
          "text": [
            "data has 949 examples, 30 unique.\n",
            "tensor(-8.8065) tensor(6.2440)\n",
            "id:438\n",
            "outputs:C*x1**4+C*x1**3+C*x1**2+C*x1+C>________\n",
            "variables:1\n"
          ]
        }
      ],
      "source": [
        "path = '{}/{}/Val/*.json'.format(dataDir,dataFolder)\n",
        "files = glob.glob(path)\n",
        "textVal = processDataFiles([files[0]])\n",
        "textVal = textVal.split('\\n') # convert the raw text to a set of examples\n",
        "val_dataset = CharDataset(textVal, blockSize, tokens=tokens, numVars=numVars,\n",
        "                        numYs=numYs, numPoints=numPoints, target=target, addVars=addVars,\n",
        "                        const_range=const_range, xRange=trainRange, decimals=decimals)\n",
        "\n",
        "# print a random sample\n",
        "idx = np.random.randint(val_dataset.__len__())\n",
        "inputs, outputs, points, variables = val_dataset.__getitem__(idx)\n",
        "print(points.min(), points.max())\n",
        "inputs = ''.join([train_dataset.itos[int(i)] for i in inputs])\n",
        "outputs = ''.join([train_dataset.itos[int(i)] for i in outputs])\n",
        "print('id:{}\\noutputs:{}\\nvariables:{}'.format(idx,outputs,variables))"
      ]
    },
    {
      "cell_type": "code",
      "execution_count": 12,
      "id": "b54b4deb",
      "metadata": {
        "execution": {
          "iopub.execute_input": "2025-04-09T04:37:15.921801Z",
          "iopub.status.busy": "2025-04-09T04:37:15.921566Z",
          "iopub.status.idle": "2025-04-09T07:23:43.919953Z",
          "shell.execute_reply": "2025-04-09T07:23:43.919058Z"
        },
        "papermill": {
          "duration": 9988.003529,
          "end_time": "2025-04-09T07:23:43.921246",
          "exception": false,
          "start_time": "2025-04-09T04:37:15.917717",
          "status": "completed"
        },
        "tags": [],
        "id": "b54b4deb",
        "outputId": "d7771f8c-7e5b-4e85-de6e-6654b4e4960d",
        "colab": {
          "base_uri": "https://localhost:8080/"
        }
      },
      "outputs": [
        {
          "output_type": "stream",
          "name": "stderr",
          "text": [
            "Epoch 1/5:   3%|▎         | 249/7798 [00:21<10:11, 12.34it/s]"
          ]
        },
        {
          "output_type": "stream",
          "name": "stdout",
          "text": [
            "Batch 250/7798:\n",
            "total_loss: 2.007009267807007\n"
          ]
        },
        {
          "output_type": "stream",
          "name": "stderr",
          "text": [
            "Epoch 1/5:   6%|▋         | 501/7798 [00:42<09:46, 12.43it/s]"
          ]
        },
        {
          "output_type": "stream",
          "name": "stdout",
          "text": [
            "Batch 500/7798:\n",
            "total_loss: 1.6813679933547974\n"
          ]
        },
        {
          "output_type": "stream",
          "name": "stderr",
          "text": [
            "Epoch 1/5:  10%|▉         | 749/7798 [01:03<08:53, 13.21it/s]"
          ]
        },
        {
          "output_type": "stream",
          "name": "stdout",
          "text": [
            "Batch 750/7798:\n",
            "total_loss: 1.3449336290359497\n"
          ]
        },
        {
          "output_type": "stream",
          "name": "stderr",
          "text": [
            "Epoch 1/5:  13%|█▎        | 999/7798 [01:24<08:45, 12.93it/s]"
          ]
        },
        {
          "output_type": "stream",
          "name": "stdout",
          "text": [
            "Batch 1000/7798:\n",
            "total_loss: 0.8695368766784668\n"
          ]
        },
        {
          "output_type": "stream",
          "name": "stderr",
          "text": [
            "Epoch 1/5:  16%|█▌        | 1251/7798 [01:45<08:23, 12.99it/s]"
          ]
        },
        {
          "output_type": "stream",
          "name": "stdout",
          "text": [
            "Batch 1250/7798:\n",
            "total_loss: 0.7282642126083374\n"
          ]
        },
        {
          "output_type": "stream",
          "name": "stderr",
          "text": [
            "Epoch 1/5:  19%|█▉        | 1501/7798 [02:06<09:06, 11.53it/s]"
          ]
        },
        {
          "output_type": "stream",
          "name": "stdout",
          "text": [
            "Batch 1500/7798:\n",
            "total_loss: 0.8693933486938477\n"
          ]
        },
        {
          "output_type": "stream",
          "name": "stderr",
          "text": [
            "Epoch 1/5:  22%|██▏       | 1751/7798 [02:26<08:36, 11.71it/s]"
          ]
        },
        {
          "output_type": "stream",
          "name": "stdout",
          "text": [
            "Batch 1750/7798:\n",
            "total_loss: 0.7199123501777649\n"
          ]
        },
        {
          "output_type": "stream",
          "name": "stderr",
          "text": [
            "Epoch 1/5:  26%|██▌       | 2001/7798 [02:47<08:19, 11.62it/s]"
          ]
        },
        {
          "output_type": "stream",
          "name": "stdout",
          "text": [
            "Batch 2000/7798:\n",
            "total_loss: 0.794024646282196\n"
          ]
        },
        {
          "output_type": "stream",
          "name": "stderr",
          "text": [
            "Epoch 1/5:  29%|██▉       | 2251/7798 [03:07<08:19, 11.11it/s]"
          ]
        },
        {
          "output_type": "stream",
          "name": "stdout",
          "text": [
            "Batch 2250/7798:\n",
            "total_loss: 0.6710669994354248\n"
          ]
        },
        {
          "output_type": "stream",
          "name": "stderr",
          "text": [
            "Epoch 1/5:  32%|███▏      | 2501/7798 [03:28<06:51, 12.87it/s]"
          ]
        },
        {
          "output_type": "stream",
          "name": "stdout",
          "text": [
            "Batch 2500/7798:\n",
            "total_loss: 0.5889523029327393\n"
          ]
        },
        {
          "output_type": "stream",
          "name": "stderr",
          "text": [
            "Epoch 1/5:  35%|███▌      | 2751/7798 [03:49<08:16, 10.17it/s]"
          ]
        },
        {
          "output_type": "stream",
          "name": "stdout",
          "text": [
            "Batch 2750/7798:\n",
            "total_loss: 0.6715309023857117\n"
          ]
        },
        {
          "output_type": "stream",
          "name": "stderr",
          "text": [
            "Epoch 1/5:  38%|███▊      | 3001/7798 [04:09<06:16, 12.73it/s]"
          ]
        },
        {
          "output_type": "stream",
          "name": "stdout",
          "text": [
            "Batch 3000/7798:\n",
            "total_loss: 0.4075583517551422\n"
          ]
        },
        {
          "output_type": "stream",
          "name": "stderr",
          "text": [
            "Epoch 1/5:  42%|████▏     | 3251/7798 [04:30<05:58, 12.68it/s]"
          ]
        },
        {
          "output_type": "stream",
          "name": "stdout",
          "text": [
            "Batch 3250/7798:\n",
            "total_loss: 0.7180449366569519\n"
          ]
        },
        {
          "output_type": "stream",
          "name": "stderr",
          "text": [
            "Epoch 1/5:  45%|████▍     | 3501/7798 [04:51<06:19, 11.33it/s]"
          ]
        },
        {
          "output_type": "stream",
          "name": "stdout",
          "text": [
            "Batch 3500/7798:\n",
            "total_loss: 0.4229906499385834\n"
          ]
        },
        {
          "output_type": "stream",
          "name": "stderr",
          "text": [
            "Epoch 1/5:  48%|████▊     | 3751/7798 [05:12<05:51, 11.50it/s]"
          ]
        },
        {
          "output_type": "stream",
          "name": "stdout",
          "text": [
            "Batch 3750/7798:\n",
            "total_loss: 0.4974105656147003\n"
          ]
        },
        {
          "output_type": "stream",
          "name": "stderr",
          "text": [
            "Epoch 1/5:  51%|█████▏    | 4001/7798 [05:32<04:55, 12.84it/s]"
          ]
        },
        {
          "output_type": "stream",
          "name": "stdout",
          "text": [
            "Batch 4000/7798:\n",
            "total_loss: 0.5277514457702637\n"
          ]
        },
        {
          "output_type": "stream",
          "name": "stderr",
          "text": [
            "Epoch 1/5:  55%|█████▍    | 4251/7798 [05:53<04:30, 13.11it/s]"
          ]
        },
        {
          "output_type": "stream",
          "name": "stdout",
          "text": [
            "Batch 4250/7798:\n",
            "total_loss: 0.6356792449951172\n"
          ]
        },
        {
          "output_type": "stream",
          "name": "stderr",
          "text": [
            "Epoch 1/5:  58%|█████▊    | 4501/7798 [06:14<04:42, 11.67it/s]"
          ]
        },
        {
          "output_type": "stream",
          "name": "stdout",
          "text": [
            "Batch 4500/7798:\n",
            "total_loss: 0.6408905982971191\n"
          ]
        },
        {
          "output_type": "stream",
          "name": "stderr",
          "text": [
            "Epoch 1/5:  61%|██████    | 4749/7798 [06:34<03:57, 12.85it/s]"
          ]
        },
        {
          "output_type": "stream",
          "name": "stdout",
          "text": [
            "Batch 4750/7798:\n",
            "total_loss: 0.7295777201652527\n"
          ]
        },
        {
          "output_type": "stream",
          "name": "stderr",
          "text": [
            "Epoch 1/5:  64%|██████▍   | 5001/7798 [06:55<03:45, 12.42it/s]"
          ]
        },
        {
          "output_type": "stream",
          "name": "stdout",
          "text": [
            "Batch 5000/7798:\n",
            "total_loss: 0.5725485682487488\n"
          ]
        },
        {
          "output_type": "stream",
          "name": "stderr",
          "text": [
            "Epoch 1/5:  67%|██████▋   | 5251/7798 [07:15<03:19, 12.76it/s]"
          ]
        },
        {
          "output_type": "stream",
          "name": "stdout",
          "text": [
            "Batch 5250/7798:\n",
            "total_loss: 0.5295022130012512\n"
          ]
        },
        {
          "output_type": "stream",
          "name": "stderr",
          "text": [
            "Epoch 1/5:  71%|███████   | 5501/7798 [07:36<02:57, 12.94it/s]"
          ]
        },
        {
          "output_type": "stream",
          "name": "stdout",
          "text": [
            "Batch 5500/7798:\n",
            "total_loss: 0.5209551453590393\n"
          ]
        },
        {
          "output_type": "stream",
          "name": "stderr",
          "text": [
            "Epoch 1/5:  74%|███████▎  | 5751/7798 [07:56<02:34, 13.22it/s]"
          ]
        },
        {
          "output_type": "stream",
          "name": "stdout",
          "text": [
            "Batch 5750/7798:\n",
            "total_loss: 0.37016788125038147\n"
          ]
        },
        {
          "output_type": "stream",
          "name": "stderr",
          "text": [
            "Epoch 1/5:  77%|███████▋  | 5999/7798 [08:17<02:22, 12.63it/s]"
          ]
        },
        {
          "output_type": "stream",
          "name": "stdout",
          "text": [
            "Batch 6000/7798:\n",
            "total_loss: 0.5949460864067078\n"
          ]
        },
        {
          "output_type": "stream",
          "name": "stderr",
          "text": [
            "Epoch 1/5:  80%|████████  | 6251/7798 [08:38<02:00, 12.86it/s]"
          ]
        },
        {
          "output_type": "stream",
          "name": "stdout",
          "text": [
            "Batch 6250/7798:\n",
            "total_loss: 0.5793258547782898\n"
          ]
        },
        {
          "output_type": "stream",
          "name": "stderr",
          "text": [
            "Epoch 1/5:  83%|████████▎ | 6501/7798 [08:59<01:49, 11.89it/s]"
          ]
        },
        {
          "output_type": "stream",
          "name": "stdout",
          "text": [
            "Batch 6500/7798:\n",
            "total_loss: 0.5592092275619507\n"
          ]
        },
        {
          "output_type": "stream",
          "name": "stderr",
          "text": [
            "Epoch 1/5:  87%|████████▋ | 6751/7798 [09:19<01:21, 12.86it/s]"
          ]
        },
        {
          "output_type": "stream",
          "name": "stdout",
          "text": [
            "Batch 6750/7798:\n",
            "total_loss: 0.7993831038475037\n"
          ]
        },
        {
          "output_type": "stream",
          "name": "stderr",
          "text": [
            "Epoch 1/5:  90%|████████▉ | 7001/7798 [09:40<01:20,  9.94it/s]"
          ]
        },
        {
          "output_type": "stream",
          "name": "stdout",
          "text": [
            "Batch 7000/7798:\n",
            "total_loss: 0.4668397307395935\n"
          ]
        },
        {
          "output_type": "stream",
          "name": "stderr",
          "text": [
            "Epoch 1/5:  93%|█████████▎| 7251/7798 [10:01<00:47, 11.41it/s]"
          ]
        },
        {
          "output_type": "stream",
          "name": "stdout",
          "text": [
            "Batch 7250/7798:\n",
            "total_loss: 0.4647594392299652\n"
          ]
        },
        {
          "output_type": "stream",
          "name": "stderr",
          "text": [
            "Epoch 1/5:  96%|█████████▌| 7501/7798 [10:21<00:22, 13.16it/s]"
          ]
        },
        {
          "output_type": "stream",
          "name": "stdout",
          "text": [
            "Batch 7500/7798:\n",
            "total_loss: 0.4721720814704895\n"
          ]
        },
        {
          "output_type": "stream",
          "name": "stderr",
          "text": [
            "Epoch 1/5:  99%|█████████▉| 7751/7798 [10:42<00:04, 11.45it/s]"
          ]
        },
        {
          "output_type": "stream",
          "name": "stdout",
          "text": [
            "Batch 7750/7798:\n",
            "total_loss: 0.6352137923240662\n"
          ]
        },
        {
          "output_type": "stream",
          "name": "stderr",
          "text": [
            "Epoch 1/5: 100%|██████████| 7798/7798 [10:46<00:00, 12.06it/s]\n",
            "Validating: 100%|██████████| 15/15 [00:01<00:00,  9.01it/s]\n"
          ]
        },
        {
          "output_type": "stream",
          "name": "stdout",
          "text": [
            "\n",
            "Epoch Summary:\n",
            "Train Total Loss: 0.7509\n",
            "Val Total Loss: 0.4900\n",
            "Learning Rate: 0.000100\n",
            "New best model saved with val loss: 0.4900\n",
            "--------------------------------------------------\n"
          ]
        },
        {
          "output_type": "stream",
          "name": "stderr",
          "text": [
            "Epoch 2/5:   3%|▎         | 251/7798 [00:20<09:54, 12.70it/s]"
          ]
        },
        {
          "output_type": "stream",
          "name": "stdout",
          "text": [
            "Batch 250/7798:\n",
            "total_loss: 0.6493979096412659\n"
          ]
        },
        {
          "output_type": "stream",
          "name": "stderr",
          "text": [
            "Epoch 2/5:   6%|▋         | 499/7798 [00:41<09:57, 12.22it/s]"
          ]
        },
        {
          "output_type": "stream",
          "name": "stdout",
          "text": [
            "Batch 500/7798:\n",
            "total_loss: 0.5412514209747314\n"
          ]
        },
        {
          "output_type": "stream",
          "name": "stderr",
          "text": [
            "Epoch 2/5:  10%|▉         | 751/7798 [01:02<09:15, 12.68it/s]"
          ]
        },
        {
          "output_type": "stream",
          "name": "stdout",
          "text": [
            "Batch 750/7798:\n",
            "total_loss: 0.2742714285850525\n"
          ]
        },
        {
          "output_type": "stream",
          "name": "stderr",
          "text": [
            "Epoch 2/5:  13%|█▎        | 1001/7798 [01:22<09:29, 11.93it/s]"
          ]
        },
        {
          "output_type": "stream",
          "name": "stdout",
          "text": [
            "Batch 1000/7798:\n",
            "total_loss: 0.5198659300804138\n"
          ]
        },
        {
          "output_type": "stream",
          "name": "stderr",
          "text": [
            "Epoch 2/5:  16%|█▌        | 1251/7798 [01:44<08:29, 12.85it/s]"
          ]
        },
        {
          "output_type": "stream",
          "name": "stdout",
          "text": [
            "Batch 1250/7798:\n",
            "total_loss: 0.5552994608879089\n"
          ]
        },
        {
          "output_type": "stream",
          "name": "stderr",
          "text": [
            "Epoch 2/5:  19%|█▉        | 1501/7798 [02:04<08:52, 11.83it/s]"
          ]
        },
        {
          "output_type": "stream",
          "name": "stdout",
          "text": [
            "Batch 1500/7798:\n",
            "total_loss: 0.4589557945728302\n"
          ]
        },
        {
          "output_type": "stream",
          "name": "stderr",
          "text": [
            "Epoch 2/5:  22%|██▏       | 1751/7798 [02:25<08:36, 11.70it/s]"
          ]
        },
        {
          "output_type": "stream",
          "name": "stdout",
          "text": [
            "Batch 1750/7798:\n",
            "total_loss: 0.5189166069030762\n"
          ]
        },
        {
          "output_type": "stream",
          "name": "stderr",
          "text": [
            "Epoch 2/5:  26%|██▌       | 2001/7798 [02:45<07:23, 13.06it/s]"
          ]
        },
        {
          "output_type": "stream",
          "name": "stdout",
          "text": [
            "Batch 2000/7798:\n",
            "total_loss: 0.44335922598838806\n"
          ]
        },
        {
          "output_type": "stream",
          "name": "stderr",
          "text": [
            "Epoch 2/5:  29%|██▉       | 2251/7798 [03:06<07:10, 12.88it/s]"
          ]
        },
        {
          "output_type": "stream",
          "name": "stdout",
          "text": [
            "Batch 2250/7798:\n",
            "total_loss: 0.5639389157295227\n"
          ]
        },
        {
          "output_type": "stream",
          "name": "stderr",
          "text": [
            "Epoch 2/5:  32%|███▏      | 2499/7798 [03:26<07:12, 12.24it/s]"
          ]
        },
        {
          "output_type": "stream",
          "name": "stdout",
          "text": [
            "Batch 2500/7798:\n",
            "total_loss: 0.43846702575683594\n"
          ]
        },
        {
          "output_type": "stream",
          "name": "stderr",
          "text": [
            "Epoch 2/5:  35%|███▌      | 2751/7798 [03:47<06:55, 12.14it/s]"
          ]
        },
        {
          "output_type": "stream",
          "name": "stdout",
          "text": [
            "Batch 2750/7798:\n",
            "total_loss: 0.36503660678863525\n"
          ]
        },
        {
          "output_type": "stream",
          "name": "stderr",
          "text": [
            "Epoch 2/5:  38%|███▊      | 3001/7798 [04:08<06:30, 12.29it/s]"
          ]
        },
        {
          "output_type": "stream",
          "name": "stdout",
          "text": [
            "Batch 3000/7798:\n",
            "total_loss: 0.5643869042396545\n"
          ]
        },
        {
          "output_type": "stream",
          "name": "stderr",
          "text": [
            "Epoch 2/5:  42%|████▏     | 3251/7798 [04:29<05:44, 13.21it/s]"
          ]
        },
        {
          "output_type": "stream",
          "name": "stdout",
          "text": [
            "Batch 3250/7798:\n",
            "total_loss: 0.38421398401260376\n"
          ]
        },
        {
          "output_type": "stream",
          "name": "stderr",
          "text": [
            "Epoch 2/5:  45%|████▍     | 3501/7798 [04:49<06:06, 11.72it/s]"
          ]
        },
        {
          "output_type": "stream",
          "name": "stdout",
          "text": [
            "Batch 3500/7798:\n",
            "total_loss: 0.46523499488830566\n"
          ]
        },
        {
          "output_type": "stream",
          "name": "stderr",
          "text": [
            "Epoch 2/5:  48%|████▊     | 3751/7798 [05:10<05:21, 12.57it/s]"
          ]
        },
        {
          "output_type": "stream",
          "name": "stdout",
          "text": [
            "Batch 3750/7798:\n",
            "total_loss: 0.8041387796401978\n"
          ]
        },
        {
          "output_type": "stream",
          "name": "stderr",
          "text": [
            "Epoch 2/5:  51%|█████▏    | 4001/7798 [05:31<05:22, 11.76it/s]"
          ]
        },
        {
          "output_type": "stream",
          "name": "stdout",
          "text": [
            "Batch 4000/7798:\n",
            "total_loss: 0.35513293743133545\n"
          ]
        },
        {
          "output_type": "stream",
          "name": "stderr",
          "text": [
            "Epoch 2/5:  55%|█████▍    | 4251/7798 [05:51<04:55, 11.98it/s]"
          ]
        },
        {
          "output_type": "stream",
          "name": "stdout",
          "text": [
            "Batch 4250/7798:\n",
            "total_loss: 0.4928465783596039\n"
          ]
        },
        {
          "output_type": "stream",
          "name": "stderr",
          "text": [
            "Epoch 2/5:  58%|█████▊    | 4501/7798 [06:12<04:30, 12.18it/s]"
          ]
        },
        {
          "output_type": "stream",
          "name": "stdout",
          "text": [
            "Batch 4500/7798:\n",
            "total_loss: 0.35577213764190674\n"
          ]
        },
        {
          "output_type": "stream",
          "name": "stderr",
          "text": [
            "Epoch 2/5:  61%|██████    | 4751/7798 [06:33<04:23, 11.57it/s]"
          ]
        },
        {
          "output_type": "stream",
          "name": "stdout",
          "text": [
            "Batch 4750/7798:\n",
            "total_loss: 0.48274946212768555\n"
          ]
        },
        {
          "output_type": "stream",
          "name": "stderr",
          "text": [
            "Epoch 2/5:  64%|██████▍   | 5001/7798 [06:53<03:56, 11.83it/s]"
          ]
        },
        {
          "output_type": "stream",
          "name": "stdout",
          "text": [
            "Batch 5000/7798:\n",
            "total_loss: 0.4413211941719055\n"
          ]
        },
        {
          "output_type": "stream",
          "name": "stderr",
          "text": [
            "Epoch 2/5:  67%|██████▋   | 5251/7798 [07:15<03:13, 13.15it/s]"
          ]
        },
        {
          "output_type": "stream",
          "name": "stdout",
          "text": [
            "Batch 5250/7798:\n",
            "total_loss: 0.4874500036239624\n"
          ]
        },
        {
          "output_type": "stream",
          "name": "stderr",
          "text": [
            "Epoch 2/5:  71%|███████   | 5499/7798 [07:35<03:14, 11.80it/s]"
          ]
        },
        {
          "output_type": "stream",
          "name": "stdout",
          "text": [
            "Batch 5500/7798:\n",
            "total_loss: 0.3696240186691284\n"
          ]
        },
        {
          "output_type": "stream",
          "name": "stderr",
          "text": [
            "Epoch 2/5:  74%|███████▎  | 5751/7798 [07:56<02:34, 13.29it/s]"
          ]
        },
        {
          "output_type": "stream",
          "name": "stdout",
          "text": [
            "Batch 5750/7798:\n",
            "total_loss: 0.6158024668693542\n"
          ]
        },
        {
          "output_type": "stream",
          "name": "stderr",
          "text": [
            "Epoch 2/5:  77%|███████▋  | 6001/7798 [08:17<02:33, 11.73it/s]"
          ]
        },
        {
          "output_type": "stream",
          "name": "stdout",
          "text": [
            "Batch 6000/7798:\n",
            "total_loss: 0.47296345233917236\n"
          ]
        },
        {
          "output_type": "stream",
          "name": "stderr",
          "text": [
            "Epoch 2/5:  80%|████████  | 6251/7798 [08:37<02:15, 11.42it/s]"
          ]
        },
        {
          "output_type": "stream",
          "name": "stdout",
          "text": [
            "Batch 6250/7798:\n",
            "total_loss: 0.44948798418045044\n"
          ]
        },
        {
          "output_type": "stream",
          "name": "stderr",
          "text": [
            "Epoch 2/5:  83%|████████▎ | 6501/7798 [08:58<01:47, 12.12it/s]"
          ]
        },
        {
          "output_type": "stream",
          "name": "stdout",
          "text": [
            "Batch 6500/7798:\n",
            "total_loss: 0.5451480150222778\n"
          ]
        },
        {
          "output_type": "stream",
          "name": "stderr",
          "text": [
            "Epoch 2/5:  87%|████████▋ | 6751/7798 [09:18<01:28, 11.82it/s]"
          ]
        },
        {
          "output_type": "stream",
          "name": "stdout",
          "text": [
            "Batch 6750/7798:\n",
            "total_loss: 0.5495024919509888\n"
          ]
        },
        {
          "output_type": "stream",
          "name": "stderr",
          "text": [
            "Epoch 2/5:  90%|████████▉ | 7001/7798 [09:38<01:07, 11.83it/s]"
          ]
        },
        {
          "output_type": "stream",
          "name": "stdout",
          "text": [
            "Batch 7000/7798:\n",
            "total_loss: 0.4139281213283539\n"
          ]
        },
        {
          "output_type": "stream",
          "name": "stderr",
          "text": [
            "Epoch 2/5:  93%|█████████▎| 7251/7798 [09:59<00:45, 11.98it/s]"
          ]
        },
        {
          "output_type": "stream",
          "name": "stdout",
          "text": [
            "Batch 7250/7798:\n",
            "total_loss: 0.5818496942520142\n"
          ]
        },
        {
          "output_type": "stream",
          "name": "stderr",
          "text": [
            "Epoch 2/5:  96%|█████████▌| 7501/7798 [10:19<00:22, 13.17it/s]"
          ]
        },
        {
          "output_type": "stream",
          "name": "stdout",
          "text": [
            "Batch 7500/7798:\n",
            "total_loss: 0.5885727405548096\n"
          ]
        },
        {
          "output_type": "stream",
          "name": "stderr",
          "text": [
            "Epoch 2/5:  99%|█████████▉| 7751/7798 [10:40<00:03, 12.65it/s]"
          ]
        },
        {
          "output_type": "stream",
          "name": "stdout",
          "text": [
            "Batch 7750/7798:\n",
            "total_loss: 0.5387837290763855\n"
          ]
        },
        {
          "output_type": "stream",
          "name": "stderr",
          "text": [
            "Epoch 2/5: 100%|██████████| 7798/7798 [10:44<00:00, 12.10it/s]\n",
            "Validating: 100%|██████████| 15/15 [00:01<00:00,  9.20it/s]\n"
          ]
        },
        {
          "output_type": "stream",
          "name": "stdout",
          "text": [
            "\n",
            "Epoch Summary:\n",
            "Train Total Loss: 0.5005\n",
            "Val Total Loss: 0.4157\n",
            "Learning Rate: 0.000100\n",
            "New best model saved with val loss: 0.4157\n",
            "--------------------------------------------------\n"
          ]
        },
        {
          "output_type": "stream",
          "name": "stderr",
          "text": [
            "Epoch 3/5:   3%|▎         | 251/7798 [00:20<09:50, 12.78it/s]"
          ]
        },
        {
          "output_type": "stream",
          "name": "stdout",
          "text": [
            "Batch 250/7798:\n",
            "total_loss: 0.7195716500282288\n"
          ]
        },
        {
          "output_type": "stream",
          "name": "stderr",
          "text": [
            "Epoch 3/5:   6%|▋         | 501/7798 [00:41<10:38, 11.43it/s]"
          ]
        },
        {
          "output_type": "stream",
          "name": "stdout",
          "text": [
            "Batch 500/7798:\n",
            "total_loss: 0.3836797773838043\n"
          ]
        },
        {
          "output_type": "stream",
          "name": "stderr",
          "text": [
            "Epoch 3/5:  10%|▉         | 751/7798 [01:02<09:06, 12.90it/s]"
          ]
        },
        {
          "output_type": "stream",
          "name": "stdout",
          "text": [
            "Batch 750/7798:\n",
            "total_loss: 0.5034289360046387\n"
          ]
        },
        {
          "output_type": "stream",
          "name": "stderr",
          "text": [
            "Epoch 3/5:  13%|█▎        | 1001/7798 [01:23<09:28, 11.96it/s]"
          ]
        },
        {
          "output_type": "stream",
          "name": "stdout",
          "text": [
            "Batch 1000/7798:\n",
            "total_loss: 0.30346670746803284\n"
          ]
        },
        {
          "output_type": "stream",
          "name": "stderr",
          "text": [
            "Epoch 3/5:  16%|█▌        | 1251/7798 [01:44<09:13, 11.83it/s]"
          ]
        },
        {
          "output_type": "stream",
          "name": "stdout",
          "text": [
            "Batch 1250/7798:\n",
            "total_loss: 0.5056633353233337\n"
          ]
        },
        {
          "output_type": "stream",
          "name": "stderr",
          "text": [
            "Epoch 3/5:  19%|█▉        | 1501/7798 [02:05<10:15, 10.23it/s]"
          ]
        },
        {
          "output_type": "stream",
          "name": "stdout",
          "text": [
            "Batch 1500/7798:\n",
            "total_loss: 0.5332229137420654\n"
          ]
        },
        {
          "output_type": "stream",
          "name": "stderr",
          "text": [
            "Epoch 3/5:  22%|██▏       | 1751/7798 [02:26<08:30, 11.85it/s]"
          ]
        },
        {
          "output_type": "stream",
          "name": "stdout",
          "text": [
            "Batch 1750/7798:\n",
            "total_loss: 0.2852718234062195\n"
          ]
        },
        {
          "output_type": "stream",
          "name": "stderr",
          "text": [
            "Epoch 3/5:  26%|██▌       | 2001/7798 [02:47<07:34, 12.75it/s]"
          ]
        },
        {
          "output_type": "stream",
          "name": "stdout",
          "text": [
            "Batch 2000/7798:\n",
            "total_loss: 0.36887744069099426\n"
          ]
        },
        {
          "output_type": "stream",
          "name": "stderr",
          "text": [
            "Epoch 3/5:  29%|██▉       | 2251/7798 [03:08<08:04, 11.45it/s]"
          ]
        },
        {
          "output_type": "stream",
          "name": "stdout",
          "text": [
            "Batch 2250/7798:\n",
            "total_loss: 0.41847172379493713\n"
          ]
        },
        {
          "output_type": "stream",
          "name": "stderr",
          "text": [
            "Epoch 3/5:  32%|███▏      | 2501/7798 [03:29<07:22, 11.98it/s]"
          ]
        },
        {
          "output_type": "stream",
          "name": "stdout",
          "text": [
            "Batch 2500/7798:\n",
            "total_loss: 0.6198106408119202\n"
          ]
        },
        {
          "output_type": "stream",
          "name": "stderr",
          "text": [
            "Epoch 3/5:  35%|███▌      | 2751/7798 [03:49<06:31, 12.88it/s]"
          ]
        },
        {
          "output_type": "stream",
          "name": "stdout",
          "text": [
            "Batch 2750/7798:\n",
            "total_loss: 0.5337623953819275\n"
          ]
        },
        {
          "output_type": "stream",
          "name": "stderr",
          "text": [
            "Epoch 3/5:  38%|███▊      | 3001/7798 [04:10<06:55, 11.55it/s]"
          ]
        },
        {
          "output_type": "stream",
          "name": "stdout",
          "text": [
            "Batch 3000/7798:\n",
            "total_loss: 0.32645300030708313\n"
          ]
        },
        {
          "output_type": "stream",
          "name": "stderr",
          "text": [
            "Epoch 3/5:  42%|████▏     | 3251/7798 [04:31<05:57, 12.72it/s]"
          ]
        },
        {
          "output_type": "stream",
          "name": "stdout",
          "text": [
            "Batch 3250/7798:\n",
            "total_loss: 0.43925362825393677\n"
          ]
        },
        {
          "output_type": "stream",
          "name": "stderr",
          "text": [
            "Epoch 3/5:  45%|████▍     | 3501/7798 [04:52<06:12, 11.55it/s]"
          ]
        },
        {
          "output_type": "stream",
          "name": "stdout",
          "text": [
            "Batch 3500/7798:\n",
            "total_loss: 0.5312628149986267\n"
          ]
        },
        {
          "output_type": "stream",
          "name": "stderr",
          "text": [
            "Epoch 3/5:  48%|████▊     | 3751/7798 [05:13<05:14, 12.86it/s]"
          ]
        },
        {
          "output_type": "stream",
          "name": "stdout",
          "text": [
            "Batch 3750/7798:\n",
            "total_loss: 0.6287570595741272\n"
          ]
        },
        {
          "output_type": "stream",
          "name": "stderr",
          "text": [
            "Epoch 3/5:  51%|█████▏    | 4001/7798 [05:34<05:17, 11.95it/s]"
          ]
        },
        {
          "output_type": "stream",
          "name": "stdout",
          "text": [
            "Batch 4000/7798:\n",
            "total_loss: 0.5067151784896851\n"
          ]
        },
        {
          "output_type": "stream",
          "name": "stderr",
          "text": [
            "Epoch 3/5:  55%|█████▍    | 4251/7798 [05:54<05:05, 11.60it/s]"
          ]
        },
        {
          "output_type": "stream",
          "name": "stdout",
          "text": [
            "Batch 4250/7798:\n",
            "total_loss: 0.3596287667751312\n"
          ]
        },
        {
          "output_type": "stream",
          "name": "stderr",
          "text": [
            "Epoch 3/5:  58%|█████▊    | 4501/7798 [06:15<04:39, 11.78it/s]"
          ]
        },
        {
          "output_type": "stream",
          "name": "stdout",
          "text": [
            "Batch 4500/7798:\n",
            "total_loss: 0.44527262449264526\n"
          ]
        },
        {
          "output_type": "stream",
          "name": "stderr",
          "text": [
            "Epoch 3/5:  61%|██████    | 4751/7798 [06:36<04:05, 12.43it/s]"
          ]
        },
        {
          "output_type": "stream",
          "name": "stdout",
          "text": [
            "Batch 4750/7798:\n",
            "total_loss: 0.4232020676136017\n"
          ]
        },
        {
          "output_type": "stream",
          "name": "stderr",
          "text": [
            "Epoch 3/5:  64%|██████▍   | 5001/7798 [06:57<04:19, 10.79it/s]"
          ]
        },
        {
          "output_type": "stream",
          "name": "stdout",
          "text": [
            "Batch 5000/7798:\n",
            "total_loss: 0.31816738843917847\n"
          ]
        },
        {
          "output_type": "stream",
          "name": "stderr",
          "text": [
            "Epoch 3/5:  67%|██████▋   | 5251/7798 [07:18<03:30, 12.07it/s]"
          ]
        },
        {
          "output_type": "stream",
          "name": "stdout",
          "text": [
            "Batch 5250/7798:\n",
            "total_loss: 0.28041958808898926\n"
          ]
        },
        {
          "output_type": "stream",
          "name": "stderr",
          "text": [
            "Epoch 3/5:  71%|███████   | 5501/7798 [07:39<03:00, 12.76it/s]"
          ]
        },
        {
          "output_type": "stream",
          "name": "stdout",
          "text": [
            "Batch 5500/7798:\n",
            "total_loss: 0.5002937912940979\n"
          ]
        },
        {
          "output_type": "stream",
          "name": "stderr",
          "text": [
            "Epoch 3/5:  74%|███████▎  | 5749/7798 [07:59<02:34, 13.24it/s]"
          ]
        },
        {
          "output_type": "stream",
          "name": "stdout",
          "text": [
            "Batch 5750/7798:\n",
            "total_loss: 0.38144218921661377\n"
          ]
        },
        {
          "output_type": "stream",
          "name": "stderr",
          "text": [
            "Epoch 3/5:  77%|███████▋  | 6001/7798 [08:20<02:31, 11.85it/s]"
          ]
        },
        {
          "output_type": "stream",
          "name": "stdout",
          "text": [
            "Batch 6000/7798:\n",
            "total_loss: 0.3483096957206726\n"
          ]
        },
        {
          "output_type": "stream",
          "name": "stderr",
          "text": [
            "Epoch 3/5:  80%|████████  | 6251/7798 [08:40<02:06, 12.21it/s]"
          ]
        },
        {
          "output_type": "stream",
          "name": "stdout",
          "text": [
            "Batch 6250/7798:\n",
            "total_loss: 0.39376407861709595\n"
          ]
        },
        {
          "output_type": "stream",
          "name": "stderr",
          "text": [
            "Epoch 3/5:  83%|████████▎ | 6501/7798 [09:01<01:47, 12.04it/s]"
          ]
        },
        {
          "output_type": "stream",
          "name": "stdout",
          "text": [
            "Batch 6500/7798:\n",
            "total_loss: 0.5367264747619629\n"
          ]
        },
        {
          "output_type": "stream",
          "name": "stderr",
          "text": [
            "Epoch 3/5:  87%|████████▋ | 6751/7798 [09:22<01:21, 12.84it/s]"
          ]
        },
        {
          "output_type": "stream",
          "name": "stdout",
          "text": [
            "Batch 6750/7798:\n",
            "total_loss: 0.6549822092056274\n"
          ]
        },
        {
          "output_type": "stream",
          "name": "stderr",
          "text": [
            "Epoch 3/5:  90%|████████▉ | 7001/7798 [09:42<01:08, 11.59it/s]"
          ]
        },
        {
          "output_type": "stream",
          "name": "stdout",
          "text": [
            "Batch 7000/7798:\n",
            "total_loss: 0.12954555451869965\n"
          ]
        },
        {
          "output_type": "stream",
          "name": "stderr",
          "text": [
            "Epoch 3/5:  93%|█████████▎| 7251/7798 [10:03<00:43, 12.52it/s]"
          ]
        },
        {
          "output_type": "stream",
          "name": "stdout",
          "text": [
            "Batch 7250/7798:\n",
            "total_loss: 0.3873438835144043\n"
          ]
        },
        {
          "output_type": "stream",
          "name": "stderr",
          "text": [
            "Epoch 3/5:  96%|█████████▌| 7501/7798 [10:23<00:25, 11.60it/s]"
          ]
        },
        {
          "output_type": "stream",
          "name": "stdout",
          "text": [
            "Batch 7500/7798:\n",
            "total_loss: 0.25514471530914307\n"
          ]
        },
        {
          "output_type": "stream",
          "name": "stderr",
          "text": [
            "Epoch 3/5:  99%|█████████▉| 7751/7798 [10:44<00:03, 11.79it/s]"
          ]
        },
        {
          "output_type": "stream",
          "name": "stdout",
          "text": [
            "Batch 7750/7798:\n",
            "total_loss: 0.26105058193206787\n"
          ]
        },
        {
          "output_type": "stream",
          "name": "stderr",
          "text": [
            "Epoch 3/5: 100%|██████████| 7798/7798 [10:48<00:00, 12.02it/s]\n",
            "Validating: 100%|██████████| 15/15 [00:01<00:00,  9.22it/s]\n"
          ]
        },
        {
          "output_type": "stream",
          "name": "stdout",
          "text": [
            "\n",
            "Epoch Summary:\n",
            "Train Total Loss: 0.4406\n",
            "Val Total Loss: 0.3886\n",
            "Learning Rate: 0.000100\n",
            "New best model saved with val loss: 0.3886\n",
            "--------------------------------------------------\n"
          ]
        },
        {
          "output_type": "stream",
          "name": "stderr",
          "text": [
            "Epoch 4/5:   3%|▎         | 251/7798 [00:20<09:34, 13.13it/s]"
          ]
        },
        {
          "output_type": "stream",
          "name": "stdout",
          "text": [
            "Batch 250/7798:\n",
            "total_loss: 0.3164632022380829\n"
          ]
        },
        {
          "output_type": "stream",
          "name": "stderr",
          "text": [
            "Epoch 4/5:   6%|▋         | 501/7798 [00:41<09:32, 12.74it/s]"
          ]
        },
        {
          "output_type": "stream",
          "name": "stdout",
          "text": [
            "Batch 500/7798:\n",
            "total_loss: 0.503399133682251\n"
          ]
        },
        {
          "output_type": "stream",
          "name": "stderr",
          "text": [
            "Epoch 4/5:  10%|▉         | 751/7798 [01:02<10:32, 11.14it/s]"
          ]
        },
        {
          "output_type": "stream",
          "name": "stdout",
          "text": [
            "Batch 750/7798:\n",
            "total_loss: 0.4111625850200653\n"
          ]
        },
        {
          "output_type": "stream",
          "name": "stderr",
          "text": [
            "Epoch 4/5:  13%|█▎        | 1001/7798 [01:23<09:37, 11.77it/s]"
          ]
        },
        {
          "output_type": "stream",
          "name": "stdout",
          "text": [
            "Batch 1000/7798:\n",
            "total_loss: 0.3159514367580414\n"
          ]
        },
        {
          "output_type": "stream",
          "name": "stderr",
          "text": [
            "Epoch 4/5:  16%|█▌        | 1251/7798 [01:43<09:41, 11.26it/s]"
          ]
        },
        {
          "output_type": "stream",
          "name": "stdout",
          "text": [
            "Batch 1250/7798:\n",
            "total_loss: 0.44925519824028015\n"
          ]
        },
        {
          "output_type": "stream",
          "name": "stderr",
          "text": [
            "Epoch 4/5:  19%|█▉        | 1501/7798 [02:04<08:10, 12.83it/s]"
          ]
        },
        {
          "output_type": "stream",
          "name": "stdout",
          "text": [
            "Batch 1500/7798:\n",
            "total_loss: 0.40042346715927124\n"
          ]
        },
        {
          "output_type": "stream",
          "name": "stderr",
          "text": [
            "Epoch 4/5:  22%|██▏       | 1751/7798 [02:25<07:45, 12.99it/s]"
          ]
        },
        {
          "output_type": "stream",
          "name": "stdout",
          "text": [
            "Batch 1750/7798:\n",
            "total_loss: 0.5375398993492126\n"
          ]
        },
        {
          "output_type": "stream",
          "name": "stderr",
          "text": [
            "Epoch 4/5:  26%|██▌       | 2001/7798 [02:46<08:18, 11.63it/s]"
          ]
        },
        {
          "output_type": "stream",
          "name": "stdout",
          "text": [
            "Batch 2000/7798:\n",
            "total_loss: 0.38462167978286743\n"
          ]
        },
        {
          "output_type": "stream",
          "name": "stderr",
          "text": [
            "Epoch 4/5:  29%|██▉       | 2251/7798 [03:06<07:18, 12.65it/s]"
          ]
        },
        {
          "output_type": "stream",
          "name": "stdout",
          "text": [
            "Batch 2250/7798:\n",
            "total_loss: 0.518169105052948\n"
          ]
        },
        {
          "output_type": "stream",
          "name": "stderr",
          "text": [
            "Epoch 4/5:  32%|███▏      | 2501/7798 [03:27<06:39, 13.26it/s]"
          ]
        },
        {
          "output_type": "stream",
          "name": "stdout",
          "text": [
            "Batch 2500/7798:\n",
            "total_loss: 0.3615046441555023\n"
          ]
        },
        {
          "output_type": "stream",
          "name": "stderr",
          "text": [
            "Epoch 4/5:  35%|███▌      | 2751/7798 [03:48<07:14, 11.61it/s]"
          ]
        },
        {
          "output_type": "stream",
          "name": "stdout",
          "text": [
            "Batch 2750/7798:\n",
            "total_loss: 0.28980541229248047\n"
          ]
        },
        {
          "output_type": "stream",
          "name": "stderr",
          "text": [
            "Epoch 4/5:  38%|███▊      | 3001/7798 [04:08<06:38, 12.05it/s]"
          ]
        },
        {
          "output_type": "stream",
          "name": "stdout",
          "text": [
            "Batch 3000/7798:\n",
            "total_loss: 0.33859145641326904\n"
          ]
        },
        {
          "output_type": "stream",
          "name": "stderr",
          "text": [
            "Epoch 4/5:  42%|████▏     | 3251/7798 [04:29<06:23, 11.86it/s]"
          ]
        },
        {
          "output_type": "stream",
          "name": "stdout",
          "text": [
            "Batch 3250/7798:\n",
            "total_loss: 0.29727089405059814\n"
          ]
        },
        {
          "output_type": "stream",
          "name": "stderr",
          "text": [
            "Epoch 4/5:  45%|████▍     | 3501/7798 [04:50<05:32, 12.92it/s]"
          ]
        },
        {
          "output_type": "stream",
          "name": "stdout",
          "text": [
            "Batch 3500/7798:\n",
            "total_loss: 0.4282858967781067\n"
          ]
        },
        {
          "output_type": "stream",
          "name": "stderr",
          "text": [
            "Epoch 4/5:  48%|████▊     | 3751/7798 [05:10<06:03, 11.13it/s]"
          ]
        },
        {
          "output_type": "stream",
          "name": "stdout",
          "text": [
            "Batch 3750/7798:\n",
            "total_loss: 0.3330022394657135\n"
          ]
        },
        {
          "output_type": "stream",
          "name": "stderr",
          "text": [
            "Epoch 4/5:  51%|█████▏    | 4001/7798 [05:32<05:34, 11.34it/s]"
          ]
        },
        {
          "output_type": "stream",
          "name": "stdout",
          "text": [
            "Batch 4000/7798:\n",
            "total_loss: 0.3983711898326874\n"
          ]
        },
        {
          "output_type": "stream",
          "name": "stderr",
          "text": [
            "Epoch 4/5:  55%|█████▍    | 4251/7798 [05:52<04:56, 11.97it/s]"
          ]
        },
        {
          "output_type": "stream",
          "name": "stdout",
          "text": [
            "Batch 4250/7798:\n",
            "total_loss: 0.25864893198013306\n"
          ]
        },
        {
          "output_type": "stream",
          "name": "stderr",
          "text": [
            "Epoch 4/5:  58%|█████▊    | 4501/7798 [06:13<05:09, 10.67it/s]"
          ]
        },
        {
          "output_type": "stream",
          "name": "stdout",
          "text": [
            "Batch 4500/7798:\n",
            "total_loss: 0.31555452942848206\n"
          ]
        },
        {
          "output_type": "stream",
          "name": "stderr",
          "text": [
            "Epoch 4/5:  61%|██████    | 4751/7798 [06:34<04:15, 11.95it/s]"
          ]
        },
        {
          "output_type": "stream",
          "name": "stdout",
          "text": [
            "Batch 4750/7798:\n",
            "total_loss: 0.4042223393917084\n"
          ]
        },
        {
          "output_type": "stream",
          "name": "stderr",
          "text": [
            "Epoch 4/5:  64%|██████▍   | 5001/7798 [06:54<04:00, 11.61it/s]"
          ]
        },
        {
          "output_type": "stream",
          "name": "stdout",
          "text": [
            "Batch 5000/7798:\n",
            "total_loss: 0.2615407407283783\n"
          ]
        },
        {
          "output_type": "stream",
          "name": "stderr",
          "text": [
            "Epoch 4/5:  67%|██████▋   | 5251/7798 [07:15<03:14, 13.11it/s]"
          ]
        },
        {
          "output_type": "stream",
          "name": "stdout",
          "text": [
            "Batch 5250/7798:\n",
            "total_loss: 0.2569924592971802\n"
          ]
        },
        {
          "output_type": "stream",
          "name": "stderr",
          "text": [
            "Epoch 4/5:  71%|███████   | 5501/7798 [07:35<03:16, 11.70it/s]"
          ]
        },
        {
          "output_type": "stream",
          "name": "stdout",
          "text": [
            "Batch 5500/7798:\n",
            "total_loss: 0.3690529763698578\n"
          ]
        },
        {
          "output_type": "stream",
          "name": "stderr",
          "text": [
            "Epoch 4/5:  74%|███████▎  | 5751/7798 [07:56<02:42, 12.62it/s]"
          ]
        },
        {
          "output_type": "stream",
          "name": "stdout",
          "text": [
            "Batch 5750/7798:\n",
            "total_loss: 0.33103707432746887\n"
          ]
        },
        {
          "output_type": "stream",
          "name": "stderr",
          "text": [
            "Epoch 4/5:  77%|███████▋  | 6001/7798 [08:17<02:32, 11.80it/s]"
          ]
        },
        {
          "output_type": "stream",
          "name": "stdout",
          "text": [
            "Batch 6000/7798:\n",
            "total_loss: 0.3591989576816559\n"
          ]
        },
        {
          "output_type": "stream",
          "name": "stderr",
          "text": [
            "Epoch 4/5:  80%|████████  | 6251/7798 [08:38<01:57, 13.20it/s]"
          ]
        },
        {
          "output_type": "stream",
          "name": "stdout",
          "text": [
            "Batch 6250/7798:\n",
            "total_loss: 0.37536051869392395\n"
          ]
        },
        {
          "output_type": "stream",
          "name": "stderr",
          "text": [
            "Epoch 4/5:  83%|████████▎ | 6501/7798 [08:58<01:40, 12.88it/s]"
          ]
        },
        {
          "output_type": "stream",
          "name": "stdout",
          "text": [
            "Batch 6500/7798:\n",
            "total_loss: 0.5423932075500488\n"
          ]
        },
        {
          "output_type": "stream",
          "name": "stderr",
          "text": [
            "Epoch 4/5:  87%|████████▋ | 6751/7798 [09:19<01:19, 13.14it/s]"
          ]
        },
        {
          "output_type": "stream",
          "name": "stdout",
          "text": [
            "Batch 6750/7798:\n",
            "total_loss: 0.40898093581199646\n"
          ]
        },
        {
          "output_type": "stream",
          "name": "stderr",
          "text": [
            "Epoch 4/5:  90%|████████▉ | 7001/7798 [09:39<01:03, 12.47it/s]"
          ]
        },
        {
          "output_type": "stream",
          "name": "stdout",
          "text": [
            "Batch 7000/7798:\n",
            "total_loss: 0.3485669791698456\n"
          ]
        },
        {
          "output_type": "stream",
          "name": "stderr",
          "text": [
            "Epoch 4/5:  93%|█████████▎| 7251/7798 [10:00<00:46, 11.76it/s]"
          ]
        },
        {
          "output_type": "stream",
          "name": "stdout",
          "text": [
            "Batch 7250/7798:\n",
            "total_loss: 0.3706842362880707\n"
          ]
        },
        {
          "output_type": "stream",
          "name": "stderr",
          "text": [
            "Epoch 4/5:  96%|█████████▌| 7501/7798 [10:21<00:26, 11.38it/s]"
          ]
        },
        {
          "output_type": "stream",
          "name": "stdout",
          "text": [
            "Batch 7500/7798:\n",
            "total_loss: 0.3227999210357666\n"
          ]
        },
        {
          "output_type": "stream",
          "name": "stderr",
          "text": [
            "Epoch 4/5:  99%|█████████▉| 7751/7798 [10:41<00:03, 12.87it/s]"
          ]
        },
        {
          "output_type": "stream",
          "name": "stdout",
          "text": [
            "Batch 7750/7798:\n",
            "total_loss: 0.24286222457885742\n"
          ]
        },
        {
          "output_type": "stream",
          "name": "stderr",
          "text": [
            "Epoch 4/5: 100%|██████████| 7798/7798 [10:45<00:00, 12.07it/s]\n",
            "Validating: 100%|██████████| 15/15 [00:01<00:00,  8.90it/s]\n"
          ]
        },
        {
          "output_type": "stream",
          "name": "stdout",
          "text": [
            "\n",
            "Epoch Summary:\n",
            "Train Total Loss: 0.3938\n",
            "Val Total Loss: 0.3371\n",
            "Learning Rate: 0.000100\n",
            "New best model saved with val loss: 0.3371\n",
            "--------------------------------------------------\n"
          ]
        },
        {
          "output_type": "stream",
          "name": "stderr",
          "text": [
            "Epoch 5/5:   3%|▎         | 251/7798 [00:21<10:22, 12.12it/s]"
          ]
        },
        {
          "output_type": "stream",
          "name": "stdout",
          "text": [
            "Batch 250/7798:\n",
            "total_loss: 0.4039788246154785\n"
          ]
        },
        {
          "output_type": "stream",
          "name": "stderr",
          "text": [
            "Epoch 5/5:   6%|▋         | 501/7798 [00:41<09:22, 12.96it/s]"
          ]
        },
        {
          "output_type": "stream",
          "name": "stdout",
          "text": [
            "Batch 500/7798:\n",
            "total_loss: 0.2437777817249298\n"
          ]
        },
        {
          "output_type": "stream",
          "name": "stderr",
          "text": [
            "Epoch 5/5:  10%|▉         | 751/7798 [01:02<10:03, 11.68it/s]"
          ]
        },
        {
          "output_type": "stream",
          "name": "stdout",
          "text": [
            "Batch 750/7798:\n",
            "total_loss: 0.4464111030101776\n"
          ]
        },
        {
          "output_type": "stream",
          "name": "stderr",
          "text": [
            "Epoch 5/5:  13%|█▎        | 1001/7798 [01:23<08:53, 12.74it/s]"
          ]
        },
        {
          "output_type": "stream",
          "name": "stdout",
          "text": [
            "Batch 1000/7798:\n",
            "total_loss: 0.2626149356365204\n"
          ]
        },
        {
          "output_type": "stream",
          "name": "stderr",
          "text": [
            "Epoch 5/5:  16%|█▌        | 1251/7798 [01:44<08:24, 12.98it/s]"
          ]
        },
        {
          "output_type": "stream",
          "name": "stdout",
          "text": [
            "Batch 1250/7798:\n",
            "total_loss: 0.3756188154220581\n"
          ]
        },
        {
          "output_type": "stream",
          "name": "stderr",
          "text": [
            "Epoch 5/5:  19%|█▉        | 1501/7798 [02:05<08:52, 11.82it/s]"
          ]
        },
        {
          "output_type": "stream",
          "name": "stdout",
          "text": [
            "Batch 1500/7798:\n",
            "total_loss: 0.39256107807159424\n"
          ]
        },
        {
          "output_type": "stream",
          "name": "stderr",
          "text": [
            "Epoch 5/5:  22%|██▏       | 1751/7798 [02:25<07:46, 12.96it/s]"
          ]
        },
        {
          "output_type": "stream",
          "name": "stdout",
          "text": [
            "Batch 1750/7798:\n",
            "total_loss: 0.2687416672706604\n"
          ]
        },
        {
          "output_type": "stream",
          "name": "stderr",
          "text": [
            "Epoch 5/5:  26%|██▌       | 2001/7798 [02:46<08:24, 11.50it/s]"
          ]
        },
        {
          "output_type": "stream",
          "name": "stdout",
          "text": [
            "Batch 2000/7798:\n",
            "total_loss: 0.35877829790115356\n"
          ]
        },
        {
          "output_type": "stream",
          "name": "stderr",
          "text": [
            "Epoch 5/5:  29%|██▉       | 2251/7798 [03:06<07:13, 12.78it/s]"
          ]
        },
        {
          "output_type": "stream",
          "name": "stdout",
          "text": [
            "Batch 2250/7798:\n",
            "total_loss: 0.46541598439216614\n"
          ]
        },
        {
          "output_type": "stream",
          "name": "stderr",
          "text": [
            "Epoch 5/5:  32%|███▏      | 2501/7798 [03:27<07:37, 11.58it/s]"
          ]
        },
        {
          "output_type": "stream",
          "name": "stdout",
          "text": [
            "Batch 2500/7798:\n",
            "total_loss: 0.4096839427947998\n"
          ]
        },
        {
          "output_type": "stream",
          "name": "stderr",
          "text": [
            "Epoch 5/5:  35%|███▌      | 2751/7798 [03:48<07:28, 11.25it/s]"
          ]
        },
        {
          "output_type": "stream",
          "name": "stdout",
          "text": [
            "Batch 2750/7798:\n",
            "total_loss: 0.3747316896915436\n"
          ]
        },
        {
          "output_type": "stream",
          "name": "stderr",
          "text": [
            "Epoch 5/5:  38%|███▊      | 3001/7798 [04:09<06:40, 11.99it/s]"
          ]
        },
        {
          "output_type": "stream",
          "name": "stdout",
          "text": [
            "Batch 3000/7798:\n",
            "total_loss: 0.44609978795051575\n"
          ]
        },
        {
          "output_type": "stream",
          "name": "stderr",
          "text": [
            "Epoch 5/5:  42%|████▏     | 3251/7798 [04:30<06:40, 11.34it/s]"
          ]
        },
        {
          "output_type": "stream",
          "name": "stdout",
          "text": [
            "Batch 3250/7798:\n",
            "total_loss: 0.5449820756912231\n"
          ]
        },
        {
          "output_type": "stream",
          "name": "stderr",
          "text": [
            "Epoch 5/5:  45%|████▍     | 3501/7798 [04:50<05:34, 12.85it/s]"
          ]
        },
        {
          "output_type": "stream",
          "name": "stdout",
          "text": [
            "Batch 3500/7798:\n",
            "total_loss: 0.28832879662513733\n"
          ]
        },
        {
          "output_type": "stream",
          "name": "stderr",
          "text": [
            "Epoch 5/5:  48%|████▊     | 3751/7798 [05:11<05:52, 11.48it/s]"
          ]
        },
        {
          "output_type": "stream",
          "name": "stdout",
          "text": [
            "Batch 3750/7798:\n",
            "total_loss: 0.28799310326576233\n"
          ]
        },
        {
          "output_type": "stream",
          "name": "stderr",
          "text": [
            "Epoch 5/5:  51%|█████▏    | 3999/7798 [05:31<04:56, 12.81it/s]"
          ]
        },
        {
          "output_type": "stream",
          "name": "stdout",
          "text": [
            "Batch 4000/7798:\n",
            "total_loss: 0.33802154660224915\n"
          ]
        },
        {
          "output_type": "stream",
          "name": "stderr",
          "text": [
            "Epoch 5/5:  55%|█████▍    | 4251/7798 [05:52<04:30, 13.13it/s]"
          ]
        },
        {
          "output_type": "stream",
          "name": "stdout",
          "text": [
            "Batch 4250/7798:\n",
            "total_loss: 0.3033615052700043\n"
          ]
        },
        {
          "output_type": "stream",
          "name": "stderr",
          "text": [
            "Epoch 5/5:  58%|█████▊    | 4501/7798 [06:13<04:33, 12.03it/s]"
          ]
        },
        {
          "output_type": "stream",
          "name": "stdout",
          "text": [
            "Batch 4500/7798:\n",
            "total_loss: 0.4866296350955963\n"
          ]
        },
        {
          "output_type": "stream",
          "name": "stderr",
          "text": [
            "Epoch 5/5:  61%|██████    | 4751/7798 [06:33<03:59, 12.75it/s]"
          ]
        },
        {
          "output_type": "stream",
          "name": "stdout",
          "text": [
            "Batch 4750/7798:\n",
            "total_loss: 0.25035226345062256\n"
          ]
        },
        {
          "output_type": "stream",
          "name": "stderr",
          "text": [
            "Epoch 5/5:  64%|██████▍   | 5001/7798 [06:54<04:07, 11.31it/s]"
          ]
        },
        {
          "output_type": "stream",
          "name": "stdout",
          "text": [
            "Batch 5000/7798:\n",
            "total_loss: 0.4633203148841858\n"
          ]
        },
        {
          "output_type": "stream",
          "name": "stderr",
          "text": [
            "Epoch 5/5:  67%|██████▋   | 5251/7798 [07:15<03:16, 12.96it/s]"
          ]
        },
        {
          "output_type": "stream",
          "name": "stdout",
          "text": [
            "Batch 5250/7798:\n",
            "total_loss: 0.2952815890312195\n"
          ]
        },
        {
          "output_type": "stream",
          "name": "stderr",
          "text": [
            "Epoch 5/5:  71%|███████   | 5499/7798 [07:35<02:55, 13.07it/s]"
          ]
        },
        {
          "output_type": "stream",
          "name": "stdout",
          "text": [
            "Batch 5500/7798:\n",
            "total_loss: 0.3579320013523102\n"
          ]
        },
        {
          "output_type": "stream",
          "name": "stderr",
          "text": [
            "Epoch 5/5:  74%|███████▎  | 5751/7798 [07:56<02:51, 11.92it/s]"
          ]
        },
        {
          "output_type": "stream",
          "name": "stdout",
          "text": [
            "Batch 5750/7798:\n",
            "total_loss: 0.4820408821105957\n"
          ]
        },
        {
          "output_type": "stream",
          "name": "stderr",
          "text": [
            "Epoch 5/5:  77%|███████▋  | 6001/7798 [08:17<02:21, 12.70it/s]"
          ]
        },
        {
          "output_type": "stream",
          "name": "stdout",
          "text": [
            "Batch 6000/7798:\n",
            "total_loss: 0.32011184096336365\n"
          ]
        },
        {
          "output_type": "stream",
          "name": "stderr",
          "text": [
            "Epoch 5/5:  80%|████████  | 6251/7798 [08:38<02:33, 10.09it/s]"
          ]
        },
        {
          "output_type": "stream",
          "name": "stdout",
          "text": [
            "Batch 6250/7798:\n",
            "total_loss: 0.3289816379547119\n"
          ]
        },
        {
          "output_type": "stream",
          "name": "stderr",
          "text": [
            "Epoch 5/5:  83%|████████▎ | 6501/7798 [08:59<01:41, 12.74it/s]"
          ]
        },
        {
          "output_type": "stream",
          "name": "stdout",
          "text": [
            "Batch 6500/7798:\n",
            "total_loss: 0.3487662971019745\n"
          ]
        },
        {
          "output_type": "stream",
          "name": "stderr",
          "text": [
            "Epoch 5/5:  87%|████████▋ | 6751/7798 [09:19<01:33, 11.24it/s]"
          ]
        },
        {
          "output_type": "stream",
          "name": "stdout",
          "text": [
            "Batch 6750/7798:\n",
            "total_loss: 0.24812376499176025\n"
          ]
        },
        {
          "output_type": "stream",
          "name": "stderr",
          "text": [
            "Epoch 5/5:  90%|████████▉ | 7001/7798 [09:40<01:03, 12.54it/s]"
          ]
        },
        {
          "output_type": "stream",
          "name": "stdout",
          "text": [
            "Batch 7000/7798:\n",
            "total_loss: 0.22473903000354767\n"
          ]
        },
        {
          "output_type": "stream",
          "name": "stderr",
          "text": [
            "Epoch 5/5:  93%|█████████▎| 7249/7798 [10:00<00:43, 12.49it/s]"
          ]
        },
        {
          "output_type": "stream",
          "name": "stdout",
          "text": [
            "Batch 7250/7798:\n",
            "total_loss: 0.318196564912796\n"
          ]
        },
        {
          "output_type": "stream",
          "name": "stderr",
          "text": [
            "Epoch 5/5:  96%|█████████▌| 7501/7798 [10:22<00:22, 13.27it/s]"
          ]
        },
        {
          "output_type": "stream",
          "name": "stdout",
          "text": [
            "Batch 7500/7798:\n",
            "total_loss: 0.49084946513175964\n"
          ]
        },
        {
          "output_type": "stream",
          "name": "stderr",
          "text": [
            "Epoch 5/5:  99%|█████████▉| 7751/7798 [10:43<00:03, 11.93it/s]"
          ]
        },
        {
          "output_type": "stream",
          "name": "stdout",
          "text": [
            "Batch 7750/7798:\n",
            "total_loss: 0.18818658590316772\n"
          ]
        },
        {
          "output_type": "stream",
          "name": "stderr",
          "text": [
            "Epoch 5/5: 100%|██████████| 7798/7798 [10:46<00:00, 12.05it/s]\n",
            "Validating: 100%|██████████| 15/15 [00:01<00:00,  8.98it/s]\n"
          ]
        },
        {
          "output_type": "stream",
          "name": "stdout",
          "text": [
            "\n",
            "Epoch Summary:\n",
            "Train Total Loss: 0.3588\n",
            "Val Total Loss: 0.3314\n",
            "Learning Rate: 0.000100\n",
            "New best model saved with val loss: 0.3314\n",
            "--------------------------------------------------\n"
          ]
        }
      ],
      "source": [
        "pconfig = PointNetConfig(\n",
        "    embeddingSize=n_embd,\n",
        "    numberofPoints=numPoints,\n",
        "    numberofVars=numVars,\n",
        "    numberofYs=numYs,\n",
        ")\n",
        "\n",
        "model = SymbolicGaussianDiffusion(\n",
        "    tnet_config=pconfig,\n",
        "    vocab_size=train_dataset.vocab_size,\n",
        "    max_seq_len=blockSize,\n",
        "    padding_idx=train_dataset.paddingID,\n",
        "    max_num_vars=9,\n",
        "    n_layer=4,\n",
        "    n_head=4,\n",
        "    n_embd=n_embd,\n",
        "    timesteps=timesteps,\n",
        "    beta_start=0.0001,\n",
        "    beta_end=0.02,\n",
        "    set_transformer=True,\n",
        ")\n",
        "\n",
        "train_single_gpu(\n",
        "    model,\n",
        "    train_dataset,\n",
        "    val_dataset,\n",
        "    num_epochs=num_epochs,\n",
        "    save_every=2,\n",
        "    batch_size=batch_size,\n",
        "    timesteps=timesteps,\n",
        "    learning_rate=learning_rate,\n",
        "    path=\"/content/drive/MyDrive/Colab/STAT946_proj/models/stable_diffusym/2_var_set_transformer_sd.pth\"\n",
        ")"
      ]
    }
  ],
  "metadata": {
    "kaggle": {
      "accelerator": "nvidiaTeslaT4",
      "dataSources": [
        {
          "datasetId": 6977314,
          "sourceId": 11178716,
          "sourceType": "datasetVersion"
        },
        {
          "datasetId": 7089758,
          "sourceId": 11333846,
          "sourceType": "datasetVersion"
        },
        {
          "isSourceIdPinned": true,
          "modelId": 282263,
          "modelInstanceId": 261112,
          "sourceId": 306062,
          "sourceType": "modelInstanceVersion"
        },
        {
          "isSourceIdPinned": true,
          "modelId": 290784,
          "modelInstanceId": 269794,
          "sourceId": 319741,
          "sourceType": "modelInstanceVersion"
        },
        {
          "isSourceIdPinned": true,
          "modelId": 290853,
          "modelInstanceId": 269860,
          "sourceId": 319828,
          "sourceType": "modelInstanceVersion"
        }
      ],
      "dockerImageVersionId": 30919,
      "isGpuEnabled": true,
      "isInternetEnabled": true,
      "language": "python",
      "sourceType": "notebook"
    },
    "kernelspec": {
      "display_name": "Python 3",
      "name": "python3"
    },
    "language_info": {
      "codemirror_mode": {
        "name": "ipython",
        "version": 3
      },
      "file_extension": ".py",
      "mimetype": "text/x-python",
      "name": "python",
      "nbconvert_exporter": "python",
      "pygments_lexer": "ipython3",
      "version": "3.10.12"
    },
    "papermill": {
      "default_parameters": {},
      "duration": 10018.029584,
      "end_time": "2025-04-09T07:23:48.813413",
      "environment_variables": {},
      "exception": null,
      "input_path": "__notebook__.ipynb",
      "output_path": "__notebook__.ipynb",
      "parameters": {},
      "start_time": "2025-04-09T04:36:50.783829",
      "version": "2.6.0"
    },
    "colab": {
      "provenance": [],
      "machine_shape": "hm",
      "gpuType": "L4",
      "include_colab_link": true
    },
    "accelerator": "GPU"
  },
  "nbformat": 4,
  "nbformat_minor": 5
}